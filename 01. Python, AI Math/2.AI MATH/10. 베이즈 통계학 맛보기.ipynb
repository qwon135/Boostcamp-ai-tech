{
 "cells": [
  {
   "cell_type": "markdown",
   "id": "c6e1ea90",
   "metadata": {},
   "source": [
    "베이즈 통계학은 데이터가 새로 추가 될때 업데이트 하는 이론적 기반이 되어 기계학습에 많이 사용되는 방법론이다."
   ]
  },
  {
   "cell_type": "markdown",
   "id": "aec14f03",
   "metadata": {},
   "source": [
    "### 조건부 확률이란?\n",
    "- 베이즈 통계학을 이해하기 위해선 조건부확률의 개념을 이해해야 한다.\n",
    "- 아래 식은 사건 B가 일어난 상황에서 사건 A가 발생할 확률을 의미한다.\n",
    "- 베이즈 정리는 조건부확률을 이용하여 __정보를 갱신하는 방법__ 을 알려준다."
   ]
  },
  {
   "cell_type": "markdown",
   "id": "7e3cc30e",
   "metadata": {},
   "source": [
    "$$ P(A\\cap B) = P(B)P(A|B) $$"
   ]
  },
  {
   "cell_type": "markdown",
   "id": "27fc39d9",
   "metadata": {},
   "source": [
    "- A라는 새로운 정보가 주어졌을 때 P(B)로부터 P(B|A)를 계산하는 방법을 제공한다."
   ]
  },
  {
   "cell_type": "markdown",
   "id": "6e68f0cb",
   "metadata": {},
   "source": [
    "$$ P(B|A) = \\frac{P(A\\cap B)}{P(A)} = P(B)\\frac{P(A|B)}{P(A)}$$"
   ]
  },
  {
   "cell_type": "markdown",
   "id": "89935dc5",
   "metadata": {},
   "source": [
    "### 베이즈 정리 : 예제\n",
    "\n",
    "$$ P(\\theta|D) = P(\\theta)\\frac{P(D|\\theta)}{P(D)} $$"
   ]
  },
  {
   "cell_type": "markdown",
   "id": "b6f9b628",
   "metadata": {},
   "source": [
    "- $P(\\theta|D)$ : 사후확률(posterior)\n",
    "- $P(\\theta)$ : 사전확률(prior)\n",
    "- $P(D|\\theta)$ : 가능도(likelihood)\n",
    "- $P(D)$ : Evidence\n",
    "\n",
    "COVID-99의 __발병률이 10%__ 로 알려져 있다. COVID-99에 __실제로 걸렸을 때 검진될 확률은 99%,__ 실제로 거리지 않았을 때 __오검진될 확률이 1%__ 라고 할 때, 어떤 사람이 __질병에 걸렸다고 검진결과가 나왔을 때 정말로 COVID-99에 감염되었을 확률은?__\n",
    "- $\\theta$를 COVID-99발병 사건으로 정의(관찰불가)하고, $D$를 테스트 결과라고 정의(관찰가능) 한다."
   ]
  },
  {
   "cell_type": "markdown",
   "id": "ccb87e3a",
   "metadata": {},
   "source": [
    "- $P(\\theta)$ = 0.1 : 사전확률, __발병률 10%__\n",
    "- $P(D|\\theta)$ = 0.99 : 가능도, __실제로 걸렸을 때 검진 될 학률 99%__\n",
    "- $P(D|-\\theta)$ = 0.01 : 가능도, __실제로 걸렸을 때 오검진 될 학률 1%__"
   ]
  },
  {
   "cell_type": "markdown",
   "id": "19ff00e2",
   "metadata": {},
   "source": [
    "__질병에 걸렸다고 검진결과가 나왔을 때 정말로 COVID-99에 감염되었을 확률은?__\n",
    "\n",
    "$$P(D) = \\displaystyle\\sum_\\theta P(D|\\theta)P(\\theta) = P(D|\\theta) \\times P(\\theta) + P(D|-\\theta) \\times P(-\\theta)$$\n",
    "$$= 0.99 \\times 0.1 + 0.01 \\times 0.9 = 0.108$$"
   ]
  },
  {
   "cell_type": "markdown",
   "id": "3a9ec703",
   "metadata": {},
   "source": [
    "$$P(\\theta|D) = 0.1 \\times \\frac{0.99}{0.108} \\approx 0.916$$"
   ]
  },
  {
   "cell_type": "markdown",
   "id": "fd8ac227",
   "metadata": {},
   "source": [
    "만약 오검진율, 즉 $P(D|-\\theta)$ 가 1%가 아닌 10%만되어도  \n",
    "\n",
    "$$P(\\theta|D) = 0.1 \\times \\frac{0.99}{0.189} \\approx 0.524$$  \n",
    "\n",
    "\n",
    "로 52.4%라는 훨씬 낮은 확률이 나온다."
   ]
  },
  {
   "cell_type": "markdown",
   "id": "e3debf1a",
   "metadata": {},
   "source": [
    "### 조건부 확률의 시각화"
   ]
  },
  {
   "cell_type": "markdown",
   "id": "09282691",
   "metadata": {},
   "source": [
    "<img src = \"../images/ai_28.png\">"
   ]
  },
  {
   "cell_type": "markdown",
   "id": "0e032f45",
   "metadata": {},
   "source": [
    "### 베이즈 정리를 통한 정보의 갱신\n",
    "- 베이즈 정리를 통해 새로운 데이터가 들어왔을 때 앞서 계산한 사후확률을 사전확률로 사용하여 __갱신된 사후확률을 계산__ 할 수 있다.\n",
    "- 이전 사후확률 $\\Rightarrow$ 사전확률"
   ]
  },
  {
   "cell_type": "markdown",
   "id": "cf90d4c9",
   "metadata": {},
   "source": [
    "- 앞서 COVID-99 판정을 받은 사람이 두 번째 검진을 받았을 때도 양성이 나왔을 때 진짜 COVID-99일 확률은?"
   ]
  },
  {
   "cell_type": "markdown",
   "id": "56e39fa0",
   "metadata": {},
   "source": [
    "- 이전 COVID 검사 시 양성 확률 : $P(\\theta|D)\\Rightarrow P(\\theta) = 0.524$\n",
    "-$P(D|\\theta) = 0.99$\n",
    "-$P(D|-\\theta) = 0.1$\n"
   ]
  },
  {
   "cell_type": "markdown",
   "id": "d143e2f5",
   "metadata": {},
   "source": [
    "__갱신된 evidence__\n",
    "$$P(D^*) = 0.99 \\times 0.524 + 0.1 \\times 0.476 \\approx 0.566$$"
   ]
  },
  {
   "cell_type": "markdown",
   "id": "f25891b5",
   "metadata": {},
   "source": [
    "__갱신된 사후확률__\n",
    "$$P(\\theta|D^*) = 0.524 \\times \\frac{0.99}{0.566} \\approx 0.917$$"
   ]
  },
  {
   "cell_type": "markdown",
   "id": "87117437",
   "metadata": {},
   "source": [
    "### 조건부 확률은 인과관계인가?\n",
    "- 조건부 확률은 유용한 통계젹 해석을 제공하지만 __인과관계(causality)__ 를 추론할 때 함부로 사용하면 안된다.\n",
    "- 데이터가 많아져도 조건부 확률만 가지고 인과관계를 추론하는 것은 불가능하다.\n",
    "- 인과관계는 __데이터 분포의 변화에 강건한 예측모형__ 을 만들 때 필요하다.\n",
    "- 하지만 인과관계만으로는 높은 예측 정확도를 담보하기는 어렵다.\n",
    "- 인과관계를 알아내기 위해서는 __중첩요인(confounding factor)의 효과를 제거__ 하고 원인에 해당하는 변수만의 인과관계를 계산해야한다. 그렇지 않으면 가짜연관성(spurious correiation)이 나온다."
   ]
  },
  {
   "cell_type": "markdown",
   "id": "9ae7320c",
   "metadata": {},
   "source": [
    "__예시__  \n",
    "조건부 기반 확률 예측모형 : 99% 예측정확도 테스트시  \n",
    "- 95% 예측정확도 시나리오 A\n",
    "- 72% 예측정확도 시나리오 B  \n",
    "\n",
    "인과관계 기반 예측모형 : 85% 예측정확도 테스트시 \n",
    "- 82% 예측정확도 시나리오 A\n",
    "- 81% 예측정확도 시나리오 B\n",
    "\n"
   ]
  },
  {
   "cell_type": "markdown",
   "id": "b38e833a",
   "metadata": {},
   "source": [
    "### 인과관계 추론 : 예제"
   ]
  },
  {
   "cell_type": "markdown",
   "id": "1cb0d118",
   "metadata": {},
   "source": [
    "<img src = \"../images/ai_29.png\">"
   ]
  },
  {
   "cell_type": "markdown",
   "id": "652225c8",
   "metadata": {},
   "source": [
    "- 치료법 a 는 작은 결석을 가진 환자가 81명인데 반해 치료법 b는 234명이므로 더 좋은 치료결과가 나았다. 그러므로 중첩요인을 제거해줘야한다."
   ]
  },
  {
   "cell_type": "markdown",
   "id": "52624021",
   "metadata": {},
   "source": [
    "$$\\frac{81}{87} \\times \\frac{87 + 270}{700} + \\frac{55}{80} \\times \\frac {263 + 80}{700} \\approx 0.7789$$"
   ]
  },
  {
   "cell_type": "code",
   "execution_count": null,
   "id": "f74a69c3",
   "metadata": {},
   "outputs": [],
   "source": []
  }
 ],
 "metadata": {
  "kernelspec": {
   "display_name": "Python 3 (ipykernel)",
   "language": "python",
   "name": "python3"
  },
  "language_info": {
   "codemirror_mode": {
    "name": "ipython",
    "version": 3
   },
   "file_extension": ".py",
   "mimetype": "text/x-python",
   "name": "python",
   "nbconvert_exporter": "python",
   "pygments_lexer": "ipython3",
   "version": "3.8.11"
  }
 },
 "nbformat": 4,
 "nbformat_minor": 5
}
