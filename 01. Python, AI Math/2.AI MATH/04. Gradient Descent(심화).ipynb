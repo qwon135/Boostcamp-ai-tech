{
 "cells": [
  {
   "cell_type": "markdown",
   "id": "e2e60ef5",
   "metadata": {},
   "source": [
    "### 선형회귀분석\n",
    "- np.linalg.pinv를 이용해 데이터를 linear model로 해석하는 선형회귀식을 찾을 수 있다."
   ]
  },
  {
   "cell_type": "markdown",
   "id": "d4c3d5df",
   "metadata": {},
   "source": [
    "### "
   ]
  }
 ],
 "metadata": {
  "kernelspec": {
   "display_name": "Python 3",
   "language": "python",
   "name": "python3"
  },
  "language_info": {
   "codemirror_mode": {
    "name": "ipython",
    "version": 3
   },
   "file_extension": ".py",
   "mimetype": "text/x-python",
   "name": "python",
   "nbconvert_exporter": "python",
   "pygments_lexer": "ipython3",
   "version": "3.8.8"
  }
 },
 "nbformat": 4,
 "nbformat_minor": 5
}
