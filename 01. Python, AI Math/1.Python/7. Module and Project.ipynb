{
 "cells": [
  {
   "cell_type": "markdown",
   "id": "8dbe8f1a",
   "metadata": {},
   "source": [
    "## Module 만들기\n",
    "___\n",
    "- 파이썬의 Module은 py 파일을 의미\n",
    "- 같은 폴더에 Module에 해당하는 .py파일과 사용하는 .py를 저장한 후\n",
    "- import 문을 사용해서 module을 호출"
   ]
  },
  {
   "cell_type": "code",
   "execution_count": 11,
   "id": "2cfc1e64",
   "metadata": {},
   "outputs": [],
   "source": [
    "# Alias 설정 모듈 명을 별칭으로 사용\n",
    "import numpy as np"
   ]
  },
  {
   "cell_type": "code",
   "execution_count": 20,
   "id": "697d3715",
   "metadata": {},
   "outputs": [
    {
     "data": {
      "text/plain": [
       "array([1, 2])"
      ]
     },
     "execution_count": 20,
     "metadata": {},
     "output_type": "execute_result"
    }
   ],
   "source": [
    "# 모듈에서 특정 함수 또는 클래스만 호출\n",
    "from numpy import arange\n",
    "arange(1,3)"
   ]
  },
  {
   "cell_type": "markdown",
   "id": "16676db1",
   "metadata": {},
   "source": [
    "## Package\n",
    "- 하나의 대형 프로젝트를 만드는 코드의 묶음\n",
    "- 다양한 모듈들의 합, 폴더로 연결됨\n",
    "- \\_\\_init\\_\\_, \\_\\_main\\_\\_ 드 키워드 파일명이 사용됨\n",
    "- 다양한 오픈 소스들이 모두 패키지로 관리된다."
   ]
  }
 ],
 "metadata": {
  "kernelspec": {
   "display_name": "Python 3 (ipykernel)",
   "language": "python",
   "name": "python3"
  },
  "language_info": {
   "codemirror_mode": {
    "name": "ipython",
    "version": 3
   },
   "file_extension": ".py",
   "mimetype": "text/x-python",
   "name": "python",
   "nbconvert_exporter": "python",
   "pygments_lexer": "ipython3",
   "version": "3.8.11"
  }
 },
 "nbformat": 4,
 "nbformat_minor": 5
}
