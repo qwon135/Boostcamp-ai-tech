{
 "cells": [
  {
   "cell_type": "code",
   "execution_count": 75,
   "id": "60646878",
   "metadata": {},
   "outputs": [],
   "source": [
    "def us(x:str):\n",
    "    x = x.replace('_','\\_')\n",
    "    x = x.replace('합니','한')\n",
    "    x = x.replace('입니','이')\n",
    "    x = x.replace('있습니','있')\n",
    "    print(x)"
   ]
  },
  {
   "cell_type": "markdown",
   "id": "28457106",
   "metadata": {},
   "source": [
    "## \\*args와 \\*\\*kwargs의 의미\n",
    "___\n",
    "### \\*args\n",
    "- \\*args는 Argument의 약자로 인자, 함수와 메서드의 입력 값(Value)이라는 뜻이다\n",
    "- 몇 개의 인자를 받아야 할지 모를 때 사용한다.\n",
    "- 변수가 튜플 형태로 입력된다."
   ]
  },
  {
   "cell_type": "code",
   "execution_count": 2,
   "id": "e9248f17",
   "metadata": {},
   "outputs": [
    {
     "name": "stdout",
     "output_type": "stream",
     "text": [
      "<class 'tuple'>\n",
      "(1, 2, 3)\n"
     ]
    }
   ],
   "source": [
    "def what_is_args(*args):\n",
    "    print(type(args))\n",
    "    print(args)\n",
    "\n",
    "    \n",
    "what_is_args(1,2,3)"
   ]
  },
  {
   "cell_type": "markdown",
   "id": "0d301758",
   "metadata": {},
   "source": [
    "### \\*\\*kwargs\n",
    "- Keyward Argument의 약자이다.\n",
    "- 마찬가지로 몇개의 인자를 받아야할지 모를 때 사용한다.\n",
    "- 변수가 딕셔너리 형태로 입력된다."
   ]
  },
  {
   "cell_type": "code",
   "execution_count": 3,
   "id": "8e09b2fc",
   "metadata": {},
   "outputs": [
    {
     "name": "stdout",
     "output_type": "stream",
     "text": [
      "<class 'dict'>\n",
      "{'a': 1, 'b': 2, 'c': 3}\n"
     ]
    }
   ],
   "source": [
    "def what_is_kwargs(**kwargs):\n",
    "    print(type(kwargs))\n",
    "    print(kwargs)\n",
    "    \n",
    "\n",
    "what_is_kwargs(a = 1, b = 2, c = 3)"
   ]
  },
  {
   "cell_type": "markdown",
   "id": "0f692a65",
   "metadata": {},
   "source": [
    "___"
   ]
  },
  {
   "cell_type": "markdown",
   "id": "8d365ca0",
   "metadata": {},
   "source": [
    "## Python UnderScore\n",
    "Python에서 '\\_' 의 의미는 무엇일까"
   ]
  },
  {
   "cell_type": "markdown",
   "id": "4aa67474",
   "metadata": {},
   "source": [
    "파이썬은 객체 지향 언어이다.  \n",
    "파이썬에서 __모든 데이터들은 객체로 표현되거나 객체 사이의 관계로 표현된다.__  \n",
    "여기서 미리 정의되어 있는 특별한 이름을 가진 메소드들을 재정의 함으로써 파이썬 인터프리터가 데이터 객체를 만들거나, 표현하거나, 연산을 하는데 도움을 줄 수 있다. 여러가지 Built-in 함수들이 처리할 연산을 정의함으로써, 마법같다고 하여 매직 메소드(Magic Method)라는 이름이 붙었다.(Python 문서에는는 Special method라고 적혀있다.)  \n",
    "\n",
    "언더스코어(\\_)가 두개가 붙는게 특징이기 때문에 Double UNDERscore Method를 줄여서 던더(DUNDER) 메소드라고 부르기도 한다."
   ]
  },
  {
   "cell_type": "markdown",
   "id": "9c2e2c6d",
   "metadata": {},
   "source": [
    "## 1. 매직 메소드 다루기 - 객체"
   ]
  },
  {
   "cell_type": "markdown",
   "id": "6200452f",
   "metadata": {},
   "source": [
    "### 1.1 객체의 생성과 초기화"
   ]
  },
  {
   "cell_type": "markdown",
   "id": "13823f8b",
   "metadata": {},
   "source": [
    "- \\_\\_new\\_\\_(cls[, ...]): 새로운 인스턴스를 만들때 제일 처음으로 실행되는 메소드이다. 새로운 object를 반환해줘야 한다.\n",
    "<br>\n",
    "\n",
    "- \\_\\_init\\_\\_(self[, ...]): 인스턴스가 \\_\\_new\\_\\_로 생성되고 나서 호출되는 메소드로 인자를 받아서 내부에 지정해 줄 수 있다.\n",
    "<br>\n",
    "\n",
    "- \\_\\_del\\_\\_(self): 객체의 소멸에 될때 해야할 일을 지정할 수 있다. del키워드를 호출한다고 해서 \\_\\_del\\_\\_()이 바로 호출되지는 않다. 내부에 있는 레퍼런스 카운터가 0가 되면 소멸한다. 객체 소멸시 파일을 닫아준다거나 할때 사용할 수 있다.\n",
    "\n",
    "\n"
   ]
  },
  {
   "cell_type": "markdown",
   "id": "59ebe0d5",
   "metadata": {},
   "source": [
    "아래 예제에서 \\_\\_new\\_\\_를 통해서 인자가 하나도 들어오지 않을 경우는 객체를 생성하지 않고 None으로 반환한다. 그리고 \\_\\_init\\_\\_을 재정의해서 클래스의 변수인 num을 초기화 시킨다."
   ]
  },
  {
   "cell_type": "code",
   "execution_count": 4,
   "id": "ee8f0e2f",
   "metadata": {},
   "outputs": [],
   "source": [
    "class NumBox:\n",
    "    def __new__(cls, *args, **kwargs):\n",
    "        if len(args) < 1:  # 인자가 들어오지 않은 경우\n",
    "            return None  # None을 반환\n",
    "        else:  # 인자가 들어온 경우\n",
    "            return super(NumBox, cls).__new__(cls)  # object를 반환\n",
    "\n",
    "    def __init__(self, num=None):\n",
    "        self.num = num  # 받은 인자 num을 인스턴스 변수로 지정\n",
    "\n",
    "    def __repr__(self):\n",
    "        return str(self.num)"
   ]
  },
  {
   "cell_type": "code",
   "execution_count": 5,
   "id": "200f0a56",
   "metadata": {},
   "outputs": [
    {
     "data": {
      "text/plain": [
       "NoneType"
      ]
     },
     "execution_count": 5,
     "metadata": {},
     "output_type": "execute_result"
    }
   ],
   "source": [
    "a = NumBox() # 아무 인자 없이 객체 생성\n",
    "type(a)"
   ]
  },
  {
   "cell_type": "code",
   "execution_count": 6,
   "id": "fb192fc7",
   "metadata": {},
   "outputs": [
    {
     "data": {
      "text/plain": [
       "10"
      ]
     },
     "execution_count": 6,
     "metadata": {},
     "output_type": "execute_result"
    }
   ],
   "source": [
    "b = NumBox(10)\n",
    "b"
   ]
  },
  {
   "cell_type": "code",
   "execution_count": 7,
   "id": "24da0a7c",
   "metadata": {
    "scrolled": true
   },
   "outputs": [
    {
     "data": {
      "text/plain": [
       "__main__.NumBox"
      ]
     },
     "execution_count": 7,
     "metadata": {},
     "output_type": "execute_result"
    }
   ],
   "source": [
    "type(b)"
   ]
  },
  {
   "cell_type": "markdown",
   "id": "9d4bc76d",
   "metadata": {},
   "source": [
    "\\_\\_new\\_\\_는 인스턴스 초기 생성에 관련되어 있기 때문에 초기값을 조작하거나, 싱글톤 패턴을 만들때 사용할 수 있다.  \n",
    "      \n",
    "[관련레퍼런스](https://www.python.org/download/releases/2.2.3/descrintro/#__new__)"
   ]
  },
  {
   "cell_type": "markdown",
   "id": "3b3e4577",
   "metadata": {},
   "source": [
    "### \\_\\_init\\_\\_ vs \\_\\_new\\_\\_\n",
    "- 숫자나 문자열을 subclassing 할때는 new를 사용하는 것이 좋다.\n",
    "- \\_\\_init\\_\\_이 실행되기 전에 항상 \\_\\_new\\_\\_가 먼저 실행된다.\n",
    "- \\_\\_new\\_\\_는 첫번째 인자를 자기 자신(cls)을 숨겨진 파라미터로 받으며 반드시 새 instance 를 반환한다\n",
    "- \\_\\_init\\_\\_은 instance를 첫 번째 인자로 받으며 아무것도 반환하지 않고 instance를 초기화 한다\n",
    "- \\_\\_new\\_\\_를 호출하지 않고 새 인스턴스를 생성할 수 있는 방법은 없습니다\n",
    "- (참고로 이 모든 것은 \\_\\_call\\_\\_ 메소드에 의해 제어된다.)"
   ]
  },
  {
   "cell_type": "markdown",
   "id": "a025d3d3",
   "metadata": {},
   "source": [
    "#### 예시) float class의 \\_\\_new\\_\\_를 재정의 하는 하위클래스"
   ]
  },
  {
   "cell_type": "code",
   "execution_count": 8,
   "id": "25cd25ea",
   "metadata": {},
   "outputs": [
    {
     "data": {
      "text/plain": [
       "0.30479999999999996"
      ]
     },
     "execution_count": 8,
     "metadata": {},
     "output_type": "execute_result"
    }
   ],
   "source": [
    "class inch(float):\n",
    "    def __new__(cls, arg=0.0):\n",
    "        return float.__new__(cls, arg*0.0254)\n",
    "\n",
    "inch(12)"
   ]
  },
  {
   "cell_type": "code",
   "execution_count": 9,
   "id": "9186ab9d",
   "metadata": {
    "scrolled": true
   },
   "outputs": [
    {
     "data": {
      "text/plain": [
       "12.0"
      ]
     },
     "execution_count": 9,
     "metadata": {},
     "output_type": "execute_result"
    }
   ],
   "source": [
    "'''\n",
    "float는 inch라는 새로운 Subclass를 가지게되었다  \n",
    "\n",
    "Init signature: float(x=0, /)\n",
    "Docstring:      Convert a string or number to a floating point number, if possible.\n",
    "Type:           type\n",
    "Subclasses:     inch\n",
    "'''\n",
    "\n",
    "float.__new__(inch, 12)"
   ]
  },
  {
   "cell_type": "markdown",
   "id": "a7127f46",
   "metadata": {},
   "source": [
    "#### init은 작동하지 않는다"
   ]
  },
  {
   "cell_type": "code",
   "execution_count": 10,
   "id": "f1344040",
   "metadata": {},
   "outputs": [],
   "source": [
    "# class inch(float):\n",
    "#    def __init__(self, arg=0.0):\n",
    "#         float.__init__(self, arg*0.0254)\n",
    "# print(inch(12))\n",
    "\n",
    "# 작동하지 않는다"
   ]
  },
  {
   "cell_type": "markdown",
   "id": "8a8ecea0",
   "metadata": {},
   "source": [
    "### 1.2 객체의 표현"
   ]
  },
  {
   "cell_type": "markdown",
   "id": "2cb0a4dd",
   "metadata": {},
   "source": [
    "- \\_\\_repr\\_\\_(self): 객체를 나타내는 공식적인 문자열이다. repr()로 호출 할 수 있다. 가능하다면 여기 표현된 값으로 같은 객체를 만들 수 있어야 한다. eval(repr(object))를 했을때 객체를 생성할 수 있는 형태가 되야한다. 그렇지 못할 경우 유용한 정보를 나타내야한다. 반환값의 타입은 string이어야 한다. \\_\\_str\\_\\_하고 달리 좀 더 명확함을 지향하고 있는 느낌.  \n",
    "<br>\n",
    "      \n",
    "- \\_\\_str\\_\\_(self): 객체를 나타내는 비공식적인 문자열이지만 객체를 이해하기 쉽게 표현할 수 있는 문자열이다. \\_\\_repr\\_\\_보다 사용자에게 보기 쉬운 문자열을 출력하는 것에 지향점을 둔다. str()로 호출 할 수 있다. 마찬가지로 string타입의 문자열을 반환해야 한다. \\_\\_repr\\_\\_()만 구현되어있고 \\_\\_str\\_\\_()이 구현되어 있지 않은 경우에는 str()이 \\_\\_repr\\_\\_()을 불러오게 된다.  \n",
    "<br>\n",
    "      \n",
    "- \\_\\_bytes\\_\\_(self): 객체를 나타내는 byte 문자열이다. bytes()로 호출 할 수 있다.  \n",
    "<br>\n",
    "      \n",
    "- \\_\\_format\\_\\_(self): 객체를 나타내는 format을 지정하고 싶을때 사용한다.  \n",
    "\n"
   ]
  },
  {
   "cell_type": "markdown",
   "id": "24df75df",
   "metadata": {},
   "source": [
    "> #### eval 함수란?  \n",
    ">      문자열 형태로 들어오는 식을 출력 해줌  \n",
    ">      ex) eval('1+2') > 3"
   ]
  },
  {
   "cell_type": "code",
   "execution_count": 11,
   "id": "64e3cdcf",
   "metadata": {},
   "outputs": [],
   "source": [
    "class StrBox:\n",
    "    def __init__(self, string): \n",
    "        self.string = string\n",
    "    \n",
    "    def __repr__(self):\n",
    "        return \"A('{}')\".format(self.string)\n",
    "\n",
    "    def __bytes__(self):\n",
    "        return str.encode(self.string)\n",
    "\n",
    "    def __format__(self, format):\n",
    "        if format == 'this-string':\n",
    "            return \"This string: {}\".format(self.string)\n",
    "        return self.string"
   ]
  },
  {
   "cell_type": "markdown",
   "id": "c442779d",
   "metadata": {},
   "source": [
    "#### \\_\\_str\\_\\_( )이 정의되어 있지 않아 \\_\\_repr\\_\\_( ) 이 출력된다"
   ]
  },
  {
   "cell_type": "code",
   "execution_count": 12,
   "id": "cfa049f6",
   "metadata": {},
   "outputs": [
    {
     "data": {
      "text/plain": [
       "A('Life is short, you need python')"
      ]
     },
     "execution_count": 12,
     "metadata": {},
     "output_type": "execute_result"
    }
   ],
   "source": [
    "a = StrBox('Life is short, you need python')\n",
    "a"
   ]
  },
  {
   "cell_type": "code",
   "execution_count": 13,
   "id": "c2df8b71",
   "metadata": {},
   "outputs": [
    {
     "data": {
      "text/plain": [
       "\"A('Life is short, you need python')\""
      ]
     },
     "execution_count": 13,
     "metadata": {},
     "output_type": "execute_result"
    }
   ],
   "source": [
    "repr(a)"
   ]
  },
  {
   "cell_type": "code",
   "execution_count": 14,
   "id": "45aa8624",
   "metadata": {},
   "outputs": [
    {
     "data": {
      "text/plain": [
       "\"A('Life is short, you need python')\""
      ]
     },
     "execution_count": 14,
     "metadata": {},
     "output_type": "execute_result"
    }
   ],
   "source": [
    "str(a)"
   ]
  },
  {
   "cell_type": "code",
   "execution_count": 15,
   "id": "21afdd21",
   "metadata": {},
   "outputs": [
    {
     "data": {
      "text/plain": [
       "b'Life is short, you need python'"
      ]
     },
     "execution_count": 15,
     "metadata": {},
     "output_type": "execute_result"
    }
   ],
   "source": [
    "bytes(a)"
   ]
  },
  {
   "cell_type": "code",
   "execution_count": 16,
   "id": "9b1d4c03",
   "metadata": {},
   "outputs": [
    {
     "data": {
      "text/plain": [
       "'This string: Life is short, you need python'"
      ]
     },
     "execution_count": 16,
     "metadata": {},
     "output_type": "execute_result"
    }
   ],
   "source": [
    "\"{:this-string}\".format(a)"
   ]
  },
  {
   "cell_type": "markdown",
   "id": "ae55dd19",
   "metadata": {},
   "source": [
    "### 1.3 속성 관리\n",
    "- \\_\\_getattr\\_\\_(self, name): 객체의 없는 속성을 참조하려 할때 호출된다. 일반적으로 찾는 속성이 있다면 호출되지 않는다. \\_\\_getattr__은 인스턴스의 다른 속성에는 접근 할 수 없도록 설계 되어있다.\n",
    "<br>\n",
    "\n",
    "- \\_\\_getattribute\\_\\_(self, name): 객체의 속성을 호출할때 무조건 호출된다. 만약 이 메소드가 재정의 되어있다면 \\_\\_getattr\\_\\_는 호출되지 않으므로 명시적으로 호출해야하거나 AttributeError에러를 발생시켜야한다.\n",
    "<br>\n",
    "\n",
    "- \\_\\_setattr\\_\\_(self, name, value): 객체의 속성을 변경할때 호출된다. 주의해야 하는 것은 여기서 다시 객체의 속성을 변경하지 않아야 한다는 것이다. 재귀적으로 계속 호출함으로써 무한루프에 빠지게 된다.\n",
    "<br>\n",
    "\n",
    "- \\_\\_delattr\\_\\_(self, name): 객체의 속성을 del키워드로 지울 때 호출된다.\n",
    "<br>\n",
    "\n",
    "- \\_\\_dir\\_\\_(self): 객체가 가지고 있는 모든 속성들을 보여주는 dir()을 사용할때 호출됩니다.\n",
    "<br>\n",
    "\n",
    "- \\_\\_slots\\_\\_: 사용할 변수의 이름을 미리 지정할 수 있다. 인스턴스 변수 시퀀스와 각 인스턴스별로 각 변수들에 값을 넣어둘 충분한 공간을 준비해둔다. 다른 이름을 가진 변수는 허용되지 않는다. \\_\\_dict\\_\\_를 미리 만들지 않으므로 공간을 절약할 수 있습니다."
   ]
  },
  {
   "cell_type": "code",
   "execution_count": 17,
   "id": "67af1b59",
   "metadata": {},
   "outputs": [],
   "source": [
    "class NameBox:\n",
    "\n",
    "    person_name = \"Chopin\"\n",
    "    def __getattr__(self, name):\n",
    "        print(\"Not Found: {}\".format(name))\n",
    "\n",
    "    def __setattr__(self, name, value):        \n",
    "        print(\"Set attribute: {} is {}\".format(name, value))\n",
    "         #self.person_name = value # 이렇게 하면 재귀적으로 호출된다"
   ]
  },
  {
   "cell_type": "code",
   "execution_count": 18,
   "id": "7c0b2c7c",
   "metadata": {},
   "outputs": [
    {
     "data": {
      "text/plain": [
       "'Chopin'"
      ]
     },
     "execution_count": 18,
     "metadata": {},
     "output_type": "execute_result"
    }
   ],
   "source": [
    "box = NameBox()\n",
    "box.person_name"
   ]
  },
  {
   "cell_type": "code",
   "execution_count": 19,
   "id": "b130bc9b",
   "metadata": {},
   "outputs": [
    {
     "name": "stdout",
     "output_type": "stream",
     "text": [
      "Not Found: name\n"
     ]
    }
   ],
   "source": [
    "box.name"
   ]
  },
  {
   "cell_type": "code",
   "execution_count": 20,
   "id": "52317ee1",
   "metadata": {},
   "outputs": [
    {
     "name": "stdout",
     "output_type": "stream",
     "text": [
      "Set attribute: person_name is Liszt\n"
     ]
    }
   ],
   "source": [
    "box.person_name = \"Liszt\""
   ]
  },
  {
   "cell_type": "markdown",
   "id": "51f4a4e8",
   "metadata": {},
   "source": [
    "### 1.4 Descriptors 관리\n",
    "\n",
    "Descriptor는 \\_\\_get\\_\\_(), \\_\\_set\\_\\_(), \\_\\_delete\\_\\_() 메소드로 구성된 프로토콜을 구현한 클래스이다. 여러 속성에 대한 동일한 접근 논리를 재사용 할 수 있게 도와준다.\n",
    "\n",
    "- \\_\\_get\\_\\_(self, instance, owner): 특정 오브젝트의 값을 참조할때 호출된다.  \n",
    "<br>\n",
    "\n",
    "- \\_\\_set\\_\\_(self, instance, value): 특정 오브젝트의 값을 변경할때 호출된다.  \n",
    "<br>\n",
    "\n",
    "- \\_\\_delete\\_\\_(self, instance): 특정 오브젝트의 값을 삭제할때 호출된다.  \n",
    "\n",
    "[Descriptors 레퍼런스](https://docs.python.org/3/howto/descriptor.html)"
   ]
  },
  {
   "cell_type": "markdown",
   "id": "7022a782",
   "metadata": {},
   "source": [
    "예제) Rating클래스는 \\_\\_set\\_\\_과 \\_\\_get\\_\\_ 프로토콜이 구성된 디스크립터 클래스이다.  \n",
    "MovieReview는 Rating()을 가지고 있는 관리 대상 클래스이다. 변수 story, acting, fun은 모두 Rating의 0~5 사이 정수만 받을 수 있다는 규칙을 따르고 있다. "
   ]
  },
  {
   "cell_type": "code",
   "execution_count": 21,
   "id": "3292e13c",
   "metadata": {},
   "outputs": [],
   "source": [
    "class Rating():\n",
    "    def __init__(self, rating=3):\n",
    "        self.rating = rating\n",
    "\n",
    "    def __set__(self, instance, value):\n",
    "        if not (0<= value <=5):\n",
    "            raise ValueError('rating must be 0~5')\n",
    "        else:\n",
    "            setattr(instance, 'rating', value)\n",
    "\n",
    "    def __get__(self, instance, owner):\n",
    "        return getattr(instance, 'rating')\n",
    "\n",
    "class MovieReview():\n",
    "    story = Rating()\n",
    "    acting = Rating()\n",
    "    fun = Rating()"
   ]
  },
  {
   "cell_type": "code",
   "execution_count": 22,
   "id": "b53698a9",
   "metadata": {},
   "outputs": [],
   "source": [
    "a = MovieReview()"
   ]
  },
  {
   "cell_type": "code",
   "execution_count": 23,
   "id": "658c7b41",
   "metadata": {},
   "outputs": [],
   "source": [
    "a.story=5"
   ]
  },
  {
   "cell_type": "code",
   "execution_count": 24,
   "id": "8e34224a",
   "metadata": {},
   "outputs": [
    {
     "data": {
      "text/plain": [
       "5"
      ]
     },
     "execution_count": 24,
     "metadata": {},
     "output_type": "execute_result"
    }
   ],
   "source": [
    "a.story"
   ]
  },
  {
   "cell_type": "code",
   "execution_count": 25,
   "id": "835a047b",
   "metadata": {},
   "outputs": [],
   "source": [
    "# a.fun=6\n",
    "# >>> ValueError: rating must be 0~5"
   ]
  },
  {
   "cell_type": "markdown",
   "id": "4e63c346",
   "metadata": {},
   "source": [
    "### 1.5 컨테이너 관리: 콜렉션과 반복\n",
    "- \\_\\_len\\_\\_(self): 객체의 길이를 반환한다. 길이는 0이상인 정수이며, len()으로 호출된다.\n",
    "<br>\n",
    "\n",
    "- \\_\\_length\\_hint\\_\\_(self): 객체의 대략적으로 측정된 길이를 반환한다. operator.length\\_hint()으로 호출 된다.\n",
    "<br>\n",
    "\n",
    "- \\_\\_getitem\\_\\_(self, key): 객체에서 \\[ \\] 연산자를 사용하여 조회할때 동작을 정의한다. 예를들어 \\_list[10] 은 \\_list.\\_\\_getitem\\_\\_(10)으로 동작합니다. 키의 타입이 적절하지 않다면 TypeError에러를, 키가 인덱스를 벗어났을 경우는 IndexError를 던져야 한다.\n",
    "<br>\n",
    "\n",
    "- \\_\\_missing\\_\\_(self, key): 키가 dictionary에 없을 경우 호출된다.\n",
    "<br>\n",
    "\n",
    "- \\_\\_setitem\\_\\_(self, key, value): 객체에서 \\[ \\] 연산자를 사용해서 변수를 지정할때 동작을 정의한다. 예를들어 \\_list[10] = 1은 \\_list.\\_\\_setitme\\_\\_(10, 1)으로 동작한다.\n",
    "<br>\n",
    "\n",
    "- \\_\\_delitem\\_\\_(self, key): del object\\[ \\]를 사용하는 경우 동작을 정의한다.\n",
    "<br>\n",
    "\n",
    "- \\_\\_iter\\_\\_(self): 컨테이너의 iterator를 반환한다.\n",
    "<br>\n",
    "\n",
    "-  \\_\\_reversed\\_\\_(self): 순서가 반대로 바뀌는 함수인 reversed( )로 호출된다.\n",
    "<br>\n",
    "\n",
    "- \\_\\_contains\\_\\_(self, item): item이 존재 한다면 True, 그렇지 않으면 False를 반환하는 메소드를 정의한다. \\_\\_contains\\_\\_가 정의되어 있지 않다면 \\_\\_iter\\_\\_를 통해 이터레이션을 돌며 확인을 시도한다.\n",
    "<br>\n"
   ]
  },
  {
   "cell_type": "markdown",
   "id": "11bedd6f",
   "metadata": {},
   "source": [
    "### 1.6 나머지 클래스 서비스들\n",
    "- \\_\\_prepare\\_\\_(metacls, name, bases, \\*\\*kwds): 메타 클래스 네임스페이스에 대한 dictionary를 만든다. 메타 클래스가 이 속성이 없다면 빈 dict()로 초기화 된다.\n",
    "<br>\n",
    "\n",
    "- \\_\\_instancecheck\\_\\_(self, instance): 클래스의 인스턴스이면 참을 반환 해야한다. isinstance(instance, class)로 호출된다.\n",
    "<br>\n",
    "\n",
    "- \\_\\_subclasscheck\\_\\_(self, subclass): 클래스의 서브클래스라면 참을 반환 해야한다. issubclass(subclass, class)로 호출된다."
   ]
  },
  {
   "cell_type": "markdown",
   "id": "ecad9149",
   "metadata": {},
   "source": [
    "___"
   ]
  },
  {
   "cell_type": "markdown",
   "id": "37c80541",
   "metadata": {},
   "source": [
    "## 2. 매직 메소드 다루기 - 연산  \n",
    "객체들과의 계산에 기본 연산자를 사용해서 계산하기 위해서 사용하는 재정의하는 메소드들이다.."
   ]
  },
  {
   "cell_type": "markdown",
   "id": "0489bf43",
   "metadata": {},
   "source": [
    "### 2.1 단항 연산자"
   ]
  },
  {
   "cell_type": "markdown",
   "id": "517b72b1",
   "metadata": {},
   "source": [
    "- \\_\\_neg\\_\\_(self): -object를 정의한다.\n",
    "<br>\n",
    "\n",
    "- \\_\\_pos\\_\\_(self): +object를 정의한다.\n",
    "<br>\n",
    "\n",
    "- \\_\\_abs\\_\\_(self): abs()를 정의한다.\n",
    "<br>\n",
    "\n",
    "- \\_\\_invert\\_\\_(self): 비트 연산 ~object를 정의한다."
   ]
  },
  {
   "cell_type": "markdown",
   "id": "ce05cf4c",
   "metadata": {},
   "source": [
    "### 2.2 비교 연산자\n",
    "- \\_\\_lt\\_\\_(self, other): x < y를 정의한다.\n",
    "<br>\n",
    "\n",
    "- \\_\\_le\\_\\_(self, other): x <= y를 정의한다.\n",
    "<br>\n",
    "\n",
    "- \\_\\_gt\\_\\_(self, other): x > y를 정의한다.\n",
    "<br>\n",
    "\n",
    "- \\_\\_ge\\_\\_(self, other): x >= y를 정의한다.\n",
    "<br>\n",
    "\n",
    "- \\_\\_eq\\_\\_(self, other): x == y를 정의한다.\n",
    "<br>\n",
    "\n",
    "- \\_\\_ne\\_\\_(self, other): x != y를 정의한다.\n",
    "<br>\n"
   ]
  },
  {
   "cell_type": "markdown",
   "id": "7afc640f",
   "metadata": {},
   "source": [
    "예제) 아래는 문자열의 길이에 따라 비교 연산을 할 수 있는 StrBox클래스 이다. 두 StrBox타입의 객체끼리 연산이 가능해진다.  \n",
    "__str를 상속__ 받았기 때문에 str타입 이랑도 비교가 가능해진다. (참고로 str이랑 StrBox랑 비교를 하면 연산자는 하위 클래스 StrBox에 정의된 것으로 동작한다)"
   ]
  },
  {
   "cell_type": "code",
   "execution_count": 39,
   "id": "1ba89e97",
   "metadata": {},
   "outputs": [],
   "source": [
    "class StrBox(str):\n",
    "    def __new__(cls, string):\n",
    "        return str.__new__(cls, string)\n",
    "    def __lt__(self, other):\n",
    "        return len(self) < len(other)\n",
    "    def __le__(self, other):\n",
    "        return len(self) <= len(other)\n",
    "    def __gt__(self, other):\n",
    "        return len(self) > len(other)\n",
    "    def __ge__(self, other):\n",
    "        return len(self) >= len(other)\n",
    "    def __eq__(self, other):\n",
    "        return len(self) == len(other)\n",
    "    def __ne__(self, other):\n",
    "        return len(self) != len(other)"
   ]
  },
  {
   "cell_type": "code",
   "execution_count": 42,
   "id": "c48f9c3e",
   "metadata": {},
   "outputs": [
    {
     "data": {
      "text/plain": [
       "False"
      ]
     },
     "execution_count": 42,
     "metadata": {},
     "output_type": "execute_result"
    }
   ],
   "source": [
    "abc = StrBox('abc')\n",
    "abcd = StrBox('abcd')\n",
    "\n",
    "abc>abcd"
   ]
  },
  {
   "cell_type": "code",
   "execution_count": 44,
   "id": "4f0fd764",
   "metadata": {},
   "outputs": [
    {
     "data": {
      "text/plain": [
       "True"
      ]
     },
     "execution_count": 44,
     "metadata": {},
     "output_type": "execute_result"
    }
   ],
   "source": [
    "abc>'ab'"
   ]
  },
  {
   "cell_type": "code",
   "execution_count": 45,
   "id": "fbe48fc3",
   "metadata": {},
   "outputs": [
    {
     "data": {
      "text/plain": [
       "True"
      ]
     },
     "execution_count": 45,
     "metadata": {},
     "output_type": "execute_result"
    }
   ],
   "source": [
    "abc == 'abc'"
   ]
  },
  {
   "cell_type": "markdown",
   "id": "0be1506f",
   "metadata": {},
   "source": [
    "### 2.3 산술 연산자"
   ]
  },
  {
   "cell_type": "markdown",
   "id": "f0659692",
   "metadata": {},
   "source": [
    "\\_\\_add\\_\\_는 + 연산에 대해서 정의 할 수 있습니다."
   ]
  },
  {
   "cell_type": "code",
   "execution_count": 65,
   "id": "037781dc",
   "metadata": {},
   "outputs": [],
   "source": [
    "class NumBox:\n",
    "    def __init__(self, num):\n",
    "        self.number = num\n",
    "\n",
    "    def __add__(self, num):\n",
    "        return NumBox(self.number + num)\n",
    "    \n",
    "    def __str__(self):\n",
    "        return str(self.number)"
   ]
  },
  {
   "cell_type": "code",
   "execution_count": 66,
   "id": "530bbceb",
   "metadata": {},
   "outputs": [
    {
     "name": "stdout",
     "output_type": "stream",
     "text": [
      "10\n"
     ]
    }
   ],
   "source": [
    "a = NumBox(10) # a는 NumBox class 객체\n",
    "print(a)"
   ]
  },
  {
   "cell_type": "code",
   "execution_count": 70,
   "id": "f19a7c26",
   "metadata": {},
   "outputs": [
    {
     "name": "stdout",
     "output_type": "stream",
     "text": [
      "20\n"
     ]
    }
   ],
   "source": [
    "print(a+10)"
   ]
  },
  {
   "cell_type": "code",
   "execution_count": 72,
   "id": "f8ed573b",
   "metadata": {},
   "outputs": [],
   "source": [
    "# 역순 연산자는 지원하지 않는다\n",
    "# print(10+a)\n",
    "# >>> unsupported operand type(s) for +: 'int' and 'NumBox'"
   ]
  },
  {
   "cell_type": "markdown",
   "id": "f66172b1",
   "metadata": {},
   "source": [
    "역순 연산자에 대해서 지원하지 않는 것을 확인 할 수 있다.  \n",
    "마찬가지로 복합 할당 연산자 +=에 대해서도 제대로 동작하지 않는다.\n",
    "\\_\\_radd\\_\\_를 통해서 역순 연산자에 대해서 정의하고 \\_\\_iadd\\_\\_를 정의함으로써 +=를 지원 할 수 있다.  \n",
    "마찬가지로 다음 나오는 연산자에 앞에 r이 붙이면 역순 연산자이고 i가 붙으면 복합 할당 연산자이다."
   ]
  },
  {
   "cell_type": "markdown",
   "id": "48335690",
   "metadata": {},
   "source": [
    "- \\_\\_add\\_\\_(self, other): x + y 연산을 정의한다. \\_\\_radd\\_\\_는 역순 연산자, \\_\\_iadd\\_\\_는 복합 할당 연산자 이다.\n",
    "<br>\n",
    "\n",
    "- \\_\\_sub\\_\\_(self, other): x - y 연산을 정의한다. \\_\\_rsub\\_\\_는 역순 연산자, \\_\\_isub\\_\\_는 복합 할당 연산자 이다.\n",
    "<br>\n",
    "\n",
    "- \\_\\_mul\\_\\_(self, other): x * y 연산을 정의한다. \\_\\_rmul\\_\\_는 역순 연산자, \\_\\_imul\\_\\_는 복합 할당 연산자 이다.\n",
    "<br>\n",
    "\n",
    "- \\_\\_matmul\\_\\_(self, other): x @ y 연산을 정의한다. \\_\\_rmatmul\\_\\_는 역순 연산자, \\_\\_imatmul\\_\\_는 복합 할당 연산자 이다. (@는 파이썬 3.5에 추가된 행렬의 내적을 위한 중위 연산자 이다)\n",
    "<br>\n",
    "\n",
    "- \\_\\_truediv\\_\\_(self, other): x / y 연산을 정의한다. \\_\\_rtruediv\\_\\_는 역순 연산자, \\_\\_itruediv\\_\\_는 복합 할당 연산자 이다.\n",
    "<br>\n",
    "\n",
    "- \\_\\_floordiv\\_\\_(self, other): x // y 연산을 정의한다. \\_\\_rfloordiv\\_\\_는 역순 연산자, \\_\\_ifloordiv\\_\\_는 복합 할당 연산자 이다.\n",
    "<br>\n",
    "\n",
    "- \\_\\_mod\\_\\_(self, other): x % y 연산을 정의한다. \\_\\_rmod\\_\\_는 역순 연산자, \\_\\_imod\\_\\_는 복합 할당 연산자 이다.\n",
    "<br>\n",
    "\n",
    "- \\_\\_divmod\\_\\_(self, other): divmod()를 통해 호출되는 연산을 정의한다.\n",
    "<br>\n",
    "\n",
    "- \\_\\_pow\\_\\_(self, other[, modulo]): x ** y 연산을 정의한다. pow()를 통해서 호출 할 수도 있다.\n",
    "<br>\n",
    "\n",
    "- \\_\\_round\\_\\_(self[, n]): 반올림 함수 round()를 통해 호출되는 연산을 정의한다.<br>"
   ]
  },
  {
   "cell_type": "markdown",
   "id": "161be570",
   "metadata": {},
   "source": [
    "### 2.4 비트 연산자와 논리 연산자\n",
    "- \\_\\_lshift\\_\\_(self, other): x « y 시프트 연산을 정의한다. \\_\\_rlshift\\_\\_는 역순 연산자, \\_\\_ilshift\\_\\_는 복합 할당 연산자 이다.\n",
    "<br>\n",
    "\n",
    "- \\_\\_rshift\\_\\_(self, other): x » y 시프트 연산을 정의한다. \\_\\_rrshift\\_\\_는 역순 연산자, \\_\\_irshift\\_\\_는 복합 할당 연산자 이다.\n",
    "<br>\n",
    "\n",
    "- \\_\\_and\\_\\_(self, other): x & y 연산을 정의한다. \\_\\_rand\\_\\_는 역순 연산자, \\_\\_iand\\_\\_는 복합 할당 연산자 이다.\n",
    "<br>\n",
    "\n",
    "- \\_\\_or\\_\\_(self, other): x | y 연산을 정의한다. \\_\\_ror\\_\\_는 역순 연산자, \\_\\_ior\\_\\_는 복합 할당 연산자 이다.\n",
    "<br>\n",
    "\n",
    "- \\_\\_xor\\_\\_(self, other): x ^ y 연산을 정의한다. \\_\\_rxor\\_\\_는 역순 연산자, \\_\\_ixor\\_\\_는 복합 할당 연산자 이다."
   ]
  },
  {
   "cell_type": "markdown",
   "id": "6e467627",
   "metadata": {},
   "source": [
    "### 2.5 타입 변환\n",
    "\n"
   ]
  },
  {
   "cell_type": "markdown",
   "id": "4cec3f9b",
   "metadata": {},
   "source": [
    "- \\_\\_int\\_\\_(self): 정수 변환 함수 int()를 통해 호출되는 연산을 정의한다.\n",
    "<br>\n",
    "\n",
    "- \\_\\_float\\_\\_(self): 실수 변환 함수 float()를 통해 호출되는 연산을 정의한다.\n",
    "<br>\n",
    "\n",
    "- \\_\\_complex\\_\\_(self): 복소수 변환 함수 complex()를 통해 호출되는 연산을 정의한다.\n",
    "<br>\n",
    "\n",
    "- \\_\\_bool\\_\\_(self): 진리값 테스트 bool()을 통해 호출되는 연산을 정의한다. True나 False를 반환해야 한다. 만약 이 메소드가 정의되어있지 않을 경우 \\_\\_len\\_\\_을 대신 호출한다.\n",
    "<br>\n",
    "\n",
    "- \\_\\_hash\\_\\_(self): hash()를 통해 호출되는 연산을 정의한다. 정수를 반환해야 한다.\n",
    "<br>\n",
    "\n",
    "- \\_\\_index\\_\\_(self): slice expression에 객체가 사용될때 사용할 정수 형태를 정의한다."
   ]
  },
  {
   "cell_type": "markdown",
   "id": "0d68060b",
   "metadata": {},
   "source": [
    "예제) 리스트를 가져올 때 객체를 넣어서 가져올 수 있다."
   ]
  },
  {
   "cell_type": "code",
   "execution_count": 84,
   "id": "d14f61cf",
   "metadata": {},
   "outputs": [],
   "source": [
    "class Slice:\n",
    "    def __index__(self):\n",
    "        return 1"
   ]
  },
  {
   "cell_type": "code",
   "execution_count": 85,
   "id": "75244c0a",
   "metadata": {},
   "outputs": [
    {
     "data": {
      "text/plain": [
       "'456'"
      ]
     },
     "execution_count": 85,
     "metadata": {},
     "output_type": "execute_result"
    }
   ],
   "source": [
    "slice = Slice()\n",
    "\n",
    "_list = [\"123\", \"456\", \"789\"]\n",
    "\n",
    "_list[slice]"
   ]
  },
  {
   "cell_type": "markdown",
   "id": "a6669e93",
   "metadata": {},
   "source": [
    "___"
   ]
  },
  {
   "cell_type": "markdown",
   "id": "83561cda",
   "metadata": {},
   "source": [
    "## 3. 매직 메소드 다루기 - 컨텍스트 매니저\n"
   ]
  },
  {
   "cell_type": "markdown",
   "id": "e9eabb15",
   "metadata": {},
   "source": [
    "with키워드를 통해서 블럭에 진입할 때, 컨텍스트 매니저를 통해서 시작과 끝에 할 일을 처리할 수 있다."
   ]
  },
  {
   "cell_type": "markdown",
   "id": "7e67d10f",
   "metadata": {},
   "source": [
    "- \\_\\_enter\\_\\_(self): with 으로 블럭에 진입할 때 해야할 일을 정한다.\n",
    "<br>\n",
    "\n",
    "- \\_\\_exit\\_\\_(self, exc\\_type, exc\\_value, traceback): 블럭이 끝날때 해야할 일을 정한다. exception이 발생한 경우에도 호출한다. 정상적인 경우로 종료되었다면 exc\\_type, exc\\_value, traceback은 None으로 들어온다."
   ]
  },
  {
   "cell_type": "markdown",
   "id": "ba7dae77",
   "metadata": {},
   "source": [
    "예제) 아래는 socket을 자동으로 닫아주는 SocketWrapper class 이다. with SocketWrapper() as so와 같은 코드로 사용가능하며 with블럭이 끝나면 자동으로 \\_\\_exit\\_\\_를 호출해서 소켓 연결을 닫는다."
   ]
  },
  {
   "cell_type": "code",
   "execution_count": 88,
   "id": "09dc9a7a",
   "metadata": {},
   "outputs": [],
   "source": [
    "import socket\n",
    "\n",
    "class SocketWrapper:\n",
    "    def __init__(self):\n",
    "        self.so = socket.socket(socket.AF_INET, socket.SOCK_STREAM)  # 새로운 소켓을 생성\n",
    "\n",
    "    def __enter__(self):\n",
    "        self.so.connect(('localhost', 8888))  # 소켓을 connect 하고\n",
    "        return self.so  # 반환한다\n",
    "\n",
    "    def __exit__(self, exception_type, exception_val, trace):\n",
    "        try:\n",
    "            self.so.close()  # with구문이 끝나면 소켓을 닫는다\n",
    "        except socekt.error as msg:\n",
    "            print(msg)"
   ]
  },
  {
   "cell_type": "markdown",
   "id": "d4f2d98b",
   "metadata": {},
   "source": [
    "## 4. 매직 메소드 다루기 - 비동기\n",
    "비동기랑 관련된 매직 메소드는 파이썬 3.5에 추가되었다."
   ]
  },
  {
   "cell_type": "markdown",
   "id": "d49b8b8b",
   "metadata": {},
   "source": [
    "- \\_\\_await\\_\\_(self): await표현을 사용할 수 있는(awaitable이라 한다) 객체를 만드는데 사용한다. iterator를 반환해야 한다.\n",
    "<br>\n",
    "\n",
    "- \\_\\_aiter\\_\\_(self): 비동기를 위한 \\_\\_iter\\_\\_이다. 비동기 iterator 반환해야 한다.\n",
    "<br>\n",
    "\n",
    "- \\_\\_anext\\_\\_(self): 비동기를 위한 \\_\\_next\\_\\_이다. awaitable한 결과를 반환해야 한다. 이터레이션이 끝나면 StopAsyncIteration에러를 던진다.\n",
    "<br>\n",
    "\n",
    "- \\_\\_aenter\\_\\_(self): 비동기 컨텍스트 매니저를 위한 메소드 이다. \\_\\_enter\\_\\_랑 같습니다. awaitable객체를 반환해야 한다.\n",
    "<br>\n",
    "\n",
    "- \\_\\_aexit\\_\\_(self, exc\\_type, exc\\_value, traceback): 비동기 컨텍스트 매니저를 위한 메소드 이다. \\_\\_exit\\_\\_랑 같다. awaitable객체를 반환해야 한다."
   ]
  }
 ],
 "metadata": {
  "kernelspec": {
   "display_name": "Python 3 (ipykernel)",
   "language": "python",
   "name": "python3"
  },
  "language_info": {
   "codemirror_mode": {
    "name": "ipython",
    "version": 3
   },
   "file_extension": ".py",
   "mimetype": "text/x-python",
   "name": "python",
   "nbconvert_exporter": "python",
   "pygments_lexer": "ipython3",
   "version": "3.8.11"
  }
 },
 "nbformat": 4,
 "nbformat_minor": 5
}
