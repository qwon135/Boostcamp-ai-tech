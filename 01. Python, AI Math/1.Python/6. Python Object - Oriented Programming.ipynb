{
 "cells": [
  {
   "cell_type": "markdown",
   "id": "080ee356",
   "metadata": {},
   "source": [
    "### 객체 지향 프로그래밍\n",
    "만들어 놓은 코드를 재사용 하고싶다  "
   ]
  },
  {
   "cell_type": "markdown",
   "id": "7eccb3ce",
   "metadata": {},
   "source": [
    "### 클래스와 객체\n",
    "__\\- 객체 지향 언어의 이해 -__"
   ]
  },
  {
   "cell_type": "markdown",
   "id": "9f044f43",
   "metadata": {},
   "source": [
    "### 수강신청 프로그램을 만든다면?\n",
    "1. 수강신청 시작부터 끝까지 순서대로 작성\n",
    "2. 수강신철 관련 주체들(교수, 학생, 관리자)의 행동(수강신청, 과목 입력)과 데이터(수강과목, 강의과목) 들을 중심으로 프로그램 작성 후 연결"
   ]
  },
  {
   "cell_type": "markdown",
   "id": "e8735b19",
   "metadata": {},
   "source": [
    "두가지 방식 모두 가능하지만 2번 방식이 주류이다.  \n",
    "이런 기법을 __객체 지향 프로그램__ 이라고 한다."
   ]
  },
  {
   "cell_type": "markdown",
   "id": "a7e32eae",
   "metadata": {},
   "source": [
    "### 객체지향 프로그래밍 개요\n",
    "- Object-Oriented Programming, OOP\n",
    "- 객체 : 실생활에서 일종의 물건, 속성(Attriubute)와 행동(Action)을 가짐\n",
    "- OOP는 이러한 객체 개념을 프로그램으로 표현 속성은 변수(Variable), 행동은 함수(method)로 표현됨\n",
    "- Python 역시 객체지향 프로그래밍이다.\n",
    "- OOP는 설계도에 해당하는 class와 실제 구현체인 instance로 나눔\n"
   ]
  },
  {
   "cell_type": "markdown",
   "id": "b44b5f86",
   "metadata": {},
   "source": [
    "인공지능 축구 프로그램\n",
    "- 객체 종류 : 팀, 선수, 심판, 공\n",
    "- Action : 선수 - 공을 차다, 패스하다, 심판 - 휘슬을 불다, 경고하다"
   ]
  },
  {
   "cell_type": "markdown",
   "id": "a93a69ab",
   "metadata": {},
   "source": [
    "## Objects Python"
   ]
  },
  {
   "cell_type": "markdown",
   "id": "5e5d79d7",
   "metadata": {},
   "source": [
    "- 대부분의 class는 Object를 상속받는다 그이유는 무엇일까\n",
    "- 파이썬 3에서의 object 상속은 표기상의 차이 이외에 상속 관계가 없는 클래스 선언과 아무런 차이점이 없다.\n",
    "- 파이썬 2 (정확히는 2.2 이상) 에서는 클래스에 object를 명시적으로 상속시켜 줘야 비로소 우리가 파이썬 3에서 흔히 쓰는 클래스가 된다.\n",
    "- 파이썬 3 코드에서 굳이 object를 상속시켜 주는 이유는 대개 파이썬 2와의 호환성 혹은 작성 취향 때문이다.\n"
   ]
  },
  {
   "cell_type": "markdown",
   "id": "44bb4d32",
   "metadata": {},
   "source": [
    "### class 구현하기 in python  \n",
    "축구선수 정보를 class로 구현하기"
   ]
  },
  {
   "cell_type": "code",
   "execution_count": 1,
   "id": "72f7d4ae",
   "metadata": {},
   "outputs": [],
   "source": [
    "class SoccerPlayer(object):\n",
    "    def __init__(self, name : str, position : str, back_number : int):\n",
    "        self.name = name \n",
    "        # name이 self.name에 할당을 해줌\n",
    "        # self.name은 name이 아님\n",
    "        self.position = position\n",
    "        self.back_number = back_number"
   ]
  },
  {
   "cell_type": "markdown",
   "id": "104aa328",
   "metadata": {},
   "source": [
    "### class 선언하기\n",
    "- class 선언, object는 python3에서 자동 상속  \n",
    "- class : class 예약어\n",
    "- SoccerPlayer : class 이름"
   ]
  },
  {
   "cell_type": "markdown",
   "id": "ed0ee26c",
   "metadata": {},
   "source": [
    "#### Python naming rule(알아둬야할 상식)\n",
    "- 변수와 Class명 함수명은 짓는 방식이 존재한다.\n",
    "- snake_case : 띄워 쓰기 부분에 underscore \"\\_\"를 추가, 뱀처럼 늘여쓰기, 파이썬 함수/변수명에 사용\n",
    "- CamelCase : 띄워쓰기 부분에 대문자, 낙타의 등 모양, 파이썬 Class명에 사용"
   ]
  },
  {
   "cell_type": "markdown",
   "id": "b6811a49",
   "metadata": {},
   "source": [
    "### Attrubute 추가하기\n",
    "- Attribute 추가는 \\_\\_init__, self와 함께한다.\n",
    "- \\_\\_init__은 __객체 초기화 예약 함수__"
   ]
  },
  {
   "cell_type": "markdown",
   "id": "c60da71d",
   "metadata": {},
   "source": [
    "#### Python에서 \"\\_\\_\"의 의미\n",
    "- \\_\\_ 는 특수한 예약 함수나 변수, 그리고 함수명 변경(맨글링) 으로 사용  \n",
    "    예시) \\_\\_main__, \\_\\_add__, \\_\\_str__, \\_\\_eq__"
   ]
  },
  {
   "cell_type": "markdown",
   "id": "48989d14",
   "metadata": {},
   "source": [
    "#### 클래스로 만든 객체는 서로 다르다"
   ]
  },
  {
   "cell_type": "code",
   "execution_count": 2,
   "id": "cf87db3f",
   "metadata": {},
   "outputs": [],
   "source": [
    "class ClassIsNotSame(object):\n",
    "    pass\n",
    "aaa = ClassIsNotSame()\n",
    "bbb = ClassIsNotSame() \n",
    "ccc = ClassIsNotSame()"
   ]
  },
  {
   "cell_type": "code",
   "execution_count": 3,
   "id": "2253dd0e",
   "metadata": {},
   "outputs": [
    {
     "data": {
      "text/plain": [
       "False"
      ]
     },
     "execution_count": 3,
     "metadata": {},
     "output_type": "execute_result"
    }
   ],
   "source": [
    "aaa==bbb==ccc"
   ]
  },
  {
   "cell_type": "code",
   "execution_count": 4,
   "id": "ebf1b76e",
   "metadata": {},
   "outputs": [],
   "source": [
    "son = SoccerPlayer(\"son\", \"FW\", 7)\n",
    "park = SoccerPlayer(\"park\", \"WF\", 13)"
   ]
  },
  {
   "cell_type": "code",
   "execution_count": 5,
   "id": "2a76e1c4",
   "metadata": {},
   "outputs": [
    {
     "data": {
      "text/plain": [
       "True"
      ]
     },
     "execution_count": 5,
     "metadata": {},
     "output_type": "execute_result"
    }
   ],
   "source": [
    "son != park"
   ]
  },
  {
   "cell_type": "markdown",
   "id": "e949b39f",
   "metadata": {},
   "source": [
    "### class에 \\_\\_str__을 추가 해주면 print 문이 나온다."
   ]
  },
  {
   "cell_type": "code",
   "execution_count": 6,
   "id": "e8f4704c",
   "metadata": {},
   "outputs": [
    {
     "name": "stdout",
     "output_type": "stream",
     "text": [
      "<__main__.SoccerPlayer object at 0x105d20340>\n"
     ]
    }
   ],
   "source": [
    "print(son)"
   ]
  },
  {
   "cell_type": "code",
   "execution_count": 7,
   "id": "bd6d233b",
   "metadata": {},
   "outputs": [],
   "source": [
    "class SoccerPlayer(object):\n",
    "    def __init__(self, name : str, position : str, back_number : int):\n",
    "        self.name = name \n",
    "        # name이 self.name에 할당을 해줌\n",
    "        # self.name은 name이 아님\n",
    "        self.position = position\n",
    "        self.back_number = back_number\n",
    "    \n",
    "    def __str__(self):\n",
    "        return f\"Hello, My name is {self.name}. My position is {self.position}\""
   ]
  },
  {
   "cell_type": "code",
   "execution_count": 8,
   "id": "4c08762e",
   "metadata": {},
   "outputs": [
    {
     "name": "stdout",
     "output_type": "stream",
     "text": [
      "Hello, My name is son. My position is FW\n"
     ]
    }
   ],
   "source": [
    "son = SoccerPlayer(\"son\", \"FW\", 7)\n",
    "print(son)"
   ]
  },
  {
   "cell_type": "markdown",
   "id": "6b00b3d6",
   "metadata": {},
   "source": [
    "#### [Python Underscore의 의미](https://corikachu.github.io/articles/python/python-magic-method)"
   ]
  },
  {
   "cell_type": "markdown",
   "id": "40faf857",
   "metadata": {},
   "source": [
    "### method 구현하기\n",
    "- method(Action) 추가는 기존 함수와 같으나, 반드시 __self__ 를 추가해야만 class 참수로 인정됨"
   ]
  },
  {
   "cell_type": "code",
   "execution_count": 9,
   "id": "79dba9d9",
   "metadata": {},
   "outputs": [],
   "source": [
    "class SoccerPlayer(object):\n",
    "    def __init__(self, name : str, position : str, back_number : int):\n",
    "        self.name = name \n",
    "        # name이 self.name에 할당을 해줌\n",
    "        # self.name은 name이 아님\n",
    "        self.position = position\n",
    "        self.back_number = back_number\n",
    "    \n",
    "    def __str__(self):\n",
    "        return f\"Hello, My name is {self.name}. My back number is {self.back_number}\"\n",
    "    \n",
    "    # snake case로\n",
    "    def change_back_number(self, new_number): # self를 반드시 적어줘야함\n",
    "        print(f'선수의 등번호를 변경합니다 : From {self.back_number} to {new_number}')\n",
    "        self.back_number = new_number"
   ]
  },
  {
   "cell_type": "markdown",
   "id": "644ae770",
   "metadata": {},
   "source": [
    "### self는 무엇인가?\n",
    "self는 생성된 instance를 의미한다(위에서의 son, park이 class 안에서는 self에 해당됨)"
   ]
  },
  {
   "cell_type": "markdown",
   "id": "155a1da1",
   "metadata": {},
   "source": [
    "### objects(instance) 사용하기\n",
    "Object이름 선언과 함께 초기값 입력하기  \n",
    "__객체명 = class명(\\_\\_init\\_\\_함수 interface, 초기값)__"
   ]
  },
  {
   "cell_type": "code",
   "execution_count": 10,
   "id": "66c7a3fc",
   "metadata": {},
   "outputs": [
    {
     "name": "stdout",
     "output_type": "stream",
     "text": [
      "Hello, My name is Jinhyun. My back number is 10\n"
     ]
    }
   ],
   "source": [
    "choi = SoccerPlayer(\"Jinhyun\", \"mf\", 10)\n",
    "print(choi)"
   ]
  },
  {
   "cell_type": "code",
   "execution_count": 11,
   "id": "7a50a290",
   "metadata": {},
   "outputs": [
    {
     "name": "stdout",
     "output_type": "stream",
     "text": [
      "선수의 등번호를 변경합니다 : From 10 to 7\n"
     ]
    }
   ],
   "source": [
    "choi.change_back_number(7)"
   ]
  },
  {
   "cell_type": "code",
   "execution_count": 12,
   "id": "ba6bf3fe",
   "metadata": {},
   "outputs": [
    {
     "name": "stdout",
     "output_type": "stream",
     "text": [
      "Hello, My name is Jinhyun. My back number is 7\n"
     ]
    }
   ],
   "source": [
    "print(choi)"
   ]
  },
  {
   "cell_type": "code",
   "execution_count": 13,
   "id": "8aab272e",
   "metadata": {},
   "outputs": [
    {
     "name": "stdout",
     "output_type": "stream",
     "text": [
      "Hello, My name is Jinhyun. My back number is 20\n"
     ]
    }
   ],
   "source": [
    "# 외부에서 back number 접근이 가능하다 (하지만 권장하는 방법은 아니다)\n",
    "choi.back_number = 20\n",
    "print(choi)"
   ]
  },
  {
   "cell_type": "markdown",
   "id": "8c75edae",
   "metadata": {},
   "source": [
    "---"
   ]
  },
  {
   "cell_type": "markdown",
   "id": "ebda9763",
   "metadata": {},
   "source": [
    "# OOP Implenmentation Example\n",
    "### 구현가능한 OOP 만들기 - 노트북\n"
   ]
  },
  {
   "cell_type": "markdown",
   "id": "f169612c",
   "metadata": {},
   "source": [
    "- Note를 정리하는 프로그램\n",
    "- 사용자는 Note에 뭔가를 적을 수 있다.\n",
    "- Note에는 Content(str)이 있고, 내용을 제거할 수 있다.\n",
    "- 두 개의 노트북을 합쳐 하나로 만들 수 있다.\n",
    "- Note는 Notebook에 삽입된다.\n",
    "- Notebook은 Note가 삽입 될 때 페이지를 생성하며, 최고 300페이지 까지 저장이 가능하다.\n",
    "- 300페이지가 넘으면 더 이상 노트를 삽입할 수 없다"
   ]
  },
  {
   "cell_type": "code",
   "execution_count": 14,
   "id": "2e6da829",
   "metadata": {},
   "outputs": [],
   "source": [
    "class Note(object):\n",
    "    def __init__(self, content : None):\n",
    "        self.content = content\n",
    "    \n",
    "    def write_content(self, content):\n",
    "        self.content = content\n",
    "        \n",
    "    def remove_all(self):\n",
    "        self.content = ''\n",
    "        print(\"remove all content\")\n",
    "    \n",
    "    def __add__(self, other):\n",
    "        return self.content + other.content\n",
    "    \n",
    "    def __str__(self):\n",
    "        return self.content\n",
    "    \n",
    "class NoteBook(object):    \n",
    "    def __init__(self, title):\n",
    "        self.title = title\n",
    "        self.notes = {}\n",
    "        self.page_number = 1\n",
    "        \n",
    "    def add_note(self, note, page = 0):\n",
    "        if self.page_number < 300:\n",
    "            if page == 0:\n",
    "                self.notes[self.page_number] = note\n",
    "                self.page_number += 1                \n",
    "\n",
    "            else:\n",
    "                self.notes[page] = note\n",
    "                self.page_number += 1\n",
    "    \n",
    "    def remove_note(self, page_number):\n",
    "        if page_number in self.notes.keys():\n",
    "            return self.notes.pop(page_number)\n",
    "        else:\n",
    "            print(\"해당 페이지는 존재하지 않습니다.\")\n",
    "    \n",
    "    def get_number_of_pages(self):\n",
    "        return len(self.notes.keys())"
   ]
  },
  {
   "cell_type": "code",
   "execution_count": 15,
   "id": "17559f50",
   "metadata": {},
   "outputs": [],
   "source": [
    "my_notebook = NoteBook(\"팀랩 강의노트\")"
   ]
  },
  {
   "cell_type": "code",
   "execution_count": 16,
   "id": "93bb5416",
   "metadata": {},
   "outputs": [
    {
     "data": {
      "text/plain": [
       "'팀랩 강의노트'"
      ]
     },
     "execution_count": 16,
     "metadata": {},
     "output_type": "execute_result"
    }
   ],
   "source": [
    "my_notebook.title"
   ]
  },
  {
   "cell_type": "code",
   "execution_count": 17,
   "id": "0821222f",
   "metadata": {},
   "outputs": [
    {
     "name": "stdout",
     "output_type": "stream",
     "text": [
      "수업 하기 싫다\n"
     ]
    }
   ],
   "source": [
    "new_note = Note(\"수업 하기 싫다\")\n",
    "print(new_note)"
   ]
  },
  {
   "cell_type": "code",
   "execution_count": 18,
   "id": "5b7456f1",
   "metadata": {},
   "outputs": [
    {
     "name": "stdout",
     "output_type": "stream",
     "text": [
      "파이썬 강의\n"
     ]
    }
   ],
   "source": [
    "new_note_2 = Note(\"파이썬 강의\")\n",
    "print(new_note_2)"
   ]
  },
  {
   "cell_type": "code",
   "execution_count": 19,
   "id": "f077b4f9",
   "metadata": {},
   "outputs": [],
   "source": [
    "my_notebook.add_note(new_note)"
   ]
  },
  {
   "cell_type": "code",
   "execution_count": 20,
   "id": "746b890b",
   "metadata": {},
   "outputs": [],
   "source": [
    "my_notebook.add_note(new_note_2,100)"
   ]
  },
  {
   "cell_type": "code",
   "execution_count": 21,
   "id": "f7e8945e",
   "metadata": {},
   "outputs": [
    {
     "data": {
      "text/plain": [
       "2"
      ]
     },
     "execution_count": 21,
     "metadata": {},
     "output_type": "execute_result"
    }
   ],
   "source": [
    "my_notebook.get_number_of_pages()"
   ]
  },
  {
   "cell_type": "code",
   "execution_count": 22,
   "id": "875a8a19",
   "metadata": {},
   "outputs": [
    {
     "data": {
      "text/plain": [
       "{1: <__main__.Note at 0x105d2f970>, 100: <__main__.Note at 0x105d34400>}"
      ]
     },
     "execution_count": 22,
     "metadata": {},
     "output_type": "execute_result"
    }
   ],
   "source": [
    "my_notebook.notes"
   ]
  },
  {
   "cell_type": "code",
   "execution_count": 23,
   "id": "39704777",
   "metadata": {},
   "outputs": [],
   "source": [
    "my_notebook.notes[2] = Note(\"안녕\")"
   ]
  },
  {
   "cell_type": "code",
   "execution_count": 24,
   "id": "b79b6577",
   "metadata": {},
   "outputs": [
    {
     "data": {
      "text/plain": [
       "{1: <__main__.Note at 0x105d2f970>,\n",
       " 100: <__main__.Note at 0x105d34400>,\n",
       " 2: <__main__.Note at 0x105d4a850>}"
      ]
     },
     "execution_count": 24,
     "metadata": {},
     "output_type": "execute_result"
    }
   ],
   "source": [
    "my_notebook.notes"
   ]
  },
  {
   "cell_type": "markdown",
   "id": "b671804c",
   "metadata": {},
   "source": [
    "## OOP characteristics\n",
    "### 객체 지향 언어의 특징 : 실제 세상을 모델링함\n",
    "- Inheritance : 상속\n",
    "- Polymorphism : 다형성\n",
    "- Visibility : 가시성"
   ]
  },
  {
   "cell_type": "markdown",
   "id": "cd7ebd0c",
   "metadata": {},
   "source": [
    "## Inheritance : 상속\n",
    "- 부모클래스로부터 속성과 Method를 물려받은 자식 클래스를 생성하는 것\n"
   ]
  },
  {
   "cell_type": "code",
   "execution_count": 33,
   "id": "c735e5e2",
   "metadata": {},
   "outputs": [
    {
     "name": "stdout",
     "output_type": "stream",
     "text": [
      "제 이름은 Sungchul 입니다. 나이는 35입니다. 성별은 male 입니다.\n"
     ]
    }
   ],
   "source": [
    "class Person(object):\n",
    "    def __init__(self, name, age, gender):\n",
    "        self.name = name\n",
    "        self.age = age\n",
    "        self.gender = gender\n",
    "    \n",
    "    def about_me(self): # Method 선언\n",
    "        print(f\"제 이름은 {self.name} 입니다. 나이는 {self.age}입니다. 성별은 {self.gender} 입니다.\")\n",
    "    def __str__(self):\n",
    "        return f\"제 이름은 {self.name} 입니다. 나이는 {self.age}입니다. 성별은 {self.gender} 입니다.\"\n",
    "\n",
    "class Korean(Person):\n",
    "    pass\n",
    "\n",
    "first_korean = Korean(\"Sungchul\", 35, \"male\")\n",
    "print(first_korean)"
   ]
  },
  {
   "cell_type": "markdown",
   "id": "52c705ad",
   "metadata": {},
   "source": [
    "### super() 란 무엇일까??\n",
    "- 상속관계에서 상속의 대상인 부모 클래스를 호출하는 함수이다.\n",
    "- self와 비슷한데, self가 자기자신 이라면 super는 부모를 의미"
   ]
  },
  {
   "cell_type": "markdown",
   "id": "53c5e60e",
   "metadata": {},
   "source": [
    "#### 공식문서 코드\n",
    "<code>\n",
    "Init signature: super(self, /, *args, **kwargs)\n",
    "Docstring:     \n",
    "super() -> same as super(__class__, <first argument>)\n",
    "super(type) -> unbound super object\n",
    "super(type, obj) -> bound super object; requires isinstance(obj, type)\n",
    "super(type, type2) -> bound super object; requires issubclass(type2, type)\n",
    "Typical use to call a cooperative superclass method:\n",
    "class C(B):\n",
    "    def meth(self, arg):\n",
    "        super().meth(arg)\n",
    "This works for class methods too:\n",
    "class C(B):\n",
    "    @classmethod\n",
    "    def cmeth(cls, arg):\n",
    "        super().cmeth(arg)\n",
    "</code>"
   ]
  },
  {
   "cell_type": "code",
   "execution_count": 34,
   "id": "e60a204c",
   "metadata": {},
   "outputs": [],
   "source": [
    "class Employee(Person):\n",
    "    def __init__(self, name, age, gender, salary, hire_date):\n",
    "        super().__init__(name, age, gender)# 부모 객체 사용\n",
    "        self.salary = salary\n",
    "        self.hire_date = hire_date # 속성 값 추가\n",
    "    \n",
    "    def do_work(self): # 새로운 메서드 추가\n",
    "        print(\"열심히 일을 합니다.\")\n",
    "    \n",
    "    def about_me(self): # 부모 클래스 함수 재정의\n",
    "        super().about_me() # 부모 클래스 함수 사용\n",
    "        print(f\"제 급여는 {self.salary}원이며, 입사일은 {self.hire_date}입니다.\")"
   ]
  },
  {
   "cell_type": "code",
   "execution_count": 35,
   "id": "5aaeda8e",
   "metadata": {},
   "outputs": [
    {
     "name": "stdout",
     "output_type": "stream",
     "text": [
      "제 이름은 Daeho 입니다. 나이는 34입니다. 성별은 Male 입니다.\n",
      "제 급여는 300000원이며, 입사일은 2012/03/01입니다.\n"
     ]
    }
   ],
   "source": [
    "myPerson = Person(\"john\", 34, \"male\")\n",
    "myEmployee = Employee(\"Daeho\", 34, \"Male\", 300000, \"2012/03/01\")\n",
    "\n",
    "# myPerson.about_me()\n",
    "myEmployee.about_me()"
   ]
  },
  {
   "cell_type": "markdown",
   "id": "163f48cf",
   "metadata": {},
   "source": [
    "## Polymorphism : 다형성\n",
    "- 같은 이름 메소드를 __내부로직__ 을 다르게 작성\n",
    "- Dynamic Typing 특성으로 인해 파이썬에서는 같은 부모클래스의 상속에서 주로 발생함\n",
    "- 중요한 OOP의 개념이나 너무 깊이 알 필요는 없다\n",
    "- 개념적으로 같은일을 하는데 세부 구현이 다를 때가 있다."
   ]
  },
  {
   "cell_type": "code",
   "execution_count": 36,
   "id": "417e7ea4",
   "metadata": {},
   "outputs": [
    {
     "name": "stdout",
     "output_type": "stream",
     "text": [
      "Missy : Meow!\n",
      "Mr.Mistoffeless : Meow!\n",
      "Lassie : Woof! Woof!\n"
     ]
    }
   ],
   "source": [
    "# Polymorphism code\n",
    "\n",
    "class Animal:\n",
    "    def __init__(self, name): # Constructor of the class\n",
    "        self.name = name\n",
    "    \n",
    "    def talk(self): # Abstract method, defined by convention only\n",
    "        raise NotImplementedError(\"Subclass must implement abstract method\")\n",
    "\n",
    "class Cat(Animal):\n",
    "    def talk(self):\n",
    "        return \"Meow!\"\n",
    "\n",
    "class Dog(Animal):\n",
    "    def talk(self):\n",
    "        return \"Woof! Woof!\"\n",
    "\n",
    "animals = [Cat('Missy'),\n",
    "           Cat('Mr.Mistoffeless'),\n",
    "           Dog('Lassie')]\n",
    "\n",
    "for animal in animals:\n",
    "    print(animal.name, ':', animal.talk())\n",
    "    "
   ]
  },
  {
   "cell_type": "markdown",
   "id": "317baf6f",
   "metadata": {},
   "source": [
    "## Visibility : 가시성\n",
    "- 객체의 정보를 볼 수 있는 레벨을 조절하는 것\n",
    "- __누구나 객체 안에 있는 모든 변수를 볼 필요가 없다__\n",
    "    1. 객체를 사용하는 사용자가 임의로 정보 수정 \n",
    "    2. 필요 없는 정보에는 접근 할 필요가 없음\n",
    "    3. 상업적인 제품일시 소스의 보호  \n",
    "    \n",
    "> #### Encapsulation(알면 좋은 상식)\n",
    "    - 캡슐화 또는 정보은닉(Information Hiding)\n",
    "    - Class를 설계할 때, class간 간섭/정보공유의 최소화\n",
    "    - 예시) 심판(클래스)이 축구선수(클래스)의 가족정보를 알 필요가 없다.\n",
    "    - 캡슐을 던지듯, 인터페이스만 알아서 써야함    "
   ]
  },
  {
   "cell_type": "markdown",
   "id": "f4b9213a",
   "metadata": {},
   "source": [
    "### Visibility example 1\n",
    "- Product 객체를 Inventory 객체에 추가\n",
    "- Inventory에는 오직 Product 객체만 들어감\n",
    "- Inventory에 Product가 몇 개인지 확인이 필요\n",
    "- Inventory에 Product items는 직접 접근이 불가"
   ]
  },
  {
   "cell_type": "markdown",
   "id": "f146d0e6",
   "metadata": {},
   "source": [
    "### metohd 앞에 under bar 두개 \"__\" 를 넣으면 접근하지 못한다"
   ]
  },
  {
   "cell_type": "markdown",
   "id": "dba68dc0",
   "metadata": {},
   "source": [
    "#### Underbar가 없을 때"
   ]
  },
  {
   "cell_type": "code",
   "execution_count": 41,
   "id": "170e8c3f",
   "metadata": {},
   "outputs": [],
   "source": [
    "class Product(object):\n",
    "    pass\n",
    "\n",
    "class Inventory(object):\n",
    "    def __init__(self):\n",
    "        self.items = [] \n",
    "        self.test = \"abc\"\n",
    "        \n",
    "    def add_new_item(self, product):\n",
    "        if type(product == Product):\n",
    "            self.items.append(product)\n",
    "            print(\"new item added\")\n",
    "        else:\n",
    "            raise ValueError(\"Invalid Item\")\n",
    "    \n",
    "    def get_number_of_items(self):\n",
    "        return len(self.items)"
   ]
  },
  {
   "cell_type": "code",
   "execution_count": 42,
   "id": "de6d7f4f",
   "metadata": {},
   "outputs": [
    {
     "name": "stdout",
     "output_type": "stream",
     "text": [
      "new item added\n",
      "new item added\n"
     ]
    },
    {
     "data": {
      "text/plain": [
       "<__main__.Inventory at 0x106e8faf0>"
      ]
     },
     "execution_count": 42,
     "metadata": {},
     "output_type": "execute_result"
    }
   ],
   "source": [
    "my_inventory = Inventory()\n",
    "my_inventory.add_new_item(Product())\n",
    "my_inventory.add_new_item(Product())\n",
    "my_inventory"
   ]
  },
  {
   "cell_type": "code",
   "execution_count": 43,
   "id": "7ca9c52d",
   "metadata": {},
   "outputs": [],
   "source": [
    "my_inventory.items.append(\"abc\")\n",
    "my_inventory.items.append(\"abc\")\n",
    "my_inventory.items.append(\"abc\")\n",
    "my_inventory.items.append(\"abc\")"
   ]
  },
  {
   "cell_type": "markdown",
   "id": "959bb860",
   "metadata": {},
   "source": [
    "#### 마음대로 items에 접근이 가능하다"
   ]
  },
  {
   "cell_type": "code",
   "execution_count": 44,
   "id": "b41fdc8b",
   "metadata": {
    "scrolled": true
   },
   "outputs": [
    {
     "data": {
      "text/plain": [
       "[<__main__.Product at 0x106e8fcd0>,\n",
       " <__main__.Product at 0x106e933d0>,\n",
       " 'abc',\n",
       " 'abc',\n",
       " 'abc',\n",
       " 'abc']"
      ]
     },
     "execution_count": 44,
     "metadata": {},
     "output_type": "execute_result"
    }
   ],
   "source": [
    "my_inventory.items"
   ]
  },
  {
   "cell_type": "markdown",
   "id": "d88210f1",
   "metadata": {},
   "source": [
    "#### Underbar가 있을 때"
   ]
  },
  {
   "cell_type": "code",
   "execution_count": 45,
   "id": "573dffa1",
   "metadata": {},
   "outputs": [],
   "source": [
    "class Product(object):\n",
    "    pass\n",
    "\n",
    "class Inventory(object):\n",
    "    def __init__(self):\n",
    "        self.__items = [] # Private 변수로 선언 타 객체가 접근 불가\n",
    "        self.test = \"abc\"\n",
    "        \n",
    "    def add_new_item(self, product):\n",
    "        if type(product == Product):\n",
    "            self.__items.append(product)\n",
    "            print(\"new item added\")\n",
    "        else:\n",
    "            raise ValueError(\"Invalid Item\")\n",
    "    \n",
    "    def get_number_of_items(self):\n",
    "        return len(self.__items)"
   ]
  },
  {
   "cell_type": "code",
   "execution_count": 46,
   "id": "7d3862c1",
   "metadata": {
    "scrolled": true
   },
   "outputs": [
    {
     "name": "stdout",
     "output_type": "stream",
     "text": [
      "new item added\n",
      "new item added\n"
     ]
    },
    {
     "data": {
      "text/plain": [
       "<__main__.Inventory at 0x106e97160>"
      ]
     },
     "execution_count": 46,
     "metadata": {},
     "output_type": "execute_result"
    }
   ],
   "source": [
    "my_inventory = Inventory()\n",
    "my_inventory.add_new_item(Product())\n",
    "my_inventory.add_new_item(Product())\n",
    "my_inventory"
   ]
  },
  {
   "cell_type": "markdown",
   "id": "9f63fe65",
   "metadata": {},
   "source": [
    "#### 접근을 못하게 막힘"
   ]
  },
  {
   "cell_type": "code",
   "execution_count": 47,
   "id": "102dce5e",
   "metadata": {
    "scrolled": true
   },
   "outputs": [
    {
     "ename": "AttributeError",
     "evalue": "'Inventory' object has no attribute '__items'",
     "output_type": "error",
     "traceback": [
      "\u001b[0;31m---------------------------------------------------------------------------\u001b[0m",
      "\u001b[0;31mAttributeError\u001b[0m                            Traceback (most recent call last)",
      "\u001b[0;32m/var/folders/3b/rtm0n0l56yd2mbcz2vh1106r0000gn/T/ipykernel_6706/672037328.py\u001b[0m in \u001b[0;36m<module>\u001b[0;34m\u001b[0m\n\u001b[0;32m----> 1\u001b[0;31m \u001b[0mmy_inventory\u001b[0m\u001b[0;34m.\u001b[0m\u001b[0m__items\u001b[0m\u001b[0;34m\u001b[0m\u001b[0;34m\u001b[0m\u001b[0m\n\u001b[0m",
      "\u001b[0;31mAttributeError\u001b[0m: 'Inventory' object has no attribute '__items'"
     ]
    }
   ],
   "source": [
    "my_inventory.__items"
   ]
  },
  {
   "cell_type": "markdown",
   "id": "329ad3da",
   "metadata": {},
   "source": [
    "#### 하지만 누군가는 접근을 해야할 경우가 있다(관리자 등)"
   ]
  },
  {
   "cell_type": "markdown",
   "id": "c9ec3d99",
   "metadata": {},
   "source": [
    "### Visibility example 2\n",
    "- Product 객체를 Inventory 객체에 추가\n",
    "- Inventory에는 오직 Product 객체만 들어감\n",
    "- Inventory에 Product가 몇 개인지 확인이 필요\n",
    "- Inventory에 Product __items 접근 허용__"
   ]
  },
  {
   "cell_type": "code",
   "execution_count": 52,
   "id": "4bff6f3b",
   "metadata": {},
   "outputs": [],
   "source": [
    "class Inventory(object):\n",
    "    def __init__(self):\n",
    "        self.__items = [] \n",
    "    \n",
    "    @property # property decorator 숨겨진 변수를 반환하게 해줌\n",
    "    def items(self): \n",
    "        return self.__items # 실제로는 copy를 해줘서 반환하는게 원칙\n",
    "    \n",
    "    def add_new_item(self, product):\n",
    "        if type(product == Product):\n",
    "            self.__items.append(product)\n",
    "            print(\"new item added\")\n",
    "        else:\n",
    "            raise ValueError(\"Invalid Item\")\n",
    "    \n",
    "    def get_number_of_items(self):\n",
    "        return len(self.__items)"
   ]
  },
  {
   "cell_type": "code",
   "execution_count": 53,
   "id": "be0360f2",
   "metadata": {},
   "outputs": [
    {
     "name": "stdout",
     "output_type": "stream",
     "text": [
      "new item added\n",
      "new item added\n",
      "2\n"
     ]
    }
   ],
   "source": [
    "my_inventory = Inventory()\n",
    "my_inventory.add_new_item(Product())\n",
    "my_inventory.add_new_item(Product())\n",
    "print(my_inventory.get_number_of_items())"
   ]
  },
  {
   "cell_type": "code",
   "execution_count": 56,
   "id": "b986d9b0",
   "metadata": {
    "collapsed": true
   },
   "outputs": [
    {
     "ename": "AttributeError",
     "evalue": "'Inventory' object has no attribute '__items'",
     "output_type": "error",
     "traceback": [
      "\u001b[0;31m---------------------------------------------------------------------------\u001b[0m",
      "\u001b[0;31mAttributeError\u001b[0m                            Traceback (most recent call last)",
      "\u001b[0;32m/var/folders/3b/rtm0n0l56yd2mbcz2vh1106r0000gn/T/ipykernel_6706/672037328.py\u001b[0m in \u001b[0;36m<module>\u001b[0;34m\u001b[0m\n\u001b[0;32m----> 1\u001b[0;31m \u001b[0mmy_inventory\u001b[0m\u001b[0;34m.\u001b[0m\u001b[0m__items\u001b[0m\u001b[0;34m\u001b[0m\u001b[0;34m\u001b[0m\u001b[0m\n\u001b[0m",
      "\u001b[0;31mAttributeError\u001b[0m: 'Inventory' object has no attribute '__items'"
     ]
    }
   ],
   "source": [
    "my_inventory.__items"
   ]
  },
  {
   "cell_type": "code",
   "execution_count": 54,
   "id": "6c72e279",
   "metadata": {},
   "outputs": [
    {
     "name": "stdout",
     "output_type": "stream",
     "text": [
      "3\n",
      "None\n"
     ]
    }
   ],
   "source": [
    "items = my_inventory.items # Property decorator로 함수를 변수처럼 호출\n",
    "items.append(Product())\n",
    "print(print(my_inventory.get_number_of_items()))"
   ]
  },
  {
   "cell_type": "markdown",
   "id": "58f0e91e",
   "metadata": {},
   "source": [
    "## decorator"
   ]
  },
  {
   "cell_type": "markdown",
   "id": "4d5dc499",
   "metadata": {},
   "source": [
    "#### decorator를 이해하기 위한 개념들\n",
    "- first-class objects\n",
    "- inner function\n",
    "- decorator"
   ]
  },
  {
   "cell_type": "markdown",
   "id": "0346e946",
   "metadata": {},
   "source": [
    "### First-class objects\n",
    "- 일등함수 or 일급객체\n",
    "- 변수나 데이터 구조에 할당이 가능한 객체\n",
    "- 파라메터로 전달이 가능 + 리턴 값으로 사용\n",
    "- 파이썬의 함수는 일급함수다(즉 파라메터나, return으로 쓰일 수 있다)"
   ]
  },
  {
   "cell_type": "code",
   "execution_count": 59,
   "id": "58072f1b",
   "metadata": {},
   "outputs": [],
   "source": [
    "def square(x):\n",
    "    return x*x\n",
    "\n",
    "def cube(x):\n",
    "    return x*x*x\n",
    "\n",
    "# 두개 함수를 그때 그때 필요에 따라 쓸 수 있다\n",
    "def formula(method, argument_list):\n",
    "    return [method(value) for value in argument_list ]"
   ]
  },
  {
   "cell_type": "markdown",
   "id": "241feb86",
   "metadata": {},
   "source": [
    "### Inner function\n",
    "- 함수 내에 또 다른 함수가 존재\n",
    "- closures : inner function을 return값으로 반환"
   ]
  },
  {
   "cell_type": "code",
   "execution_count": 62,
   "id": "4b6e9de4",
   "metadata": {},
   "outputs": [
    {
     "name": "stdout",
     "output_type": "stream",
     "text": [
      "Hello, Python\n"
     ]
    }
   ],
   "source": [
    "def print_msg(msg):\n",
    "    def printer():\n",
    "        print(msg)\n",
    "    return printer # closures -> 1급함수이기 때문에 return이 가능\n",
    "\n",
    "another = print_msg(\"Hello, Python\")\n",
    "another()"
   ]
  },
  {
   "cell_type": "markdown",
   "id": "e47e3119",
   "metadata": {},
   "source": [
    "#### closures 활용\n",
    "- 같은 목적이지만 다른 함수를 활용 가능(polymophsim과 유사)"
   ]
  },
  {
   "cell_type": "code",
   "execution_count": 70,
   "id": "f4486059",
   "metadata": {},
   "outputs": [
    {
     "name": "stdout",
     "output_type": "stream",
     "text": [
      "<function tag_func.<locals>.inner_func at 0x107530940>\n",
      "<function tag_func.<locals>.inner_func at 0x107530790>\n"
     ]
    }
   ],
   "source": [
    "def tag_func(tag, text):\n",
    "    text = text\n",
    "    tag = tag\n",
    "    \n",
    "    def inner_func():\n",
    "        return '<{0}>{1}<{0}>'.format(tag, text)\n",
    "    return inner_func\n",
    "\n",
    "h1_func = tag_func('title', 'This is Python Class')\n",
    "p_func = tag_func('P', 'Data Academy')\n",
    "\n",
    "print(h1_func)\n",
    "print(p_func)"
   ]
  },
  {
   "cell_type": "markdown",
   "id": "47347547",
   "metadata": {},
   "source": [
    "### decorator function\n",
    "- 복잡한 closure 함수를 간단하게 해줌"
   ]
  },
  {
   "cell_type": "code",
   "execution_count": 86,
   "id": "2eed903c",
   "metadata": {},
   "outputs": [
    {
     "name": "stdout",
     "output_type": "stream",
     "text": [
      "******************************\n",
      "change args\n",
      "******************************\n"
     ]
    }
   ],
   "source": [
    "def star(func):\n",
    "    def inner(*args, **kwargs):\n",
    "        print('*'*30)\n",
    "        func(*args, **kwargs)\n",
    "        print('*'*30)\n",
    "    return inner\n",
    "\n",
    "@star\n",
    "def printer(msg):\n",
    "    print(msg)\n",
    "printer(\"Hello\")"
   ]
  },
  {
   "cell_type": "code",
   "execution_count": 87,
   "id": "cef85a74",
   "metadata": {},
   "outputs": [
    {
     "name": "stdout",
     "output_type": "stream",
     "text": [
      "##############################\n",
      "Use two decorator\n",
      "##############################\n"
     ]
    }
   ],
   "source": [
    "# arg를 수정가능\n",
    "def star(func):\n",
    "    def inner(*args, **kwargs):\n",
    "        print(args[1]*30)\n",
    "        func(*args, **kwargs)\n",
    "        print(args[1]*30)\n",
    "    return inner\n",
    "\n",
    "@star\n",
    "def printer(msg, mark): \n",
    "    print(msg)\n",
    "printer(\"change args\",\"#\")"
   ]
  },
  {
   "cell_type": "code",
   "execution_count": 88,
   "id": "d82c4994",
   "metadata": {},
   "outputs": [
    {
     "name": "stdout",
     "output_type": "stream",
     "text": [
      "##############################\n",
      "******************************\n",
      "Use two decorator\n",
      "******************************\n",
      "##############################\n"
     ]
    }
   ],
   "source": [
    "# 2개 이상도 사용 가능 하다\n",
    "def star(func):\n",
    "    def inner(*args, **kwargs):\n",
    "        print('*'*30)\n",
    "        func(*args, **kwargs)\n",
    "        print('*'*30)\n",
    "    return inner\n",
    "\n",
    "def percent(func):\n",
    "    def inner(*args, **kwargs):\n",
    "        print('#'*30)\n",
    "        func(*args, **kwargs)\n",
    "        print('#'*30)\n",
    "    return inner\n",
    "\n",
    "@percent\n",
    "@star\n",
    "def printer(msg): \n",
    "    print(msg)\n",
    "printer(\"Use two decorator\")"
   ]
  },
  {
   "cell_type": "code",
   "execution_count": 101,
   "id": "baeafe68",
   "metadata": {},
   "outputs": [
    {
     "name": "stdout",
     "output_type": "stream",
     "text": [
      ">>>>> 49\n",
      ">>>>> 2**49\n",
      "562949953421312\n"
     ]
    }
   ],
   "source": [
    "# value를 집어넣을 수 도 있다.\n",
    "\n",
    "def generate_power(exponent): # 2가 들어감\n",
    "    def wrapper(f): # f -> raise_two 함수\n",
    "        def inner(*args): # -> n(=7)\n",
    "            result = f(*args) # 7**2 = 49\n",
    "            print(\">>>>>\", result)\n",
    "            print(\">>>>>\", f\"{exponent}**{result}\")\n",
    "            return exponent**result # 2**49\n",
    "        return inner\n",
    "    return wrapper\n",
    "\n",
    "@generate_power(2)\n",
    "def raise_two(n):\n",
    "    return n**2\n",
    "\n",
    "print(raise_two(7))\n",
    "# print(2**49) >>> 562949953421312"
   ]
  },
  {
   "cell_type": "code",
   "execution_count": 115,
   "id": "7be38f75",
   "metadata": {},
   "outputs": [],
   "source": [
    "class Student:\n",
    "    def __init__(self, name, marks):\n",
    "        self.name = name\n",
    "        self.marks = marks\n",
    "        # self.gotmarks = self.name + 'obtained' + self.marks + 'marks'\n",
    "    \n",
    "    @property \n",
    "    def gotmarks(self):\n",
    "        return self.name + ' obtained ' + self.marks + ' marks'"
   ]
  },
  {
   "cell_type": "code",
   "execution_count": 116,
   "id": "900f86a8",
   "metadata": {},
   "outputs": [
    {
     "data": {
      "text/plain": [
       "'Jack obtained good marks'"
      ]
     },
     "execution_count": 116,
     "metadata": {},
     "output_type": "execute_result"
    }
   ],
   "source": [
    "Jack = Student(\"Jack\", \"good\")\n",
    "Jack.gotmarks"
   ]
  }
 ],
 "metadata": {
  "kernelspec": {
   "display_name": "Python 3 (ipykernel)",
   "language": "python",
   "name": "python3"
  },
  "language_info": {
   "codemirror_mode": {
    "name": "ipython",
    "version": 3
   },
   "file_extension": ".py",
   "mimetype": "text/x-python",
   "name": "python",
   "nbconvert_exporter": "python",
   "pygments_lexer": "ipython3",
   "version": "3.8.11"
  }
 },
 "nbformat": 4,
 "nbformat_minor": 5
}
