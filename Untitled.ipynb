{
 "cells": [
  {
   "cell_type": "code",
   "execution_count": 206,
   "id": "a5b209c6",
   "metadata": {},
   "outputs": [],
   "source": [
    "tags_str = \"sadf;sdef;sdwf;sdff;sddf;\""
   ]
  },
  {
   "cell_type": "code",
   "execution_count": 207,
   "id": "7de0ce8d",
   "metadata": {},
   "outputs": [],
   "source": [
    "tags_str=tags_str.strip()\n",
    "\n",
    "tags_str=tags_str.replace(',',';')\n",
    "tags_list=tags_str.split(';')"
   ]
  },
  {
   "cell_type": "code",
   "execution_count": 208,
   "id": "93aecd03",
   "metadata": {},
   "outputs": [
    {
     "data": {
      "text/plain": [
       "['sadf', 'sdef', 'sdwf', 'sdff', 'sddf', '']"
      ]
     },
     "execution_count": 208,
     "metadata": {},
     "output_type": "execute_result"
    }
   ],
   "source": [
    "tags_list"
   ]
  },
  {
   "cell_type": "code",
   "execution_count": null,
   "id": "ad6320d2",
   "metadata": {},
   "outputs": [],
   "source": []
  }
 ],
 "metadata": {
  "kernelspec": {
   "display_name": "Python 3 (ipykernel)",
   "language": "python",
   "name": "python3"
  },
  "language_info": {
   "codemirror_mode": {
    "name": "ipython",
    "version": 3
   },
   "file_extension": ".py",
   "mimetype": "text/x-python",
   "name": "python",
   "nbconvert_exporter": "python",
   "pygments_lexer": "ipython3",
   "version": "3.8.11"
  }
 },
 "nbformat": 4,
 "nbformat_minor": 5
}
