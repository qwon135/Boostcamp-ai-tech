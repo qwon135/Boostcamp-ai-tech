{
 "cells": [
  {
   "cell_type": "code",
   "execution_count": 206,
   "id": "a5b209c6",
   "metadata": {},
   "outputs": [],
   "source": [
    "tags_str = \"sadf;sdef;sdwf;sdff;sddf;\""
   ]
  },
  {
   "cell_type": "code",
   "execution_count": 207,
   "id": "7de0ce8d",
   "metadata": {},
   "outputs": [],
   "source": [
    "tags_str=tags_str.strip()\n",
    "\n",
    "tags_str=tags_str.replace(',',';')\n",
    "tags_list=tags_str.split(';')"
   ]
  },
  {
   "cell_type": "markdown",
   "id": "8cde4a2e",
   "metadata": {},
   "source": [
    "tags_list"
   ]
  },
  {
   "cell_type": "markdown",
   "id": "6cee5182",
   "metadata": {},
   "source": [
    "$$\\displaystyle\\prod_{u\\in U}p(>u|\\theta) = \\displaystyle\\prod{(u,i,j)\\in D_s}p(i>v_u j) = \\displaystyle\\prod_{(u,i,j)\\in D_s} \\sigma\\Big(\\hat{x_{uij}}(\\theta)\\Big)$$"
   ]
  },
  {
   "cell_type": "code",
   "execution_count": 209,
   "id": "614ba824",
   "metadata": {},
   "outputs": [
    {
     "ename": "SyntaxError",
     "evalue": "invalid syntax (3768651245.py, line 1)",
     "output_type": "error",
     "traceback": [
      "\u001b[0;36m  File \u001b[0;32m\"/var/folders/3b/rtm0n0l56yd2mbcz2vh1106r0000gn/T/ipykernel_38509/3768651245.py\"\u001b[0;36m, line \u001b[0;32m1\u001b[0m\n\u001b[0;31m    $$\\displaystyle\\prod_{u\\in U}p(>_u|\\theta) =  \\displaystyle\\prod_{(u,i,j)\\in D_s}p(i>v_u j) = \\displaystyle\\prod_{(u,i,j)\\in D_s} \\sigma\\Big(\\hat{x_{uij}}(\\theta)\\Big)$$\u001b[0m\n\u001b[0m    ^\u001b[0m\n\u001b[0;31mSyntaxError\u001b[0m\u001b[0;31m:\u001b[0m invalid syntax\n"
     ]
    }
   ],
   "source": [
    "$$\\displaystyle\\prod_{u\\in U}p(>_u|\\theta) =  \\displaystyle\\prod_{(u,i,j)\\in D_s}p(i>v_u j) = \\displaystyle\\prod_{(u,i,j)\\in D_s} \\sigma\\Big(\\hat{x_{uij}}(\\theta)\\Big)$$\n"
   ]
  },
  {
   "cell_type": "markdown",
   "id": "6566884e",
   "metadata": {},
   "source": [
    "$$\\displaystyle\\prod_{u\\in U}p(>_u|\\theta) =  \\displaystyle\\prod_{(u,i,j)\\in D_s}p(i>v_u j) = \\displaystyle\\prod_{(u,i,j)\\in D_s} \\sigma\\Big(\\hat{x_{uij}}(\\theta)\\Big)$$\n"
   ]
  },
  {
   "cell_type": "markdown",
   "id": "7c1c3432",
   "metadata": {},
   "source": [
    "$$\\displaystyle\\min_{P,Q}\\displaystyle\\sum_{\\text{observed}\\ r_{u,i}}(r_{u,i} - p^T_uq_i)^2 + \\lambda(||p_u||_2^2+||q_i||_2^2)$$"
   ]
  },
  {
   "cell_type": "code",
   "execution_count": null,
   "id": "56a432d1",
   "metadata": {},
   "outputs": [],
   "source": []
  },
  {
   "cell_type": "markdown",
   "id": "6153aea8",
   "metadata": {},
   "source": [
    "$$\\displaystyle\\min_{P,Q}\\displaystyle\\sum_{\\text{observed}\\ r_{u,i}}(r_{u,i} - p^T_uq_i)^2 + \\lambda(||p_u||_2^2+||q_i||_2^2)$$"
   ]
  },
  {
   "cell_type": "markdown",
   "id": "a3e86b54",
   "metadata": {},
   "source": [
    "이용자의 체류 시간은 같아도 취득하는 정보량이 다를 수 있기&nbsp;때문에, 콘텐츠가 얼마나 열심히 읽혔는지를 체류 시간으로 바로&nbsp;가늠하기는 어렵다. 예를 들어 본문 500자, 이미지 1개인 콘텐츠와&nbsp;본문 1,000자, 이미지 5개인 콘텐츠의 평균 체류 시간이 모두&nbsp;50초일 때, 이용자들이 두 콘텐츠를 동일한 수준으로 열심히 봤다고&nbsp;하긴 어렵다. 모바일 다음의 뉴스/연예 스포츠 기사의 본문 길이에 따른 체류 시간 중앙값을 플로팅(plotting)한 [그림 3]을 살펴 보면,&nbsp;콘텐츠의 정보량을 나타내는 값의 하나인 본문 길이가 체류 시간과&nbsp;상관 관계에 있음을 알 수 있다. 이러한 경향성에 부합할 수 있도록&nbsp;콘텐츠에 포함된 정보량에 따른 기대 체류 시간과 특정 콘텐츠 체류시간을 동시에 고려할 수 있는 새로운 지표로 개발된 것이 DRI이다.&nbsp;DRI는 기대 체류 시간 대비 해당 콘텐츠의 체류 시간의 상대적인&nbsp;크기로 정의된다. 다시 말해, \"상대적인 체류 시간\"을 통해 사용자의&nbsp;본문 선호도를 측정한다."
   ]
  },
  {
   "cell_type": "markdown",
   "id": "7f0e6cb2",
   "metadata": {},
   "source": [
    "DRI는 콘텐츠가 본문에서 제목에서 예상되던 바를 충족시키지 못한&nbsp;경우를 발견해 낼 수 있다. [그림 4]는 사용자들이 제목과 본문의&nbsp;불일치를 체감한 경우가 많은 기사의 예이다. 야구 관련 기사로&nbsp;예상하고 클릭을 했으나, 실제 본문 내용은 e스포츠라서 이탈하는&nbsp;상황이 많이 발생하는 것으로 보이는 뉴스 기사이다. 이 기사의&nbsp;DRI는 -97%로 매우 낮게 나타나는 것을 알 수 있다."
   ]
  },
  {
   "cell_type": "markdown",
   "id": "755c9ce3",
   "metadata": {},
   "source": [
    "기존 루빅스 추천의 기반이었던 CTR에 DRI가 추가된 루빅스&nbsp;알고리듬을 소개하고자 한다. DRI를 CTR과 앙상블(ensemble)하여,&nbsp;DRI의 총합을 최대화하도록 목적함수(objective function)가&nbsp;정의되었다. CTR 기반, DRI 기반, DRI-CTR 앙상블 기반으로 사용자&nbsp;그룹 맞춤 추천을 한 경우는 각각의 특성은 [표 2]와 같이 정리된다."
   ]
  },
  {
   "cell_type": "markdown",
   "id": "fc0a7774",
   "metadata": {},
   "source": [
    "DRI가 랭킹 요소에 추가되면서, 끌리는 제목을 가진 기사들이&nbsp;상대적으로 적게 추천되기 때문에 '1인당 평균 페이지뷰(pageview)'가 소폭 하락했다. 그러나, 사용자들이 보다 열심히 읽을만한 기사를 제공해 주기 때문에 \"1뷰(view) 당 평균 체류 시간\"이&nbsp;상승하여, 결과적으로는 '1인당 평균 체류 시간'이 상승했다. DRI-CTR 앙상블 기반 추천 랭킹을 통해, 제목과 본문에 대한 사용자의&nbsp;반응을 모두 기사 추천에 반영할 수 있게 되었으며, 더불어 총 체류시간도 증가하게 되는 것이다."
   ]
  },
  {
   "cell_type": "code",
   "execution_count": null,
   "id": "d41992f7",
   "metadata": {},
   "outputs": [],
   "source": []
  }
 ],
 "metadata": {
  "kernelspec": {
   "display_name": "Python 3 (ipykernel)",
   "language": "python",
   "name": "python3"
  },
  "language_info": {
   "codemirror_mode": {
    "name": "ipython",
    "version": 3
   },
   "file_extension": ".py",
   "mimetype": "text/x-python",
   "name": "python",
   "nbconvert_exporter": "python",
   "pygments_lexer": "ipython3",
   "version": "3.8.11"
  }
 },
 "nbformat": 4,
 "nbformat_minor": 5
}
