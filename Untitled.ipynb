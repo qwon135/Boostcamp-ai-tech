{
 "cells": [
  {
   "cell_type": "code",
   "execution_count": 2,
   "id": "032ce9d0",
   "metadata": {},
   "outputs": [],
   "source": [
    "a = {}"
   ]
  },
  {
   "cell_type": "code",
   "execution_count": 3,
   "id": "2c267825",
   "metadata": {},
   "outputs": [],
   "source": [
    "a[1] = '12'"
   ]
  },
  {
   "cell_type": "code",
   "execution_count": 4,
   "id": "a8fcb7e0",
   "metadata": {},
   "outputs": [],
   "source": [
    "a[1] = '32'"
   ]
  },
  {
   "cell_type": "code",
   "execution_count": 5,
   "id": "382d383a",
   "metadata": {},
   "outputs": [
    {
     "data": {
      "text/plain": [
       "'32'"
      ]
     },
     "execution_count": 5,
     "metadata": {},
     "output_type": "execute_result"
    }
   ],
   "source": [
    "a[1]"
   ]
  },
  {
   "cell_type": "code",
   "execution_count": null,
   "id": "93acc533",
   "metadata": {},
   "outputs": [],
   "source": [
    "            {% for category,posts in categories %}            \n",
    "            <section class=\"card border-0\" style=\"border-color: rgba(255, 246, 246, 0.671);\" >                    \n",
    "                    <div class=\"d-flex row-cols-xl-3 row-cols-lg-2\">\n",
    "                        {% for p in posts %}\n",
    "                        <div class=\"col\">\n",
    "                            <div class=\"recent-post-card card\">\n",
    "                                <!-- 이미지 -->\n",
    "                                <a href=\"{{p.get_absolute_url}}\" class=\"text-decoration-none text-reset\">\n",
    "                                {% if p.head_image %}\n",
    "                                <img class=\"card-img recent-post-img\" src=\"{{p.head_image.url}}\" alt=\"{{p}}head image\"/>\n",
    "                                {% else %}                                                                                    \n",
    "                                {% endif %}\n",
    "                                \n",
    "                                <div class=\"card-body rounded\">\n",
    "                                    <h3 class=\"recent-post-category\">{{ category }}</h3>\n",
    "                                    <h5 class=\"card-title recent-post-title\">{{p.title}}</h5>\n",
    "                                    <p class=\"recent-post-content\">{{p.get_content}}</p>\n",
    "                                    <div class=\"recent-post-created\">{{p.created_at|date:'Y-m-d H:i'}}</div>                                    \n",
    "                                {% if p.tags.exists %}    \n",
    "                                    <div class=\"recent-post-tag me-auto d-flex flex-row\">                                              \n",
    "                                        {% for tag in p.tags.iterator %}\n",
    "                                            <a href=\"{{tag.get_absolute_url}}\" class=\"text-decoration-none\">\n",
    "                                                <h5 class=\"recent-post-tag\">#{{tag}} &nbsp;</h5>\n",
    "                                        {% endfor %}\n",
    "                                    </div>\n",
    "                                                                    \n",
    "                                {% endif %}                                                                     \n",
    "                                </div>\n",
    "                                </a>\n",
    "                            </div>\n",
    "                            </a>        \n",
    "                        </div>\n",
    "                        {% endfor %}\n",
    "                    </div> \n",
    "            </section>        \n",
    "            {% endfor %}"
   ]
  }
 ],
 "metadata": {
  "kernelspec": {
   "display_name": "Python 3 (ipykernel)",
   "language": "python",
   "name": "python3"
  },
  "language_info": {
   "codemirror_mode": {
    "name": "ipython",
    "version": 3
   },
   "file_extension": ".py",
   "mimetype": "text/x-python",
   "name": "python",
   "nbconvert_exporter": "python",
   "pygments_lexer": "ipython3",
   "version": "3.8.11"
  }
 },
 "nbformat": 4,
 "nbformat_minor": 5
}
