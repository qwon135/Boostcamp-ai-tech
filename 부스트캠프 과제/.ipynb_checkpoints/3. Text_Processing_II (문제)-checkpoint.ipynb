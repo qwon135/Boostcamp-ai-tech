{
 "cells": [
  {
   "cell_type": "markdown",
   "metadata": {
    "id": "btubDX4jN5Ss"
   },
   "source": [
    "# Assignment 3. Text Processing 2\n",
    "---"
   ]
  },
  {
   "cell_type": "markdown",
   "metadata": {
    "id": "S3uPIl2rOYpf"
   },
   "source": [
    "### **개요**\n",
    "본 과제에서는 이전 과제에 이어서 string 다루는 방법을 학습합니다. 다른 자료구조를 필요시에 사용하시면 됩니다. 본 과제에서 풀어야 할 문제는 아래 2가지가 있습니다."
   ]
  },
  {
   "cell_type": "markdown",
   "metadata": {
    "id": "gUJ6hE-eOl2b"
   },
   "source": [
    "**함수 리스트**  \n",
    "\n",
    "\n",
    "\n",
    "- `digits_to_words`\n",
    "\n",
    "    - 인풋으로 받는 스트링에서 숫자만 추출하여 영어 단어로 변환하여 단어들이 연결된 스트링을 반환함. 아래의 요건들을 충족시켜야함\n",
    "    - 반환하는 단어들은 영어 소문자여야함\n",
    "    - 단어들 사이에는 띄어쓰기 한칸이 있음\n",
    "    - 만약 인풋 스트링에서 숫자가 존재하지 않는 다면, 빈 문자열 (empty string)을 반환함\n",
    "\n",
    "    Parameters:\n",
    "```\n",
    "        input_string (string): 영어로 된 대문자, 소문자, 띄어쓰기, 문장부호, 숫자로 이루어진 string\n",
    "        ex - \"Zip Code: 19104\"\n",
    "```\n",
    "    Returns:\n",
    "```\n",
    "        digit_string (string): 위 요건을 충족시킨 숫자만 영어단어로 추출된 string\n",
    "        ex - 'one nine one zero four'\n",
    "```\n",
    "    Examples:\n",
    "```\n",
    "        >>> digits_str1 = \"Zip Code: 19104\"\n",
    "        >>> digits_to_words(digits_str1)\n",
    "        'one nine one zero four'\n",
    "        >>> digits_str2 = \"Pi is 3.1415...\"\n",
    "        >>> digits_to_words(digits_str2)\n",
    "        'three one four one five'  \n",
    "```\n",
    "\n",
    "- `to_camel_case`  \n",
    "\n",
    "    - 컴퓨터 프로그래밍에 많은 명명 규칙이 있지만, 아래의 두 규칙이 특히 흔히 쓰임\n",
    "\n",
    "    - 첫번째로는, 변수 이름을 'underscore'로 나눠준다거나, (ex. under_score_variable)\n",
    "    - 두번째로는, 변수 이름을 대소문자 구별해 구분자 (delimiter)없이 쓰는 경우가 있음.\n",
    "        - 이 두번째의 경우에는 첫번째 단어는 소문자로, 그 후에 오는 단어들의 첫번째 글자들은 대문자로 쓰임 (ex. camelCaseVariable). \n",
    "\n",
    "    - 이 문제에서, 첫번째 규칙 'underscore variable' 에서 두번째 규칙 'camelcase variable'으로 변환함\n",
    "    - 앞과 뒤에 여러개의 'underscore'는 무시해도 된\n",
    "    - 만약 어떤 변수 이름이 underscore로만 이루어 진다면, 빈 문자열만 반환해도 됨\n",
    "\n",
    "    Parameters:\n",
    "```\n",
    "underscore_str (string): underscore case를 따른 스트링\n",
    "```\n",
    "    Returns:\n",
    "```\n",
    "camelcase_str (string): camelcase를 따른 스트링\n",
    "```\n",
    "    Examples:\n",
    "```\n",
    "        >>> underscore_str1 = \"to_camel_case\"\n",
    "        >>> to_camel_case(underscore_str1)\n",
    "        'toCamelCase'\n",
    "        >>> underscore_str2 = \"__EXAMPLE__NAME__\"\n",
    "        >>> to_camel_case(underscore_str2)\n",
    "        'exampleName'\n",
    "```"
   ]
  },
  {
   "cell_type": "markdown",
   "metadata": {
    "id": "KQRzfou0d5kn"
   },
   "source": [
    "\n",
    "\n",
    "---\n",
    "\n"
   ]
  },
  {
   "cell_type": "markdown",
   "metadata": {
    "id": "JV2jw9ykd0J-"
   },
   "source": [
    "### **함수 작성하기**"
   ]
  },
  {
   "cell_type": "code",
   "execution_count": 7,
   "metadata": {
    "id": "icBOiSdXOLlX"
   },
   "outputs": [],
   "source": [
    "#######################\n",
    "# Test Processing II  #\n",
    "#######################\n",
    "\n",
    "\n",
    "def digits_to_words(input_string):    \n",
    "    num_dic = {0 : 'zero', 1 :'one', 2 : 'two', 3 : 'three', 4 : 'four', 5 : 'five', 6 : 'six', 7 : 'seven', 8 : 'eight', 9 : 'nine'}\n",
    "    digit_string = [num_dic[int(i)] for i  in input_string if str.isdigit(i)]                    \n",
    "    \n",
    "    return ' '.join(digit_string)\n",
    "\n",
    "\n",
    "def to_camel_case(underscore_str):\n",
    "    if '_' not in underscore_str:\n",
    "        return underscore_str\n",
    "    \n",
    "    u_str = [i for i in  underscore_str.split('_') if i]\n",
    "    \n",
    "    if not len(u_str):\n",
    "        return ''\n",
    "\n",
    "    camelcase_str = [u_str[0].lower()] + [j.capitalize() for j in u_str[1:]]\n",
    "        \n",
    "    return ''.join(camelcase_str)"
   ]
  },
  {
   "cell_type": "code",
   "execution_count": 8,
   "metadata": {
    "id": "dabSht5LRG13"
   },
   "outputs": [],
   "source": [
    "# -*- coding: utf8 -*-\n",
    "\n",
    "import unittest\n",
    "import random\n",
    "\n",
    "class TestTextProcessing(unittest.TestCase):\n",
    "    def test_digits_to_words(self):\n",
    "        test_str = \"\"\n",
    "        pred = digits_to_words(test_str)\n",
    "        self.assertEqual(pred, \"\")\n",
    "\n",
    "        test_str = \"Zip Code: 19104\"\n",
    "        pred = digits_to_words(test_str)\n",
    "        self.assertEqual(pred, \"one nine one zero four\")\n",
    "\n",
    "        test_str = \"Pi is 3.1415...\"\n",
    "        pred = digits_to_words(test_str)\n",
    "        self.assertEqual(pred, \"three one four one five\")\n",
    "\n",
    "        test_str = \"There are 3 jellies.\"\n",
    "        pred = digits_to_words(test_str)\n",
    "        self.assertEqual(pred, \"three\")\n",
    "\n",
    "        test_str = \"Your room number is 205.\"\n",
    "        pred = digits_to_words(test_str)\n",
    "        self.assertEqual(pred, \"two zero five\")\n",
    "\n",
    "        test_str = \"1588-1588\"\n",
    "        pred = digits_to_words(test_str)\n",
    "        self.assertEqual(pred, \"one five eight eight one five eight eight\")\n",
    "\n",
    "        test_str = \"My number: 010-1234-5678\"\n",
    "        pred = digits_to_words(test_str)\n",
    "        self.assertEqual(pred, \"zero one zero one two three four five six seven eight\")\n",
    "\n",
    "        test_str = \"No digits\"\n",
    "        pred = digits_to_words(test_str)\n",
    "        self.assertEqual(pred, \"\")\n",
    "\n",
    "        test_str = \"No digits here too!?$%\"\n",
    "        pred = digits_to_words(test_str)\n",
    "        self.assertEqual(pred, \"\")\n",
    "\n",
    "    def test_to_camel_case(self):\n",
    "        test_str = \"to_camel_case\"\n",
    "        pred = to_camel_case(test_str)\n",
    "        self.assertEqual(pred, \"toCamelCase\")\n",
    "\n",
    "        test_str = \"__EXAMPLE__NAME__\"\n",
    "        pred = to_camel_case(test_str)\n",
    "        self.assertEqual(pred, \"exampleName\")\n",
    "\n",
    "        test_str = \"alreadyCamel\"\n",
    "        pred = to_camel_case(test_str)\n",
    "        self.assertEqual(pred, \"alreadyCamel\")\n",
    "\n",
    "        test_str = \"_______\"\n",
    "        pred = to_camel_case(test_str)\n",
    "        self.assertEqual(pred, \"\")\n",
    "\n",
    "        test_str = \"\"\n",
    "        pred = to_camel_case(test_str)\n",
    "        self.assertEqual(pred, \"\")\n",
    "\n",
    "        test_str = \"not_Camel_Yet\"\n",
    "        pred = to_camel_case(test_str)\n",
    "        self.assertEqual(pred, \"notCamelYet\")\n",
    "\n",
    "        test_str = \"NOT_CAMEL_Yet\"\n",
    "        pred = to_camel_case(test_str)\n",
    "        self.assertEqual(pred, \"notCamelYet\")\n",
    "\n",
    "        test_str = \"abc_def_ghi\"\n",
    "        pred = to_camel_case(test_str)\n",
    "        self.assertEqual(pred, \"abcDefGhi\")\n",
    "\n",
    "        test_str = \"     \"\n",
    "        pred = to_camel_case(test_str)\n",
    "        self.assertEqual(pred, \"     \")\n",
    "\n",
    "        test_str = \".....\"\n",
    "        pred = to_camel_case(test_str)\n",
    "        self.assertEqual(pred, \".....\")\n"
   ]
  },
  {
   "cell_type": "code",
   "execution_count": 9,
   "metadata": {
    "id": "bBIKhkdtfnXn"
   },
   "outputs": [],
   "source": [
    "ttp = TestTextProcessing()\n",
    "ttp.test_digits_to_words()\n",
    "ttp.test_to_camel_case()"
   ]
  },
  {
   "cell_type": "code",
   "execution_count": null,
   "metadata": {},
   "outputs": [],
   "source": []
  },
  {
   "cell_type": "code",
   "execution_count": null,
   "metadata": {},
   "outputs": [],
   "source": []
  }
 ],
 "metadata": {
  "colab": {
   "collapsed_sections": [],
   "name": "Assignment3_Text_Processing_II.ipynb",
   "provenance": [],
   "toc_visible": true
  },
  "kernelspec": {
   "display_name": "Python 3",
   "language": "python",
   "name": "python3"
  },
  "language_info": {
   "codemirror_mode": {
    "name": "ipython",
    "version": 3
   },
   "file_extension": ".py",
   "mimetype": "text/x-python",
   "name": "python",
   "nbconvert_exporter": "python",
   "pygments_lexer": "ipython3",
   "version": "3.8.8"
  }
 },
 "nbformat": 4,
 "nbformat_minor": 1
}
