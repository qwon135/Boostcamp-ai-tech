{
 "cells": [
  {
   "cell_type": "markdown",
   "id": "22a9e08b",
   "metadata": {},
   "source": [
    "## 행렬\n",
    "- 행렬(Matrix)는 벡터를 원소로 가지는 2차원 배열이다.\n",
    "- 행렬은 row와 column이라는 인덱스를 가진다.\n",
    "- 행렬의 특정 행(열)을 고정하면 행(열)벡터가 된다."
   ]
  },
  {
   "cell_type": "code",
   "execution_count": 2,
   "id": "1cf2d99e",
   "metadata": {},
   "outputs": [],
   "source": [
    "import numpy as np\n",
    "X = np.array([[1,-2,3],\n",
    "                              [7,5,0],\n",
    "                              [-2,-1,2]])"
   ]
  },
  {
   "cell_type": "markdown",
   "id": "2d2b05a0",
   "metadata": {},
   "source": [
    "### 행렬의 이해\n",
    "- 벡터가 공간 상의 한 점이라면, 행렬읜 여러 점을 의미\n",
    "- 행렬의 행벡터 X_i 는 i번째 데이터를 의미\n",
    "- 행렬의 X_ij는 i번째 데이터의 j번째 변수값이라는 의미"
   ]
  },
  {
   "cell_type": "markdown",
   "id": "bc14812d",
   "metadata": {},
   "source": [
    "### 행렬의 연산\n",
    "- 행렬의 모양이 같으면 덧(뺄)셈이 가능\n",
    "- 성분곱은 벡터와 같다.\n",
    "- 스칼라 곱도 차이가없다.\n",
    "- 행렬의 곱셈(Matrix Multiplication)은 i번째 행 벡터와 j번째 열 벡터의 내적을 성분곱으로 가지는 행렬을 계산"
   ]
  },
  {
   "cell_type": "code",
   "execution_count": 4,
   "id": "a0801537",
   "metadata": {},
   "outputs": [
    {
     "data": {
      "text/plain": [
       "array([[-7, -9, 12],\n",
       "       [29, -2, 38],\n",
       "       [-9, -3, -2]])"
      ]
     },
     "execution_count": 4,
     "metadata": {},
     "output_type": "execute_result"
    }
   ],
   "source": [
    "# numpy에서 행렬의 곱은 @ 기호로 표현\n",
    "X = np.array([[1,-2,3],\n",
    "                              [7,5,0],\n",
    "                              [-2,-1,2]])\n",
    "\n",
    "Y = np.array([[2,-1,4],\n",
    "                              [3,1,2],\n",
    "                              [-1,-2,4]])\n",
    "\n",
    "X@Y"
   ]
  },
  {
   "cell_type": "markdown",
   "id": "5c04da0b",
   "metadata": {},
   "source": [
    "### 행렬의 내적\n",
    "- numpy의 np.inner함수는 i번재 행 벡터와 j번째 내적을 성분으로 하는 행렬을 계산한다. \n",
    "- 행렬 곱을 통해 벡터를 다른 차원의 공간으로 보낼 수 있다.\n",
    "- 행렬 곱을 통해 패턴 추출이 가능, 데이터를 압축할 수 도 있다. 모든 선형변환은 (linear Transform) 행렬 곱으로 계산 가능"
   ]
  },
  {
   "cell_type": "code",
   "execution_count": 7,
   "id": "df894d30",
   "metadata": {},
   "outputs": [
    {
     "data": {
      "text/plain": [
       "array([[ 16,   7,  15],\n",
       "       [  9,  26, -17],\n",
       "       [  5,  -3,  12]])"
      ]
     },
     "execution_count": 7,
     "metadata": {},
     "output_type": "execute_result"
    }
   ],
   "source": [
    "np.inner(X,Y)"
   ]
  },
  {
   "cell_type": "markdown",
   "id": "51471603",
   "metadata": {},
   "source": [
    "- 어떤 행렬 A의 연산을 거꾸로 되돌리는 행렬을 역행렬이라 하며 A^-1로 표기한다. 역행렬은 행과열의 숫자가 같고 행렬식이 0이 아닌 경우에 계산이가능하다."
   ]
  },
  {
   "cell_type": "code",
   "execution_count": 17,
   "id": "14293ecf",
   "metadata": {},
   "outputs": [
    {
     "data": {
      "text/plain": [
       "array([[ 1.00000000e+00,  0.00000000e+00,  0.00000000e+00],\n",
       "       [-1.11022302e-16,  1.00000000e+00,  1.11022302e-16],\n",
       "       [-1.11022302e-16,  0.00000000e+00,  1.00000000e+00]])"
      ]
     },
     "execution_count": 17,
     "metadata": {},
     "output_type": "execute_result"
    }
   ],
   "source": [
    "X_inv = np.linalg.inv(X)\n",
    "\n",
    "X_inv@X"
   ]
  },
  {
   "cell_type": "markdown",
   "id": "944c9bfa",
   "metadata": {},
   "source": [
    "- n != m 이라 역행렬을 계산할 수 없다면 유사 역행렬(=무어펜로즈) 역행렬 A^+를 사용한다."
   ]
  },
  {
   "cell_type": "code",
   "execution_count": 18,
   "id": "e73ff516",
   "metadata": {},
   "outputs": [
    {
     "data": {
      "text/plain": [
       "array([[ 1.00000000e+00,  0.00000000e+00],\n",
       "       [-5.55111512e-17,  1.00000000e+00]])"
      ]
     },
     "execution_count": 18,
     "metadata": {},
     "output_type": "execute_result"
    }
   ],
   "source": [
    "Y = np.array([[1,2],\n",
    "                            [2,-1],\n",
    "                            [0,1]])\n",
    "\n",
    "Y_pinv = np.linalg.pinv(Y)\n",
    "Y_pinv@Y"
   ]
  },
  {
   "cell_type": "markdown",
   "id": "e81949ab",
   "metadata": {},
   "source": [
    "### 응용1. 연립방정식 풀기\n",
    "- np.linalg.pinv를 이용해 연립방정의 해를 구할 수 있다."
   ]
  },
  {
   "cell_type": "markdown",
   "id": "a077ed7d",
   "metadata": {},
   "source": [
    "### 응용2. 선형회귀분석\n",
    "- np.linalg.pinv를 이용해 데이터를 선형모델로 해석하는 선형회귀식을 찾을 수 있음\n",
    "- sklearn의 LinearRegression도 같은 결과 도출 가능"
   ]
  }
 ],
 "metadata": {
  "kernelspec": {
   "display_name": "Python 3",
   "language": "python",
   "name": "python3"
  },
  "language_info": {
   "codemirror_mode": {
    "name": "ipython",
    "version": 3
   },
   "file_extension": ".py",
   "mimetype": "text/x-python",
   "name": "python",
   "nbconvert_exporter": "python",
   "pygments_lexer": "ipython3",
   "version": "3.8.8"
  }
 },
 "nbformat": 4,
 "nbformat_minor": 5
}
