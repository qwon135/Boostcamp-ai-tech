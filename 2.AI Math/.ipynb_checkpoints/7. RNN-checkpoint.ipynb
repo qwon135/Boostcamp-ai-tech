{
 "cells": [
  {
   "cell_type": "markdown",
   "id": "c8d87d77",
   "metadata": {},
   "source": [
    "RNN은 모델 자체의 설계는 어렵지 않으나 왜 이렇게 되냐를 아는지가 중요하다."
   ]
  },
  {
   "cell_type": "markdown",
   "id": "01eb08b1",
   "metadata": {},
   "source": [
    "### 시퀀스 데이터 이해하기\n",
    "- 소리, 문자열, 주가 등의 데이터를 sequence 데이터로 분류한다.\n",
    "- 시계열(time-series) 데이터는 시간 순서에 따라 나열된 데이터로 시퀀스 데이터에 속한다.\n",
    "- 시퀀스 데이터는 독립동등분포(i.i.d.) 가정을 잘 위배하므로 순서를 바꾸거나 과거 정보에 손실이 발생하면 데이터의 확률 분포도 바뀌게 된다."
   ]
  },
  {
   "cell_type": "markdown",
   "id": "57bc13c9",
   "metadata": {},
   "source": [
    "### 시퀀스 데이터 다루기\n",
    "- 이전 시퀀스 정보를 가지고 앞으로 발생할 데이터의 확률분포를 다루기 위해 조건부확률을 이용\n",
    "- 베이즈 법칙 사용"
   ]
  },
  {
   "cell_type": "markdown",
   "id": "68be8589",
   "metadata": {},
   "source": [
    "<img src = \"../images/ai_15\">"
   ]
  },
  {
   "cell_type": "code",
   "execution_count": null,
   "id": "11768826",
   "metadata": {},
   "outputs": [],
   "source": []
  }
 ],
 "metadata": {
  "kernelspec": {
   "display_name": "Python 3",
   "language": "python",
   "name": "python3"
  },
  "language_info": {
   "codemirror_mode": {
    "name": "ipython",
    "version": 3
   },
   "file_extension": ".py",
   "mimetype": "text/x-python",
   "name": "python",
   "nbconvert_exporter": "python",
   "pygments_lexer": "ipython3",
   "version": "3.8.8"
  }
 },
 "nbformat": 4,
 "nbformat_minor": 5
}
