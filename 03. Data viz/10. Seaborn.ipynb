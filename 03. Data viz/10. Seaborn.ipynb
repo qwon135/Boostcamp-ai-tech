{
 "cells": [
  {
   "cell_type": "markdown",
   "id": "4d5a3bb8",
   "metadata": {},
   "source": [
    "# Seaborn\n",
    "___"
   ]
  },
  {
   "cell_type": "markdown",
   "id": "27c2c2f4",
   "metadata": {},
   "source": [
    "### 1.1 Seaborn 소개\n",
    "- Seaborn은 Matplotlib 기반 통계 시각화 라이브러리\n",
    "    - 통계 정보 : 구성, 분포, 관계 등\n",
    "    - Matplotlib 기반이라 Matplotlib으로 커스텀 가능\n",
    "    - 쉬운 문법과 깔끔한 디자인이 특징\n",
    "\n",
    "\n",
    "- 디테일한 커스텀 보다는\n",
    "    - **새로운 방법론**을 위주로\n",
    "    - 앞서 공부한 **이론과 연결**을 중심으로"
   ]
  },
  {
   "cell_type": "markdown",
   "id": "ca1364db",
   "metadata": {},
   "source": [
    "### 1.2 Seaborn 설치\n",
    "- 만들어진지 얼마않아 1.0버전이 없고\n",
    "- 강의에선 0.11버전으로 진행\n",
    "- pip3 install seaborn==0.11\n",
    "- `import seaborn as sns`  왜 sns...?"
   ]
  },
  {
   "cell_type": "markdown",
   "id": "7a8d0c9a",
   "metadata": {},
   "source": [
    "### 1.3 다양한 API\n",
    "- Seaborn은 시각화의 목적과 방법에 따라 API를 분류하여 제공\n",
    "    - Categorical API\n",
    "    - Distribution API\n",
    "    - Relational API\n",
    "    - Multiples API\n",
    "    - Theme API"
   ]
  }
 ],
 "metadata": {
  "kernelspec": {
   "display_name": "Python 3 (ipykernel)",
   "language": "python",
   "name": "python3"
  },
  "language_info": {
   "codemirror_mode": {
    "name": "ipython",
    "version": 3
   },
   "file_extension": ".py",
   "mimetype": "text/x-python",
   "name": "python",
   "nbconvert_exporter": "python",
   "pygments_lexer": "ipython3",
   "version": "3.8.11"
  }
 },
 "nbformat": 4,
 "nbformat_minor": 5
}
