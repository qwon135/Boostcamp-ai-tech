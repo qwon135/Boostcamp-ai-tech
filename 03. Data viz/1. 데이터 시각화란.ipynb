{
 "cells": [
  {
   "cell_type": "markdown",
   "id": "f72c5f07",
   "metadata": {},
   "source": [
    "# 데이터 시각화란?\n",
    "- 데이터 시각화란 데이터를 그래픽 요소로 매핑하여 시각적으로 표현하는 것\n",
    "___"
   ]
  },
  {
   "cell_type": "markdown",
   "id": "cadb7038",
   "metadata": {},
   "source": [
    "# 1. 데이터 이해하기\n",
    "데이터 시각화의 시작은 데이터에 대한 이해"
   ]
  },
  {
   "cell_type": "markdown",
   "id": "15470e01",
   "metadata": {},
   "source": [
    "## 1.1 데이터 시각화\n",
    "- 데이터를 시각화 하려면 데이터가 우선적으로 필요하다.\n",
    "- 시각화를 진행할 데이터\n",
    "    1. 데이터셋 관점(global)\n",
    "    2. 개별 데이터의 관점(local)\n",
    "- 데이터들이 있는지, 어떤 내용을 전달할 수 있을지 살펴보자."
   ]
  },
  {
   "cell_type": "markdown",
   "id": "c8530dc6",
   "metadata": {},
   "source": [
    "## 1.2 데이터셋의 종류\n",
    "수많은 데이터셋의 종류가 있다.\n",
    "- 정형 데이터\n",
    "- 시계열 데이터\n",
    "- 지리 데이터\n",
    "- 관계형(네트워크) 데이터\n",
    "- 계층적 데이터\n",
    "- 다양한 비정형 데이터"
   ]
  },
  {
   "cell_type": "markdown",
   "id": "4e139bad",
   "metadata": {},
   "source": [
    "### 정형데이터\n",
    "- 테이블 형태로 제공되는 데이터 일반적으로 csv, tsv 파일로 제공\n",
    "- Row 데이터가 1개 item\n",
    "- Column은 attribute(feature)\n",
    "\n",
    "\n",
    "- 가장 쉽게 시각화 할 수 있는 데이터셋\n",
    "    - 통계적 특성과 feature 사이 관계(어떤 데이터가 많은지, 평균이 얼만지 등)\n",
    "    - 데이터 간 관계\n",
    "    - 데이터 간 비교"
   ]
  },
  {
   "cell_type": "markdown",
   "id": "77e35168",
   "metadata": {},
   "source": [
    "### 시계열 데이터\n",
    "- 시간 흐름에 따른 데이터를 Time-Series라고 한다.\n",
    "- 기온, 주가 등 정형데이터와 음성, 비디오와 같은 비정형 데이터 존재\n",
    "- 시간 흐름에 따른 __추세(Trend), 계절성(Seasonality), 주기성(Cycle)__ 등을 살핌"
   ]
  },
  {
   "cell_type": "markdown",
   "id": "623155af",
   "metadata": {},
   "source": [
    "### 지리/지도 데이터\n",
    "- 지도 정보와 보고자하는 정보간의 조화 중요 + 지도 정보를 단순화 시키는 경우도 존재\n",
    "- 거리, 경로, 분포 등 다양한 실사용"
   ]
  },
  {
   "cell_type": "markdown",
   "id": "7c6c2e60",
   "metadata": {},
   "source": [
    "### 관계 데이터\n",
    "- 객체와 객체간의 관계를 시각화\n",
    "    - Graph Visualization / Network Visualization\n",
    "    \n",
    "    \n",
    "- 객체는 Node, 관계는 Link로\n",
    "- 크기, 색, 수 등으로 객체와 관계의 가중치를 포현\n",
    "- 휴리스틱하게 노드 배치를 구성"
   ]
  },
  {
   "cell_type": "markdown",
   "id": "c004c2ec",
   "metadata": {},
   "source": [
    "### 계층적 데이터\n",
    "- 관계 중에서도 포함관계가 분명한 데이터\n",
    "    - 네트워크 시각화로도 표현 가능\n",
    "\n",
    "\n",
    "- Tree, Treemap, Sunburst 등이 대표적"
   ]
  },
  {
   "cell_type": "markdown",
   "id": "8d6808f2",
   "metadata": {},
   "source": [
    "데이터의 종류는 다양하게 분류 가능하고 크게 4가지로 분류가 가능하다"
   ]
  },
  {
   "cell_type": "markdown",
   "id": "bb77bc3c",
   "metadata": {},
   "source": [
    "#### 수치형(numerical)\n",
    "- 연속형(continuous) : 길이, 무게, 온도 등\n",
    "- 이산형(discrete) : 주사위, 눈금, 사람 수 등  \n",
    "\n",
    "#### 범주형(categorical)\n",
    "- 명목형(nominal) : 혈액형, 종교 등(순서가 중요하지 않음)\n",
    "- 순서형(ordinal) : 학년, 별점, 등급 등\n",
    "___"
   ]
  },
  {
   "cell_type": "markdown",
   "id": "8a5e416b",
   "metadata": {},
   "source": [
    "# 2. 시각화 이해하기\n",
    "점, 선, 면에서 시작하는 시각화"
   ]
  },
  {
   "cell_type": "markdown",
   "id": "eca5dbb2",
   "metadata": {},
   "source": [
    "## 2.1 마크와 채널\n",
    "- A __mark__ is basic graphical element in an image\n",
    "    - 마크 : 점, 선, 면으로 이루어진 데이터 시각화\n",
    "    \n",
    "    \n",
    "- A visula __channel__ is a way to control the appearance of marks, independent of the dimensionality of the geometric primitive\n",
    "    - 채널 : 각 마크를 변경할 수 있는 요소들\n"
   ]
  },
  {
   "cell_type": "markdown",
   "id": "919b7e33",
   "metadata": {},
   "source": [
    "## 2.2 전주의적 속성\n",
    "- Pre-attentive Attribute\n",
    "\n",
    "\n",
    "- 주의를 주지 않아도 인지하게 되는 요소\n",
    "    - 시각적으로 다양한 전주의적 속성이 존재\n",
    "    - 기울기나 길이가 다르면 바로 인지할 수 있다.\n",
    "    \n",
    "    \n",
    "- 동시에 사용하면 인지하기 어려움\n",
    "    - 적절하게 사용할 때, 시각적 분리(visual pop-out)가 일어난다.\n",
    "    - color 요소가 가독성에 중요\n"
   ]
  }
 ],
 "metadata": {
  "kernelspec": {
   "display_name": "Python 3 (ipykernel)",
   "language": "python",
   "name": "python3"
  },
  "language_info": {
   "codemirror_mode": {
    "name": "ipython",
    "version": 3
   },
   "file_extension": ".py",
   "mimetype": "text/x-python",
   "name": "python",
   "nbconvert_exporter": "python",
   "pygments_lexer": "ipython3",
   "version": "3.8.11"
  }
 },
 "nbformat": 4,
 "nbformat_minor": 5
}
