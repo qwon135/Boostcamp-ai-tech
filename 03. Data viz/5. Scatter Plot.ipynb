{
 "cells": [
  {
   "cell_type": "markdown",
   "metadata": {},
   "source": [
    "## 1. 기본 Scatter Plot\n",
    "Scatter plot의 여러가지 요소와 목적을 알아보자"
   ]
  },
  {
   "cell_type": "markdown",
   "metadata": {},
   "source": [
    "### 1.1 Scatter plot이란\n",
    "- Scatter plot은 점을 사용하여 두 feature간의 관계를 알기 위해 사용하는 그래프\n",
    "\n",
    "\n",
    "- 산점도 등의 이름으로 사용됨 \n",
    "\n",
    "\n",
    "- 직교 좌표계에서 x축/y축에 feature 값을 매핑해서 사용\n",
    "\n",
    "\n",
    "- `.scatter()`를 사용"
   ]
  },
  {
   "cell_type": "markdown",
   "metadata": {},
   "source": [
    "### 1.2 Scatter plot의 요소\n",
    "점에서 다양한 variation 사용가능(2차원에서 N차원 데이터로 확장 가능)\n",
    "1. 색(color)\n",
    "2. 모양(marker)\n",
    "3. 크기(size)"
   ]
  },
  {
   "cell_type": "markdown",
   "metadata": {},
   "source": [
    "### 1.3 Scatter plot의 목적\n",
    "- 상관 관계 확인(양/음의 상관관계, 관계 없음)\n",
    "- 군집, 값 사이의 차이, 이상치를 확인 가능하다"
   ]
  },
  {
   "cell_type": "markdown",
   "metadata": {},
   "source": [
    "## 2. 정확한 Scatter Plot"
   ]
  },
  {
   "cell_type": "markdown",
   "metadata": {},
   "source": [
    "### 2.1 Overplotting\n",
    "- 점이 많아질수록 점의 분포를 파악하기 힘들다\n",
    "    - 투명도 조정(점이 몰릴수록 진해진다)\n",
    "    - 지터링(jittering) : 점의 위치를 약간씩 변경\n",
    "    - 2차원 히스토그램 : 히트맵을 사용하여 깔끔한 시각화(x,y축에 구간을 나눈다. 구체적인 정보가 부족함)\n",
    "    - Contour plot : 분포를 등고선을 사용하여 표현(좁을 수록 데이터가 조밀하다)"
   ]
  },
  {
   "cell_type": "markdown",
   "metadata": {},
   "source": [
    "### 2.2 점의 요소와 인지\n",
    "- 색\n",
    "    - 연속은 gradient, 이산은 개별 색상으로\n",
    "    \n",
    "    \n",
    "- 마커\n",
    "    - 거의 구별하기 힘들고 크기가 고르지 않음\n",
    "    - 잉크 비례 법칙 위반(원, 세모, 별크기가 고르지않다)\n",
    "    \n",
    "- 크기\n",
    "    - 흔히 bubble chart(버블차트)라고 함\n",
    "    - 구별하기 쉬우나 오용하기 쉬움(원의 크기 비교)\n",
    "    - 관계보다 각 점간 비율에 초점을 둔다면 좋음\n",
    "    - SWOT 분석 등에 활용 가능"
   ]
  },
  {
   "cell_type": "markdown",
   "metadata": {},
   "source": [
    "### 2.3 인과관계와 상관관계\n",
    "- 인과 관계(causal relation)과 상관 관계(correlation)은 다름\n",
    "    - 분석과정에서 꼭 고민 해봐야한다\n",
    "    \n",
    "    \n",
    "- 인과 관계는 항상 사전 정보와 함꼐 가정으로 제시한다\n",
    "\n",
    "\n",
    "- 상관관계는 heatmap에서 다시 다룸"
   ]
  },
  {
   "cell_type": "markdown",
   "metadata": {},
   "source": [
    "### 2.4 추세선\n",
    "- 추세선을 사용하면 scatter의 패턴을 유추할 수 있으나 2개이상이면 가독성이 떨어지므로 주의해야한다."
   ]
  },
  {
   "cell_type": "markdown",
   "metadata": {},
   "source": [
    "### 2.5 ETC\n",
    "- Grid와 상성이 안좋다, 사용을 최소화하거나 지양한다\n",
    "    - 색은 무채색으로\n",
    "  \n",
    "  \n",
    "- 범주형이 포함된 관계에선 heatmap이나 bubble chart를 추천     "
   ]
  },
  {
   "cell_type": "markdown",
   "metadata": {},
   "source": [
    "___"
   ]
  },
  {
   "cell_type": "markdown",
   "metadata": {
    "id": "3Mu-lAtu60As"
   },
   "source": [
    "# Scatter Plot 사용하기\n",
    "\n",
    "## 1. 기본 Scatter Plot\n",
    "\n",
    "### 1-1. scatter() 기본\n",
    "\n",
    "\n",
    "- `scatter()`"
   ]
  },
  {
   "cell_type": "code",
   "execution_count": null,
   "metadata": {
    "id": "WpPJLbl560Ay"
   },
   "outputs": [],
   "source": [
    "import numpy as np\n",
    "import pandas as pd\n",
    "import matplotlib as mpl\n",
    "import matplotlib.pyplot as plt"
   ]
  },
  {
   "cell_type": "code",
   "execution_count": null,
   "metadata": {
    "id": "xlVQwZFP60Az"
   },
   "outputs": [],
   "source": [
    "fig = plt.figure(figsize=(7, 7))\n",
    "ax = fig.add_subplot(111, aspect=1)\n",
    "\n",
    "np.random.seed(970725)\n",
    "\n",
    "x = np.random.rand(20)\n",
    "y = np.random.rand(20)\n",
    "\n",
    "ax.scatter(x, y)\n",
    "ax.set_xlim(0, 1.05)\n",
    "ax.set_ylim(0, 1.05)\n",
    "\n",
    "plt.show()"
   ]
  },
  {
   "cell_type": "markdown",
   "metadata": {
    "id": "1Z7BGJfe60A0"
   },
   "source": [
    "### 1-2. Scatter Plot의 요소\n",
    "\n",
    "- 색 (color)\n",
    "- 모양 (marker)\n",
    "- 크기 (size)\n"
   ]
  },
  {
   "cell_type": "code",
   "execution_count": null,
   "metadata": {
    "id": "1C5e0H8z60A0"
   },
   "outputs": [],
   "source": [
    "fig = plt.figure(figsize=(7, 7))\n",
    "ax = fig.add_subplot(111, aspect=1)\n",
    "\n",
    "np.random.seed(970725)\n",
    "\n",
    "x = np.random.rand(20)\n",
    "y = np.random.rand(20)\n",
    "s = np.arange(20) * 20\n",
    "\n",
    "ax.scatter(x, y, \n",
    "           s= s,\n",
    "           c='white',\n",
    "           marker='o',\n",
    "           linewidth=1,\n",
    "           edgecolor='black')\n",
    "\n",
    "plt.show()"
   ]
  },
  {
   "cell_type": "markdown",
   "metadata": {
    "id": "XbGCIHam60A0"
   },
   "source": [
    "## 2. 정확한 Scatter Plot\n",
    "\n",
    "### 2-0. 실습\n",
    "\n",
    "- 이론적인 부분은 다른 라이브러리를 사용하는 것이 더 편리 (통계와 차트 seaborn에서 더 상세)\n",
    "- [붓꽃 데이터셋](https://www.kaggle.com/uciml/iris)을 사용하여 시각화해봅시다.\n",
    "    - 상관관계와 봐야하는 것 3가지(클러스터, 값의 차이, 이상치)\n",
    "    - 어떻게 커스텀할 수 있는지"
   ]
  },
  {
   "cell_type": "code",
   "execution_count": null,
   "metadata": {
    "id": "2jZGKyVo60A0"
   },
   "outputs": [],
   "source": [
    "iris = pd.read_csv('./iris.csv')\n",
    "iris.head()"
   ]
  },
  {
   "cell_type": "code",
   "execution_count": null,
   "metadata": {
    "id": "rZ2ofqL060A1"
   },
   "outputs": [],
   "source": [
    "iris.describe(include='all')"
   ]
  },
  {
   "cell_type": "markdown",
   "metadata": {
    "id": "xMqo8uWU60A1"
   },
   "source": [
    "꽃받침의 길이와 너비의 관계를 살피기 위해 산점도를 그려봅시다."
   ]
  },
  {
   "cell_type": "code",
   "execution_count": null,
   "metadata": {
    "id": "T_gbiulV60A1"
   },
   "outputs": [],
   "source": [
    "fig = plt.figure(figsize=(7, 7))\n",
    "ax = fig.add_subplot(111)\n",
    "\n",
    "ax.scatter(x=iris['SepalLengthCm'], y=iris['SepalWidthCm'])\n",
    "\n",
    "plt.show()"
   ]
  },
  {
   "cell_type": "markdown",
   "metadata": {
    "id": "Z7EGaRl-60A2"
   },
   "source": [
    "특정 조건에 따라 색을 다르게 하면 주의를 더 줄 수 있습니다."
   ]
  },
  {
   "cell_type": "code",
   "execution_count": null,
   "metadata": {
    "id": "mnzwEDJh60A2"
   },
   "outputs": [],
   "source": [
    "fig = plt.figure(figsize=(7, 7))\n",
    "ax = fig.add_subplot(111)\n",
    "\n",
    "slc_mean = iris['SepalLengthCm'].mean()\n",
    "swc_mean = iris['SepalWidthCm'].mean()\n",
    "\n",
    "ax.scatter(x=iris['SepalLengthCm'], \n",
    "           y=iris['SepalWidthCm'],\n",
    "           c=['royalblue' if yy <= swc_mean else 'gray' for yy in iris['SepalWidthCm']]\n",
    "          )\n",
    "\n",
    "plt.show()"
   ]
  },
  {
   "cell_type": "markdown",
   "metadata": {
    "id": "cBbxNON060A2"
   },
   "source": [
    "이제 꽃의 종류에 따라 구분하여 그려보겠습니다.\n",
    "\n",
    "![](https://s3.amazonaws.com/assets.datacamp.com/blog_assets/Machine+Learning+R/iris-machinelearning.png)\n",
    "\n",
    "색을 위와 같이 반복문과 조건문으로 구분할 수도 있지만 범례를 사용할 예정이므로 세 번 나눠그리는 편이 더 편합니다."
   ]
  },
  {
   "cell_type": "code",
   "execution_count": null,
   "metadata": {
    "id": "rgywlBS_60A2"
   },
   "outputs": [],
   "source": [
    "fig = plt.figure(figsize=(7, 7))\n",
    "ax = fig.add_subplot(111)\n",
    "\n",
    "for species in iris['Species'].unique():\n",
    "    iris_sub = iris[iris['Species']==species]\n",
    "    ax.scatter(x=iris_sub['SepalLengthCm'], \n",
    "               y=iris_sub['SepalWidthCm'], \n",
    "               label=species)\n",
    "\n",
    "ax.legend()    \n",
    "plt.show()"
   ]
  },
  {
   "cell_type": "code",
   "execution_count": null,
   "metadata": {
    "id": "Kcd6peVR60A3"
   },
   "outputs": [],
   "source": [
    "fig = plt.figure(figsize=(7, 7))\n",
    "ax = fig.add_subplot(111)\n",
    "\n",
    "for species in iris['Species'].unique():\n",
    "    iris_sub = iris[iris['Species']==species]\n",
    "    ax.scatter(x=iris_sub['PetalLengthCm'], \n",
    "               y=iris_sub['PetalWidthCm'], \n",
    "               label=species)\n",
    "\n",
    "ax.legend()    \n",
    "plt.show()"
   ]
  },
  {
   "cell_type": "markdown",
   "metadata": {
    "id": "_wU6SJ5I60A3"
   },
   "source": [
    "시각적인 주의를 주기 위해서 선을 사용할 수도 있습니다. (3차트의 요소-4moreinfo)"
   ]
  },
  {
   "cell_type": "code",
   "execution_count": null,
   "metadata": {
    "id": "UqM5n4tg60A3"
   },
   "outputs": [],
   "source": [
    "fig = plt.figure(figsize=(7, 7))\n",
    "ax = fig.add_subplot(111)\n",
    "\n",
    "for species in iris['Species'].unique():\n",
    "    iris_sub = iris[iris['Species']==species]\n",
    "    ax.scatter(x=iris_sub['PetalLengthCm'], \n",
    "               y=iris_sub['PetalWidthCm'], \n",
    "               label=species)\n",
    "\n",
    "ax.axvline(2.5, color='gray', linestyle=':')    \n",
    "ax.axhline(0.8, color='gray', linestyle=':')    \n",
    "ax.legend()    \n",
    "plt.show()"
   ]
  },
  {
   "cell_type": "markdown",
   "metadata": {
    "id": "bS9UypoG60A3"
   },
   "source": [
    "좀 더 다양한 관점에서 보기 위해 다음과 같이 그려보겠습니다. (3장 차트의 요소 Facet 참고)"
   ]
  },
  {
   "cell_type": "code",
   "execution_count": null,
   "metadata": {
    "id": "heNVZghF60A3"
   },
   "outputs": [],
   "source": [
    "fig, axes = plt.subplots(4, 4, figsize=(14, 14))\n",
    "\n",
    "feat = ['SepalLengthCm', 'SepalWidthCm', 'PetalLengthCm', 'PetalWidthCm']\n",
    "\n",
    "for i, f1 in enumerate(feat):\n",
    "    for j, f2 in enumerate(feat):\n",
    "        if i <= j : \n",
    "            axes[i][j].set_visible(False)\n",
    "            continue\n",
    "        for species in iris['Species'].unique():\n",
    "            iris_sub = iris[iris['Species']==species]\n",
    "            axes[i][j].scatter(x=iris_sub[f2], \n",
    "                               y=iris_sub[f1], \n",
    "                               label=species, \n",
    "                               alpha=0.7)\n",
    "        if i == 3: axes[i][j].set_xlabel(f2)\n",
    "        if j == 0: axes[i][j].set_ylabel(f1)\n",
    "\n",
    "plt.tight_layout()        \n",
    "plt.show()"
   ]
  },
  {
   "cell_type": "markdown",
   "metadata": {
    "id": "2SXf1t_h60A4"
   },
   "source": [
    "> 나머지 구현 방법(2d hist와 contour plot)은 4.통계와 차트 relation에서 더 자세하게 다루도록 하겠습니다."
   ]
  },
  {
   "cell_type": "code",
   "execution_count": null,
   "metadata": {
    "id": "tG1MdQO860A4"
   },
   "outputs": [],
   "source": []
  }
 ],
 "metadata": {
  "colab": {
   "name": "2-3-Scatterplot.ipynb",
   "provenance": []
  },
  "kernelspec": {
   "display_name": "Python 3 (ipykernel)",
   "language": "python",
   "name": "python3"
  },
  "language_info": {
   "codemirror_mode": {
    "name": "ipython",
    "version": 3
   },
   "file_extension": ".py",
   "mimetype": "text/x-python",
   "name": "python",
   "nbconvert_exporter": "python",
   "pygments_lexer": "ipython3",
   "version": "3.8.11"
  }
 },
 "nbformat": 4,
 "nbformat_minor": 1
}
