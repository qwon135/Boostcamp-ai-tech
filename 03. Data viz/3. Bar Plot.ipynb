{
 "cells": [
  {
   "cell_type": "code",
   "execution_count": 1,
   "metadata": {},
   "outputs": [],
   "source": [
    "import numpy as np\n",
    "import pandas as pd\n",
    "import matplotlib as mpl\n",
    "import matplotlib.pyplot as plt"
   ]
  },
  {
   "cell_type": "markdown",
   "metadata": {
    "id": "tn9YInVL58Zu"
   },
   "source": [
    "## 1. Bar Plot \n",
    "\n",
    "### 1-1. Bar Plot\n",
    "\n",
    "- __Bar plot__ 이란 직사각형 막대를 용하여 데이터의 값을 표현하는 차트/그래프\n",
    "- 막대그래프, bar chart, bar graph 등의 이름으로 사용됨\n",
    "\n",
    "\n",
    "- 범주(category)에 따른 수치 값을 비교하기 적합하다.\n",
    "    - 개별 비교, 그룹 비교 모두 적합\n",
    "\n",
    "막대의 방향에 따라 분류한다.     "
   ]
  },
  {
   "cell_type": "markdown",
   "metadata": {},
   "source": [
    "`bar()` \n",
    "- 기본적인 bar plot\n",
    "- 수직(vertical) : x축에 범주, y축에 값을 표기(default)"
   ]
  },
  {
   "cell_type": "markdown",
   "metadata": {},
   "source": [
    "`barh()`   \n",
    "- horizontal bar plot\n",
    "- 수평(horizontal) : y축에 범주, x축에 값을 표기(범주가 많을때 적합)"
   ]
  },
  {
   "cell_type": "markdown",
   "metadata": {},
   "source": [
    "## 2. 다양한 Bar Plot"
   ]
  },
  {
   "cell_type": "markdown",
   "metadata": {},
   "source": [
    "#### Bar plot의 형태를 알아보기 위해, 임의의 그룹 데이터를 시각화 해보자.\n",
    "- A,B,C,D,E 데이터가 2그룹에 존재\n",
    "- Group Sky : `[1,2,3,4,5]`\n",
    "- Group Pink : `[4,3,2,5,1]`"
   ]
  },
  {
   "cell_type": "markdown",
   "metadata": {},
   "source": [
    "### 2.1 Multiple Bar Plot\n",
    "- Bar Plot에서는 범주에 대해 각 값을 표현, 즉 1개의 feature에 대해서만 보여준다.\n",
    "- 여러 Group을 보여주기 위해 여러 방법이 필요하다\n",
    "\n",
    "1. 플롯을 여러개 그리는 방법\n",
    "2. 한 개의 플롯이 동시에 나타나는 법\n",
    "    1. 쌓아서 표현하는 방법\n",
    "    2. 겹쳐서 표현하는 방법\n",
    "    3. 이웃에 배치하여 표현하는 방법"
   ]
  },
  {
   "cell_type": "markdown",
   "metadata": {},
   "source": [
    "### 2.2 Stacked Bar Plot\n",
    "\n",
    "\n",
    "- 2개 이상의 그룹을 쌓아서(stack) 표현하는 bar plot\n",
    "    - 각 bar에서 나타나는 그룹의 순서는 항상 유지\n",
    "    \n",
    "    \n",
    "- 맨 밑의 bar의 분포는 파악하기 쉽지만\n",
    "    - 그 외의 분포들은 파악하기 어려움(수치를 주석으로 달아주는 것 권장)\n",
    "    - 2개의 그룹이 positive / negative라면 축 조정 가능\n",
    "    \n",
    "`.bar()` 에서는 bottom 파라미터를 사용  \n",
    "`.barh()` 에서는 left 파라미터를 사용\n",
    "\n",
    "\n"
   ]
  },
  {
   "cell_type": "markdown",
   "metadata": {},
   "source": [
    "그러므로 응용하여 전체 비율을 나타내는 Percentage Stacked Bar Chart가 있다."
   ]
  },
  {
   "cell_type": "markdown",
   "metadata": {},
   "source": [
    "### 2.3 Overlapped Bar Plot\n",
    "- 2개 그룹만 비교한다면 겹쳐서 만드는 것도 하나의 선택지이다.\n",
    "    - 3개 이상에서는 파악하기 어려움\n",
    "    \n",
    "      \n",
    "- 같은 축을 사용하니 비교가 쉬움\n",
    "    - 투명도를 조정하여 겹치는 부분 파악(alpha)\n",
    "    \n",
    "\n",
    "- Bar plot 보다는 Area plot에서 더 효과적"
   ]
  },
  {
   "cell_type": "markdown",
   "metadata": {},
   "source": [
    "### 2.4 Grouped Bar Plot\n",
    "- 그룹별 범주에 따른 bar를 이웃되게 배치하는 방법\n",
    "- Matplotlib으로는 비교적 구현이 까다로움\n",
    "    - 적탕한 테크닉(`.set_xticks()`,`.set_xticklabels()`)\n",
    "- Matplotlib은 범주형 보다 수치형 데이터를 구현하기 더 쉽다, seaborn사용권장\n",
    "- 위 plot 모두 그룹이 5~7개 이하 일때 효과적, 그룹이 많다면 ETC로 처리"
   ]
  },
  {
   "cell_type": "markdown",
   "metadata": {},
   "source": [
    "## 3. 정확한 Bar Plot\n",
    "Bar Plot의 오용을 막아보자."
   ]
  },
  {
   "cell_type": "markdown",
   "metadata": {},
   "source": [
    "### 3.1 Principle of Proportion lnk\n",
    "- __실제 값과 그에 표현되는 그래픽으로 표현되는 잉크 양은 비례__ 해야함\n",
    "\n",
    "\n",
    "- 반드시 x 축의 시작은 __zero(0)__  \n",
    "    - 만약 차이를 나타내려면 plot의 세로 비율을 늘리기\n",
    "    \n",
    "    \n",
    "- 막대그래프에만 한정되는 원칙은 아님(Area plot, Donut chart 등)    \n"
   ]
  },
  {
   "cell_type": "markdown",
   "metadata": {},
   "source": [
    "### 3.2 데이터 정렬하기\n",
    "- 더 정확한 정보를 전달하기 위해 정렬이 필수\n",
    "    - Pandas에서는 `sort_values()`, `sort_index()`를 사용핳여 정렬\n",
    "    \n",
    "    \n",
    "- 데이터의 종류에 따라 다음 기준으로 정렬한다\n",
    "    1. 시계열 | 시간순\n",
    "    2. 수치형 | 크기순\n",
    "    3. 순서형 | 범주의 순서대로\n",
    "    4. 명목형 | 범주의 값 따라 정렬\n",
    "    \n",
    "    \n",
    "- 여러가지 기준으로 정렬을 하여 패턴을 발견 \n",
    "\n",
    "\n",
    "- 대시보드에서는 Interactive로 제공하는 것이 유용"
   ]
  },
  {
   "cell_type": "markdown",
   "metadata": {},
   "source": [
    "### 3.3 적절한 공간 활용\n",
    "- 여백과 공간만 조정해도 가독성이 높아진다.\n",
    "\n",
    "\n",
    "- Matplotlib의 bar plot은 ax에 꽉차서 답답한 느낌이 있다. 그래서 limit을 적절히 조정해준다.\n",
    "\n",
    "\n",
    "- Matplotlib techniques\n",
    "    - X/Y axis Limit(`.set_xlim(), .set_ylim()`)\n",
    "    - Spines(`.spines[spine].set_visible()`)\n",
    "    - Gap(width)\n",
    "    - Legend(`.legend()`)\n",
    "    - Margins(`.margins()`)"
   ]
  },
  {
   "cell_type": "markdown",
   "metadata": {},
   "source": [
    "### 3.4 복잡함과 단순함\n",
    "- 필요없는 복잡함\n",
    "    - 무의미한 3D\n",
    "    - 직사각형이 아닌 다른 형태의 bar는 지양\n",
    "    \n",
    "\n",
    "- 무엇을 보고 싶은가?(시각화의 대상이 누군가?)\n",
    "    - 정확한 차이(EDA)\n",
    "    - 큰 틀에서 비교 및 추세파악(Dashboard)\n",
    "    \n",
    "    \n",
    "- 축과 디테일 등의 복잡함\n",
    "    - Grid\n",
    "    - Ticklabels : Major & Minor\n",
    "    - Text 위치 : Bar의 middle / upper"
   ]
  },
  {
   "cell_type": "markdown",
   "metadata": {},
   "source": [
    "### 3.5 ETC\n",
    "- 오차 막대를 추가하여 Uncertainty 정보를 추가 가능(errorbar)\n",
    "\n",
    "\n",
    "- Bar 사이 Gap이 9이라면 > __히스토그램(Histogram)__. \n",
    "    - `.hist()`를 사용하여 가능\n",
    "    - 연속된 느낌을 줄 수 있음\n",
    "    \n",
    "    \n",
    "- 다양한 text 정보 활용\n",
    "    - 제목\n",
    "    - 라벨"
   ]
  },
  {
   "cell_type": "markdown",
   "metadata": {},
   "source": [
    "---\n",
    "# 실습"
   ]
  },
  {
   "cell_type": "markdown",
   "metadata": {},
   "source": [
    "## 1-1. Bar Plot 사용하기"
   ]
  },
  {
   "cell_type": "markdown",
   "metadata": {
    "id": "hpk4A2SG58Z0"
   },
   "source": [
    "x와 y를 5개 정도로 세팅해서 예시 플롯을 만들어보겠습니다."
   ]
  },
  {
   "cell_type": "code",
   "execution_count": 2,
   "metadata": {
    "id": "nmjdvTPi58Z1"
   },
   "outputs": [
    {
     "data": {
      "image/png": "[encoded data removed]",
      "text/plain": [
       "<Figure size 864x504 with 2 Axes>"
      ]
     },
     "metadata": {
      "needs_background": "light"
     },
     "output_type": "display_data"
    }
   ],
   "source": [
    "fig, axes = plt.subplots(1, 2, figsize=(12, 7))\n",
    "\n",
    "x = list('ABCDE')\n",
    "y = np.array([1, 2, 3, 4, 5])\n",
    "\n",
    "# 각 index에 접근\n",
    "axes[0].bar(x, y)\n",
    "axes[1].barh(x, y)\n",
    "\n",
    "plt.show()"
   ]
  },
  {
   "cell_type": "code",
   "execution_count": 3,
   "metadata": {
    "id": "Zzlj7Kl058Z1"
   },
   "outputs": [
    {
     "data": {
      "image/png": "[encoded data removed]",
      "text/plain": [
       "<Figure size 864x504 with 2 Axes>"
      ]
     },
     "metadata": {
      "needs_background": "light"
     },
     "output_type": "display_data"
    }
   ],
   "source": [
    "# 강의에서 다루지는 않았지만 막대 그래프의 색은 \n",
    "# 다음과 같이 변경을 전체로 하거나, 개별로 할 수도 있습니다. \n",
    "# 개별로 할 때는 막대 개수와 같이 색을 리스트로 전해야 합니다.\n",
    "# 색에 대해 구체적인 내용은 3차트의 요소-2색에서 다룹니다.\n",
    "\n",
    "fig, axes = plt.subplots(1, 2, figsize=(12, 7))\n",
    "\n",
    "x = list('ABCDE')\n",
    "y = np.array([1, 2, 3, 4, 5])\n",
    "\n",
    "clist = ['b', 'gray', 'y', 'g', 'r']\n",
    "color = 'green'\n",
    "axes[0].bar(x, y, color=clist)\n",
    "axes[1].barh(x, y, color=color)\n",
    "\n",
    "plt.show()"
   ]
  },
  {
   "cell_type": "markdown",
   "metadata": {
    "id": "fDk8LNzV58Z2"
   },
   "source": [
    "## 2. 다양한 Bar Plot\n",
    "\n",
    "### 2-0. 데이터 준비하기\n",
    "\n",
    "이제 교육용 데이터셋으로 막대 그래프를 사용해보겠습니다.\n",
    "\n",
    "데이터는 Student Score Dataset입니다. [link](http://roycekimmons.com/tools/generated_data/exams)\n",
    "\n",
    "- 1000명 학생 데이터 \n",
    "- feature에 대한 정보는 `head()`, `describe()`, `info()` 등으로 확인하고\n",
    "- `unique()`, `value_counts()` 등으로 종류나 큰 분포 확인\n",
    "- feautre들\n",
    "    - **성별** : female / male\n",
    "    - **인종민족** : group A, B, C, D, E\n",
    "    - **부모님 최종 학력** : 고등학교 졸업, 전문대, 학사 학위, 석사 학위, 2년제 졸업\n",
    "    - **점심** : standard와 free/reduced\n",
    "    - **시험 예습** : none과 completed\n",
    "    - **수학, 읽기, 쓰기 성적** (0~100)\n"
   ]
  },
  {
   "cell_type": "code",
   "execution_count": 4,
   "metadata": {
    "id": "1WOfrZ2n58Z2"
   },
   "outputs": [
    {
     "data": {
      "text/html": [
       "<div>\n",
       "<style scoped>\n",
       "    .dataframe tbody tr th:only-of-type {\n",
       "        vertical-align: middle;\n",
       "    }\n",
       "\n",
       "    .dataframe tbody tr th {\n",
       "        vertical-align: top;\n",
       "    }\n",
       "\n",
       "    .dataframe thead th {\n",
       "        text-align: right;\n",
       "    }\n",
       "</style>\n",
       "<table border=\"1\" class=\"dataframe\">\n",
       "  <thead>\n",
       "    <tr style=\"text-align: right;\">\n",
       "      <th></th>\n",
       "      <th>gender</th>\n",
       "      <th>race/ethnicity</th>\n",
       "      <th>parental level of education</th>\n",
       "      <th>lunch</th>\n",
       "      <th>test preparation course</th>\n",
       "      <th>math score</th>\n",
       "      <th>reading score</th>\n",
       "      <th>writing score</th>\n",
       "    </tr>\n",
       "  </thead>\n",
       "  <tbody>\n",
       "    <tr>\n",
       "      <th>119</th>\n",
       "      <td>female</td>\n",
       "      <td>group C</td>\n",
       "      <td>some college</td>\n",
       "      <td>standard</td>\n",
       "      <td>none</td>\n",
       "      <td>55</td>\n",
       "      <td>69</td>\n",
       "      <td>65</td>\n",
       "    </tr>\n",
       "    <tr>\n",
       "      <th>160</th>\n",
       "      <td>male</td>\n",
       "      <td>group B</td>\n",
       "      <td>associate's degree</td>\n",
       "      <td>free/reduced</td>\n",
       "      <td>completed</td>\n",
       "      <td>82</td>\n",
       "      <td>78</td>\n",
       "      <td>74</td>\n",
       "    </tr>\n",
       "    <tr>\n",
       "      <th>668</th>\n",
       "      <td>male</td>\n",
       "      <td>group C</td>\n",
       "      <td>some college</td>\n",
       "      <td>standard</td>\n",
       "      <td>none</td>\n",
       "      <td>73</td>\n",
       "      <td>74</td>\n",
       "      <td>61</td>\n",
       "    </tr>\n",
       "    <tr>\n",
       "      <th>205</th>\n",
       "      <td>male</td>\n",
       "      <td>group D</td>\n",
       "      <td>some high school</td>\n",
       "      <td>standard</td>\n",
       "      <td>completed</td>\n",
       "      <td>74</td>\n",
       "      <td>71</td>\n",
       "      <td>78</td>\n",
       "    </tr>\n",
       "    <tr>\n",
       "      <th>894</th>\n",
       "      <td>female</td>\n",
       "      <td>group E</td>\n",
       "      <td>associate's degree</td>\n",
       "      <td>standard</td>\n",
       "      <td>none</td>\n",
       "      <td>59</td>\n",
       "      <td>62</td>\n",
       "      <td>69</td>\n",
       "    </tr>\n",
       "  </tbody>\n",
       "</table>\n",
       "</div>"
      ],
      "text/plain": [
       "     gender race/ethnicity parental level of education         lunch  \\\n",
       "119  female        group C                some college      standard   \n",
       "160    male        group B          associate's degree  free/reduced   \n",
       "668    male        group C                some college      standard   \n",
       "205    male        group D            some high school      standard   \n",
       "894  female        group E          associate's degree      standard   \n",
       "\n",
       "    test preparation course  math score  reading score  writing score  \n",
       "119                    none          55             69             65  \n",
       "160               completed          82             78             74  \n",
       "668                    none          73             74             61  \n",
       "205               completed          74             71             78  \n",
       "894                    none          59             62             69  "
      ]
     },
     "execution_count": 4,
     "metadata": {},
     "output_type": "execute_result"
    }
   ],
   "source": [
    "student = pd.read_csv('./StudentsPerformance.csv')\n",
    "# student.head()\n",
    "\n",
    "# head 보다는 sample 권장(random 이며, 갯수 지정가능)\n",
    "student.sample(5)"
   ]
  },
  {
   "cell_type": "code",
   "execution_count": 5,
   "metadata": {
    "id": "mBijdN-r58Z3"
   },
   "outputs": [
    {
     "name": "stdout",
     "output_type": "stream",
     "text": [
      "<class 'pandas.core.frame.DataFrame'>\n",
      "RangeIndex: 1000 entries, 0 to 999\n",
      "Data columns (total 8 columns):\n",
      " #   Column                       Non-Null Count  Dtype \n",
      "---  ------                       --------------  ----- \n",
      " 0   gender                       1000 non-null   object\n",
      " 1   race/ethnicity               1000 non-null   object\n",
      " 2   parental level of education  1000 non-null   object\n",
      " 3   lunch                        1000 non-null   object\n",
      " 4   test preparation course      1000 non-null   object\n",
      " 5   math score                   1000 non-null   int64 \n",
      " 6   reading score                1000 non-null   int64 \n",
      " 7   writing score                1000 non-null   int64 \n",
      "dtypes: int64(3), object(5)\n",
      "memory usage: 62.6+ KB\n"
     ]
    }
   ],
   "source": [
    "# Data의 타입과 null(빈 값이 있는지) 여부를 확인\n",
    "student.info()"
   ]
  },
  {
   "cell_type": "code",
   "execution_count": 6,
   "metadata": {
    "id": "RJPjdRBH58Z3"
   },
   "outputs": [
    {
     "data": {
      "text/html": [
       "<div>\n",
       "<style scoped>\n",
       "    .dataframe tbody tr th:only-of-type {\n",
       "        vertical-align: middle;\n",
       "    }\n",
       "\n",
       "    .dataframe tbody tr th {\n",
       "        vertical-align: top;\n",
       "    }\n",
       "\n",
       "    .dataframe thead th {\n",
       "        text-align: right;\n",
       "    }\n",
       "</style>\n",
       "<table border=\"1\" class=\"dataframe\">\n",
       "  <thead>\n",
       "    <tr style=\"text-align: right;\">\n",
       "      <th></th>\n",
       "      <th>gender</th>\n",
       "      <th>race/ethnicity</th>\n",
       "      <th>parental level of education</th>\n",
       "      <th>lunch</th>\n",
       "      <th>test preparation course</th>\n",
       "      <th>math score</th>\n",
       "      <th>reading score</th>\n",
       "      <th>writing score</th>\n",
       "    </tr>\n",
       "  </thead>\n",
       "  <tbody>\n",
       "    <tr>\n",
       "      <th>count</th>\n",
       "      <td>1000</td>\n",
       "      <td>1000</td>\n",
       "      <td>1000</td>\n",
       "      <td>1000</td>\n",
       "      <td>1000</td>\n",
       "      <td>1000.00000</td>\n",
       "      <td>1000.000000</td>\n",
       "      <td>1000.000000</td>\n",
       "    </tr>\n",
       "    <tr>\n",
       "      <th>unique</th>\n",
       "      <td>2</td>\n",
       "      <td>5</td>\n",
       "      <td>6</td>\n",
       "      <td>2</td>\n",
       "      <td>2</td>\n",
       "      <td>NaN</td>\n",
       "      <td>NaN</td>\n",
       "      <td>NaN</td>\n",
       "    </tr>\n",
       "    <tr>\n",
       "      <th>top</th>\n",
       "      <td>female</td>\n",
       "      <td>group C</td>\n",
       "      <td>some college</td>\n",
       "      <td>standard</td>\n",
       "      <td>none</td>\n",
       "      <td>NaN</td>\n",
       "      <td>NaN</td>\n",
       "      <td>NaN</td>\n",
       "    </tr>\n",
       "    <tr>\n",
       "      <th>freq</th>\n",
       "      <td>518</td>\n",
       "      <td>319</td>\n",
       "      <td>226</td>\n",
       "      <td>645</td>\n",
       "      <td>642</td>\n",
       "      <td>NaN</td>\n",
       "      <td>NaN</td>\n",
       "      <td>NaN</td>\n",
       "    </tr>\n",
       "    <tr>\n",
       "      <th>mean</th>\n",
       "      <td>NaN</td>\n",
       "      <td>NaN</td>\n",
       "      <td>NaN</td>\n",
       "      <td>NaN</td>\n",
       "      <td>NaN</td>\n",
       "      <td>66.08900</td>\n",
       "      <td>69.169000</td>\n",
       "      <td>68.054000</td>\n",
       "    </tr>\n",
       "    <tr>\n",
       "      <th>std</th>\n",
       "      <td>NaN</td>\n",
       "      <td>NaN</td>\n",
       "      <td>NaN</td>\n",
       "      <td>NaN</td>\n",
       "      <td>NaN</td>\n",
       "      <td>15.16308</td>\n",
       "      <td>14.600192</td>\n",
       "      <td>15.195657</td>\n",
       "    </tr>\n",
       "    <tr>\n",
       "      <th>min</th>\n",
       "      <td>NaN</td>\n",
       "      <td>NaN</td>\n",
       "      <td>NaN</td>\n",
       "      <td>NaN</td>\n",
       "      <td>NaN</td>\n",
       "      <td>0.00000</td>\n",
       "      <td>17.000000</td>\n",
       "      <td>10.000000</td>\n",
       "    </tr>\n",
       "    <tr>\n",
       "      <th>25%</th>\n",
       "      <td>NaN</td>\n",
       "      <td>NaN</td>\n",
       "      <td>NaN</td>\n",
       "      <td>NaN</td>\n",
       "      <td>NaN</td>\n",
       "      <td>57.00000</td>\n",
       "      <td>59.000000</td>\n",
       "      <td>57.750000</td>\n",
       "    </tr>\n",
       "    <tr>\n",
       "      <th>50%</th>\n",
       "      <td>NaN</td>\n",
       "      <td>NaN</td>\n",
       "      <td>NaN</td>\n",
       "      <td>NaN</td>\n",
       "      <td>NaN</td>\n",
       "      <td>66.00000</td>\n",
       "      <td>70.000000</td>\n",
       "      <td>69.000000</td>\n",
       "    </tr>\n",
       "    <tr>\n",
       "      <th>75%</th>\n",
       "      <td>NaN</td>\n",
       "      <td>NaN</td>\n",
       "      <td>NaN</td>\n",
       "      <td>NaN</td>\n",
       "      <td>NaN</td>\n",
       "      <td>77.00000</td>\n",
       "      <td>79.000000</td>\n",
       "      <td>79.000000</td>\n",
       "    </tr>\n",
       "    <tr>\n",
       "      <th>max</th>\n",
       "      <td>NaN</td>\n",
       "      <td>NaN</td>\n",
       "      <td>NaN</td>\n",
       "      <td>NaN</td>\n",
       "      <td>NaN</td>\n",
       "      <td>100.00000</td>\n",
       "      <td>100.000000</td>\n",
       "      <td>100.000000</td>\n",
       "    </tr>\n",
       "  </tbody>\n",
       "</table>\n",
       "</div>"
      ],
      "text/plain": [
       "        gender race/ethnicity parental level of education     lunch  \\\n",
       "count     1000           1000                        1000      1000   \n",
       "unique       2              5                           6         2   \n",
       "top     female        group C                some college  standard   \n",
       "freq       518            319                         226       645   \n",
       "mean       NaN            NaN                         NaN       NaN   \n",
       "std        NaN            NaN                         NaN       NaN   \n",
       "min        NaN            NaN                         NaN       NaN   \n",
       "25%        NaN            NaN                         NaN       NaN   \n",
       "50%        NaN            NaN                         NaN       NaN   \n",
       "75%        NaN            NaN                         NaN       NaN   \n",
       "max        NaN            NaN                         NaN       NaN   \n",
       "\n",
       "       test preparation course  math score  reading score  writing score  \n",
       "count                     1000  1000.00000    1000.000000    1000.000000  \n",
       "unique                       2         NaN            NaN            NaN  \n",
       "top                       none         NaN            NaN            NaN  \n",
       "freq                       642         NaN            NaN            NaN  \n",
       "mean                       NaN    66.08900      69.169000      68.054000  \n",
       "std                        NaN    15.16308      14.600192      15.195657  \n",
       "min                        NaN     0.00000      17.000000      10.000000  \n",
       "25%                        NaN    57.00000      59.000000      57.750000  \n",
       "50%                        NaN    66.00000      70.000000      69.000000  \n",
       "75%                        NaN    77.00000      79.000000      79.000000  \n",
       "max                        NaN   100.00000     100.000000     100.000000  "
      ]
     },
     "execution_count": 6,
     "metadata": {},
     "output_type": "execute_result"
    }
   ],
   "source": [
    "# unique 한 값을 보자\n",
    "student.describe(include='all')"
   ]
  },
  {
   "cell_type": "markdown",
   "metadata": {
    "id": "zs5cJXJw58Z3"
   },
   "source": [
    "그룹에 따른 정보를 시각화해봅시다. \n",
    "\n",
    "> 성별에 따른 race/ethincity 분포\n",
    "\n",
    "코드로는 다음과 같이 쉽게 구할 수 있습니다.\n"
   ]
  },
  {
   "cell_type": "code",
   "execution_count": 7,
   "metadata": {
    "id": "BWiwWGel58Z3"
   },
   "outputs": [
    {
     "data": {
      "text/plain": [
       "gender  race/ethnicity\n",
       "female  group A            36\n",
       "        group B           104\n",
       "        group C           180\n",
       "        group D           129\n",
       "        group E            69\n",
       "male    group A            53\n",
       "        group B            86\n",
       "        group C           139\n",
       "        group D           133\n",
       "        group E            71\n",
       "Name: race/ethnicity, dtype: int64"
      ]
     },
     "metadata": {},
     "output_type": "display_data"
    },
    {
     "name": "stdout",
     "output_type": "stream",
     "text": [
      "female    518\n",
      "male      482\n",
      "Name: gender, dtype: int64\n"
     ]
    }
   ],
   "source": [
    "# 성별로 group\n",
    "group = student.groupby('gender')['race/ethnicity'].value_counts().sort_index()\n",
    "display(group)\n",
    "print(student['gender'].value_counts())"
   ]
  },
  {
   "cell_type": "markdown",
   "metadata": {
    "id": "tkU1duJF58Z4"
   },
   "source": [
    "### 2-1. Multiple Bar Plot\n",
    "\n",
    "우선 기본적으로 그려보겠습니다."
   ]
  },
  {
   "cell_type": "code",
   "execution_count": 8,
   "metadata": {
    "id": "arBahcnm58Z4"
   },
   "outputs": [
    {
     "data": {
      "image/png": "[encoded data removed]",
      "text/plain": [
       "<Figure size 1080x504 with 2 Axes>"
      ]
     },
     "metadata": {
      "needs_background": "light"
     },
     "output_type": "display_data"
    }
   ],
   "source": [
    "fig, axes = plt.subplots(1, 2, figsize=(15, 7))\n",
    "axes[0].bar(group['male'].index, group['male'], color='royalblue')\n",
    "axes[1].bar(group['female'].index, group['female'], color='tomato')\n",
    "plt.show()"
   ]
  },
  {
   "cell_type": "markdown",
   "metadata": {
    "id": "EbWIcCZD58Z4"
   },
   "source": [
    "matplotlib은 max값을 기준으로 약간의 여백을 주기 때문에 서로 scale이 달라서 맞춰줘야한다.\n",
    "\n",
    "각 barplot은 자체적으로 y 범위를 맞추기에 좀 더 y축의 범위를 공유할 수 있습니다.\n",
    "\n",
    "방법1은 subplot을 만들 때, `sharey` 파라미터를 사용하는 방법입니다.  `sharey=True` 를 설정하면 y축을 공유한다"
   ]
  },
  {
   "cell_type": "code",
   "execution_count": 9,
   "metadata": {
    "id": "uQyqyHqJ58Z4"
   },
   "outputs": [
    {
     "data": {
      "image/png": "[encoded data removed]",
      "text/plain": [
       "<Figure size 1080x504 with 2 Axes>"
      ]
     },
     "metadata": {
      "needs_background": "light"
     },
     "output_type": "display_data"
    }
   ],
   "source": [
    "fig, axes = plt.subplots(1, 2, figsize=(15, 7), sharey=True)\n",
    "axes[0].bar(group['male'].index, group['male'], color='royalblue')\n",
    "axes[1].bar(group['female'].index, group['female'], color='tomato')\n",
    "plt.show()"
   ]
  },
  {
   "cell_type": "markdown",
   "metadata": {
    "id": "FZLBU0qO58Z5"
   },
   "source": [
    "방법2는 y축 범위를 개별적으로 조정하는 방법입니다. 이렇게 할 때는 반복문을 사용하여 조정하는 방법을 선호합니다."
   ]
  },
  {
   "cell_type": "code",
   "execution_count": 10,
   "metadata": {
    "id": "045rBqKa58Z5"
   },
   "outputs": [
    {
     "data": {
      "image/png": "[encoded data removed]",
      "text/plain": [
       "<Figure size 1080x504 with 2 Axes>"
      ]
     },
     "metadata": {
      "needs_background": "light"
     },
     "output_type": "display_data"
    }
   ],
   "source": [
    "fig, axes = plt.subplots(1, 2, figsize=(15, 7))\n",
    "axes[0].bar(group['male'].index, group['male'], color='royalblue')\n",
    "axes[1].bar(group['female'].index, group['female'], color='tomato')\n",
    "\n",
    "for ax in axes:\n",
    "    # y 범위를 0~200까지로 한다\n",
    "    ax.set_ylim(0, 200)\n",
    "    \n",
    "plt.show()"
   ]
  },
  {
   "cell_type": "markdown",
   "metadata": {
    "id": "B-w4fpwc58Z5"
   },
   "source": [
    "Group간의 비교가 어렵다는 단점이 있습니다."
   ]
  },
  {
   "cell_type": "markdown",
   "metadata": {
    "id": "BTB3Wpt458Z5"
   },
   "source": [
    "### 2-2. Stacked Bar Plot\n",
    "\n",
    "쌓아서 보면 그룹 A, B, C, D, E에 대한 전체 비율은 알기 쉽습니다.\n",
    "\n",
    "\n",
    "`bottom` 파라미터를 사용해서 아래 공간을 비워둘 수 있습니다.\n",
    "\n",
    "\n",
    "가독성이나 효용성이 좋은 편은 아니다. 사용하려면 순서를 다양하게 제공해 가독성을 올리는것이 좋다"
   ]
  },
  {
   "cell_type": "code",
   "execution_count": 11,
   "metadata": {
    "id": "ZbucIuVT58Z5"
   },
   "outputs": [
    {
     "data": {
      "image/png": "[encoded data removed]",
      "text/plain": [
       "<Figure size 1080x504 with 2 Axes>"
      ]
     },
     "metadata": {
      "needs_background": "light"
     },
     "output_type": "display_data"
    }
   ],
   "source": [
    "fig, axes = plt.subplots(1, 2, figsize=(15, 7))\n",
    "\n",
    "group_cnt = student['race/ethnicity'].value_counts().sort_index()\n",
    "\n",
    "# 각데이터를 그냥 합침\n",
    "axes[0].bar(group_cnt.index, group_cnt, color='darkgray')\n",
    "\n",
    "# 성별별로 다른 색으로 stack\n",
    "axes[1].bar(group['male'].index, group['male'], color='royalblue')\n",
    "axes[1].bar(group['female'].index, group['female'], bottom=group['male'], color='tomato')\n",
    "\n",
    "for ax in axes:\n",
    "    ax.set_ylim(0, 350)\n",
    "    \n",
    "plt.show()"
   ]
  },
  {
   "cell_type": "markdown",
   "metadata": {
    "id": "TgRw5p6a58Z6"
   },
   "source": [
    "\n",
    "### 2-3. Percentage Stacked Bar Plot\n",
    "\n",
    "좀 더 advanced한 테크닉을 사용한다면 다음과 같습니다."
   ]
  },
  {
   "cell_type": "code",
   "execution_count": 12,
   "metadata": {
    "id": "45wUi-Wt58Z6"
   },
   "outputs": [
    {
     "data": {
      "image/png": "[encoded data removed]",
      "text/plain": [
       "<Figure size 864x504 with 1 Axes>"
      ]
     },
     "metadata": {
      "needs_background": "light"
     },
     "output_type": "display_data"
    }
   ],
   "source": [
    "fig, ax = plt.subplots(1, 1, figsize=(12, 7))\n",
    "\n",
    "group = group.sort_index(ascending=False) # 역순 정렬\n",
    "total=group['male']+group['female'] # 각 그룹별 합\n",
    "\n",
    "# total로 나눠 백분위로\n",
    "ax.barh(group['male'].index, group['male']/total, \n",
    "        color='royalblue')\n",
    "\n",
    "# total로 나눠 백분위로\n",
    "ax.barh(group['female'].index, group['female']/total, \n",
    "        left=group['male']/total, \n",
    "        color='tomato')\n",
    "\n",
    "ax.set_xlim(0, 1)\n",
    "\n",
    "# 테두리 없애기 ('top', 'bottom', 'left', 'right')\n",
    "for s in ['top', 'bottom', 'left', 'right']:\n",
    "    ax.spines[s].set_visible(False)\n",
    "\n",
    "plt.show()"
   ]
  },
  {
   "cell_type": "markdown",
   "metadata": {
    "id": "e3sB5jw358Z6"
   },
   "source": [
    "### 2-4. Overlapped Bar Plot\n",
    "\n",
    "겹치는 투명도는 꼭 정해진 것이 아닌 다양한 실험을 통해 선택하면 됩니다."
   ]
  },
  {
   "cell_type": "code",
   "execution_count": 13,
   "metadata": {
    "id": "gue0NF7W58Z6"
   },
   "outputs": [
    {
     "data": {
      "image/png": "[encoded data removed]",
      "text/plain": [
       "<Figure size 864x864 with 4 Axes>"
      ]
     },
     "metadata": {
      "needs_background": "light"
     },
     "output_type": "display_data"
    }
   ],
   "source": [
    "group = group.sort_index() # 다시 정렬\n",
    "\n",
    "fig, axes = plt.subplots(2, 2, figsize=(12, 12))\n",
    "axes = axes.flatten()\n",
    "\n",
    "for idx, alpha in enumerate([1, 0.7, 0.5, 0.3]):\n",
    "    axes[idx].bar(group['male'].index, group['male'], \n",
    "                  color='royalblue', \n",
    "                  alpha=alpha)\n",
    "    axes[idx].bar(group['female'].index, group['female'],\n",
    "                  color='tomato',\n",
    "                  alpha=alpha)\n",
    "    axes[idx].set_title(f'Alpha = {alpha}')\n",
    "    \n",
    "for ax in axes:\n",
    "    ax.set_ylim(0, 200)\n",
    "    \n",
    "    \n",
    "plt.show()"
   ]
  },
  {
   "cell_type": "markdown",
   "metadata": {
    "id": "hGP8I2EL58Z6"
   },
   "source": [
    "### 2-5. Grouped Bar Plot\n",
    "\n",
    "x,y축을 정해주고 조정해줘야한다.  \n",
    "크게 3가지 테크닉으로 구현 가능합니다.\n",
    "\n",
    "- x축 조정\n",
    "- `width`  조정\n",
    "- `xticks`, `xticklabels`\n",
    "\n",
    "원래 x축이 0, 1, 2, 3로 시작한다면  \n",
    "- 한 그래프는 0-width/2, 1-width/2, 2-width/2 로 구성하면 되고  \n",
    "- 한 그래프는 0+width/2, 1+width/2, 2+width/2 로 구성하면 됩니다."
   ]
  },
  {
   "cell_type": "code",
   "execution_count": 14,
   "metadata": {
    "id": "kKJ9ok4258Z7"
   },
   "outputs": [
    {
     "data": {
      "image/png": "[encoded data removed]",
      "text/plain": [
       "<Figure size 864x504 with 1 Axes>"
      ]
     },
     "metadata": {
      "needs_background": "light"
     },
     "output_type": "display_data"
    }
   ],
   "source": [
    "fig, ax = plt.subplots(1, 1, figsize=(12, 7))\n",
    "\n",
    "idx = np.arange(len(group['male'].index))\n",
    "width=0.35\n",
    "\n",
    "ax.bar(idx-width/2, group['male'], \n",
    "       color='royalblue',\n",
    "       width=width)\n",
    "\n",
    "ax.bar(idx+width/2, group['female'], \n",
    "       color='tomato',\n",
    "       width=width)\n",
    "\n",
    "ax.set_xticks(idx)\n",
    "ax.set_xticklabels(group['male'].index)\n",
    "    \n",
    "plt.show()"
   ]
  },
  {
   "cell_type": "markdown",
   "metadata": {
    "id": "M_GcaayZ58Z7"
   },
   "source": [
    "그리고 추가적으로 label + legend를 달아 색에 대한 설명도 추가하면 좋습니다."
   ]
  },
  {
   "cell_type": "code",
   "execution_count": 15,
   "metadata": {
    "id": "ysVCO0JU58Z7"
   },
   "outputs": [
    {
     "data": {
      "image/png": "[encoded data removed]",
      "text/plain": [
       "<Figure size 864x504 with 1 Axes>"
      ]
     },
     "metadata": {
      "needs_background": "light"
     },
     "output_type": "display_data"
    }
   ],
   "source": [
    "fig, ax = plt.subplots(1, 1, figsize=(12, 7))\n",
    "\n",
    "# 전체 길이를 arange하면 idx이다.\n",
    "idx = np.arange(len(group['male'].index))\n",
    "width=0.35\n",
    "\n",
    "# 각 idx를 기준으로 위치조정\n",
    "ax.bar(idx-width/2, group['male'], \n",
    "       color='royalblue',\n",
    "       width=width, label='Male')\n",
    "\n",
    "ax.bar(idx+width/2, group['female'], \n",
    "       color='tomato',\n",
    "       width=width, label='Female')\n",
    "\n",
    "ax.set_xticks(idx)\n",
    "ax.set_xticklabels(group['male'].index)\n",
    "ax.legend()    \n",
    "    \n",
    "plt.show()"
   ]
  },
  {
   "cell_type": "markdown",
   "metadata": {
    "id": "DDO3Jswm58Z8"
   },
   "source": [
    "그렇다면 그룹이 N개 일때는 어떻게 하면 될까요?\n",
    "\n",
    "그룹의 개수에 따라 x좌표는 다음과 같습니다.\n",
    "\n",
    "- 2개 : -1/2, +1/2\n",
    "- 3개 : -1, 0, +1 (-2/2, 0, +2/2)\n",
    "- 4개 : -3/2, -1/2, +1/2, +3/2\n",
    "\n",
    "규칙이 보이시나요?\n",
    "\n",
    "$-\\frac{N-1}{2}$에서 $\\frac{N-1}{2}$까지 분자에 2간격으로 커지는 것이 특징입니다.\n",
    "\n",
    "\n",
    "그렇다면 index i(zero-index)에 대해서는 다음과 같이 x좌표를 계산할 수 있습니다.\n",
    "\n",
    "$x+\\frac{-N+1+2\\times i}{2}\\times width$\n",
    "\n",
    "이번엔 인종/민족 그룹에 따른 Parental Level of Education Grouped Bar Plot으로 그려보겠습니다."
   ]
  },
  {
   "cell_type": "code",
   "execution_count": 16,
   "metadata": {
    "id": "zF9abJt658Z8"
   },
   "outputs": [],
   "source": [
    "group = student.groupby('parental level of education')['race/ethnicity'].value_counts().sort_index()\n",
    "group_list = sorted(student['race/ethnicity'].unique())\n",
    "edu_lv = student['parental level of education'].unique()"
   ]
  },
  {
   "cell_type": "code",
   "execution_count": 29,
   "metadata": {
    "id": "Fo09bHKL58Z8"
   },
   "outputs": [
    {
     "data": {
      "image/png": "[encoded data removed]",
      "text/plain": [
       "<Figure size 936x504 with 1 Axes>"
      ]
     },
     "metadata": {
      "needs_background": "light"
     },
     "output_type": "display_data"
    }
   ],
   "source": [
    "fig, ax = plt.subplots(1, 1, figsize=(13, 7))\n",
    "\n",
    "x = np.arange(len(group_list))\n",
    "width=0.12\n",
    "\n",
    "for idx, g in enumerate(edu_lv):\n",
    "    ax.bar(x+(-len(edu_lv)+1+2*idx)*width/2, group[g], \n",
    "       width=width, label=g)\n",
    "\n",
    "ax.set_xticks(x)\n",
    "ax.set_xticklabels(group_list)\n",
    "ax.legend()    \n",
    "    \n",
    "plt.show()"
   ]
  },
  {
   "cell_type": "markdown",
   "metadata": {
    "id": "JV0afJnc58Z8"
   },
   "source": [
    "## 3. 정확한 Bar Plot\n",
    "\n",
    "### 3-1. Principle of Proportion Ink\n",
    "\n",
    "성별에 따른 성적을 막대그래프로 비교해보겠습니다."
   ]
  },
  {
   "cell_type": "code",
   "execution_count": 18,
   "metadata": {
    "id": "RjY1Vj7g58Z8"
   },
   "outputs": [
    {
     "data": {
      "text/html": [
       "<div>\n",
       "<style scoped>\n",
       "    .dataframe tbody tr th:only-of-type {\n",
       "        vertical-align: middle;\n",
       "    }\n",
       "\n",
       "    .dataframe tbody tr th {\n",
       "        vertical-align: top;\n",
       "    }\n",
       "\n",
       "    .dataframe thead th {\n",
       "        text-align: right;\n",
       "    }\n",
       "</style>\n",
       "<table border=\"1\" class=\"dataframe\">\n",
       "  <thead>\n",
       "    <tr style=\"text-align: right;\">\n",
       "      <th>gender</th>\n",
       "      <th>female</th>\n",
       "      <th>male</th>\n",
       "    </tr>\n",
       "  </thead>\n",
       "  <tbody>\n",
       "    <tr>\n",
       "      <th>math score</th>\n",
       "      <td>63.633205</td>\n",
       "      <td>68.728216</td>\n",
       "    </tr>\n",
       "    <tr>\n",
       "      <th>reading score</th>\n",
       "      <td>72.608108</td>\n",
       "      <td>65.473029</td>\n",
       "    </tr>\n",
       "    <tr>\n",
       "      <th>writing score</th>\n",
       "      <td>72.467181</td>\n",
       "      <td>63.311203</td>\n",
       "    </tr>\n",
       "  </tbody>\n",
       "</table>\n",
       "</div>"
      ],
      "text/plain": [
       "gender            female       male\n",
       "math score     63.633205  68.728216\n",
       "reading score  72.608108  65.473029\n",
       "writing score  72.467181  63.311203"
      ]
     },
     "execution_count": 18,
     "metadata": {},
     "output_type": "execute_result"
    }
   ],
   "source": [
    "# 성별에 따른 성적 평균\n",
    "score = student.groupby('gender').mean().T\n",
    "score"
   ]
  },
  {
   "cell_type": "code",
   "execution_count": 19,
   "metadata": {
    "id": "1chGUcJ258Z9"
   },
   "outputs": [
    {
     "data": {
      "image/png": "[encoded data removed]",
      "text/plain": [
       "<Figure size 1080x504 with 2 Axes>"
      ]
     },
     "metadata": {
      "needs_background": "light"
     },
     "output_type": "display_data"
    }
   ],
   "source": [
    "fig, axes = plt.subplots(1, 2, figsize=(15, 7))\n",
    "\n",
    "idx = np.arange(len(score.index))\n",
    "width=0.3\n",
    "\n",
    "for ax in axes:\n",
    "    ax.bar(idx-width/2, score['male'], \n",
    "           color='royalblue',\n",
    "           width=width)\n",
    "\n",
    "    ax.bar(idx+width/2, score['female'], \n",
    "           color='tomato',\n",
    "           width=width)\n",
    " \n",
    "    ax.set_xticks(idx)\n",
    "    ax.set_xticklabels(score.index)\n",
    "\n",
    "axes[0].set_ylim(60, 75)\n",
    "    \n",
    "plt.show()"
   ]
  },
  {
   "cell_type": "markdown",
   "metadata": {
    "id": "loiXACzq58Z9"
   },
   "source": [
    "비교를 위한다면 세로를 늘리는 게 더 좋을 수 있습니다."
   ]
  },
  {
   "cell_type": "code",
   "execution_count": 20,
   "metadata": {
    "id": "Ce1lqrxn58Z9"
   },
   "outputs": [
    {
     "data": {
      "image/png": "[encoded data removed]",
      "text/plain": [
       "<Figure size 432x720 with 1 Axes>"
      ]
     },
     "metadata": {
      "needs_background": "light"
     },
     "output_type": "display_data"
    }
   ],
   "source": [
    "fig, ax = plt.subplots(1, 1, figsize=(6, 10))\n",
    "\n",
    "idx = np.arange(len(score.index))\n",
    "width=0.3\n",
    "\n",
    "ax.bar(idx-width/2, score['male'], \n",
    "       color='royalblue',\n",
    "       width=width)\n",
    "\n",
    "ax.bar(idx+width/2, score['female'], \n",
    "       color='tomato',\n",
    "       width=width)\n",
    "\n",
    "ax.set_xticks(idx)\n",
    "ax.set_xticklabels(score.index)\n",
    "\n",
    "\n",
    "    \n",
    "plt.show()"
   ]
  },
  {
   "cell_type": "markdown",
   "metadata": {
    "id": "I_daiBUg58Z9"
   },
   "source": [
    "### 3-2 데이터 정렬하기"
   ]
  },
  {
   "cell_type": "code",
   "execution_count": 21,
   "metadata": {
    "id": "H_v-iL8558Z9"
   },
   "outputs": [
    {
     "data": {
      "text/html": [
       "<div>\n",
       "<style scoped>\n",
       "    .dataframe tbody tr th:only-of-type {\n",
       "        vertical-align: middle;\n",
       "    }\n",
       "\n",
       "    .dataframe tbody tr th {\n",
       "        vertical-align: top;\n",
       "    }\n",
       "\n",
       "    .dataframe thead th {\n",
       "        text-align: right;\n",
       "    }\n",
       "</style>\n",
       "<table border=\"1\" class=\"dataframe\">\n",
       "  <thead>\n",
       "    <tr style=\"text-align: right;\">\n",
       "      <th></th>\n",
       "      <th>gender</th>\n",
       "      <th>race/ethnicity</th>\n",
       "      <th>parental level of education</th>\n",
       "      <th>lunch</th>\n",
       "      <th>test preparation course</th>\n",
       "      <th>math score</th>\n",
       "      <th>reading score</th>\n",
       "      <th>writing score</th>\n",
       "    </tr>\n",
       "  </thead>\n",
       "  <tbody>\n",
       "    <tr>\n",
       "      <th>0</th>\n",
       "      <td>female</td>\n",
       "      <td>group B</td>\n",
       "      <td>bachelor's degree</td>\n",
       "      <td>standard</td>\n",
       "      <td>none</td>\n",
       "      <td>72</td>\n",
       "      <td>72</td>\n",
       "      <td>74</td>\n",
       "    </tr>\n",
       "    <tr>\n",
       "      <th>1</th>\n",
       "      <td>female</td>\n",
       "      <td>group C</td>\n",
       "      <td>some college</td>\n",
       "      <td>standard</td>\n",
       "      <td>completed</td>\n",
       "      <td>69</td>\n",
       "      <td>90</td>\n",
       "      <td>88</td>\n",
       "    </tr>\n",
       "    <tr>\n",
       "      <th>2</th>\n",
       "      <td>female</td>\n",
       "      <td>group B</td>\n",
       "      <td>master's degree</td>\n",
       "      <td>standard</td>\n",
       "      <td>none</td>\n",
       "      <td>90</td>\n",
       "      <td>95</td>\n",
       "      <td>93</td>\n",
       "    </tr>\n",
       "    <tr>\n",
       "      <th>3</th>\n",
       "      <td>male</td>\n",
       "      <td>group A</td>\n",
       "      <td>associate's degree</td>\n",
       "      <td>free/reduced</td>\n",
       "      <td>none</td>\n",
       "      <td>47</td>\n",
       "      <td>57</td>\n",
       "      <td>44</td>\n",
       "    </tr>\n",
       "    <tr>\n",
       "      <th>4</th>\n",
       "      <td>male</td>\n",
       "      <td>group C</td>\n",
       "      <td>some college</td>\n",
       "      <td>standard</td>\n",
       "      <td>none</td>\n",
       "      <td>76</td>\n",
       "      <td>78</td>\n",
       "      <td>75</td>\n",
       "    </tr>\n",
       "  </tbody>\n",
       "</table>\n",
       "</div>"
      ],
      "text/plain": [
       "   gender race/ethnicity parental level of education         lunch  \\\n",
       "0  female        group B           bachelor's degree      standard   \n",
       "1  female        group C                some college      standard   \n",
       "2  female        group B             master's degree      standard   \n",
       "3    male        group A          associate's degree  free/reduced   \n",
       "4    male        group C                some college      standard   \n",
       "\n",
       "  test preparation course  math score  reading score  writing score  \n",
       "0                    none          72             72             74  \n",
       "1               completed          69             90             88  \n",
       "2                    none          90             95             93  \n",
       "3                    none          47             57             44  \n",
       "4                    none          76             78             75  "
      ]
     },
     "execution_count": 21,
     "metadata": {},
     "output_type": "execute_result"
    }
   ],
   "source": [
    "student.head()"
   ]
  },
  {
   "cell_type": "markdown",
   "metadata": {
    "id": "VpR3gFDT58Z9"
   },
   "source": [
    "### 3-3. 적절한 공간 활용 \n",
    "\n",
    "다양한 공간 테크닉을 살펴보겠습니다.\n",
    "\n",
    "대조군을 위해 2개의 같은 플롯을 그려보겠습니다.\n",
    "\n",
    "- X/Y axis Limit (`.set_xlim()`, `.set_ylime()`)\n",
    "- Margins (`.margins()`)\n",
    "- Gap (`width`)\n",
    "- Spines (`.spines[spine].set_visible()`)\n"
   ]
  },
  {
   "cell_type": "code",
   "execution_count": 22,
   "metadata": {
    "id": "GWvUIoPE58Z-"
   },
   "outputs": [
    {
     "data": {
      "image/png": "[encoded data removed]",
      "text/plain": [
       "<Figure size 1080x504 with 2 Axes>"
      ]
     },
     "metadata": {
      "needs_background": "light"
     },
     "output_type": "display_data"
    }
   ],
   "source": [
    "# group_cnt 는 인종,민족에 따른 수치\n",
    "group_cnt = student['race/ethnicity'].value_counts().sort_index()\n",
    "\n",
    "fig = plt.figure(figsize=(15, 7))\n",
    "\n",
    "ax_basic = fig.add_subplot(1, 2, 1)\n",
    "ax = fig.add_subplot(1, 2, 2)\n",
    "\n",
    "ax_basic.bar(group_cnt.index, group_cnt)\n",
    "ax.bar(group_cnt.index, group_cnt,\n",
    "       width=0.7,# 두께를 조금더 얇게\n",
    "       edgecolor='black', # bar 테두리 생성\n",
    "       linewidth=2,\n",
    "       color='royalblue'\n",
    "      )\n",
    "\n",
    "ax.margins(0.1, 0.1)\n",
    "\n",
    "for s in ['top', 'right']:\n",
    "    ax.spines[s].set_visible(False)\n",
    "\n",
    "plt.show()"
   ]
  },
  {
   "cell_type": "markdown",
   "metadata": {
    "id": "n6ErJwAE58Z-"
   },
   "source": [
    "### 3-4. 복잡함과 단순함\n",
    "\n",
    "그리드나 텍스트를 추가해보며 어떤 게 더 좋을지 고민해보겠습니다."
   ]
  },
  {
   "cell_type": "code",
   "execution_count": 31,
   "metadata": {
    "id": "zeFomv7m58Z-"
   },
   "outputs": [
    {
     "data": {
      "image/png": "[encoded data removed]",
      "text/plain": [
       "<Figure size 1080x504 with 2 Axes>"
      ]
     },
     "metadata": {
      "needs_background": "light"
     },
     "output_type": "display_data"
    }
   ],
   "source": [
    "group_cnt = student['race/ethnicity'].value_counts().sort_index()\n",
    "\n",
    "fig, axes = plt.subplots(1, 2, figsize=(15, 7))\n",
    "\n",
    "for ax in axes:\n",
    "    ax.bar(group_cnt.index, group_cnt,\n",
    "           width=0.7,\n",
    "           edgecolor='black',\n",
    "           linewidth=2,\n",
    "           color='royalblue',\n",
    "           zorder=10\n",
    "          )\n",
    "\n",
    "    ax.margins(0.1, 0.1)\n",
    "\n",
    "    for s in ['top', 'right']:\n",
    "        ax.spines[s].set_visible(False)\n",
    "\n",
    "axes[1].grid(zorder=0)\n",
    "\n",
    "for idx, value in zip(group_cnt.index, group_cnt):\n",
    "    axes[1].text(idx, value+5, s=value,\n",
    "                 ha='center', \n",
    "                 fontweight='bold'\n",
    "                )\n",
    "        \n",
    "plt.show()"
   ]
  },
  {
   "cell_type": "markdown",
   "metadata": {
    "id": "yodFb0qU58Z-"
   },
   "source": [
    "### 3-5. ETC\n",
    "\n",
    "오차막대(`errorbar`)를 사용하여 편차 등의 정보를 추가해보겠습니다."
   ]
  },
  {
   "cell_type": "code",
   "execution_count": 24,
   "metadata": {
    "id": "uZfwlBAz58Z-"
   },
   "outputs": [
    {
     "data": {
      "text/html": [
       "<div>\n",
       "<style scoped>\n",
       "    .dataframe tbody tr th:only-of-type {\n",
       "        vertical-align: middle;\n",
       "    }\n",
       "\n",
       "    .dataframe tbody tr th {\n",
       "        vertical-align: top;\n",
       "    }\n",
       "\n",
       "    .dataframe thead th {\n",
       "        text-align: right;\n",
       "    }\n",
       "</style>\n",
       "<table border=\"1\" class=\"dataframe\">\n",
       "  <thead>\n",
       "    <tr style=\"text-align: right;\">\n",
       "      <th>gender</th>\n",
       "      <th>female</th>\n",
       "      <th>male</th>\n",
       "    </tr>\n",
       "  </thead>\n",
       "  <tbody>\n",
       "    <tr>\n",
       "      <th>math score</th>\n",
       "      <td>15.491453</td>\n",
       "      <td>14.356277</td>\n",
       "    </tr>\n",
       "    <tr>\n",
       "      <th>reading score</th>\n",
       "      <td>14.378245</td>\n",
       "      <td>13.931832</td>\n",
       "    </tr>\n",
       "    <tr>\n",
       "      <th>writing score</th>\n",
       "      <td>14.844842</td>\n",
       "      <td>14.113832</td>\n",
       "    </tr>\n",
       "  </tbody>\n",
       "</table>\n",
       "</div>"
      ],
      "text/plain": [
       "gender            female       male\n",
       "math score     15.491453  14.356277\n",
       "reading score  14.378245  13.931832\n",
       "writing score  14.844842  14.113832"
      ]
     },
     "execution_count": 24,
     "metadata": {},
     "output_type": "execute_result"
    }
   ],
   "source": [
    "score_var = student.groupby('gender').std().T\n",
    "score_var"
   ]
  },
  {
   "cell_type": "code",
   "execution_count": 25,
   "metadata": {
    "id": "cugesCz_58Z_"
   },
   "outputs": [
    {
     "data": {
      "image/png": "[encoded data removed]",
      "text/plain": [
       "<Figure size 720x720 with 1 Axes>"
      ]
     },
     "metadata": {
      "needs_background": "light"
     },
     "output_type": "display_data"
    }
   ],
   "source": [
    "fig, ax = plt.subplots(1, 1, figsize=(10, 10))\n",
    "\n",
    "idx = np.arange(len(score.index))\n",
    "width=0.3\n",
    "\n",
    "\n",
    "ax.bar(idx-width/2, score['male'], \n",
    "       color='royalblue',\n",
    "       width=width,\n",
    "       label='Male',\n",
    "       yerr=score_var['male'],\n",
    "       capsize=10\n",
    "      )\n",
    "\n",
    "ax.bar(idx+width/2, score['female'], \n",
    "       color='tomato',\n",
    "       width=width,\n",
    "       label='Female',\n",
    "       yerr=score_var['female'],\n",
    "       capsize=10\n",
    "      )\n",
    "\n",
    "ax.set_xticks(idx)\n",
    "ax.set_xticklabels(score.index)\n",
    "ax.set_ylim(0, 100)\n",
    "\n",
    "# 테두리 제거\n",
    "ax.spines['top'].set_visible(False)\n",
    "ax.spines['right'].set_visible(False)\n",
    "\n",
    "ax.legend()\n",
    "ax.set_title('Gender / Score', fontsize=20)\n",
    "ax.set_xlabel('Subject', fontweight='bold')\n",
    "ax.set_ylabel('Score', fontweight='bold')\n",
    "\n",
    "plt.show()"
   ]
  },
  {
   "cell_type": "code",
   "execution_count": null,
   "metadata": {
    "id": "mCjGgUI058Z_"
   },
   "outputs": [],
   "source": []
  }
 ],
 "metadata": {
  "colab": {
   "name": "2-1-Barplot.ipynb의 사본",
   "provenance": []
  },
  "kernelspec": {
   "display_name": "Python 3 (ipykernel)",
   "language": "python",
   "name": "python3"
  },
  "language_info": {
   "codemirror_mode": {
    "name": "ipython",
    "version": 3
   },
   "file_extension": ".py",
   "mimetype": "text/x-python",
   "name": "python",
   "nbconvert_exporter": "python",
   "pygments_lexer": "ipython3",
   "version": "3.8.11"
  }
 },
 "nbformat": 4,
 "nbformat_minor": 1
}
