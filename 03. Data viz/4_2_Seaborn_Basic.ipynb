{
  "nbformat": 4,
  "nbformat_minor": 0,
  "metadata": {
    "kernelspec": {
      "display_name": "Python 3",
      "language": "python",
      "name": "python3"
    },
    "language_info": {
      "codemirror_mode": {
        "name": "ipython",
        "version": 3
      },
      "file_extension": ".py",
      "mimetype": "text/x-python",
      "name": "python",
      "nbconvert_exporter": "python",
      "pygments_lexer": "ipython3",
      "version": "3.8.0"
    },
    "colab": {
      "name": "4-2-Seaborn-Basic.ipynb",
      "provenance": [],
      "collapsed_sections": [
        "U7ywmckfeztp",
        "v_Q9lGFheztr",
        "VKBzbfqSeztx",
        "2obgp0qbezty",
        "xQf1SHoiezty",
        "CUPPJWONezt0"
      ]
    }
  },
  "cells": [
    {
      "cell_type": "markdown",
      "metadata": {
        "id": "X4k0oVsHeztc"
      },
      "source": [
        "# 4-2. Seaborn 기초\n",
        "\n",
        "기본적인 분류 5가지의 기본적인 종류의 통계 시각화와 형태를 살펴봅시다.\n",
        "\n",
        "- Categorical API\n",
        "- Distribution API\n",
        "- Relational API\n",
        "- Regression API\n",
        "- Matrix API\n",
        "\n",
        "\n",
        "## 1. Seaborn의 구조 살펴보기\n",
        "\n",
        "### 1-1. 라이브러리와 데이터셋 호출"
      ]
    },
    {
      "cell_type": "code",
      "metadata": {
        "id": "JD07rVzzezti"
      },
      "source": [
        "# !pip install seaborn"
      ],
      "execution_count": null,
      "outputs": []
    },
    {
      "cell_type": "code",
      "metadata": {
        "id": "8y-I_vKXezti"
      },
      "source": [
        "import numpy as np\n",
        "import pandas as pd\n",
        "import matplotlib as mpl\n",
        "import matplotlib.pyplot as plt\n",
        "import seaborn as sns\n",
        "\n",
        "print('seaborn version : ', sns.__version__)"
      ],
      "execution_count": null,
      "outputs": []
    },
    {
      "cell_type": "code",
      "metadata": {
        "id": "5gtwvWd0eztj"
      },
      "source": [
        "student = pd.read_csv('./StudentsPerformance.csv')\n",
        "student.head()"
      ],
      "execution_count": null,
      "outputs": []
    },
    {
      "cell_type": "markdown",
      "metadata": {
        "id": "CRJov472eztk"
      },
      "source": [
        "### 1-2. Countplot으로 살펴보는 공통 파라미터\n",
        "\n",
        "`countplot`은 seaborn의 Categorical API에서 대표적인 시각화로 범주를 이산적으로 세서 막대 그래프로 그려주는 함수입니다.\n",
        "\n",
        "기본적으로 다음과 같은 파라미터가 있습니다. 설명에서 말하는 df는 pandas의 DataFrame을 의미합니다.\n",
        "\n",
        "- `x` \n",
        "- `y`\n",
        "- `data`\n",
        "- `hue`\n",
        "    - `hue_order`\n",
        "- `palette`\n",
        "- `color`\n",
        "- `saturate`\n",
        "- `ax`\n",
        "\n",
        "이 중 `x`, `y`, `hue` 등은 기본적으로 `df`의 feature를 의미합니다. `dict`라면 key를 의미합니다."
      ]
    },
    {
      "cell_type": "code",
      "metadata": {
        "id": "6l9j6h_qeztk"
      },
      "source": [
        "sns.countplot(x='race/ethnicity', data=student)"
      ],
      "execution_count": null,
      "outputs": []
    },
    {
      "cell_type": "markdown",
      "metadata": {
        "id": "pc6-W9RPeztl"
      },
      "source": [
        "방향을 바꾸는 방법은 파라미터로 전달되는 x와 y값을 바꾸면 됩니다."
      ]
    },
    {
      "cell_type": "code",
      "metadata": {
        "id": "Ettmn70zeztl"
      },
      "source": [
        "sns.countplot(y='race/ethnicity',data=student)"
      ],
      "execution_count": null,
      "outputs": []
    },
    {
      "cell_type": "markdown",
      "metadata": {
        "id": "WcW2wfONeztl"
      },
      "source": [
        "하지만 x, y가 변경되었을 때, 두 축 모두 자료형이 같다면 방향 설정이 원하는 방식대로 진행이 되지 않을 수 있습니다.\n",
        "이럴 때는 `oriented`를 `v` 또는 `h`로 전달하여 원하는 시각화를 진행할 수 있습니다. 이는 추후 다른 차트에서 살펴보도록 하겠습니다.\n",
        "\n",
        "그리고 현재 데이터의 순서가 지정되지 않았습니다. 이는 `order`로 순서를 명시할 수 있습니다."
      ]
    },
    {
      "cell_type": "code",
      "metadata": {
        "id": "TYsuwZrleztm"
      },
      "source": [
        "sns.countplot(x='race/ethnicity',data=student,\n",
        "             order=sorted(student['race/ethnicity'].unique())\n",
        "             \n",
        "             )"
      ],
      "execution_count": null,
      "outputs": []
    },
    {
      "cell_type": "markdown",
      "metadata": {
        "id": "8SxFLePYeztm"
      },
      "source": [
        "hue는 색을 의미하는데, 데이터의 구분 기준을 정하여 색상을 통해 내용을 구분합니다."
      ]
    },
    {
      "cell_type": "code",
      "metadata": {
        "id": "WFo2uzdeeztm"
      },
      "source": [
        "sns.countplot(x='race/ethnicity',data=student,\n",
        "              hue='gender', \n",
        "              order=sorted(student['race/ethnicity'].unique())\n",
        "             )"
      ],
      "execution_count": null,
      "outputs": []
    },
    {
      "cell_type": "markdown",
      "metadata": {
        "id": "tqnlUVzCeztm"
      },
      "source": [
        "색은 palette를 변경하여 바꿀 수 있습니다."
      ]
    },
    {
      "cell_type": "code",
      "metadata": {
        "id": "_NJqlRnOeztn"
      },
      "source": [
        "sns.countplot(x='race/ethnicity',data=student,\n",
        "              hue='gender', palette='Set2'\n",
        "             )"
      ],
      "execution_count": null,
      "outputs": []
    },
    {
      "cell_type": "markdown",
      "metadata": {
        "id": "N13gVVE3eztn"
      },
      "source": [
        "hue로 지정된 그룹을 Gradient 색상을 전달할 수 있습니다."
      ]
    },
    {
      "cell_type": "code",
      "metadata": {
        "id": "qUqzDAUdeztn"
      },
      "source": [
        "sns.countplot(x='gender',data=student,\n",
        "              hue='race/ethnicity', color='red'\n",
        "             )"
      ],
      "execution_count": null,
      "outputs": []
    },
    {
      "cell_type": "markdown",
      "metadata": {
        "id": "UjncXvoleztn"
      },
      "source": [
        "색으로 구분하게 될 때, 순서가 애매해질 수 있습니다. 이럴 때는 `hue_order`의 순서를 정해줄 수 있습니다."
      ]
    },
    {
      "cell_type": "code",
      "metadata": {
        "id": "EElrMZJgeztn"
      },
      "source": [
        "sns.countplot(x='gender',data=student,\n",
        "              hue='race/ethnicity', \n",
        "              hue_order=sorted(student['race/ethnicity'].unique()) #, color='red'\n",
        "             )"
      ],
      "execution_count": null,
      "outputs": []
    },
    {
      "cell_type": "markdown",
      "metadata": {
        "id": "SR9p2s6Kezto"
      },
      "source": [
        "`saturation` 도 조정할 수 있지만 크게 추천하지는 않습니다."
      ]
    },
    {
      "cell_type": "code",
      "metadata": {
        "id": "jl0u9rcNezto"
      },
      "source": [
        "sns.countplot(x='gender',data=student,\n",
        "              hue='race/ethnicity', \n",
        "              hue_order=sorted(student['race/ethnicity'].unique()),\n",
        "              saturation=0.3\n",
        "             )"
      ],
      "execution_count": null,
      "outputs": []
    },
    {
      "cell_type": "markdown",
      "metadata": {
        "id": "FYPCT5pHezto"
      },
      "source": [
        "그리고 matplotlib과 함께 사용하기 적합하게 `ax` 를 지정하여 seaborn plot을 그릴 수 있습니다."
      ]
    },
    {
      "cell_type": "code",
      "metadata": {
        "id": "RwWtJ_7jezto"
      },
      "source": [
        "fig, axes = plt.subplots(1, 2, figsize=(12, 5))\n",
        "\n",
        "sns.countplot(x='race/ethnicity',data=student,\n",
        "              hue='gender', \n",
        "              ax=axes[0]\n",
        "             )\n",
        "\n",
        "sns.countplot(x='gender',data=student,\n",
        "              hue='race/ethnicity', \n",
        "              hue_order=sorted(student['race/ethnicity'].unique()), \n",
        "              ax=axes[1]\n",
        "             )\n",
        "\n",
        "plt.show()"
      ],
      "execution_count": null,
      "outputs": []
    },
    {
      "cell_type": "markdown",
      "metadata": {
        "id": "apVEVOgyezto"
      },
      "source": [
        "이제 구체적으로 살펴봅시다."
      ]
    },
    {
      "cell_type": "markdown",
      "metadata": {
        "id": "1mrgoWhBeztp"
      },
      "source": [
        "## 2. Categorical API\n",
        "\n",
        "데이터의 통계량을 기본적으로 살펴보겠습니다.\n",
        "\n",
        "- `count`\n",
        "    - missing value\n",
        "    \n",
        "데이터가 정규분포에 가깝다면 평균과 표준 편차를 살피는 게 의미가 될 수 있습니다.\n",
        "\n",
        "- `mean` (평균)\n",
        "- `std` (표준 편차)\n",
        "\n",
        "하지만 데이터가 정규분포에 가깝지 않다면 다른 방식으로 대표값을 뽑는 게 더 좋을 수 있습니다.\n",
        "\n",
        "> 예시로 직원 월급 평균에서 임원급 월급은 빼야하듯?\n",
        "\n",
        "분위수란 자료의 크기 순서에 따른 위치값으로 백분위값으로 표기하는 게 일반적입니다.\n",
        "\n",
        "- 사분위수 : 데이터를 4등분한 관측값\n",
        "    - `min`\n",
        "    - `25%` (lower quartile)\n",
        "    - `50%` (median)\n",
        "    - `75%` (upper quartile)\n",
        "    - `max`\n",
        "\n"
      ]
    },
    {
      "cell_type": "code",
      "metadata": {
        "id": "El2KD6C1eztp"
      },
      "source": [
        "student.describe()"
      ],
      "execution_count": null,
      "outputs": []
    },
    {
      "cell_type": "markdown",
      "metadata": {
        "id": "U7ywmckfeztp"
      },
      "source": [
        "### 2-1. Box Plot\n",
        "\n",
        "- [Understanding Boxplots](https://towardsdatascience.com/understanding-boxplots-5e2df7bcbd51)\n",
        "\n",
        "분포를 살피는 대표적인 시각화 방법으로 Box plot이 있습니다.\n",
        "\n",
        "중간의 사각형은 25%, medium, 50% 값을 의미합니다."
      ]
    },
    {
      "cell_type": "code",
      "metadata": {
        "id": "MK9bY1Vdeztp"
      },
      "source": [
        "fig, ax = plt.subplots(1,1, figsize=(12, 5))\n",
        "sns.boxplot(x='math score', data=student, ax=ax)\n",
        "plt.show()"
      ],
      "execution_count": null,
      "outputs": []
    },
    {
      "cell_type": "markdown",
      "metadata": {
        "id": "EWytWMGseztp"
      },
      "source": [
        "추가적으로 Boxplot을 이해하기 위해서는 IQR을 알아야 합니다.\n",
        "\n",
        "- **interquartile range (IQR)**: 25th to the 75th percentile.\n",
        "\n",
        "그리고 Boxplot에서 outlier은 다음과 같이 표현하고 있습니다.\n",
        "\n",
        "- **whisker** : 박스 외부의 범위를 나타내는 선\n",
        "- **outlier** : -IQR*1.5과 +IQR*1.5을 벗어나는 값\n",
        "\n",
        "그래서 왼쪽과 오른쪽 막대는 +-IQR * 1.5 범위를 점들이 Outlier를 의미합니다.\n",
        "하지만 whisker의 길이는 같지 않습니다. 이는 실제 데이터의 위치를 반영하여 \n",
        "\n",
        "- min : -IQR * 1.5 보다 크거나 같은 값들 중 최솟값\n",
        "- max : +IQR * 1.5 보다 작거나 같은 값들 중 최댓값"
      ]
    },
    {
      "cell_type": "code",
      "metadata": {
        "id": "K1LlbA1Ueztq"
      },
      "source": [
        "fig, ax = plt.subplots(1,1, figsize=(10, 5))\n",
        "sns.boxplot(x='race/ethnicity', y='math score', data=student, \n",
        "            order=sorted(student['race/ethnicity'].unique()),\n",
        "            ax=ax)\n",
        "plt.show()"
      ],
      "execution_count": null,
      "outputs": []
    },
    {
      "cell_type": "markdown",
      "metadata": {
        "id": "9kY6Bs9Reztq"
      },
      "source": [
        "마찬가지로 분포를 다음과 같이 특정 key에 따라 살펴볼 수도 있습니다."
      ]
    },
    {
      "cell_type": "code",
      "metadata": {
        "id": "8ljXmAwjeztq"
      },
      "source": [
        "fig, ax = plt.subplots(1,1, figsize=(10, 5))\n",
        "\n",
        "sns.boxplot(x='race/ethnicity', y='math score', data=student,\n",
        "            hue='gender',\n",
        "            order=sorted(student['race/ethnicity'].unique()),\n",
        "            ax=ax)\n",
        "\n",
        "plt.show()"
      ],
      "execution_count": null,
      "outputs": []
    },
    {
      "cell_type": "markdown",
      "metadata": {
        "id": "9V960NQLeztq"
      },
      "source": [
        "다음 요소를 사용하여 시각화를 커스텀할 수 있습니다.\n",
        "\n",
        "- `width`\n",
        "- `linewidth`\n",
        "- `fliersize`"
      ]
    },
    {
      "cell_type": "code",
      "metadata": {
        "id": "IAVcA39Leztq"
      },
      "source": [
        "fig, ax = plt.subplots(1,1, figsize=(10, 5))\n",
        "\n",
        "sns.boxplot(x='race/ethnicity', y='math score', data=student,\n",
        "            hue='gender', \n",
        "            order=sorted(student['race/ethnicity'].unique()),\n",
        "            width=0.3,\n",
        "            linewidth=2,\n",
        "            fliersize=10,\n",
        "            ax=ax)\n",
        "\n",
        "plt.show()"
      ],
      "execution_count": null,
      "outputs": []
    },
    {
      "cell_type": "markdown",
      "metadata": {
        "id": "v_Q9lGFheztr"
      },
      "source": [
        "### 2-2. Violin Plot\n",
        "\n",
        "box plot은 대푯값을 잘 보여주지만 실제 분포를 표현하기에는 부족합니다. \n",
        "\n",
        "이런 분포에 대한 정보를 더 제공해주기에 적합한 방식 중 하나가 Violinplot입니다.\n",
        "\n",
        "이번에는 흰점이 50%를 중간 검정 막대가 IQR 범위를 의미합니다."
      ]
    },
    {
      "cell_type": "code",
      "metadata": {
        "id": "V-p8tAjteztr"
      },
      "source": [
        "fig, ax = plt.subplots(1,1, figsize=(12, 5))\n",
        "sns.violinplot(x='math score', data=student, ax=ax)\n",
        "plt.show()"
      ],
      "execution_count": null,
      "outputs": []
    },
    {
      "cell_type": "markdown",
      "metadata": {
        "id": "ddWaK5tkeztr"
      },
      "source": [
        "violin plot은 오해가 생기기 충분한 분포 표현 방식입니다.\n",
        "\n",
        "- 데이터는 연속적이지 않습니다. (kernel density estimate를 사용합니다.)\n",
        "- 또한 연속적 표현에서 생기는 데이터의 손실과 오차가 존재합니다.\n",
        "- 데이터의 범위가 없는 데이터까지 표시됩니다.\n",
        "\n",
        "이런 오해를 줄이고 정보량을 높이는 방법은 다음과 같은 방법이 있습니다.\n",
        "\n",
        "- `bw` : 분포 표현을 얼마나 자세하게 보여줄 것인가\n",
        "    - ‘scott’, ‘silverman’, float\n",
        "- `cut` : 끝부분을 얼마나 자를 것인가?\n",
        "    - float\n",
        "- `inner` : 내부를 어떻게 표현할 것인가 \n",
        "    - “box”, “quartile”, “point”, “stick”, None"
      ]
    },
    {
      "cell_type": "code",
      "metadata": {
        "id": "uPHX2OQbeztr"
      },
      "source": [
        "fig, ax = plt.subplots(1,1, figsize=(12, 5))\n",
        "sns.violinplot(x='math score', data=student, ax=ax,\n",
        "               bw=0.1,\n",
        "               cut=0,\n",
        "               inner='quartile'\n",
        "              )\n",
        "plt.show()"
      ],
      "execution_count": null,
      "outputs": []
    },
    {
      "cell_type": "markdown",
      "metadata": {
        "id": "CcWxyu5oezts"
      },
      "source": [
        "이제 hue를 사용하여 다양한 분포를 살펴보겠습니다."
      ]
    },
    {
      "cell_type": "code",
      "metadata": {
        "id": "iF-dcseDezts"
      },
      "source": [
        "fig, ax = plt.subplots(1,1, figsize=(12, 7))\n",
        "sns.violinplot(x='race/ethnicity', y='math score', data=student, ax=ax,\n",
        "               hue='gender', order=sorted(student['race/ethnicity'].unique())\n",
        "              )\n",
        "plt.show()"
      ],
      "execution_count": null,
      "outputs": []
    },
    {
      "cell_type": "markdown",
      "metadata": {
        "id": "E-9_Lm8fezts"
      },
      "source": [
        "여기서도 적합한 비교를 위해 다양한 변수를 조정할 수 있습니다.\n",
        "\n",
        "- `scale` : 각 바이올린의 종류\n",
        "    - “area”, “count”, “width”\n",
        "- `split` : 동시에 비교"
      ]
    },
    {
      "cell_type": "code",
      "metadata": {
        "id": "8qdgyN0Fezts"
      },
      "source": [
        "fig, ax = plt.subplots(1,1, figsize=(12, 7))\n",
        "sns.violinplot(x='race/ethnicity', y='math score', data=student, ax=ax,\n",
        "               order=sorted(student['race/ethnicity'].unique()),\n",
        "               scale='count'\n",
        "              )\n",
        "plt.show()"
      ],
      "execution_count": null,
      "outputs": []
    },
    {
      "cell_type": "code",
      "metadata": {
        "id": "mK6jqw0-ezts"
      },
      "source": [
        "fig, ax = plt.subplots(1,1, figsize=(12, 7))\n",
        "sns.violinplot(x='race/ethnicity', y='math score', data=student, ax=ax,\n",
        "               order=sorted(student['race/ethnicity'].unique()),\n",
        "               hue='gender',\n",
        "               split=True,\n",
        "               bw=0.2, cut=0\n",
        "              )\n",
        "plt.show()"
      ],
      "execution_count": null,
      "outputs": []
    },
    {
      "cell_type": "markdown",
      "metadata": {
        "id": "gJAt5bGQeztt"
      },
      "source": [
        "## 2-3. ETC"
      ]
    },
    {
      "cell_type": "code",
      "metadata": {
        "id": "dpbuzYyteztt"
      },
      "source": [
        "fig, axes = plt.subplots(3,1, figsize=(12, 21))\n",
        "sns.boxenplot(x='race/ethnicity', y='math score', data=student, ax=axes[0],\n",
        "               order=sorted(student['race/ethnicity'].unique()))\n",
        "\n",
        "sns.swarmplot(x='race/ethnicity', y='math score', data=student, ax=axes[1],\n",
        "               order=sorted(student['race/ethnicity'].unique()))\n",
        "\n",
        "sns.stripplot(x='race/ethnicity', y='math score', data=student, ax=axes[2],\n",
        "               order=sorted(student['race/ethnicity'].unique()))\n",
        "plt.show()"
      ],
      "execution_count": null,
      "outputs": []
    },
    {
      "cell_type": "markdown",
      "metadata": {
        "id": "wUfKwbXKeztt"
      },
      "source": [
        "## 3. Distribution \n",
        "\n",
        "범주형/연속형을 모두 살펴볼 수 있는 분포 시각화를 살펴봅시다.\n",
        "\n",
        "### 3-1. Univariate Distribution \n",
        "\n",
        "- `histplot` : 히스토그램\n",
        "- `kdeplot` : Kernel Density Estimate\n",
        "- `ecdfplot` : 누적 밀도 함수\n",
        "- `rugplot` : 선을 사용한 밀도함수"
      ]
    },
    {
      "cell_type": "code",
      "metadata": {
        "id": "RowiAc6Leztt"
      },
      "source": [
        "fig, axes = plt.subplots(2,2, figsize=(12, 10))\n",
        "axes = axes.flatten()\n",
        "\n",
        "sns.histplot(x='math score', data=student, ax=axes[0])\n",
        "\n",
        "sns.kdeplot(x='math score', data=student, ax=axes[1])\n",
        "\n",
        "sns.ecdfplot(x='math score', data=student, ax=axes[2])\n",
        "\n",
        "sns.rugplot(x='math score', data=student, ax=axes[3])\n",
        "\n",
        "\n",
        "plt.show()"
      ],
      "execution_count": null,
      "outputs": []
    },
    {
      "cell_type": "markdown",
      "metadata": {
        "id": "qwQ-WXJZeztu"
      },
      "source": [
        "`histplot`부터 살펴보겠습니다. \n",
        "\n",
        "막대 개수나 간격에 대한 조정은 대표적으로 2가지 파라미터가 있습니다.\n",
        "\n",
        "- `binwidth`\n",
        "- `bins`"
      ]
    },
    {
      "cell_type": "code",
      "metadata": {
        "id": "7swbzQE1eztu"
      },
      "source": [
        "fig, ax = plt.subplots(figsize=(12, 7))\n",
        "\n",
        "sns.histplot(x='math score', data=student, ax=ax,\n",
        "#              binwidth=50, \n",
        "#              bins=100,\n",
        "            )\n",
        "\n",
        "plt.show()"
      ],
      "execution_count": null,
      "outputs": []
    },
    {
      "cell_type": "markdown",
      "metadata": {
        "id": "iH9-PX9Qeztu"
      },
      "source": [
        "히스토그램은 기본적으로 막대지만, seaborn에서는 다른 표현들도 제공하고 있습니다."
      ]
    },
    {
      "cell_type": "code",
      "metadata": {
        "id": "_9mC-XJHeztu"
      },
      "source": [
        "fig, ax = plt.subplots(figsize=(12, 7))\n",
        "\n",
        "sns.histplot(x='math score', data=student, ax=ax,\n",
        "             element='poly' # step, poly\n",
        "            )\n",
        "\n",
        "plt.show()"
      ],
      "execution_count": null,
      "outputs": []
    },
    {
      "cell_type": "markdown",
      "metadata": {
        "id": "SiNFf7Ooeztu"
      },
      "source": [
        "histogram은 다음과 같이 N개의 분포를 표현할 수 있습니다."
      ]
    },
    {
      "cell_type": "code",
      "metadata": {
        "id": "MLd47it1eztu"
      },
      "source": [
        "fig, ax = plt.subplots(figsize=(12, 7))\n",
        "\n",
        "sns.histplot(x='math score', data=student, ax=ax,\n",
        "             hue='gender', \n",
        "             multiple='stack', # layer, dodge, stack, fill\n",
        "            )\n",
        "\n",
        "plt.show()"
      ],
      "execution_count": null,
      "outputs": []
    },
    {
      "cell_type": "markdown",
      "metadata": {
        "id": "jp8lhn2Reztv"
      },
      "source": [
        "이번엔 kdeplot을 살펴보겠습니다. kdeplot은 이미 violin에서 살펴보긴 했습니다.\n",
        "\n",
        "연속확률밀도를 보여주는 함수로 seaborn의 다양한 smoothing 및 분포 시각화에 보조 정보로도 많이 사용합니다."
      ]
    },
    {
      "cell_type": "code",
      "metadata": {
        "id": "0hWpEyRVeztv"
      },
      "source": [
        "fig, ax = plt.subplots(figsize=(12, 7))\n",
        "sns.kdeplot(x='math score', data=student, ax=ax)\n",
        "plt.show()"
      ],
      "execution_count": null,
      "outputs": []
    },
    {
      "cell_type": "markdown",
      "metadata": {
        "id": "R7Hk_Gsqeztv"
      },
      "source": [
        "밀도 함수를 그릴 때는 단순히 선만 그려서는 정보의 전달이 어려울 수 있습니다.\n",
        "\n",
        "`fill='True'`를 전달하여 내부를 채워 표현하는 것을 추천합니다."
      ]
    },
    {
      "cell_type": "code",
      "metadata": {
        "id": "uQwLhQNJeztv"
      },
      "source": [
        "fig, ax = plt.subplots(figsize=(12, 7))\n",
        "sns.kdeplot(x='math score', data=student, ax=ax,\n",
        "           fill=True)\n",
        "plt.show()"
      ],
      "execution_count": null,
      "outputs": []
    },
    {
      "cell_type": "markdown",
      "metadata": {
        "id": "dvyrwxqzeztv"
      },
      "source": [
        "`bw_method`를 사용하여 분포를 더 자세하게 표현할 수도 있습니다."
      ]
    },
    {
      "cell_type": "code",
      "metadata": {
        "id": "xxQJA8xNeztv"
      },
      "source": [
        "fig, ax = plt.subplots(figsize=(12, 7))\n",
        "sns.kdeplot(x='math score', data=student, ax=ax,\n",
        "           fill=True, bw_method=0.05)\n",
        "plt.show()"
      ],
      "execution_count": null,
      "outputs": []
    },
    {
      "cell_type": "markdown",
      "metadata": {
        "id": "Rv6yIddFeztw"
      },
      "source": [
        "이번에도 다양한 분포를 살펴보겠습니다. histogram의 연속적 표현이라고 생각하면 편합니다."
      ]
    },
    {
      "cell_type": "code",
      "metadata": {
        "id": "KQSQjXWWeztw"
      },
      "source": [
        "fig, ax = plt.subplots(figsize=(12, 7))\n",
        "sns.kdeplot(x='math score', data=student, ax=ax,\n",
        "            fill=True, \n",
        "            hue='race/ethnicity', \n",
        "            hue_order=sorted(student['race/ethnicity'].unique()))\n",
        "plt.show()"
      ],
      "execution_count": null,
      "outputs": []
    },
    {
      "cell_type": "markdown",
      "metadata": {
        "id": "KnTzxVg-eztw"
      },
      "source": [
        "여러 분포를 표현하기 위해 다음과 같은 방법을 사용할 수 있습니다\n",
        "\n",
        "- `stack`\n",
        "- `layer`\n",
        "- `fill`"
      ]
    },
    {
      "cell_type": "code",
      "metadata": {
        "id": "f-8ezedpeztw"
      },
      "source": [
        "fig, ax = plt.subplots(figsize=(12, 7))\n",
        "sns.kdeplot(x='math score', data=student, ax=ax,\n",
        "            fill=True, \n",
        "            hue='race/ethnicity', \n",
        "            hue_order=sorted(student['race/ethnicity'].unique()),\n",
        "            multiple=\"layer\", # layer, stack, fill\n",
        "            cumulative=True,\n",
        "            cut=0\n",
        "           )\n",
        "plt.show()"
      ],
      "execution_count": null,
      "outputs": []
    },
    {
      "cell_type": "markdown",
      "metadata": {
        "id": "D7Loc1Veeztx"
      },
      "source": [
        "ecdfplot은 누적되는 양을 표현합니다. 이미 위에서 cumulative로 살펴봤겠지만 가볍게 살펴봅시다."
      ]
    },
    {
      "cell_type": "code",
      "metadata": {
        "id": "nzl7rVKyeztx"
      },
      "source": [
        "fig, ax = plt.subplots(figsize=(12, 7))\n",
        "sns.ecdfplot(x='math score', data=student, ax=ax,\n",
        "             hue='gender',\n",
        "             stat='count', # proportion\n",
        "             complementary=True\n",
        "            )\n",
        "plt.show()"
      ],
      "execution_count": null,
      "outputs": []
    },
    {
      "cell_type": "markdown",
      "metadata": {
        "id": "P45YmuPreztx"
      },
      "source": [
        "rugplot은 조밀한 정도를 통해 밀도를 나타냅니다.\n",
        "\n",
        "개인적으로는 추천하지 않지만 한정된 공간 내에서 분포를 표현하기에 좋은 것 같습니다."
      ]
    },
    {
      "cell_type": "code",
      "metadata": {
        "id": "HelmuK5ueztx"
      },
      "source": [
        "fig, ax = plt.subplots(figsize=(12, 7))\n",
        "sns.rugplot(x='math score', data=student, ax=ax)\n",
        "plt.show()"
      ],
      "execution_count": null,
      "outputs": []
    },
    {
      "cell_type": "markdown",
      "metadata": {
        "id": "VKBzbfqSeztx"
      },
      "source": [
        "### 3-2. Bivariate Distribution\n",
        "\n",
        "이제는 2개 이상 변수를 동시에 분포를 살펴보도록 하겠습니다.\n",
        "\n",
        "결합 확률 분포(joint probability distribution)를 살펴 볼 수 있습니다.\n",
        "\n",
        "함수는 histplot과 kdeplot을 사용하고, 입력에 1개의 축만 넣는 게 아닌 2개의 축 모두 입력을 넣어주는 것이 특징입니다."
      ]
    },
    {
      "cell_type": "code",
      "metadata": {
        "id": "h-tZGEbHeztx"
      },
      "source": [
        "fig, axes = plt.subplots(1,2, figsize=(12, 7))\n",
        "ax.set_aspect(1)\n",
        "\n",
        "axes[0].scatter(student['math score'], student['reading score'], alpha=0.2)\n",
        "\n",
        "sns.histplot(x='math score', y='reading score', \n",
        "             data=student, ax=axes[1],\n",
        "#              color='orange',\n",
        "             cbar=False,\n",
        "             bins=(10, 20), \n",
        "            )\n",
        "\n",
        "plt.show()"
      ],
      "execution_count": null,
      "outputs": []
    },
    {
      "cell_type": "code",
      "metadata": {
        "id": "eW--qsYZezty"
      },
      "source": [
        "fig, ax = plt.subplots(figsize=(7, 7))\n",
        "ax.set_aspect(1)\n",
        "\n",
        "sns.kdeplot(x='math score', y='reading score', \n",
        "             data=student, ax=ax,\n",
        "            fill=True,\n",
        "#             bw_method=0.1\n",
        "            )\n",
        "\n",
        "plt.show()"
      ],
      "execution_count": null,
      "outputs": []
    },
    {
      "cell_type": "markdown",
      "metadata": {
        "id": "JPM7DNCCezty"
      },
      "source": [
        "## 4. Relation & Regression\n"
      ]
    },
    {
      "cell_type": "markdown",
      "metadata": {
        "id": "2obgp0qbezty"
      },
      "source": [
        "### 4-1. Scatter Plot\n",
        "\n",
        "산점도는 다음과 같은 요소를 사용할 수 있습니다.\n",
        "\n",
        "- `style`\n",
        "- `hue`\n",
        "- `size`\n",
        "\n",
        "앞서 차트의 요소에서 다루었기에 가볍게만 살펴보고 넘어가겠습니다.\n",
        "\n",
        "`style, hue, size`에 대한 순서는 각각 `style_order, hue_order, size_order`로 전달할 수 있습니다."
      ]
    },
    {
      "cell_type": "code",
      "metadata": {
        "id": "31pDIUpjezty"
      },
      "source": [
        "fig, ax = plt.subplots(figsize=(7, 7))\n",
        "sns.scatterplot(x='math score', y='reading score', data=student,\n",
        "#                style='gender', markers={'male':'s', 'female':'o'},\n",
        "                hue='race/ethnicity', \n",
        "#                 size='writing score',\n",
        "               )\n",
        "plt.show()"
      ],
      "execution_count": null,
      "outputs": []
    },
    {
      "cell_type": "markdown",
      "metadata": {
        "id": "xQf1SHoiezty"
      },
      "source": [
        "### 4-2. Line Plot\n",
        "\n",
        "선그래프도 이미 기본차트에서 살펴보았기에 가볍게만 살펴보고 가겠습니다.\n",
        "\n",
        "시계열 데이터를 시각화해보겠습니다."
      ]
    },
    {
      "cell_type": "code",
      "metadata": {
        "id": "hRUgouRsezty"
      },
      "source": [
        "flights = sns.load_dataset(\"flights\")\n",
        "flights.head()"
      ],
      "execution_count": null,
      "outputs": []
    },
    {
      "cell_type": "code",
      "metadata": {
        "id": "ZllFWSyJeztz"
      },
      "source": [
        "flights_wide = flights.pivot(\"year\", \"month\", \"passengers\")\n",
        "flights_wide.head()"
      ],
      "execution_count": null,
      "outputs": []
    },
    {
      "cell_type": "code",
      "metadata": {
        "id": "ytSfrfpOeztz"
      },
      "source": [
        "fig, ax = plt.subplots(1, 1,figsize=(12, 7))\n",
        "sns.lineplot(x='year', y='Jan',data=flights_wide, ax=ax)"
      ],
      "execution_count": null,
      "outputs": []
    },
    {
      "cell_type": "code",
      "metadata": {
        "id": "X-W6FrdReztz"
      },
      "source": [
        "fig, ax = plt.subplots(1, 1,figsize=(12, 7))\n",
        "sns.lineplot(data=flights_wide, ax=ax)\n",
        "plt.show()"
      ],
      "execution_count": null,
      "outputs": []
    },
    {
      "cell_type": "markdown",
      "metadata": {
        "id": "fShNnDnAeztz"
      },
      "source": [
        "자동으로 평균과 표준편차로 오차범위를 시각화해줍니다."
      ]
    },
    {
      "cell_type": "code",
      "metadata": {
        "id": "WOJGr46Feztz"
      },
      "source": [
        "fig, ax = plt.subplots(1, 1, figsize=(12, 7))\n",
        "sns.lineplot(data=flights, x=\"year\", y=\"passengers\", ax=ax)\n",
        "plt.show()"
      ],
      "execution_count": null,
      "outputs": []
    },
    {
      "cell_type": "code",
      "metadata": {
        "id": "zZWkfvjSezt0"
      },
      "source": [
        "fig, ax = plt.subplots(1, 1, figsize=(12, 7))\n",
        "sns.lineplot(data=flights, x=\"year\", y=\"passengers\", hue='month', \n",
        "             style='month', markers=True, dashes=False,\n",
        "             ax=ax)\n",
        "plt.show()\n",
        "\n"
      ],
      "execution_count": null,
      "outputs": []
    },
    {
      "cell_type": "markdown",
      "metadata": {
        "id": "CUPPJWONezt0"
      },
      "source": [
        "### 4-3. Regplot\n",
        "\n",
        "회귀선을 추가한 scatter plot입니다."
      ]
    },
    {
      "cell_type": "code",
      "metadata": {
        "id": "fyILfuOIezt0"
      },
      "source": [
        "fig, ax = plt.subplots(figsize=(7, 7))\n",
        "sns.regplot(x='math score', y='reading score', data=student,\n",
        "               )\n",
        "plt.show()"
      ],
      "execution_count": null,
      "outputs": []
    },
    {
      "cell_type": "markdown",
      "metadata": {
        "id": "RS_odYERezt0"
      },
      "source": [
        "한 축에 한 개의 값만 보여주기 위해서 다음과 같이 사용할 수 있습니다."
      ]
    },
    {
      "cell_type": "code",
      "metadata": {
        "id": "41x0UPHzezt1"
      },
      "source": [
        "fig, ax = plt.subplots(figsize=(7, 7))\n",
        "sns.regplot(x='math score', y='reading score', data=student,\n",
        "            x_estimator=np.mean\n",
        "           )\n",
        "plt.show()"
      ],
      "execution_count": null,
      "outputs": []
    },
    {
      "cell_type": "markdown",
      "metadata": {
        "id": "SS4HSvI0ezt1"
      },
      "source": [
        "보여주는 개수도 지정할 수 있습니다."
      ]
    },
    {
      "cell_type": "code",
      "metadata": {
        "id": "xdCZiAtNezt1"
      },
      "source": [
        "fig, ax = plt.subplots(figsize=(7, 7))\n",
        "sns.regplot(x='math score', y='reading score', data=student,\n",
        "            x_estimator=np.mean, x_bins=20\n",
        "           )\n",
        "plt.show()"
      ],
      "execution_count": null,
      "outputs": []
    },
    {
      "cell_type": "markdown",
      "metadata": {
        "id": "ttIq9m_jezt1"
      },
      "source": [
        "다차원 회귀선은 `order` 파라미터를 통해 전달할 수 있습니다. 다만 현재 데이터에서는 선형성이 강해 따로 2차원으로 회귀선을 그리지 않아도 잘 보이는 것을 알 수 있습니다."
      ]
    },
    {
      "cell_type": "code",
      "metadata": {
        "id": "Eb9cjG_yezt1"
      },
      "source": [
        "fig, ax = plt.subplots(figsize=(7, 7))\n",
        "sns.regplot(x='math score', y='reading score', data=student,\n",
        "            order=2\n",
        "           )\n",
        "plt.show()"
      ],
      "execution_count": null,
      "outputs": []
    },
    {
      "cell_type": "markdown",
      "metadata": {
        "id": "AwL1cH5Yezt1"
      },
      "source": [
        "로그를 사용할 수도 있습니다."
      ]
    },
    {
      "cell_type": "code",
      "metadata": {
        "id": "hfV6ma70ezt2"
      },
      "source": [
        "fig, ax = plt.subplots(figsize=(7, 7))\n",
        "sns.regplot(x='reading score', y='writing score', data=student,\n",
        "            logx=True\n",
        "           )\n",
        "plt.show()"
      ],
      "execution_count": null,
      "outputs": []
    },
    {
      "cell_type": "markdown",
      "metadata": {
        "id": "6q3cXtj2ezt2"
      },
      "source": [
        "## 5. Matrix Plots\n",
        "\n",
        "### 5-1. Heatmap\n",
        "\n",
        "히트맵은 다양한 방식으로 사용될 수 있습니다.\n",
        "\n",
        "대표적으로는 상관관계(correlation) 시각화에 많이 사용됩니다."
      ]
    },
    {
      "cell_type": "code",
      "metadata": {
        "id": "5WyBTiG9ezt2"
      },
      "source": [
        "student.corr()"
      ],
      "execution_count": null,
      "outputs": []
    },
    {
      "cell_type": "markdown",
      "metadata": {
        "id": "4BZCkOcmezt2"
      },
      "source": [
        "\n",
        "이런 상관관계는 다양한 방법이 있는데, pandas에서는 다음과 같은 방법을 제공함\n",
        "\n",
        "더 자세한 상관관계는 scatter plot과 reg plot으로 살펴보는 것 추천합니다.\n",
        "\n",
        "|방법|설명|\n",
        "|-|-|\n",
        "|Pearson Linear correlation coefficient|모수적 방법(두 변수의 정규성 가정), 연속형 & 연속형 변수 사이의 선형 관계 검정, (-1,1)사이의 값을 가지며 0으로 갈수록 선형 상관관계가 없다는 해석 가능 |\n",
        "|Spearman Rank-order correlation coefficient|비모수적 방법(정규성 가정 x), 연속형 & 연속형 변수 사이의 단조 관계 검정, 값에 순위를 매겨 순위에 대한 상관성을 계수로 표현 - 연속형 변수가 아닌 순서형 변수에도 사용 가능 단조성(monotonicity) 평가 - 곡선 관계도 가능|\n",
        "|kendall Rank-order correlation coefficient|비모수적 방법(정규성 가정 x), 연속형 & 연속형 변수 사이의 단조 관계 검정, 값에 순위를 매겨 순위에 대한 상관성을 계수로 표현함 - 연속형 변수가 아닌 순서형 변수에도 사용 가능 단조성(monotonicity) 평가. 일반적으로 Spearman의 rho 상관 관계보다 값이 작다. 일치/불일치 쌍을 기반으로 계산하며 오류에 덜 민감|\n",
        "\n"
      ]
    },
    {
      "cell_type": "markdown",
      "metadata": {
        "id": "YLShA-yjezt2"
      },
      "source": [
        "성적은 모두 선형성이 강하므로 이번에는 다른 데이터로 시각화해보도록 하겠습니다.\n",
        "\n",
        "[Heart Disease](https://www.kaggle.com/ronitf/heart-disease-uci) 데이터셋을 사용하여 만들어보겠습니다."
      ]
    },
    {
      "cell_type": "code",
      "metadata": {
        "id": "6q2j3ToJezt2"
      },
      "source": [
        "heart = pd.read_csv('./heart.csv')\n",
        "heart.head()"
      ],
      "execution_count": null,
      "outputs": []
    },
    {
      "cell_type": "code",
      "metadata": {
        "id": "nHs-RaSyezt3"
      },
      "source": [
        "heart.corr()"
      ],
      "execution_count": null,
      "outputs": []
    },
    {
      "cell_type": "code",
      "metadata": {
        "id": "fJMhFwKwezt3"
      },
      "source": [
        "fig, ax = plt.subplots(1,1 ,figsize=(7, 6))\n",
        "sns.heatmap(heart.corr(), ax=ax)\n",
        "plt.show()"
      ],
      "execution_count": null,
      "outputs": []
    },
    {
      "cell_type": "markdown",
      "metadata": {
        "id": "aCOa-e6Jezt3"
      },
      "source": [
        "상관계수는 -1~1까지이므로 색의 범위를 맞추기 위해 `vmin`과 `vmax`로 범위를 조정합니다."
      ]
    },
    {
      "cell_type": "code",
      "metadata": {
        "id": "pEyL3povezt3"
      },
      "source": [
        "fig, ax = plt.subplots(1,1 ,figsize=(7, 6))\n",
        "sns.heatmap(heart.corr(), ax=ax,\n",
        "           vmin=-1, vmax=1\n",
        "           )\n",
        "plt.show()"
      ],
      "execution_count": null,
      "outputs": []
    },
    {
      "cell_type": "markdown",
      "metadata": {
        "id": "vQZsuLWVezt3"
      },
      "source": [
        "0을 기준으로 음/양이 중요하므로 `center`를 지정해줄 수도 있습니다."
      ]
    },
    {
      "cell_type": "code",
      "metadata": {
        "id": "1Y0ZjYjfezt3"
      },
      "source": [
        "fig, ax = plt.subplots(1,1 ,figsize=(7, 6))\n",
        "sns.heatmap(heart.corr(), ax=ax,\n",
        "           vmin=-1, vmax=1, center=0\n",
        "           )\n",
        "plt.show()"
      ],
      "execution_count": null,
      "outputs": []
    },
    {
      "cell_type": "markdown",
      "metadata": {
        "id": "GoXvsSR2ezt4"
      },
      "source": [
        "`cmap`을 바꿔 가독성을 높여보겠습니다. 여기서는 음/양이 정반대의 의미를 가지니 diverse colormap인 coolwarm을 사용해보았습니다."
      ]
    },
    {
      "cell_type": "code",
      "metadata": {
        "id": "UaGj0Nl4ezt4"
      },
      "source": [
        "fig, ax = plt.subplots(1,1 ,figsize=(10, 9))\n",
        "sns.heatmap(heart.corr(), ax=ax,\n",
        "           vmin=-1, vmax=1, center=0,\n",
        "            cmap='coolwarm'\n",
        "           )\n",
        "plt.show()"
      ],
      "execution_count": null,
      "outputs": []
    },
    {
      "cell_type": "markdown",
      "metadata": {
        "id": "mls4wNuSezt4"
      },
      "source": [
        "`annot`와 `fmt`를 사용하면 실제 값에 들어갈 내용을 작성할 수 있습니다."
      ]
    },
    {
      "cell_type": "code",
      "metadata": {
        "id": "8KQNRHNOezt4"
      },
      "source": [
        "fig, ax = plt.subplots(1,1 ,figsize=(10, 9))\n",
        "sns.heatmap(heart.corr(), ax=ax,\n",
        "           vmin=-1, vmax=1, center=0,\n",
        "            cmap='coolwarm',\n",
        "            annot=True, fmt='.2f' # d\n",
        "           )\n",
        "plt.show()"
      ],
      "execution_count": null,
      "outputs": []
    },
    {
      "cell_type": "markdown",
      "metadata": {
        "id": "sYCFTVdRezt5"
      },
      "source": [
        "`linewidth`를 사용하여 칸 사이를 나눌 수도 있습니다.\n",
        "\n",
        "그리고 `square`를 사용하여 정사각형을 사용할 수도 있습니다. "
      ]
    },
    {
      "cell_type": "code",
      "metadata": {
        "id": "oEp7u1ijezt5"
      },
      "source": [
        "fig, ax = plt.subplots(1,1 ,figsize=(10, 9))\n",
        "sns.heatmap(heart.corr(), ax=ax,\n",
        "           vmin=-1, vmax=1, center=0,\n",
        "            cmap='coolwarm',\n",
        "            annot=True, fmt='.2f',\n",
        "            linewidth=0.1,\n",
        "           )\n",
        "plt.show()"
      ],
      "execution_count": null,
      "outputs": []
    },
    {
      "cell_type": "code",
      "metadata": {
        "id": "Q0Sy3iSIezt6"
      },
      "source": [
        "fig, ax = plt.subplots(1,1 ,figsize=(12, 9))\n",
        "sns.heatmap(heart.corr(), ax=ax,\n",
        "           vmin=-1, vmax=1, center=0,\n",
        "            cmap='coolwarm',\n",
        "            annot=True, fmt='.2f',\n",
        "            linewidth=0.1, square=True\n",
        "           )\n",
        "plt.show()"
      ],
      "execution_count": null,
      "outputs": []
    },
    {
      "cell_type": "markdown",
      "metadata": {
        "id": "cHD57sQ0ezt6"
      },
      "source": [
        "대칭인 경우나 특정 모양에 따라 필요없는 부분을 지울 수도 있습니다."
      ]
    },
    {
      "cell_type": "code",
      "metadata": {
        "id": "ZF2f6Ue8ezt6"
      },
      "source": [
        "fig, ax = plt.subplots(1,1 ,figsize=(10, 9))\n",
        "\n",
        "mask = np.zeros_like(heart.corr())\n",
        "mask[np.triu_indices_from(mask)] = True\n",
        "\n",
        "sns.heatmap(heart.corr(), ax=ax,\n",
        "           vmin=-1, vmax=1, center=0,\n",
        "            cmap='coolwarm',\n",
        "            annot=True, fmt='.2f',\n",
        "            linewidth=0.1, square=True, cbar=False,\n",
        "            mask=mask\n",
        "           )\n",
        "plt.show()"
      ],
      "execution_count": null,
      "outputs": []
    },
    {
      "cell_type": "code",
      "metadata": {
        "id": "ubQn_Yq_ezt6"
      },
      "source": [
        ""
      ],
      "execution_count": null,
      "outputs": []
    }
  ]
}