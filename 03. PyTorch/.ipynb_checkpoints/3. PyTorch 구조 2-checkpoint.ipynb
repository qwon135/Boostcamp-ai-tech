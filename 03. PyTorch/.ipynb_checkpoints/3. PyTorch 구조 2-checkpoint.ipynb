{
 "cells": [
  {
   "cell_type": "markdown",
   "id": "cbe9d56b",
   "metadata": {},
   "source": [
    "## 모델 불러오기\n",
    "### model.save()\n",
    "- 학습의 결과를 저장하기 위한 함수\n",
    "- 모델 형태(architecture)와 파라메터를 저장\n",
    "- 모델 학습 중간 과정의 저장을 통해 최선의 결과모델을 선택\n",
    "- 만들어진 모델을 외부 연구자와 공유하여 학습 재연성 향상"
   ]
  },
  {
   "cell_type": "markdown",
   "id": "7e6253e0",
   "metadata": {},
   "source": [
    "### torch summary\n",
    "- 모델의 크기(parameter)의 개수등을 쉽게 볼 수 있다."
   ]
  },
  {
   "cell_type": "markdown",
   "id": "c742ce7a",
   "metadata": {},
   "source": [
    "### checkpoints\n",
    "- 학습의 중간 결과를 저장하여 최선의 결과를 선택\n",
    "- earlystopping 기법 사용 시 이전 학습의 결과물을 저장\n",
    "- loss와 metric 값을 지속적으로 확인 저장\n",
    "- 일반적으로 epoch, loss, metric을 함께 저장하여 확인\n",
    "- colab에서 지속적인 학습을 위해 필요"
   ]
  },
  {
   "cell_type": "markdown",
   "id": "4313c92a",
   "metadata": {},
   "source": [
    "## pretrained model Transfer learning\n",
    "\n",
    "### Transfer learning\n",
    "- 다른 데이텃세으로 만든 모델을 현재 데이터에 적용\n",
    "- 일반적으로 대용량 데이터셋으로 만들어진 모델의 성능이 좋다\n",
    "- 현재의 DL에서는 가장 일반적인 학습 기법\n",
    "- backbone architecture가 잘 학습된 모델에서 일부분만 변경하여 학습을 수행한다.\n",
    "- TorchVision은 다양한 기본 모델 제공\n",
    "- NLP는 HuggingFAce가 사실상 표준"
   ]
  },
  {
   "cell_type": "markdown",
   "id": "8cd521b4",
   "metadata": {},
   "source": [
    "### Freezing\n",
    "- pretrained model을 활용시 모델의 일부분을 frozen 시킴"
   ]
  },
  {
   "cell_type": "markdown",
   "id": "7540121b",
   "metadata": {},
   "source": [
    "## Monitoring tools for PyTorch"
   ]
  }
 ],
 "metadata": {
  "kernelspec": {
   "display_name": "Python 3 (ipykernel)",
   "language": "python",
   "name": "python3"
  },
  "language_info": {
   "codemirror_mode": {
    "name": "ipython",
    "version": 3
   },
   "file_extension": ".py",
   "mimetype": "text/x-python",
   "name": "python",
   "nbconvert_exporter": "python",
   "pygments_lexer": "ipython3",
   "version": "3.8.11"
  }
 },
 "nbformat": 4,
 "nbformat_minor": 5
}
