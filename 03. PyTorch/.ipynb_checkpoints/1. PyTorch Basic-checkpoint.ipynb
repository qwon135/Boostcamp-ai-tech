{
 "cells": [
  {
   "cell_type": "markdown",
   "id": "4d86ceb7",
   "metadata": {},
   "source": [
    "# PyTorch Basics\n",
    "___\n",
    "Why PyTorch\n",
    "- Define by Run의 장점, 즉시 확인 가능 $\\Rightarrow$ pythonic code\n",
    "- CPU support, Good API and community\n",
    "- 사용하기 편한 장점이 가장 큼\n",
    "- TF는 production과 scalability의 장점\n",
    "- Numpy + AutoGrad(자동미분) + Functions\n",
    "- Numpy구조를 가지는 Tensor 객체로 array 표현\n",
    "- 자동 미분 지원하여 DL연산 지원\n",
    "- 다양한 형태의 DL을 지원하는 함수와 모델을 지원(Data set, Multi GPU)\n",
    "- 복잡한 것을 복잡하지 않게 해주는장점"
   ]
  },
  {
   "cell_type": "markdown",
   "id": "761629c4",
   "metadata": {},
   "source": [
    "## Tensor\n",
    "- 다차원 Arrays를 표현하는 PyTorch 클래스\n",
    "- 다양한 numpy의 ndarray와 동일(그러므로 TensorFlow의 Tensor와 동일)\n",
    "- Tensor를 생성하는 함수도 거의 동일"
   ]
  },
  {
   "cell_type": "markdown",
   "id": "e3af5e0e",
   "metadata": {},
   "source": [
    "### numpy - ndarray"
   ]
  },
  {
   "cell_type": "code",
   "execution_count": 1,
   "id": "ea63a246",
   "metadata": {},
   "outputs": [
    {
     "name": "stdout",
     "output_type": "stream",
     "text": [
      "[[0 1 2 3 4]\n",
      " [5 6 7 8 9]]\n",
      "ndim : 2 \n",
      "shape : (2, 5)\n"
     ]
    }
   ],
   "source": [
    "import numpy as np\n",
    "\n",
    "n_array = np.arange(10).reshape(2, 5)\n",
    "print(n_array)\n",
    "print(\"ndim :\",n_array.ndim,\"\\nshape :\",n_array.shape)"
   ]
  },
  {
   "cell_type": "markdown",
   "id": "afbbf4df",
   "metadata": {},
   "source": [
    "### pytorch - tensor"
   ]
  },
  {
   "cell_type": "code",
   "execution_count": 2,
   "id": "5e32fe85",
   "metadata": {},
   "outputs": [
    {
     "name": "stdout",
     "output_type": "stream",
     "text": [
      "tensor([[0., 1., 2., 3., 4.],\n",
      "        [5., 6., 7., 8., 9.]])\n",
      "ndim : 2 \n",
      "shape : torch.Size([2, 5])\n"
     ]
    }
   ],
   "source": [
    "import torch\n",
    "\n",
    "t_array = torch.FloatTensor(n_array)\n",
    "print(t_array)\n",
    "print(\"ndim :\",t_array.ndim,\"\\nshape :\",t_array.shape)"
   ]
  },
  {
   "cell_type": "markdown",
   "id": "5e6916bb",
   "metadata": {},
   "source": [
    "## Array to Tensor\n",
    "Tensor 생성은 List 나 ndarray를 사용 가능"
   ]
  },
  {
   "cell_type": "markdown",
   "id": "fe247d6d",
   "metadata": {},
   "source": [
    "### data to tensor"
   ]
  },
  {
   "cell_type": "code",
   "execution_count": 3,
   "id": "aeead7f7",
   "metadata": {},
   "outputs": [
    {
     "data": {
      "text/plain": [
       "tensor([[ 3,  5],\n",
       "        [10,  5]])"
      ]
     },
     "execution_count": 3,
     "metadata": {},
     "output_type": "execute_result"
    }
   ],
   "source": [
    "data = [[3,5],[10, 5]]\n",
    "x_data = torch.tensor(data)\n",
    "x_data"
   ]
  },
  {
   "cell_type": "markdown",
   "id": "1176d71b",
   "metadata": {},
   "source": [
    "### ndarray to tensor"
   ]
  },
  {
   "cell_type": "code",
   "execution_count": 4,
   "id": "ce1e078a",
   "metadata": {},
   "outputs": [
    {
     "data": {
      "text/plain": [
       "tensor([[ 3,  5],\n",
       "        [10,  5]])"
      ]
     },
     "execution_count": 4,
     "metadata": {},
     "output_type": "execute_result"
    }
   ],
   "source": [
    "nd_array_ex = np.array(data)\n",
    "tensor_array = torch.from_numpy(nd_array_ex)\n",
    "tensor_array"
   ]
  },
  {
   "cell_type": "markdown",
   "id": "791836c1",
   "metadata": {},
   "source": [
    "### Tensor data types\n",
    "- 기본적으로 tensor가 가질수 있는 data type은 numpy와 동일\n",
    "- GPU 사용 여부로 다르기도함. "
   ]
  },
  {
   "cell_type": "markdown",
   "id": "b4fb008a",
   "metadata": {},
   "source": [
    "### numpy like operations \n",
    "- 기본적으로 numpy의 대부분의 사용법이 그대로 적용됨\n"
   ]
  },
  {
   "cell_type": "code",
   "execution_count": 5,
   "id": "2cf2612d",
   "metadata": {},
   "outputs": [
    {
     "data": {
      "text/plain": [
       "tensor([[10,  5, 50],\n",
       "        [ 1,  5, 10]])"
      ]
     },
     "execution_count": 5,
     "metadata": {},
     "output_type": "execute_result"
    }
   ],
   "source": [
    "data = [[3, 5, 20], [10, 5, 50], [1, 5, 10]]\n",
    "x_data = torch.tensor(data)\n",
    "\n",
    "x_data[1:]"
   ]
  },
  {
   "cell_type": "code",
   "execution_count": 6,
   "id": "46777d22",
   "metadata": {},
   "outputs": [
    {
     "data": {
      "text/plain": [
       "tensor([[ 5, 20],\n",
       "        [ 5, 50]])"
      ]
     },
     "execution_count": 6,
     "metadata": {},
     "output_type": "execute_result"
    }
   ],
   "source": [
    "x_data[:2,1:]"
   ]
  },
  {
   "cell_type": "code",
   "execution_count": 7,
   "id": "24ee67d1",
   "metadata": {},
   "outputs": [
    {
     "data": {
      "text/plain": [
       "tensor([ 3,  5, 20, 10,  5, 50,  1,  5, 10])"
      ]
     },
     "execution_count": 7,
     "metadata": {},
     "output_type": "execute_result"
    }
   ],
   "source": [
    "x_data.flatten()"
   ]
  },
  {
   "cell_type": "code",
   "execution_count": 8,
   "id": "d372d497",
   "metadata": {},
   "outputs": [
    {
     "data": {
      "text/plain": [
       "tensor([[1, 1, 1],\n",
       "        [1, 1, 1],\n",
       "        [1, 1, 1]])"
      ]
     },
     "execution_count": 8,
     "metadata": {},
     "output_type": "execute_result"
    }
   ],
   "source": [
    "torch.ones_like(x_data)"
   ]
  },
  {
   "cell_type": "code",
   "execution_count": 9,
   "id": "52e9738c",
   "metadata": {},
   "outputs": [
    {
     "data": {
      "text/plain": [
       "array([[ 3,  5, 20],\n",
       "       [10,  5, 50],\n",
       "       [ 1,  5, 10]])"
      ]
     },
     "execution_count": 9,
     "metadata": {},
     "output_type": "execute_result"
    }
   ],
   "source": [
    "x_data.numpy()"
   ]
  },
  {
   "cell_type": "code",
   "execution_count": 10,
   "id": "34d5feb7",
   "metadata": {},
   "outputs": [
    {
     "data": {
      "text/plain": [
       "torch.Size([3, 3])"
      ]
     },
     "execution_count": 10,
     "metadata": {},
     "output_type": "execute_result"
    }
   ],
   "source": [
    "x_data.shape"
   ]
  },
  {
   "cell_type": "code",
   "execution_count": 11,
   "id": "51e598f8",
   "metadata": {},
   "outputs": [
    {
     "data": {
      "text/plain": [
       "torch.int64"
      ]
     },
     "execution_count": 11,
     "metadata": {},
     "output_type": "execute_result"
    }
   ],
   "source": [
    "x_data.dtype"
   ]
  },
  {
   "cell_type": "markdown",
   "id": "ed0ecc59",
   "metadata": {},
   "source": [
    "pytorch의 tensor는 GPU에 올려서 사용가능"
   ]
  },
  {
   "cell_type": "code",
   "execution_count": 12,
   "id": "d4e2c6e5",
   "metadata": {},
   "outputs": [
    {
     "data": {
      "text/plain": [
       "device(type='cpu')"
      ]
     },
     "execution_count": 12,
     "metadata": {},
     "output_type": "execute_result"
    }
   ],
   "source": [
    "x_data.device"
   ]
  },
  {
   "cell_type": "code",
   "execution_count": 13,
   "id": "ae4f614e",
   "metadata": {
    "collapsed": true
   },
   "outputs": [
    {
     "ename": "NameError",
     "evalue": "name 'x_data_cuda' is not defined",
     "output_type": "error",
     "traceback": [
      "\u001b[0;31m---------------------------------------------------------------------------\u001b[0m",
      "\u001b[0;31mNameError\u001b[0m                                 Traceback (most recent call last)",
      "\u001b[0;32m/var/folders/3b/rtm0n0l56yd2mbcz2vh1106r0000gn/T/ipykernel_13781/3739555132.py\u001b[0m in \u001b[0;36m<module>\u001b[0;34m\u001b[0m\n\u001b[1;32m      1\u001b[0m \u001b[0;32mif\u001b[0m \u001b[0mtorch\u001b[0m\u001b[0;34m.\u001b[0m\u001b[0mcuda\u001b[0m\u001b[0;34m.\u001b[0m\u001b[0mis_available\u001b[0m\u001b[0;34m(\u001b[0m\u001b[0;34m)\u001b[0m\u001b[0;34m:\u001b[0m\u001b[0;34m\u001b[0m\u001b[0;34m\u001b[0m\u001b[0m\n\u001b[1;32m      2\u001b[0m     \u001b[0mx_data_cuda\u001b[0m \u001b[0;34m=\u001b[0m \u001b[0mx_data\u001b[0m\u001b[0;34m.\u001b[0m\u001b[0mto\u001b[0m\u001b[0;34m(\u001b[0m\u001b[0;34m'cuda'\u001b[0m\u001b[0;34m)\u001b[0m\u001b[0;34m\u001b[0m\u001b[0;34m\u001b[0m\u001b[0m\n\u001b[0;32m----> 3\u001b[0;31m \u001b[0mx_data_cuda\u001b[0m\u001b[0;34m.\u001b[0m\u001b[0mdevice\u001b[0m\u001b[0;34m\u001b[0m\u001b[0;34m\u001b[0m\u001b[0m\n\u001b[0m",
      "\u001b[0;31mNameError\u001b[0m: name 'x_data_cuda' is not defined"
     ]
    }
   ],
   "source": [
    "if torch.cuda.is_available():\n",
    "    x_data_cuda = x_data.to('cuda')\n",
    "x_data_cuda.device"
   ]
  },
  {
   "cell_type": "markdown",
   "id": "316ba589",
   "metadata": {},
   "source": [
    "### Tensor handling\n",
    "view, squeeze, unsqueeze 등으로 tensor 조정 가능\n",
    "- view : reshape과 동일하게 tensor의 shape을 변환\n",
    "- squeeze : 차원의 개수가 1인 차원을 삭제(압축)\n",
    "- unsqueeze : 차원의 개수가 1인 차원을 추가\n"
   ]
  },
  {
   "cell_type": "code",
   "execution_count": 14,
   "id": "dd2abe81",
   "metadata": {},
   "outputs": [
    {
     "data": {
      "text/plain": [
       "tensor([[[0.8050, 0.1283],\n",
       "         [0.5530, 0.0830],\n",
       "         [0.8058, 0.9615]],\n",
       "\n",
       "        [[0.7365, 0.1058],\n",
       "         [0.7586, 0.5012],\n",
       "         [0.9674, 0.7333]]])"
      ]
     },
     "execution_count": 14,
     "metadata": {},
     "output_type": "execute_result"
    }
   ],
   "source": [
    "tensor_ex = torch.rand(size=(2,3,2))\n",
    "tensor_ex"
   ]
  },
  {
   "cell_type": "code",
   "execution_count": 15,
   "id": "b1341fc9",
   "metadata": {},
   "outputs": [
    {
     "data": {
      "text/plain": [
       "tensor([[0.8050, 0.1283, 0.5530, 0.0830, 0.8058, 0.9615],\n",
       "        [0.7365, 0.1058, 0.7586, 0.5012, 0.9674, 0.7333]])"
      ]
     },
     "execution_count": 15,
     "metadata": {},
     "output_type": "execute_result"
    }
   ],
   "source": [
    "tensor_ex.view([-1,6])"
   ]
  },
  {
   "cell_type": "code",
   "execution_count": 16,
   "id": "b1cc9ab2",
   "metadata": {},
   "outputs": [
    {
     "data": {
      "text/plain": [
       "tensor([[0.8050, 0.1283, 0.5530, 0.0830, 0.8058, 0.9615],\n",
       "        [0.7365, 0.1058, 0.7586, 0.5012, 0.9674, 0.7333]])"
      ]
     },
     "execution_count": 16,
     "metadata": {},
     "output_type": "execute_result"
    }
   ],
   "source": [
    "tensor_ex.reshape([-1,6])"
   ]
  },
  {
   "cell_type": "markdown",
   "id": "6ad4c3b8",
   "metadata": {},
   "source": [
    "#### 카피가 아니다!(메모리를 가져온다.)"
   ]
  },
  {
   "cell_type": "code",
   "execution_count": 25,
   "id": "63c70d13",
   "metadata": {},
   "outputs": [
    {
     "data": {
      "text/plain": [
       "tensor([[1., 1.],\n",
       "        [1., 1.],\n",
       "        [1., 1.]])"
      ]
     },
     "execution_count": 25,
     "metadata": {},
     "output_type": "execute_result"
    }
   ],
   "source": [
    "a = torch.zeros(3, 2)\n",
    "b = a.view(2, 3)\n",
    "a.fill_(1)"
   ]
  },
  {
   "cell_type": "code",
   "execution_count": 26,
   "id": "c2bb223d",
   "metadata": {},
   "outputs": [
    {
     "data": {
      "text/plain": [
       "tensor([[1., 1., 1.],\n",
       "        [1., 1., 1.]])"
      ]
     },
     "execution_count": 26,
     "metadata": {},
     "output_type": "execute_result"
    }
   ],
   "source": [
    "b"
   ]
  },
  {
   "cell_type": "code",
   "execution_count": 27,
   "id": "7eaae1ec",
   "metadata": {},
   "outputs": [
    {
     "data": {
      "text/plain": [
       "tensor([[1., 1.],\n",
       "        [1., 1.],\n",
       "        [1., 1.]])"
      ]
     },
     "execution_count": 27,
     "metadata": {},
     "output_type": "execute_result"
    }
   ],
   "source": [
    "a"
   ]
  },
  {
   "cell_type": "code",
   "execution_count": 30,
   "id": "43f0bd65",
   "metadata": {},
   "outputs": [
    {
     "data": {
      "text/plain": [
       "tensor([[1., 1.],\n",
       "        [1., 1.],\n",
       "        [1., 1.]])"
      ]
     },
     "execution_count": 30,
     "metadata": {},
     "output_type": "execute_result"
    }
   ],
   "source": [
    "a = torch.zeros(3, 2)\n",
    "b = a.t().reshape(6)\n",
    "a.fill_(1)"
   ]
  },
  {
   "cell_type": "code",
   "execution_count": 31,
   "id": "27fe2a5d",
   "metadata": {},
   "outputs": [
    {
     "data": {
      "text/plain": [
       "tensor([0., 0., 0., 0., 0., 0.])"
      ]
     },
     "execution_count": 31,
     "metadata": {},
     "output_type": "execute_result"
    }
   ],
   "source": [
    "b"
   ]
  },
  {
   "cell_type": "markdown",
   "id": "2024d1c2",
   "metadata": {},
   "source": [
    "#### squeeze, unsqueeze\n",
    "- axis(dim)을 지정해준다.\n",
    "<img src = \"../images/ai_30.png\">"
   ]
  },
  {
   "cell_type": "code",
   "execution_count": 54,
   "id": "4db9952b",
   "metadata": {},
   "outputs": [
    {
     "name": "stdout",
     "output_type": "stream",
     "text": [
      "tensor([[[0.5279, 0.8712]],\n",
      "\n",
      "        [[0.6101, 0.9681]]])\n"
     ]
    },
    {
     "data": {
      "text/plain": [
       "tensor([[0.5279, 0.8712],\n",
       "        [0.6101, 0.9681]])"
      ]
     },
     "execution_count": 54,
     "metadata": {},
     "output_type": "execute_result"
    }
   ],
   "source": [
    "tensor_ex = torch.rand(size = (2, 1, 2))\n",
    "print(tensor_ex)\n",
    "tensor_ex.squeeze()"
   ]
  },
  {
   "cell_type": "code",
   "execution_count": 36,
   "id": "00563249",
   "metadata": {},
   "outputs": [
    {
     "name": "stdout",
     "output_type": "stream",
     "text": [
      "tensor([[[0.5156, 0.4380],\n",
      "         [0.7923, 0.9763]]])\n"
     ]
    },
    {
     "data": {
      "text/plain": [
       "torch.Size([1, 2, 2])"
      ]
     },
     "execution_count": 36,
     "metadata": {},
     "output_type": "execute_result"
    }
   ],
   "source": [
    "tensor_ex = torch.rand(size = (2, 2))\n",
    "print(tensor_ex.unsqueeze(0))\n",
    "tensor_ex.unsqueeze(0).shape"
   ]
  },
  {
   "cell_type": "code",
   "execution_count": 37,
   "id": "46478c6e",
   "metadata": {},
   "outputs": [
    {
     "name": "stdout",
     "output_type": "stream",
     "text": [
      "tensor([[[0.5156, 0.4380]],\n",
      "\n",
      "        [[0.7923, 0.9763]]])\n"
     ]
    },
    {
     "data": {
      "text/plain": [
       "torch.Size([2, 1, 2])"
      ]
     },
     "execution_count": 37,
     "metadata": {},
     "output_type": "execute_result"
    }
   ],
   "source": [
    "print(tensor_ex.unsqueeze(1))\n",
    "tensor_ex.unsqueeze(1).shape"
   ]
  },
  {
   "cell_type": "code",
   "execution_count": 38,
   "id": "9ef67df3",
   "metadata": {
    "scrolled": true
   },
   "outputs": [
    {
     "name": "stdout",
     "output_type": "stream",
     "text": [
      "tensor([[[0.5156],\n",
      "         [0.4380]],\n",
      "\n",
      "        [[0.7923],\n",
      "         [0.9763]]])\n"
     ]
    },
    {
     "data": {
      "text/plain": [
       "torch.Size([2, 2, 1])"
      ]
     },
     "execution_count": 38,
     "metadata": {},
     "output_type": "execute_result"
    }
   ],
   "source": [
    "print(tensor_ex.unsqueeze(2))\n",
    "tensor_ex.unsqueeze(2).shape"
   ]
  },
  {
   "cell_type": "markdown",
   "id": "713041a0",
   "metadata": {},
   "source": [
    "### operation\n",
    "- numpy와 동일"
   ]
  },
  {
   "cell_type": "code",
   "execution_count": 55,
   "id": "802942aa",
   "metadata": {},
   "outputs": [
    {
     "data": {
      "text/plain": [
       "tensor([[ 0.,  2.,  4.,  6.,  8.],\n",
       "        [10., 12., 14., 16., 18.]])"
      ]
     },
     "execution_count": 55,
     "metadata": {},
     "output_type": "execute_result"
    }
   ],
   "source": [
    "n1 = np.arange(10).reshape(2, 5)\n",
    "t1 = torch.FloatTensor(n1)\n",
    "\n",
    "t1+t1"
   ]
  },
  {
   "cell_type": "code",
   "execution_count": 56,
   "id": "366b29f1",
   "metadata": {},
   "outputs": [
    {
     "data": {
      "text/plain": [
       "tensor([[0., 0., 0., 0., 0.],\n",
       "        [0., 0., 0., 0., 0.]])"
      ]
     },
     "execution_count": 56,
     "metadata": {},
     "output_type": "execute_result"
    }
   ],
   "source": [
    "t1 - t1"
   ]
  },
  {
   "cell_type": "code",
   "execution_count": 57,
   "id": "fcb67556",
   "metadata": {},
   "outputs": [
    {
     "data": {
      "text/plain": [
       "tensor([[10., 11., 12., 13., 14.],\n",
       "        [15., 16., 17., 18., 19.]])"
      ]
     },
     "execution_count": 57,
     "metadata": {},
     "output_type": "execute_result"
    }
   ],
   "source": [
    "t1 + 10"
   ]
  },
  {
   "cell_type": "markdown",
   "id": "7ae655d2",
   "metadata": {},
   "source": [
    "### 행렬곱셈 연산은 함수 dot이 아닌 mm을 사용\n",
    "- 벡터(1차원) 연산은 dot\n",
    "- 행렬간의 연산은 mm"
   ]
  },
  {
   "cell_type": "code",
   "execution_count": 68,
   "id": "456e1f67",
   "metadata": {},
   "outputs": [],
   "source": [
    "n2 = np.arange(10).reshape(5, 2)\n",
    "t2 = torch.FloatTensor(n2)"
   ]
  },
  {
   "cell_type": "code",
   "execution_count": 59,
   "id": "ec6560d0",
   "metadata": {},
   "outputs": [
    {
     "data": {
      "text/plain": [
       "tensor([[ 60.,  70.],\n",
       "        [160., 195.]])"
      ]
     },
     "execution_count": 59,
     "metadata": {},
     "output_type": "execute_result"
    }
   ],
   "source": [
    "t1.mm(t2)"
   ]
  },
  {
   "cell_type": "code",
   "execution_count": 66,
   "id": "b7c87690",
   "metadata": {},
   "outputs": [
    {
     "ename": "RuntimeError",
     "evalue": "1D tensors expected, but got 2D and 2D tensors",
     "output_type": "error",
     "traceback": [
      "\u001b[0;31m---------------------------------------------------------------------------\u001b[0m",
      "\u001b[0;31mRuntimeError\u001b[0m                              Traceback (most recent call last)",
      "\u001b[0;32m/var/folders/3b/rtm0n0l56yd2mbcz2vh1106r0000gn/T/ipykernel_13781/1857809154.py\u001b[0m in \u001b[0;36m<module>\u001b[0;34m\u001b[0m\n\u001b[0;32m----> 1\u001b[0;31m \u001b[0mt1\u001b[0m\u001b[0;34m.\u001b[0m\u001b[0mdot\u001b[0m\u001b[0;34m(\u001b[0m\u001b[0mt2\u001b[0m\u001b[0;34m)\u001b[0m\u001b[0;34m\u001b[0m\u001b[0;34m\u001b[0m\u001b[0m\n\u001b[0m",
      "\u001b[0;31mRuntimeError\u001b[0m: 1D tensors expected, but got 2D and 2D tensors"
     ]
    }
   ],
   "source": [
    "t1.dot(t2)"
   ]
  },
  {
   "cell_type": "code",
   "execution_count": 62,
   "id": "5f2ba4a3",
   "metadata": {},
   "outputs": [
    {
     "data": {
      "text/plain": [
       "tensor([[ 60.,  70.],\n",
       "        [160., 195.]])"
      ]
     },
     "execution_count": 62,
     "metadata": {},
     "output_type": "execute_result"
    }
   ],
   "source": [
    "# mm과 같음\n",
    "t1.matmul(t2)"
   ]
  },
  {
   "cell_type": "code",
   "execution_count": 64,
   "id": "e8b482e8",
   "metadata": {},
   "outputs": [
    {
     "data": {
      "text/plain": [
       "tensor(2.2277)"
      ]
     },
     "execution_count": 64,
     "metadata": {},
     "output_type": "execute_result"
    }
   ],
   "source": [
    "a = torch.rand(10)\n",
    "b = torch.rand(10)\n",
    "a.dot(b)"
   ]
  },
  {
   "cell_type": "code",
   "execution_count": 67,
   "id": "c8ab1f67",
   "metadata": {},
   "outputs": [
    {
     "ename": "RuntimeError",
     "evalue": "self must be a matrix",
     "output_type": "error",
     "traceback": [
      "\u001b[0;31m---------------------------------------------------------------------------\u001b[0m",
      "\u001b[0;31mRuntimeError\u001b[0m                              Traceback (most recent call last)",
      "\u001b[0;32m/var/folders/3b/rtm0n0l56yd2mbcz2vh1106r0000gn/T/ipykernel_13781/3900945322.py\u001b[0m in \u001b[0;36m<module>\u001b[0;34m\u001b[0m\n\u001b[0;32m----> 1\u001b[0;31m \u001b[0ma\u001b[0m\u001b[0;34m.\u001b[0m\u001b[0mmm\u001b[0m\u001b[0;34m(\u001b[0m\u001b[0mb\u001b[0m\u001b[0;34m)\u001b[0m\u001b[0;34m\u001b[0m\u001b[0;34m\u001b[0m\u001b[0m\n\u001b[0m",
      "\u001b[0;31mRuntimeError\u001b[0m: self must be a matrix"
     ]
    }
   ],
   "source": [
    "a.mm(b)"
   ]
  },
  {
   "cell_type": "markdown",
   "id": "d8cca001",
   "metadata": {},
   "source": [
    "### mm과 matmul은 broadcasting 지원 차이가 있다\n"
   ]
  },
  {
   "cell_type": "code",
   "execution_count": 86,
   "id": "e8099976",
   "metadata": {},
   "outputs": [
    {
     "ename": "RuntimeError",
     "evalue": "self must be a matrix",
     "output_type": "error",
     "traceback": [
      "\u001b[0;31m---------------------------------------------------------------------------\u001b[0m",
      "\u001b[0;31mRuntimeError\u001b[0m                              Traceback (most recent call last)",
      "\u001b[0;32m/var/folders/3b/rtm0n0l56yd2mbcz2vh1106r0000gn/T/ipykernel_13781/1943547382.py\u001b[0m in \u001b[0;36m<module>\u001b[0;34m\u001b[0m\n\u001b[1;32m      1\u001b[0m \u001b[0ma\u001b[0m \u001b[0;34m=\u001b[0m \u001b[0mtorch\u001b[0m\u001b[0;34m.\u001b[0m\u001b[0mrand\u001b[0m\u001b[0;34m(\u001b[0m\u001b[0;36m5\u001b[0m\u001b[0;34m,\u001b[0m \u001b[0;36m2\u001b[0m\u001b[0;34m,\u001b[0m \u001b[0;36m3\u001b[0m\u001b[0;34m)\u001b[0m\u001b[0;34m\u001b[0m\u001b[0;34m\u001b[0m\u001b[0m\n\u001b[1;32m      2\u001b[0m \u001b[0mb\u001b[0m \u001b[0;34m=\u001b[0m \u001b[0mtorch\u001b[0m\u001b[0;34m.\u001b[0m\u001b[0mrand\u001b[0m\u001b[0;34m(\u001b[0m\u001b[0;36m3\u001b[0m\u001b[0;34m)\u001b[0m\u001b[0;34m\u001b[0m\u001b[0;34m\u001b[0m\u001b[0m\n\u001b[0;32m----> 3\u001b[0;31m \u001b[0ma\u001b[0m\u001b[0;34m.\u001b[0m\u001b[0mmm\u001b[0m\u001b[0;34m(\u001b[0m\u001b[0mb\u001b[0m\u001b[0;34m)\u001b[0m\u001b[0;34m\u001b[0m\u001b[0;34m\u001b[0m\u001b[0m\n\u001b[0m",
      "\u001b[0;31mRuntimeError\u001b[0m: self must be a matrix"
     ]
    }
   ],
   "source": [
    "a = torch.rand(5, 2, 3)\n",
    "b = torch.rand(3)\n",
    "a.mm(b) "
   ]
  },
  {
   "cell_type": "code",
   "execution_count": 87,
   "id": "3b00aa46",
   "metadata": {},
   "outputs": [
    {
     "data": {
      "text/plain": [
       "tensor([[1.4764, 1.3471],\n",
       "        [1.3407, 1.4098],\n",
       "        [1.6315, 1.0563],\n",
       "        [1.1733, 1.1790],\n",
       "        [1.4994, 0.8969]])"
      ]
     },
     "execution_count": 87,
     "metadata": {},
     "output_type": "execute_result"
    }
   ],
   "source": [
    "a.matmul(b)"
   ]
  },
  {
   "cell_type": "code",
   "execution_count": 100,
   "id": "5dce31a7",
   "metadata": {},
   "outputs": [
    {
     "name": "stdout",
     "output_type": "stream",
     "text": [
      "tensor([1.4764, 1.3471])\n",
      "tensor([1.3407, 1.4098])\n",
      "tensor([1.6315, 1.0563])\n",
      "tensor([1.1733, 1.1790])\n",
      "tensor([1.4994, 0.8969])\n"
     ]
    }
   ],
   "source": [
    "# matmul의 broadcasting은 이와 같다.\n",
    "\n",
    "for i in range(5):\n",
    "    print(a[i].mm(torch.unsqueeze(b, 1)).squeeze())"
   ]
  },
  {
   "cell_type": "markdown",
   "id": "50e17352",
   "metadata": {},
   "source": [
    "### Tensor operations for ML/DL formula\n",
    "- nn.funcional 모듈을 통해 다양한 수식 변환 지원"
   ]
  },
  {
   "cell_type": "code",
   "execution_count": 104,
   "id": "69db25ed",
   "metadata": {},
   "outputs": [
    {
     "name": "stdout",
     "output_type": "stream",
     "text": [
      "tensor([0.5000, 0.7000, 0.1000])\n"
     ]
    },
    {
     "data": {
      "text/plain": [
       "tensor([0.3458, 0.4224, 0.2318])"
      ]
     },
     "execution_count": 104,
     "metadata": {},
     "output_type": "execute_result"
    }
   ],
   "source": [
    "import torch.nn.functional as F\n",
    "\n",
    "tensor = torch.FloatTensor([0.5, 0.7, 0.1])\n",
    "h_tensor = F.softmax(tensor, dim = 0)\n",
    "print(tensor)\n",
    "h_tensor"
   ]
  },
  {
   "cell_type": "code",
   "execution_count": 108,
   "id": "cb054ca3",
   "metadata": {},
   "outputs": [
    {
     "name": "stdout",
     "output_type": "stream",
     "text": [
      "tensor([[1, 2, 1, 0, 1]])\n"
     ]
    },
    {
     "data": {
      "text/plain": [
       "tensor([1])"
      ]
     },
     "execution_count": 108,
     "metadata": {},
     "output_type": "execute_result"
    }
   ],
   "source": [
    "y = torch.randint(5,(1, 5))\n",
    "print(y)\n",
    "y_label = y.argmax(dim = 1)\n",
    "y_label"
   ]
  },
  {
   "cell_type": "code",
   "execution_count": 109,
   "id": "cf16e946",
   "metadata": {},
   "outputs": [
    {
     "data": {
      "text/plain": [
       "tensor([[0, 1]])"
      ]
     },
     "execution_count": 109,
     "metadata": {},
     "output_type": "execute_result"
    }
   ],
   "source": [
    "F.one_hot(y_label)"
   ]
  },
  {
   "cell_type": "markdown",
   "id": "2d8dcb33",
   "metadata": {},
   "source": [
    "## AutoGrad\n",
    "- PyTorch의 핵심 기능인 자동 미분 기능 $\\Rightarrow$ backward 함수 사용"
   ]
  },
  {
   "cell_type": "markdown",
   "id": "aa878f1d",
   "metadata": {},
   "source": [
    "$$ y = w^2 $$\n",
    "$$ z = 10*y + 25 $$\n",
    "$$ z = 10*w^2 + 25 $$"
   ]
  },
  {
   "cell_type": "code",
   "execution_count": 121,
   "id": "d61163ac",
   "metadata": {},
   "outputs": [
    {
     "data": {
      "text/plain": [
       "tensor(40.)"
      ]
     },
     "execution_count": 121,
     "metadata": {},
     "output_type": "execute_result"
    }
   ],
   "source": [
    "# 실제론 Linear등 함수 사용 default로 되어있어 true 설정 할 필요 x\n",
    "w = torch.tensor(2.0, requires_grad = True) \n",
    "y = w**2\n",
    "z = 10*y + 25\n",
    "z.backward()\n",
    "w.grad"
   ]
  },
  {
   "cell_type": "markdown",
   "id": "e383af78",
   "metadata": {},
   "source": [
    "$$ Q = 3a^3 - b^2 $$"
   ]
  },
  {
   "cell_type": "code",
   "execution_count": 126,
   "id": "fba44d8c",
   "metadata": {},
   "outputs": [
    {
     "data": {
      "text/plain": [
       "tensor([36., 81.])"
      ]
     },
     "execution_count": 126,
     "metadata": {},
     "output_type": "execute_result"
    }
   ],
   "source": [
    "a = torch.tensor([2., 3.], requires_grad = True)\n",
    "b = torch.tensor([6., 4.], requires_grad = True)\n",
    "Q = 3*a**3 - b**2\n",
    "external_grad = torch.tensor([1., 1.])\n",
    "Q.backward(gradient = external_grad)\n",
    "a.grad"
   ]
  },
  {
   "cell_type": "code",
   "execution_count": 131,
   "id": "fcae86fe",
   "metadata": {},
   "outputs": [
    {
     "data": {
      "text/plain": [
       "tensor([-12.,  -8.])"
      ]
     },
     "execution_count": 131,
     "metadata": {},
     "output_type": "execute_result"
    }
   ],
   "source": [
    "b.grad"
   ]
  },
  {
   "cell_type": "markdown",
   "id": "86241a9a",
   "metadata": {},
   "source": [
    "# Pytorch 프로젝트 구조 이해하기\n",
    "- ML 코드를 계속 주피터에서 사용할 수는 없다\n",
    "- 개발 초기 단계에서는 대화식 개발 과정(주피터)이 유리하다  \n",
    "  $\\rightarrow$ 학습과정과 디버깅등을 지속적으로 확인 가능하기 때문이다.\n",
    "- 배포 공유 단계에서는 note book공유의 어려움의 있다.  \n",
    "  $\\rightarrow$ 쉬운 재현의 어려움, 실행순서 꼬임\n",
    "- DL 코드도 하나의 프로그램 : 개발 용이성 확보와 유지보수 향상 필요"
   ]
  },
  {
   "cell_type": "markdown",
   "id": "c769d189",
   "metadata": {},
   "source": [
    "### 코드도 레고 블록처럼... OOP + 모듈 $\\rightarrow$ 프로젝트\n",
    "- 다양한 프로젝트 템플릿이 존재한다.\n",
    "- 사용지 필요에 따라 수정하여 사용\n",
    "- 실행, 데이터, 모델, 설정, 로깅, 지표, 유틸리티 등.\n",
    "- 다양한 모듈들을 분리하여 프로젝트 템플릿화"
   ]
  },
  {
   "cell_type": "markdown",
   "id": "47a9186c",
   "metadata": {},
   "source": [
    "### PyTorch Template 추천 repository\n",
    "https://github.com/victoresque/pytorch-template"
   ]
  },
  {
   "cell_type": "markdown",
   "id": "0593dccc",
   "metadata": {},
   "source": [
    "<img src = \"../images/ai_31.png\">"
   ]
  },
  {
   "cell_type": "markdown",
   "id": "5a483eed",
   "metadata": {},
   "source": [
    "### CLI에서 사용\n",
    "1. 새로운 가상환경 torch 생성 \n",
    "    - conda activate torch \n",
    "2. 새로운 프로젝트 생성\n",
    "    - python3 new_project.py MyProject. \n",
    "    - 'code . ' 을 입력하면 코드를 볼 수 있다\n",
    "3. 트레이닝\n",
    "    - python3 train.py -c config.json"
   ]
  },
  {
   "cell_type": "markdown",
   "id": "6a71a00d",
   "metadata": {},
   "source": [
    "### 구글 colab에서 사용\n",
    "- 구글 colab 역시 하나의 컴퓨터이다.\n",
    "- 내 컴퓨터에서 원격로 접속해 사용하게 해주는 프로그램중 하나가 ngrok이다.\n",
    "1. ngrok 가입 후 token키 복사\n",
    "2. colab에서 NGROK_TOKEN와 PASSWORD 설정\n",
    "3. pip in stall colab-ssh 후\n",
    "   from colab_ssh import launch_ssh\n",
    "   launch_ssh(NGROK_TOKEN, PASSWORD) \n",
    "4. vsc설정 (remote ssh 설치 후 코랩에서 준 주소로 연결 passward 입력)\n",
    "5. command + shift + p로 connect\n",
    "6. /content/pytorch-template/MNIST-example 경로에서\n",
    "   python3 train.py -c config.json 입력\n",
    "7. /content/drive/MyDrive 에 실제 결과물들이 있다.\n",
    "8. /content/drive/MyDrive cp -r /content/pytorch-templates ./\n",
    "   입력 하면 구글 드라이브에서 파일 확인 가능"
   ]
  },
  {
   "cell_type": "markdown",
   "id": "277e3138",
   "metadata": {},
   "source": [
    "## 파일 보기\n",
    "\n",
    "### 시작 : train.py\n",
    "- -c or --config는 설정 파일 load후 config parser에 넘김\n",
    "- config parserd의 from_args에 arg 넘김\n",
    "- from_args에서는 read_json로 하나의 dict 파일로 만들고 config 변수로 만든후 return\n",
    "- 이 config 파일을 기반으로 실행됨 "
   ]
  },
  {
   "cell_type": "markdown",
   "id": "5dd3fbc5",
   "metadata": {},
   "source": [
    "### getitem\n",
    "- parse_config를 좀 더 살펴보면 \\_\\_getitem_\\_ 함수가 있다.\n",
    "- 이 함수는 index 를 넣으면 값을 불러오는 함수이다."
   ]
  },
  {
   "cell_type": "code",
   "execution_count": 132,
   "id": "abbf0192",
   "metadata": {},
   "outputs": [
    {
     "name": "stdout",
     "output_type": "stream",
     "text": [
      "<class 'int'> 5\n",
      "<class 'slice'> slice(5, 65, 5)\n",
      "<class 'str'> GeeksforGeeks\n",
      "<class 'tuple'> (1, 'x', 10.0)\n",
      "<class 'slice'> slice('a', 'z', 2)\n",
      "<class 'object'> <object object at 0x10d3cba10>\n"
     ]
    }
   ],
   "source": [
    "# 예시\n",
    "class Test(object):\n",
    "    def __getitem__(self, items):\n",
    "        print (type(items), items)\n",
    "\n",
    "# Driver code\n",
    "test = Test()\n",
    "test[5]\n",
    "test[5:65:5]\n",
    "test['GeeksforGeeks']\n",
    "test[1, 'x', 10.0]\n",
    "test['a':'z':2]\n",
    "test[object()]"
   ]
  },
  {
   "cell_type": "markdown",
   "id": "fc033975",
   "metadata": {},
   "source": [
    "### get_logger\n",
    "- parse_config에는 get_logger 함수가 잇다.\n",
    "- 이 함수는 로깅을 'train'으로 할지 'test'로 input으로 받는다\n",
    "\n",
    "### init_obj\n",
    "- 데이터를 불러오는 역할\n",
    "- getattr를 사용해서 모듈안에 있는 attribute(Mnist dataloder)를 불러온다(config.json 파일에 Mninst_dataloder를 여러개 만드는것(하드코딩)이 아닌 마음대로 수정할 수 있게 하는것)\n",
    "- Data들이 하나씩 config.json 파일에 들어간다.\n",
    "\n",
    "### model\n",
    "- 모델 역시 같은 방식으로 불러온다\n",
    "- module_arch를 통해 불러온다.\n",
    "\n",
    "### train\n",
    "- train.py의 Trainer는 가장 중요한 기능\n",
    "- 요리하는 soup 같은 것이다.\n",
    "- model, Data, loss 등의 값을 넣고\n",
    "- trainder.train() 해준다.\n",
    "- 여러가지 데이터를 저장 한후 train을 하게된다.\n",
    "- 실제 train은 base_trainer.py에서 시행\n",
    "- base_train.py 에선 epoch을 반복, 중간중간 logging해줌\n",
    "- Trainer() 클래스가 이 base_trainer을 상속받았으므로 epoch을 돌 때마다 모델을 불러오게 된다. \n",
    "- data_loder로 data를 불러와 optimizer로 gradient 초기화 해줌,최종적으로 $\\hat y$ (예측값) 설정, 실제값 간의 losts 값 계산 후 backward()해줌, 그리고 각각의 grad를 업데이트 해줘서 한번 batch 업데이트\n",
    "- 결국 config.json에서 설정한 epoch 만큼 train을 실시하게 된다."
   ]
  },
  {
   "cell_type": "markdown",
   "id": "eab002c3",
   "metadata": {},
   "source": [
    "### test\n",
    "- data_loder로 생성된모델을 불러와\n",
    "- checkpoint(saved)에 저장된 파일을 불러와 성능 측정"
   ]
  }
 ],
 "metadata": {
  "kernelspec": {
   "display_name": "Python 3 (ipykernel)",
   "language": "python",
   "name": "python3"
  },
  "language_info": {
   "codemirror_mode": {
    "name": "ipython",
    "version": 3
   },
   "file_extension": ".py",
   "mimetype": "text/x-python",
   "name": "python",
   "nbconvert_exporter": "python",
   "pygments_lexer": "ipython3",
   "version": "3.8.11"
  }
 },
 "nbformat": 4,
 "nbformat_minor": 5
}
