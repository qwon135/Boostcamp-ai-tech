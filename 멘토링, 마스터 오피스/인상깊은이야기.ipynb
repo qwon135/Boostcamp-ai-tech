{
 "cells": [
  {
   "cell_type": "markdown",
   "id": "b6302bb4",
   "metadata": {},
   "source": [
    "임성빈(유니스트)\n",
    "- 요즘 기업에서는 새로운 기술이 나왔을 때 관심을 가지고 논문을 써본 경험이 있는지를 확인한다. 대학원을 안간다면 그런 논문을 쓰는 기술을 이기면된다.\n",
    "- 선형대수는 꼭알아야 안다. 완전 중요.\n",
    "- 파이토치,텐서플로 사이트에가면 많은 사람들이 가르쳐준다.\n",
    "- 확률,통계 쪽은 머신러닝의 원리를 이해하는데 중요함, 머신러닝 모듈을 쓰다보면 이해가감많은 경험으로 실력이 길러진다.(면접에도 많이 나옴) 구글링해보고 왜 이렇게 되었는지 이해하는 시간을 갖는게 중요\n",
    "- 새로운 기술에 적용하려면 직접 구현할줄 아는 것이 중요\n"
   ]
  },
  {
   "cell_type": "markdown",
   "id": "880eefd6",
   "metadata": {},
   "source": [
    "멘토링 1/20\n",
    "- 페이퍼리딩 시 우선 기준이 될 책을 한권 정한다.\n",
    "- 스터디를 하면 발표자와 나머지 멤버 모두 읽는게 중요\n",
    "- SCI급\n",
    "- 추천시스템 GNN에서 user 간의 edge에 가중도추가, 쿠폰을 어떻게 잘줘야 효과적일까s"
   ]
  },
  {
   "cell_type": "code",
   "execution_count": null,
   "id": "42249062",
   "metadata": {},
   "outputs": [],
   "source": [
    "s"
   ]
  }
 ],
 "metadata": {
  "kernelspec": {
   "display_name": "Python 3 (ipykernel)",
   "language": "python",
   "name": "python3"
  },
  "language_info": {
   "codemirror_mode": {
    "name": "ipython",
    "version": 3
   },
   "file_extension": ".py",
   "mimetype": "text/x-python",
   "name": "python",
   "nbconvert_exporter": "python",
   "pygments_lexer": "ipython3",
   "version": "3.8.11"
  }
 },
 "nbformat": 4,
 "nbformat_minor": 5
}
