{
 "cells": [
  {
   "cell_type": "markdown",
   "id": "b750e68f",
   "metadata": {},
   "source": [
    "학습 결과를 저장하고 관리할 필요가 있다.  \n",
    "PyTorch에서는 어떻게 관리하는가?"
   ]
  },
  {
   "cell_type": "markdown",
   "id": "524dd062",
   "metadata": {},
   "source": [
    "### model.save()\n",
    "- 학습의 결과를 저장하기 위한 함수\n",
    "- 모델 형태(architecture)와 parameter를 저장\n",
    "- 모델 학습 중간 과정의 저장을 통해 최선의 결과 모델을 선택\n",
    "- 만들어진 모델을 외부 연구자와 공유하여 학습 재연성 향상"
   ]
  },
  {
   "cell_type": "markdown",
   "id": "2abd94d2",
   "metadata": {},
   "source": [
    "[실습](https://colab.research.google.com/drive/135SIMJcKlPQmpQOdnYmQ7W_JeQU88x5p)"
   ]
  },
  {
   "cell_type": "markdown",
   "id": "3fe6f6f3",
   "metadata": {},
   "source": [
    "### checkpoints\n",
    "- 학습의 중간 결과를 저장하여 최선의 결과를 선택\n",
    "- earlystopping 기법 사용시 이전 학습의 결과물을 저장\n",
    "- loss와 metric 값을 지속적으로 확인 저장\n",
    "- 일반적으로 epoch, loss, metric을 함께 저장하여 확인\n",
    "- 특히 colab에서 지속적인 학습을 위해 필요(colab은 처음부터 다시해야함)"
   ]
  },
  {
   "cell_type": "markdown",
   "id": "eec5c8ec",
   "metadata": {},
   "source": [
    "pretrained model  \n",
    "\n",
    "Transfer learning(남의 만든 모델을 쓰고싶을 떄)"
   ]
  },
  {
   "cell_type": "markdown",
   "id": "e5ac9e55",
   "metadata": {},
   "source": [
    "### Transfer learning\n",
    "- 다른 데이터셋으로 만든 모델을 현재 데이터에 사용\n",
    "- 일반적으로 대용량 데이터셋으로 만들어진 모델의 성능이 좋다.\n",
    "- 현재의 DL에서는 가장 일반적인 학습 기법\n",
    "- backbone architecture가 잘 학습된 모델에서 일부분만 변경하여 학습을 수행함\n",
    "- TorchVision, HuggingFace(Nlp에선 사실상 표준모델)"
   ]
  },
  {
   "cell_type": "markdown",
   "id": "d4134fd5",
   "metadata": {},
   "source": [
    "### Freezing\n",
    "- 타인의 Data로 만든 모델을 100%사용하지 않고 일부분에서 내 Data로 대체해서 학습\n",
    "- pretrained model을 활용시 모델의 일부분을 frozen시킴"
   ]
  }
 ],
 "metadata": {
  "kernelspec": {
   "display_name": "Python 3 (ipykernel)",
   "language": "python",
   "name": "python3"
  },
  "language_info": {
   "codemirror_mode": {
    "name": "ipython",
    "version": 3
   },
   "file_extension": ".py",
   "mimetype": "text/x-python",
   "name": "python",
   "nbconvert_exporter": "python",
   "pygments_lexer": "ipython3",
   "version": "3.8.11"
  }
 },
 "nbformat": 4,
 "nbformat_minor": 5
}
