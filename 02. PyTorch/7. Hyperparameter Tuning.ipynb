{
 "cells": [
  {
   "cell_type": "markdown",
   "id": "714e08de",
   "metadata": {},
   "source": [
    "Hyperparameter 는 사람이 지정해주는 parameter이다.  \n",
    "이것을 어떻게 잘 조정하면 학습이 잘되게 할 수 있을까"
   ]
  },
  {
   "cell_type": "markdown",
   "id": "11880242",
   "metadata": {},
   "source": [
    "### Hyperparameter Tuning\n",
    "- 모델 스스로 학습하지 않은 값은 사람이 지정 (learning rate, 모델의 크기, optimizer 등)\n",
    "- Hyperparameter에 의해 값이 크게 좌울 될 때가 있었지만 최근엔 그렇지는 않다.\n",
    "- 마지막 까지 성능을 조금이라도 올리고 싶을 때 사용할만하다.\n",
    "- 가장 기본적인 방법 : grid search vs random search(일정한 간격으로 탐색 vs 무작위로 탐색)\n",
    "- 최근에는 베이지안 기반 기법들이 주도"
   ]
  },
  {
   "cell_type": "markdown",
   "id": "c394c971",
   "metadata": {},
   "source": [
    "### Ray\n",
    "- multi-node multi processing 지원 모듈\n",
    "- ML/DL의 병력 처리를 위해 개발된 모듈\n",
    "- 기본적으로 현재의 분산병렬 ML/DL 모듈의 표준\n",
    "- Hyperparameter Search를 위한 다양한 모듈 제공"
   ]
  },
  {
   "cell_type": "markdown",
   "id": "a391f80e",
   "metadata": {},
   "source": [
    "코드자체는 간단하다\n",
    "- config에 search space 지정\n",
    "- 학습 스케줄링 알고리즘 지정\n",
    "- 결과 출력 양식 지정\n",
    "- 병력 처리 양식으로 학습 진행"
   ]
  },
  {
   "cell_type": "markdown",
   "id": "7800751c",
   "metadata": {},
   "source": [
    "[실습코드](https://colab.research.google.com/drive/1PkPSB6V8TtcC1qbu3Dh6Un0AYPbBxBX2)"
   ]
  },
  {
   "cell_type": "markdown",
   "id": "99baeb6e",
   "metadata": {},
   "source": [
    "Hyperparameter tuning 은 시간 대비 효과가 좋지는 않다.  \n",
    "데이터를 더 좋게 만드는 것이 좋다.  \n",
    "마지막에 조정을 해서 성능을 조금 더 올리는대 사용한다"
   ]
  }
 ],
 "metadata": {
  "kernelspec": {
   "display_name": "Python 3 (ipykernel)",
   "language": "python",
   "name": "python3"
  },
  "language_info": {
   "codemirror_mode": {
    "name": "ipython",
    "version": 3
   },
   "file_extension": ".py",
   "mimetype": "text/x-python",
   "name": "python",
   "nbconvert_exporter": "python",
   "pygments_lexer": "ipython3",
   "version": "3.8.11"
  }
 },
 "nbformat": 4,
 "nbformat_minor": 5
}
