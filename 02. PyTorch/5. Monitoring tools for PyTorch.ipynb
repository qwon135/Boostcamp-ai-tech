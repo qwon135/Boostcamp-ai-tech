{
 "cells": [
  {
   "cell_type": "markdown",
   "id": "29a55885",
   "metadata": {},
   "source": [
    "학습하는 중간에 loss는 어떻게 되는지, 목표로하는 metric등을 트래킹하는 도구에 어떤것이 있을까"
   ]
  },
  {
   "cell_type": "markdown",
   "id": "a78ff975",
   "metadata": {},
   "source": [
    "긴 학습 시간이 있고, 학습이 정확히 잘 되었는지 확인할 기록이 필요하다."
   ]
  },
  {
   "cell_type": "markdown",
   "id": "9a47104a",
   "metadata": {},
   "source": [
    "대표적인 두가지 tools\n",
    "- Tensorboard\n",
    "- weight & biases"
   ]
  },
  {
   "cell_type": "markdown",
   "id": "202569a1",
   "metadata": {},
   "source": [
    "### Tensorboard\n",
    "- TensorFlow의 프로젝트로 만들어진 시각화 도구\n",
    "- 학습 그래프, metric, 학습 결과의 시각화 지원\n",
    "- PyTorch도 연결 가능 $\\rightarrow$ DL 시각화 기본(핵심) 도구"
   ]
  },
  {
   "cell_type": "markdown",
   "id": "6b12cbec",
   "metadata": {},
   "source": [
    "#### Tensorboard는 이런 값들을 지정 가능하다\n",
    "- scalar : metric 등 상수 값의 연속(epoch)을 표시\n",
    "- graph : 모델의 computational graph 표시\n",
    "- histogram : weight 등 값의 분포를 표현\n",
    "- image : 예측 값의 실제 값을 비교 표시\n",
    "- mesh : 3d 형태의 데이터를 표현하는 도구"
   ]
  },
  {
   "cell_type": "markdown",
   "id": "3c418fe3",
   "metadata": {},
   "source": [
    "[Tensorboard실습1](https://colab.research.google.com/drive/1o10zlMBmQCBJ2BWZlb9x65Unk-vhJ7Ty)\n",
    "\n",
    "[Tensorboard실습2](https://colab.research.google.com/drive/1qa4_fifUL8WgTlzcKVBJcsoTKB9P2-Yd)"
   ]
  },
  {
   "cell_type": "markdown",
   "id": "6a62c540",
   "metadata": {},
   "source": [
    "### weight & biases\n",
    "- 머신러닝 실험을 원활히 지원하기 위한 상용도구\n",
    "- 협업, code versioning, 실험 결과 기록 등 제공\n",
    "- MPOps의 대표적인 툴로 저변 확대 중"
   ]
  },
  {
   "cell_type": "markdown",
   "id": "bbc767af",
   "metadata": {},
   "source": [
    "[wandb 실습](https://colab.research.google.com/drive/10V45XZY8iRTx3pkln_ecxxaOvafzeisF)"
   ]
  },
  {
   "cell_type": "code",
   "execution_count": null,
   "id": "3203ca0e",
   "metadata": {},
   "outputs": [],
   "source": []
  }
 ],
 "metadata": {
  "kernelspec": {
   "display_name": "Python 3 (ipykernel)",
   "language": "python",
   "name": "python3"
  },
  "language_info": {
   "codemirror_mode": {
    "name": "ipython",
    "version": 3
   },
   "file_extension": ".py",
   "mimetype": "text/x-python",
   "name": "python",
   "nbconvert_exporter": "python",
   "pygments_lexer": "ipython3",
   "version": "3.8.11"
  }
 },
 "nbformat": 4,
 "nbformat_minor": 5
}
