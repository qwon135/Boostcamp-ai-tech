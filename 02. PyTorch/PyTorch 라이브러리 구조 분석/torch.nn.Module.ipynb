{
 "cells": [
  {
   "cell_type": "code",
   "execution_count": 1,
   "id": "22c8fe9b",
   "metadata": {},
   "outputs": [],
   "source": [
    "from torch import nn"
   ]
  },
  {
   "cell_type": "markdown",
   "id": "c501570b",
   "metadata": {},
   "source": [
    "### nn.Module의 Method\n",
    "- \\_\\_init\\_\\_\n",
    "- \\_forward_unimplemented\n",
    "- register_buffer\n",
    "- register_parameter\n",
    "- add_module\n",
    "- get_submodule\n",
    "- get_parameter\n",
    "- get_buffer\n",
    "- get_extra_state\n",
    "- set_extra_state\n",
    "- cuda\n",
    "- register_full_backward_hook\n",
    "- register_forward_pre_hook\n",
    "- register_forward_hook\n",
    "- parameters\n",
    "- named_parameters\n",
    "- buffers\n",
    "- named_buffers\n",
    "- children\n",
    "- named_children\n",
    "- modules\n",
    "- named_modules\n",
    "- train\n",
    "- zero_grad\n",
    "- extra_repr\n",
    "- \\_\\_repr\\_\\_\n",
    "\n",
    "이 외에도 많은 Method들이 있다."
   ]
  },
  {
   "cell_type": "markdown",
   "id": "d5f3d4e1",
   "metadata": {},
   "source": [
    "### nn.Module 공식 문서의 설명\n",
    "- Base class for all neural network modules.   \n",
    "    \\> 모든 뉴럴네트워크의 모듈들은 nn.Module 을 base class 로 가진다.\n",
    "      \n",
    "      \n",
    "- Your models should also subclass this class.   \n",
    "    \\> 사용자가 만드는 모델들 또한 이 class를 subclass로 가진다\n",
    "\n",
    "\n",
    "- Modules can also contain other Modules, allowing to nest them in a tree structure  \n",
    "    \\> Modules는 다른 Modules를 포함할 수 있다.\n",
    "\n"
   ]
  },
  {
   "cell_type": "markdown",
   "id": "f84fed97",
   "metadata": {},
   "source": [
    "### 1. \\_\\_init\\_\\_\n",
    "- torch.\\_C.\\_log\\_api\\_usage\\_once : 이 부분은 log를 남기는 것으로 Facebook으로 가는 것으로 [추정된다.](https://discuss.pytorch.org/t/what-does-torch-c-log-api-usage-once-do/137732)\n",
    "\n",
    "\n",
    "- 다른 class의 \\_\\_init\\_\\_ 의 역할 처럼 생성자의 역할을 하여준다.\n",
    "\n",
    "\n",
    "- training의 default 값은 True이다.\n",
    "\n",
    "\n",
    "- parameters, buffers, backward_hooks, forward_hooks, forward_pre_hooks등은 모두 비어있는 OrderDict()를 할당해준다."
   ]
  },
  {
   "cell_type": "code",
   "execution_count": 9,
   "id": "09340a73",
   "metadata": {},
   "outputs": [],
   "source": [
    "    def __init__(self) -> None:\n",
    "        \"\"\"\n",
    "        Initializes internal Module state, shared by both nn.Module and ScriptModule.\n",
    "        \"\"\"\n",
    "        torch._C._log_api_usage_once(\"python.nn_module\")\n",
    "\n",
    "        self.training = True\n",
    "        self._parameters: Dict[str, Optional[Parameter]] = OrderedDict()\n",
    "        self._buffers: Dict[str, Optional[Tensor]] = OrderedDict()\n",
    "        self._non_persistent_buffers_set: Set[str] = set()\n",
    "        self._backward_hooks: Dict[int, Callable] = OrderedDict()\n",
    "        self._is_full_backward_hook = None\n",
    "        self._forward_hooks: Dict[int, Callable] = OrderedDict()\n",
    "        self._forward_pre_hooks: Dict[int, Callable] = OrderedDict()\n",
    "        self._state_dict_hooks: Dict[int, Callable] = OrderedDict()\n",
    "        self._load_state_dict_pre_hooks: Dict[int, Callable] = OrderedDict()\n",
    "        self._modules: Dict[str, Optional['Module']] = OrderedDict()"
   ]
  },
  {
   "cell_type": "markdown",
   "id": "878ee37d",
   "metadata": {},
   "source": [
    "<code>self._forward_hooks: Dict[int, Callable] = OrderedDict()</code> 같은 구조는 typing 모듈로 타입 표시하는 방법 중 하나이다. [참고](https://www.daleseo.com/python-typing/)  \n",
    "즉 forward_hooks는 int를 key로 Callable한 value를 가져야만한다."
   ]
  },
  {
   "cell_type": "code",
   "execution_count": null,
   "id": "673d3696",
   "metadata": {},
   "outputs": [],
   "source": []
  }
 ],
 "metadata": {
  "kernelspec": {
   "display_name": "Python 3 (ipykernel)",
   "language": "python",
   "name": "python3"
  },
  "language_info": {
   "codemirror_mode": {
    "name": "ipython",
    "version": 3
   },
   "file_extension": ".py",
   "mimetype": "text/x-python",
   "name": "python",
   "nbconvert_exporter": "python",
   "pygments_lexer": "ipython3",
   "version": "3.8.11"
  }
 },
 "nbformat": 4,
 "nbformat_minor": 5
}
