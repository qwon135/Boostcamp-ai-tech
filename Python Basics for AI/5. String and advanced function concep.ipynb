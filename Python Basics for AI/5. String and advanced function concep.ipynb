{
 "cells": [
  {
   "cell_type": "markdown",
   "id": "8a4c15c4",
   "metadata": {},
   "source": [
    "## 1Byte의 메모리공간\n",
    "- 컴퓨터는 2진수로 데이터를 저장\n",
    "- 이진수 한 자릿수는 1 bit로 저장됨\n",
    "- 즉 1bit는 0 또는 1\n",
    "- 1 byte = 8bit = 2^8 = 256 까지 저장가능\n",
    "- 컴퓨터는 문자를 직접적으로 인식하는 것이 아닌 모든 데이터는 2진수로 인식\n",
    "- 이를 위해 2진수를 문자로 변환하는 표준 규칙을 정함\n",
    "- 이러한 규칙 때문에 문자를 2진수로 변환하여 저장하거나 저장된 2진수를 숫자로 표현\n",
    "- UTF-8기준"
   ]
  },
  {
   "cell_type": "markdown",
   "id": "c145c987",
   "metadata": {},
   "source": [
    "### 프로그램 언어에서 데이터 타입\n",
    "- int 5바이트, float 8바이트, long 무한\n",
    "- 각 타입 별로 메모리 공간을 할당 받은 크기가 다름\n",
    "- 메모리 공간에 따라 표현할 수 있는 숫자범위가 다름\n",
    "- 데이터 타입은 메모리의 효율적 활용을 위해 메우 중요"
   ]
  },
  {
   "cell_type": "markdown",
   "id": "cf80d366",
   "metadata": {},
   "source": [
    "### 문자열 특징 - 인덱싱\n",
    "- 문자열의 각 문자는 개별주소를 가짐\n",
    "- 이 주소를 사용해 할당된 값을 가져옴\n",
    "- List와 같은 형태로 데이터를 처리함\n",
    "\n",
    "### 문자열 특징 - 슬라이싱\n",
    "- 문자열의 주소값을 기반으로 문자열의 부분값 반환"
   ]
  },
  {
   "cell_type": "markdown",
   "id": "320a208a",
   "metadata": {},
   "source": [
    "### 특수문자\n",
    "문자열 표시할때 백슬래시 \\ 를 사용해 키보드로 표시하기 어려운 문자 표현\n",
    "- \\n : 줄바꾸기\n",
    "- \\t : Tab키\n",
    "- \\e : ESC키\n",
    "- \\b : 백 스페이스"
   ]
  },
  {
   "cell_type": "markdown",
   "id": "cbf9497c",
   "metadata": {},
   "source": [
    "### raw string\n",
    "특수문자 특수기호인 \\escape 글자를 무시하고 그대로 출력"
   ]
  },
  {
   "cell_type": "code",
   "execution_count": 4,
   "id": "55c817a2",
   "metadata": {},
   "outputs": [
    {
     "name": "stdout",
     "output_type": "stream",
     "text": [
      "파이썬 그만\n",
      " 정말\n"
     ]
    }
   ],
   "source": [
    "raw_string = \"파이썬 그만\\n 정말\"\n",
    "print(raw_string)"
   ]
  },
  {
   "cell_type": "code",
   "execution_count": 5,
   "id": "1e33f51d",
   "metadata": {},
   "outputs": [
    {
     "name": "stdout",
     "output_type": "stream",
     "text": [
      "파이썬 그만\\n 정말\n"
     ]
    }
   ],
   "source": [
    "raw_string = r\"파이썬 그만\\n 정말\"\n",
    "print(raw_string)"
   ]
  },
  {
   "cell_type": "markdown",
   "id": "5ff56bce",
   "metadata": {},
   "source": [
    "### call by object reference\n",
    "\n",
    "함수에서 parameter 를 전달하는 방식\n",
    "1. Call by Value(값에 의한 호출) : 함우세 인자를 넘길 때 값만 넘김, \n",
    "2. Call by Reference (참조에 의한 호출) : 함수에 인자를 넘길 때 메모리 주소를 넘김\n",
    "3. Call by Object Reference(객체 참조에 의한 호출) :  "
   ]
  },
  {
   "cell_type": "markdown",
   "id": "f654fbf6",
   "metadata": {},
   "source": [
    "### swap\n",
    "- 함수를 통해 변수 간의 값을 교환(Swap)하는 함수"
   ]
  },
  {
   "cell_type": "markdown",
   "id": "0af3c6f1",
   "metadata": {},
   "source": [
    "### 변수의 범위 (Scoping Rule)\n",
    "- 변수가 사용되는 범위 (함수 또는 메인 프로그램)\n",
    "- local variable : 함수 내에서만 사용\n",
    "- Global variable : 프로그램 전체에서 사용"
   ]
  },
  {
   "cell_type": "code",
   "execution_count": null,
   "id": "704e8d1a",
   "metadata": {},
   "outputs": [],
   "source": []
  }
 ],
 "metadata": {
  "kernelspec": {
   "display_name": "Python 3",
   "language": "python",
   "name": "python3"
  },
  "language_info": {
   "codemirror_mode": {
    "name": "ipython",
    "version": 3
   },
   "file_extension": ".py",
   "mimetype": "text/x-python",
   "name": "python",
   "nbconvert_exporter": "python",
   "pygments_lexer": "ipython3",
   "version": "3.8.8"
  }
 },
 "nbformat": 4,
 "nbformat_minor": 5
}
