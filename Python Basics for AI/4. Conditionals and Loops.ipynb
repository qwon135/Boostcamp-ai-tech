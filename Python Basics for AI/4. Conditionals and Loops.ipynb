{
 "cells": [
  {
   "cell_type": "markdown",
   "id": "0df462b9",
   "metadata": {},
   "source": [
    "### 작동하는 프로그래밍"
   ]
  },
  {
   "cell_type": "markdown",
   "id": "835cae92",
   "metadata": {},
   "source": [
    "## Condition : 조건문\n",
    "- 조건에 따라 특정한 동작을 하게 하는 명령어\n",
    "- 조건문은 조건을 나타내는 기준과 실행해야 할 명령으로 구성\n",
    "- 조건의 참, 거짓에 따라 실행해야 할 명령이 수행되거나 되지 않음\n",
    "- if, else, elif 등 예약어 사용\n",
    "\n",
    "### if - else문 문법\n",
    "1. 조건 판단 방법\n",
    "2. 조건 일치 시 수행 명령 block : 와 들여쓰기\n",
    "3. 조건 불일치 시 수행 명령 block"
   ]
  },
  {
   "cell_type": "markdown",
   "id": "c22958b4",
   "metadata": {},
   "source": [
    "### x==y, x is y는 다른 문법\n",
    "x is y는 memory 주소를 비교하는 문법이다."
   ]
  },
  {
   "cell_type": "code",
   "execution_count": 3,
   "id": "d45424c1",
   "metadata": {},
   "outputs": [
    {
     "name": "stdout",
     "output_type": "stream",
     "text": [
      "True\n",
      "False\n"
     ]
    }
   ],
   "source": [
    "a=300\n",
    "b=300\n",
    "print(a==b)\n",
    "print(a is b)"
   ]
  },
  {
   "cell_type": "code",
   "execution_count": 4,
   "id": "67037e2b",
   "metadata": {},
   "outputs": [
    {
     "data": {
      "text/plain": [
       "True"
      ]
     },
     "execution_count": 4,
     "metadata": {},
     "output_type": "execute_result"
    }
   ],
   "source": [
    "a = -5\n",
    "b = -5\n",
    "a is b"
   ]
  },
  {
   "cell_type": "code",
   "execution_count": 5,
   "id": "9935d2bb",
   "metadata": {},
   "outputs": [
    {
     "data": {
      "text/plain": [
       "False"
      ]
     },
     "execution_count": 5,
     "metadata": {},
     "output_type": "execute_result"
    }
   ],
   "source": [
    "a = -6\n",
    "b = -6\n",
    "a is b"
   ]
  },
  {
   "cell_type": "markdown",
   "id": "a3e5aff0",
   "metadata": {},
   "source": [
    "자주 쓰는 -5~256 는 memory가 기억하고 있어 다른 값이 나온다.  \n",
    "is 는 헷갈리는 문법이라 사용 권유 X"
   ]
  }
 ],
 "metadata": {
  "kernelspec": {
   "display_name": "Python 3",
   "language": "python",
   "name": "python3"
  },
  "language_info": {
   "codemirror_mode": {
    "name": "ipython",
    "version": 3
   },
   "file_extension": ".py",
   "mimetype": "text/x-python",
   "name": "python",
   "nbconvert_exporter": "python",
   "pygments_lexer": "ipython3",
   "version": "3.8.8"
  }
 },
 "nbformat": 4,
 "nbformat_minor": 5
}
