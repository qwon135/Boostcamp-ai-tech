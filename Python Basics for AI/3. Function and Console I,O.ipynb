{
 "cells": [
  {
   "cell_type": "markdown",
   "id": "b404588e",
   "metadata": {},
   "source": [
    "# Function\n",
    "\n",
    "### 함수의 개요\n",
    "- 어떤 일을 수행하는 코드의 덩어리\n",
    "- 반복적인 수행을 1회만 작성 후 호출\n",
    "- 코드를 논리적인 단위로 분리\n",
    "- 캡슐화 : 인터페이스만 알면 타인의 코드 사용\n",
    "\n",
    "### 함수 선언 문법\n",
    "- 함수 이름, parameter, indentation(들여쓰기), return value(optional)\n",
    "\n",
    "### parameter vs argument\n",
    "- parameter : 함수의 입력 값 인터페이스\n",
    "- argument : 실제 parameter에 대입된 값\n",
    "\n",
    "### 함수 형태\n",
    "- parameter 유무, 반환 값 유무에 따라 함수의 형태가 다름"
   ]
  },
  {
   "cell_type": "markdown",
   "id": "8c333a60",
   "metadata": {},
   "source": [
    "# Console I/O\n",
    "\n",
    "### print문 활용해 결과 formatting하기\n",
    "1. % string\n",
    "2. format 함수\n",
    "3. f_string\n"
   ]
  },
  {
   "cell_type": "markdown",
   "id": "032a17ff",
   "metadata": {},
   "source": [
    "#### old - school formatting\n",
    "일반적으로 %-format과 str.format()함수를 사용"
   ]
  },
  {
   "cell_type": "code",
   "execution_count": 1,
   "id": "508e4898",
   "metadata": {},
   "outputs": [
    {
     "name": "stdout",
     "output_type": "stream",
     "text": [
      "one two\n",
      "one two\n",
      "1 2\n",
      "1 2\n"
     ]
    }
   ],
   "source": [
    "print('%s %s' % ('one', 'two') )# string 타입\n",
    "print('{} {}'.format('one', 'two'))\n",
    "print('%d %d' % (1, 2)) # digit , 10진수\n",
    "print('{} {}'.format(1, 2))"
   ]
  },
  {
   "cell_type": "markdown",
   "id": "69feb80d",
   "metadata": {},
   "source": [
    "#### % - format\n",
    "'% datatype' % (variable)형태로 출력 양식을 표현"
   ]
  },
  {
   "cell_type": "code",
   "execution_count": 2,
   "id": "7b12096d",
   "metadata": {},
   "outputs": [
    {
     "name": "stdout",
     "output_type": "stream",
     "text": [
      "    3.11\n"
     ]
    }
   ],
   "source": [
    "# %8.2f 는 8칸을 띄우고 소수점 2자리만 출력\n",
    "print('%8.2f' % (3.1112121))"
   ]
  },
  {
   "cell_type": "markdown",
   "id": "c6d21ec4",
   "metadata": {},
   "source": [
    "#### str.format() 함수\n",
    "\"\\~\\~\\~\\~{datatype}~\\~\\~\\~\".format(argument)"
   ]
  },
  {
   "cell_type": "code",
   "execution_count": 7,
   "id": "be5db293",
   "metadata": {},
   "outputs": [
    {
     "name": "stdout",
     "output_type": "stream",
     "text": [
      "i m a and 46 years old\n"
     ]
    }
   ],
   "source": [
    "age = 46; name = 'a'\n",
    "print(\"i m {1} and {0} years old\".format(age,name))"
   ]
  },
  {
   "cell_type": "markdown",
   "id": "b92e74e6",
   "metadata": {},
   "source": [
    "#### padding\n",
    "여유공간을 지정하여 글자배열 + 소수점 자릿 수 맞추기"
   ]
  },
  {
   "cell_type": "code",
   "execution_count": 8,
   "id": "84211478",
   "metadata": {},
   "outputs": [
    {
     "name": "stdout",
     "output_type": "stream",
     "text": [
      "product : apple     , abcd      5.223\n"
     ]
    }
   ],
   "source": [
    "print(\"product : {0:<10s}, abcd {1:10.3f}\".format(\"apple\",5.22323))"
   ]
  },
  {
   "cell_type": "markdown",
   "id": "b6cbf622",
   "metadata": {},
   "source": [
    "#### naming\n",
    "해당 표시할 내용을 변수로 표시해 입력"
   ]
  },
  {
   "cell_type": "code",
   "execution_count": 11,
   "id": "260e8a65",
   "metadata": {},
   "outputs": [
    {
     "name": "stdout",
     "output_type": "stream",
     "text": [
      "apple\n"
     ]
    }
   ],
   "source": [
    "print(\"%(name)s\"%{'name':'apple'})"
   ]
  },
  {
   "cell_type": "markdown",
   "id": "9b00c879",
   "metadata": {},
   "source": [
    "## f-string\n",
    "- python 3.6이후 PEP498에 근거한 formatting 기법\n",
    "- 최근에 가장 자주사용"
   ]
  },
  {
   "cell_type": "code",
   "execution_count": 20,
   "id": "3b849487",
   "metadata": {},
   "outputs": [
    {
     "name": "stdout",
     "output_type": "stream",
     "text": [
      "Sungchul            \n",
      "            Sungchul\n",
      "Sungchul************\n",
      "************Sungchul\n",
      "******Sungchul******\n",
      "3.14\n"
     ]
    }
   ],
   "source": [
    "name = 'Sungchul'\n",
    "num = 3.14321597\n",
    "print(f\"{name:20}\")\n",
    "print(f\"{name:>20}\")\n",
    "print(f\"{name:*<20}\")\n",
    "print(f\"{name:*>20}\")\n",
    "print(f\"{name:*^20}\")\n",
    "print(f\"{num:.2f}\")"
   ]
  },
  {
   "cell_type": "code",
   "execution_count": null,
   "id": "3417e2ed",
   "metadata": {},
   "outputs": [],
   "source": []
  }
 ],
 "metadata": {
  "kernelspec": {
   "display_name": "Python 3",
   "language": "python",
   "name": "python3"
  },
  "language_info": {
   "codemirror_mode": {
    "name": "ipython",
    "version": 3
   },
   "file_extension": ".py",
   "mimetype": "text/x-python",
   "name": "python",
   "nbconvert_exporter": "python",
   "pygments_lexer": "ipython3",
   "version": "3.8.8"
  }
 },
 "nbformat": 4,
 "nbformat_minor": 5
}
