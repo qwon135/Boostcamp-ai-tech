{
 "cells": [
  {
   "cell_type": "markdown",
   "id": "60e251ec",
   "metadata": {},
   "source": [
    "# Day 0 "
   ]
  },
  {
   "cell_type": "markdown",
   "id": "6072c0fb",
   "metadata": {},
   "source": [
    "# File System & Terminal Basic"
   ]
  },
  {
   "cell_type": "markdown",
   "id": "35d899dd",
   "metadata": {},
   "source": [
    "## 1. 컴퓨터 OS\n",
    "Operationg System, 운영체제  \n",
    "우리의 프로그램이 동작할 수 있는 구동 환경"
   ]
  },
  {
   "cell_type": "markdown",
   "id": "2fcc1ca1",
   "metadata": {},
   "source": [
    "## 2. 파일 시스템\n",
    "OS에서 파일을 저장하는 트리구조 저장체제  \n",
    "컴퓨터 등의 기기에서 의미있는 정보를 담는 논리적인 단위  \n",
    "모든 프로그램은 파일로 구성되어 있고, 파일을 사용한다.\n",
    "(window + 1 키를 누르면 파일 탐색기가 뜬다.)  \n",
    "\n",
    "파일의 기본 체계 - 파일 vs 디렉토리\n",
    "\n",
    "#### 디렉토리\n",
    "- 폴더 또는 디렉토리라 불림\n",
    "- 파일과 다른 디렉토리를 포함할 수 있음  \n",
    "\n",
    "#### 파일 \n",
    "- 컴퓨터에서 정보를 저장하는 논리적 단위\n",
    "- 파일은 파일명과 확장자로 식별\n",
    "- 실행, 쓰기, 읽기 등을 할 수 있음\n",
    "\n",
    "옛날에 A디스크와 B디스크는 cd와 플로피디스크를 의미해서 현재는 C디스크와 D디스크만 남음  \n",
    "\n",
    "#### 절대경로와 상대경로\n",
    "경로 - 컴퓨터 파일의 고유한 위치, 트리구조상 노드의 연결  \n",
    "절대경로 - 루트 디렉토리부터 파일위치까지의 경로  \n",
    "상대경로 - 현재 있는 디렉토리부터 타깃 파일까지의 경로  \n",
    "ex) ../../greatgrandparent\n"
   ]
  },
  {
   "cell_type": "markdown",
   "id": "89298ebe",
   "metadata": {},
   "source": [
    "## 3. 터미널\n",
    "터미널 - mouse가 아닌 키보드로 명령을 입력 프로그램 실행\n",
    "\n",
    "#### CLI : Command Line Interface\n",
    "GUI와 달리 Text를 사용하여 컴퓨터에 명령을 입력하는 인터페이스 체계  \n",
    "\n",
    "Windows - CMD window, Window Terminal(윈도우는 cmder권장)  \n",
    "Mac - Terminal  \n",
    "\n",
    "Console = Terminal = CMD창  \n",
    "어원 : 디스플레이와 키보드가 조합된 장치   \n",
    "현재 : CLI로입력하는 화면"
   ]
  },
  {
   "cell_type": "markdown",
   "id": "ce9adff0",
   "metadata": {},
   "source": [
    "#### Terminal 시작\n",
    "윈도우 - window키 + R키, CMD입력  \n",
    "맥 - 빠른실행, Terminal 입력  "
   ]
  },
  {
   "cell_type": "markdown",
   "id": "cb041e10",
   "metadata": {},
   "source": [
    "#### 기본명령어\n",
    "각 터미널에서는 프로그램을 작동하는 shell이 존재한다.  -> shell 마다 다른 명령어 사용\n",
    "\n",
    "- CD > cd : 현재 디렉터리의 이름을 보여주거나 바꿈\n",
    "- CLS > clear : CMD 화면에 표시된 모든것을 지움\n",
    "- COPY > cp : 하나 이상의 파일을 다른 위치로 복사\n",
    "- DEL >rm : 하나이상의 파일을 지움\n",
    "- DIR > ls : 디렉터리에 있는 파일과 하위 디렉터리 목록을 보여줌\n",
    "- mkdir > 폴더생성  \n",
    "\n",
    "copy 예시  \n",
    "copy ..\\\\..\\\\abc.txt  \n",
    "라고 입력하면 전전폴더의 abc.txt복사해줌"
   ]
  },
  {
   "cell_type": "markdown",
   "id": "acb1e449",
   "metadata": {},
   "source": []
  }
 ],
 "metadata": {
  "kernelspec": {
   "display_name": "Python 3",
   "language": "python",
   "name": "python3"
  },
  "language_info": {
   "codemirror_mode": {
    "name": "ipython",
    "version": 3
   },
   "file_extension": ".py",
   "mimetype": "text/x-python",
   "name": "python",
   "nbconvert_exporter": "python",
   "pygments_lexer": "ipython3",
   "version": "3.8.8"
  }
 },
 "nbformat": 4,
 "nbformat_minor": 5
}
