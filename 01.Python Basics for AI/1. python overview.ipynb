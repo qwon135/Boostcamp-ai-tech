{
 "cells": [
  {
   "cell_type": "markdown",
   "id": "00af4d0a",
   "metadata": {},
   "source": [
    "### Python의 시작\n",
    "- 1991년 귀도반로섬이 발표\n",
    "- 플랫폼 독립적\n",
    "- 인터프리터 언어\n",
    "- 객체 지향\n",
    "- 동적 타이핑 언어\n",
    "- 처음 C언어로 구현되었음"
   ]
  },
  {
   "cell_type": "markdown",
   "id": "2126f4e7",
   "metadata": {},
   "source": [
    "## 플랫폼 독립적인 인터프리터 언어\n",
    "\n",
    "#### 플랫폼 = OS\n",
    ": 윈도우, 리눅스, 안드로이드, 맥OS, ios등 프로그램이 실행되는 운영체제를 플랫폼이라고함\n",
    "\n",
    "#### 독립적인 = 관계없는, 상관없는\n",
    ": OS에 상관없이 한번 프로그램을 작성하면 사용가능\n",
    "\n",
    "#### 인터프리터 = 통역기를 사용하는 언어\n",
    ": 소스코드를 바로 실행할 수 있게 지원하는 프로그램 실행 방법\n",
    "\n",
    "#### 컴파일러 vs 인터프리터\n",
    "- 컴파일러 : 소스코드를 기계어로 먼저 번역, 해당 플랫폼에 최적화되어 프로그램을 실행, 실행속도가 빠름 한번의 많은 기억장소 필요(C, C++, C#, 자바)  \n",
    "\n",
    "- 인터프리터 : 별도의 번역과정 없이 소스코드를 실행시점에 해석하여 컴퓨터가 처리, 간단히 작성, 메모리가 적게 필요, 실행속도가 느림 (파이썬, 스칼라)\n",
    "\n",
    "#### 프로그램의 동작 과정\n",
    "- 사람이 알 수 있는 고급 언어를 기계만 알 수 있는 저급언어로 변환\n",
    "\n",
    "#### 객체 지향 동적 타이핑 언어\n",
    "- 객체 지향적 언어 : 실행 순거가 아닌 단위 모듈(객체) 중심으로 프로그램을 작성, 하나의 객체는 어떤 목적을 달성하기 위한 행동(method)와 속성(attribute)을 가지고 있음\n",
    "\n",
    "- 동적 타이핑 언어 : 프로그램이 실행하는 시점에 프로그램이 사용해야할 데이터에 대한 타입을 결정함"
   ]
  },
  {
   "cell_type": "markdown",
   "id": "2189ba67",
   "metadata": {},
   "source": [
    "### Why Python?\n",
    "- 쉽고 간단하다.\n",
    "- 이해하기 쉬운 문법 : 사람의 시간이 기계의 시간보다 중요하다.\n",
    "- 다양한 라이브러리 : 무엇을 생각하든 그것을 구현할 수 있다, 대부분 라이브러리가 이미 다른 사용자에 의해 구현되어있음(특히 통계, 데이터)\n",
    "- 이미 널리 쓰이는 어디서든 쓸 수 있는 언어"
   ]
  },
  {
   "cell_type": "code",
   "execution_count": null,
   "id": "2eca305a",
   "metadata": {},
   "outputs": [],
   "source": []
  }
 ],
 "metadata": {
  "kernelspec": {
   "display_name": "Python 3",
   "language": "python",
   "name": "python3"
  },
  "language_info": {
   "codemirror_mode": {
    "name": "ipython",
    "version": 3
   },
   "file_extension": ".py",
   "mimetype": "text/x-python",
   "name": "python",
   "nbconvert_exporter": "python",
   "pygments_lexer": "ipython3",
   "version": "3.8.8"
  }
 },
 "nbformat": 4,
 "nbformat_minor": 5
}
