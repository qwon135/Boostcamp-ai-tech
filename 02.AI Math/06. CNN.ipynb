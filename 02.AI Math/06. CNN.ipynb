{
 "cells": [
  {
   "cell_type": "markdown",
   "id": "d8c965c5",
   "metadata": {},
   "source": [
    "### Convolution 연산 이해하기"
   ]
  },
  {
   "cell_type": "markdown",
   "id": "5fbe0e54",
   "metadata": {},
   "source": [
    "- MLP(다층 신경망)은 각 뉴런들이 선형 모델과 활성함수로 모두 연결된 (fully connected)구조였다."
   ]
  },
  {
   "cell_type": "markdown",
   "id": "8022061b",
   "metadata": {},
   "source": [
    "<img src = \"../images/ai_6.gif\">"
   ]
  },
  {
   "cell_type": "markdown",
   "id": "76f45eb1",
   "metadata": {},
   "source": [
    "- Convolution 연산은 이와 달리 커널(kernel)을 입력 벡터 상에서 움직여가면서 선형모델과 합성함수가 적용되는 구조이다.\n",
    "- 입력 벡터 x를 모두 사용하는 것이 아닌 커널 사이즈 k만큼 추출하여 사용한다.\n",
    "- 활성함수를 제외한 Convolution연산도 선형변환에 속한다.\n",
    "- 커널이 고정된 상태로 움직이기 때문에 파라미터 사이즈를 많이 줄일 수 있다."
   ]
  },
  {
   "cell_type": "markdown",
   "id": "3c38f1ec",
   "metadata": {},
   "source": [
    "<img src = \"../images/ai_7.gif\">"
   ]
  },
  {
   "cell_type": "markdown",
   "id": "03235538",
   "metadata": {},
   "source": [
    "- Convolution 연산의 수학적 의미는 신호(signal)를 __커널을 이용해 국소적으로 증폭 또는 감소__ 시켜서 정보를 추출 또는 필터링 하는것이다.\n"
   ]
  },
  {
   "cell_type": "markdown",
   "id": "6d084f38",
   "metadata": {},
   "source": [
    "- 연속인 공간에서는 적분으로 정의가 가능하다.\n",
    "<img src = \"../images/ai_8.gif\">"
   ]
  },
  {
   "cell_type": "markdown",
   "id": "fbf47295",
   "metadata": {},
   "source": [
    "- 이산적(비연속적)인 공간에서는 급수(수열의 합)으로 정의가 가능\n",
    "<img src = \"../images/ai_9.gif\">"
   ]
  },
  {
   "cell_type": "markdown",
   "id": "6fd1b6d3",
   "metadata": {},
   "source": [
    "두 함수 $f$ 와 $g$가 있을 때 전체 정의역에서 $z$ 를 움직여 가면서 적분을 하거나 더해줌."
   ]
  },
  {
   "cell_type": "markdown",
   "id": "82e17774",
   "metadata": {},
   "source": [
    "- 커널은 정의역 내에서 움직여도 변하지 않고 (translation invariant)주어진 신호에 __국소적(local)__으로 적용한다."
   ]
  },
  {
   "cell_type": "markdown",
   "id": "95a463e9",
   "metadata": {},
   "source": [
    "### 다양한 차원에서의 Convolution\n",
    "- Convolution 연산은 1차원 뿐 아니라 다양한 차원에서 계산이 가능하다.\n",
    "- 몇 차원을 사용할 것인지는 데이터의 종류에 따라 다르다.(음성, 텍스트는 1차원, 흑백영상 2차원 등)\n",
    "- $i,j,k$가 바뀌어도 커널 $f$의 값은 변하지 않는다.\n",
    "\n",
    "<img src = \"../images/ai_10.gif\">"
   ]
  },
  {
   "cell_type": "markdown",
   "id": "97bef47f",
   "metadata": {},
   "source": [
    "### 2차원  Convolution 연산 이해하기\n",
    "- 2D-Conv 연산은 이와 달리 커널(kernel)을 입력벡터 상에서 움직여가면서 선형모델과 합성함수가 적용되는 구조\n",
    "- 행렬연산이 아닌 각각의 위치에 따라 성분곱 해준다."
   ]
  },
  {
   "cell_type": "markdown",
   "id": "12de314c",
   "metadata": {},
   "source": [
    "<img src = \"../images/ai_11.gif\">"
   ]
  },
  {
   "cell_type": "markdown",
   "id": "4298fe2f",
   "metadata": {},
   "source": [
    "- 입력 크기를 $(H, W)$ 커널 크기를 $(K_H, K_W)$, 출력 크기를 $(O_H, O_W)$라고 한다면 출력 크기는 다음과 같이 계산한다.\n"
   ]
  },
  {
   "cell_type": "markdown",
   "id": "991538ba",
   "metadata": {},
   "source": [
    "$$ O_H =  H - K_H + 1 $$\n",
    "$$ O_W = W - K_W + 1 $$\n",
    "\n",
    "- 28x28 입력을 3x3 커널로 2D-Conv 하면 26x26이 된다."
   ]
  },
  {
   "cell_type": "markdown",
   "id": "6a4fa96c",
   "metadata": {},
   "source": [
    "- 채널이 여러개인 2차원 입력의 경우 2차원 Convolution을 채널 개수만큼 적용한다고 생각하면 된다.\n",
    "- 채널이 여러개인 경우 커널의 채널수와 입력의 채널수가 같아야 한다.\n",
    "<img src = \"../images/ai_12.gif\">"
   ]
  },
  {
   "cell_type": "markdown",
   "id": "3b011150",
   "metadata": {},
   "source": [
    "- 텐서를 직육면체 블록으로 이해하면 좀 더 이해하기 쉽다.\n",
    "<img src = \"../images/ai_13.gif\">"
   ]
  },
  {
   "cell_type": "markdown",
   "id": "b328f712",
   "metadata": {},
   "source": [
    " ### Convolution 연산의 역전파 이해하기\n",
    " - Convolution 연산은 커널이 모든 Input에 공통적용되어 역전파를 계산할 때도 convolution 연산이 나온다.\n",
    "\n",
    "- 즉 convolution 연산이 미분을 해도 convolution이 나온다."
   ]
  },
  {
   "cell_type": "markdown",
   "id": "42368c7a",
   "metadata": {},
   "source": [
    "__convolution 연산__\n",
    "#### $o_i = \\displaystyle\\sum_{i=1} w_jx_{i+j-1}$\n",
    "\n",
    "역전파에서 각 $o_1, o_2, o_3$의 미분 값을 $ \\delta_1, \\delta_2, \\delta_3$로 하면  \n",
    "\n",
    "input의 x3는 $ \\delta_1w_3 + \\delta_2w_2 + \\delta_3w_1$로 표현될 수 있고  \n",
    "커널은 $ (\\delta_3x_3 + \\delta_2x_3 + \\delta_1x_3)$ 로 표현될 수 있다."
   ]
  },
  {
   "cell_type": "markdown",
   "id": "1445e6e3",
   "metadata": {},
   "source": [
    " <img src = \"../images/ai_14.gif\">"
   ]
  },
  {
   "cell_type": "code",
   "execution_count": null,
   "id": "9d0ae9a8",
   "metadata": {},
   "outputs": [],
   "source": []
  }
 ],
 "metadata": {
  "kernelspec": {
   "display_name": "Python 3 (ipykernel)",
   "language": "python",
   "name": "python3"
  },
  "language_info": {
   "codemirror_mode": {
    "name": "ipython",
    "version": 3
   },
   "file_extension": ".py",
   "mimetype": "text/x-python",
   "name": "python",
   "nbconvert_exporter": "python",
   "pygments_lexer": "ipython3",
   "version": "3.8.11"
  }
 },
 "nbformat": 4,
 "nbformat_minor": 5
}
