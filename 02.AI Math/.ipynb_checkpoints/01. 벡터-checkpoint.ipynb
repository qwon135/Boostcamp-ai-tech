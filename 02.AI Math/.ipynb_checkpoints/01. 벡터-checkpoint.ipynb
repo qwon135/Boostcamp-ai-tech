{
 "cells": [
  {
   "cell_type": "markdown",
   "id": "e8021b10",
   "metadata": {},
   "source": [
    "### 벡터\n",
    "- 숫자를 원소로 가지는 리스트 혹은 배열\n",
    "- 벡터는 공간에서 한 점을 나타 낸다.\n",
    "- 벡터는 원점으로부터 상대적 위치를 표현한다.\n",
    "- 벡터에 숫자를 곱하면 길이만 변한다. 이를 스칼라 곱이라 한다.(단, 음수이면 반대 방향으로)\n",
    "- 벡터끼리 같은 모양(차원)이면 덧셈, 뺄셈이 가능하다.\n",
    "- 벡터끼리 같은 모양(차원)이면 성분곱(Hadamard product)을 계산할 수 있다."
   ]
  },
  {
   "cell_type": "markdown",
   "id": "991d2b0a",
   "metadata": {},
   "source": [
    "### 벡터의 덧셈\n",
    "- 두 벡터의 덧셈은 다른 벡터로 부터 상대적 위치이동을 표현한다.\n",
    "- 뺄셈은 x벡터에 -y벡터를 더한다고 생각하면 된다."
   ]
  },
  {
   "cell_type": "markdown",
   "id": "854923df",
   "metadata": {},
   "source": [
    "### 벡터의 노름\n",
    "- 벡터의 노름은 원점에서 부터의 거리를 말한다.\n",
    "- L_1노름은 각 성분의 변화량의 절대값을 모두 더한다.\n",
    "- L_2노름은 피타고라스의 정리를 이용해 유클리드 거리를 계산한다."
   ]
  },
  {
   "cell_type": "markdown",
   "id": "615a62b9",
   "metadata": {},
   "source": [
    "### numpy에서의 노름"
   ]
  },
  {
   "cell_type": "code",
   "execution_count": 1,
   "id": "7c9e15f0",
   "metadata": {},
   "outputs": [],
   "source": [
    "import numpy as np\n",
    "\n",
    "# L_1노름\n",
    "def l_1_norm(x):\n",
    "    x_norm = np.abs(x)\n",
    "    x_norm = np.sum(x_norm)\n",
    "    return x_norm\n",
    "\n",
    "# L_2노름\n",
    "def l_2_norm(x):\n",
    "    x_norm = x * x\n",
    "    x_norm = np.sum(x_norm)\n",
    "    x_norm = np.sqrt(x_norm)\n",
    "    return x_norm"
   ]
  },
  {
   "cell_type": "markdown",
   "id": "885b4d57",
   "metadata": {},
   "source": [
    "### 왜 다른 노름이 있을까?\n",
    "- 노름의 종류에 따라 기하학적 성질이 달라진다.\n",
    "- 각 성질에 따라 필요에 의해 골라 머신러닝에 적용한다."
   ]
  },
  {
   "cell_type": "markdown",
   "id": "ef0bbc54",
   "metadata": {},
   "source": [
    "### 두 벡터 사이의 거리\n",
    "- L1,L2 norm을 이용해 두 벡터 사이의 거리 계산이 가능하다.\n",
    "- 벡터의 뺄셈을 이용한다.\n",
    "- 원점(0,0) 에서 (Y-X) 벡터의 거리는 X벡터와 Y벡터의 거리와 같다."
   ]
  },
  {
   "cell_type": "markdown",
   "id": "d18eb5f7",
   "metadata": {},
   "source": [
    "### 두 벡터 사이의 각도\n",
    "- 두 벡터 사이의 거리로 각도 계산이 가능(단 L2 norm 만 가능하다.)\n",
    "- 제 2 코사인 법칙을 이용해 각도 계산이 가능"
   ]
  },
  {
   "cell_type": "code",
   "execution_count": 5,
   "id": "a0ef0fad",
   "metadata": {},
   "outputs": [
    {
     "data": {
      "text/plain": [
       "0.9746318461970762"
      ]
     },
     "execution_count": 5,
     "metadata": {},
     "output_type": "execute_result"
    }
   ],
   "source": [
    "# numpy\n",
    "x = np.array([1,2,3])\n",
    "y = np.array([4,5,6])\n",
    "\n",
    "def cos_xy(x,y):\n",
    "    xy_norm = l_2_norm(x) * l_2_norm(y)\n",
    "    xy_inner = np.inner(x,y)\n",
    "    angle = xy_inner/xy_norm\n",
    "    return angle\n",
    "\n",
    "#두 벡터 x, y의 각도의 cos값\n",
    "cos_xy(x,y)"
   ]
  },
  {
   "cell_type": "markdown",
   "id": "e0b52ff5",
   "metadata": {},
   "source": [
    "### 내적의 해석\n",
    "- 내적은 정사영(orthogonal projection)된 벡터의 길이와 관련이 있다.\n",
    "- Proj(x)의 길이는 cos 법칙에 의헤 ||x||cos(theta)이다.\n",
    "- 내적은 정사영의 길이를 y벡터의 길이만큼 조정한 것"
   ]
  },
  {
   "cell_type": "code",
   "execution_count": null,
   "id": "fdf3009d",
   "metadata": {},
   "outputs": [],
   "source": []
  }
 ],
 "metadata": {
  "kernelspec": {
   "display_name": "Python 3",
   "language": "python",
   "name": "python3"
  },
  "language_info": {
   "codemirror_mode": {
    "name": "ipython",
    "version": 3
   },
   "file_extension": ".py",
   "mimetype": "text/x-python",
   "name": "python",
   "nbconvert_exporter": "python",
   "pygments_lexer": "ipython3",
   "version": "3.8.8"
  }
 },
 "nbformat": 4,
 "nbformat_minor": 5
}
