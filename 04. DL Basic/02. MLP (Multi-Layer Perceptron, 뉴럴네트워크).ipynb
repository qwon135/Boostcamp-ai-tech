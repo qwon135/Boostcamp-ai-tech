{
 "cells": [
  {
   "cell_type": "markdown",
   "id": "b15a0c59",
   "metadata": {},
   "source": [
    "### Neural Networks\n",
    "- Neural networks are computing systems vaguely imspired by the biological neural networks that constitute animal brains : 뉴럴네트워크는 인간의 신경망을 모방하였다. 하지만 역전파등을 활용하는면에서 꼭 그렇지만은 않다. 시작은 그랬지만 연구가 진행되면서 많이 갈라졌다\n",
    "- Neural networks are tunction approximators that stack affine transformations followed by nonlinear transformations : 함수를 근사하는것"
   ]
  },
  {
   "cell_type": "markdown",
   "id": "7cd040fe",
   "metadata": {},
   "source": [
    "### Linear Nerual Networks\n",
    "- Data : $D = \\{(x_i, y_i)\\}^N_{i=1}$\n",
    "\n",
    "\n",
    "- Model :$\\hat y = wx + b$\n",
    "\n",
    "\n",
    "- Loss : $loss = \\frac{1}{N}\\displaystyle\\sum^N_{i=1}(y_i - \\hat y_i)$\n",
    "\n",
    "\n",
    "- We compute the partial derivatives w.r.t the optimization variables\n",
    "\n",
    "\n",
    "- $\\frac{\\partial loss}{\\partial w}$, $\\frac{\\partial loss}{\\partial b}$ 를 찾는다\n",
    "\n",
    "\n",
    "- $\\eta$ : eta, stepsize, 학습율(lr, learning rate)\n",
    "\n",
    "\n",
    "- Then, we iteratively update the optimization variables\n",
    "\n",
    "\n",
    "- $w \\leftarrow w - \\eta\\frac{\\partial loss}{\\partial w}$\n",
    "\n",
    "\n",
    "- $b \\leftarrow b - \\eta\\frac{\\partial loss}{\\partial b}$\n",
    "\n",
    "\n",
    "- Of course, we can handle multi dimensional input and output "
   ]
  },
  {
   "cell_type": "markdown",
   "id": "5ccf28ff",
   "metadata": {},
   "source": [
    "### Beyond Linear Neural Networks\n",
    "- What if we stack more?\n",
    "- We need nonlinearity\n",
    "- Activation functions : ReLu, Sigmoid, Hyperbolic Tangent\n"
   ]
  },
  {
   "cell_type": "markdown",
   "id": "a38302f8",
   "metadata": {},
   "source": [
    "### Multi-Layer Perceptron\n",
    "- This class of architectures are often called multi-layer perceptron\n",
    "\n",
    "\n",
    "- 물론 깊게 쌓을 수 있다.\n",
    "\n",
    "\n",
    "- What about the loss functions\n",
    "    - MSE : 제곱을 최적화 하는 것은 loss가 클 경우 최적화가 안될 수 있다.\n",
    "    - CE : 보통 output은 one-hot vector로 이루어진다(0 or 1) 즉 해당 차원에 해당하는 출력값만 키운다. \n",
    "    - MLE : 확률적인 모델을 만들고 싶을 때(나이를 맞추고 싶을 때)"
   ]
  },
  {
   "cell_type": "markdown",
   "id": "d8f823ad",
   "metadata": {},
   "source": [
    "[레퍼런스](https://pytorch.org/docs/stable/nn.html#loss-functions) : Regression Task, Classification Task, Probabilistic Task의 Loss 함수(or 클래스)는 Pytorch에서 어떻게 구현이 되어있을까요?"
   ]
  },
  {
   "cell_type": "markdown",
   "id": "a6a303f8",
   "metadata": {},
   "source": [
    "## Multilayer Perceptron (MLP) 실습"
   ]
  },
  {
   "cell_type": "code",
   "execution_count": 2,
   "id": "a85ee387",
   "metadata": {},
   "outputs": [
    {
     "name": "stdout",
     "output_type": "stream",
     "text": [
      "PyTorch version:[1.10.1].\n",
      "device:[cpu].\n"
     ]
    }
   ],
   "source": [
    "import numpy as np\n",
    "import matplotlib.pyplot as plt\n",
    "import torch\n",
    "import torch.nn as nn\n",
    "import torch.optim as optim\n",
    "import torch.nn.functional as F\n",
    "%matplotlib inline\n",
    "\n",
    "# 화질 좋아짐\n",
    "%config InlineBackend.figure_format='retina'\n",
    "print (\"PyTorch version:[%s].\"%(torch.__version__))\n",
    "device = torch.device('cuda:0' if torch.cuda.is_available() else 'cpu')\n",
    "print (\"device:[%s].\"%(device))"
   ]
  },
  {
   "cell_type": "markdown",
   "id": "d9309d6f",
   "metadata": {},
   "source": [
    "### Dataset"
   ]
  },
  {
   "cell_type": "code",
   "execution_count": 3,
   "id": "d8de7526",
   "metadata": {},
   "outputs": [
    {
     "name": "stdout",
     "output_type": "stream",
     "text": [
      "Downloading http://yann.lecun.com/exdb/mnist/train-images-idx3-ubyte.gz\n",
      "Downloading http://yann.lecun.com/exdb/mnist/train-images-idx3-ubyte.gz to ./data/MNIST/raw/train-images-idx3-ubyte.gz\n"
     ]
    },
    {
     "data": {
      "application/vnd.jupyter.widget-view+json": {
       "model_id": "e73ff15130c8421e9452151f61461b83",
       "version_major": 2,
       "version_minor": 0
      },
      "text/plain": [
       "  0%|          | 0/9912422 [00:00<?, ?it/s]"
      ]
     },
     "metadata": {},
     "output_type": "display_data"
    },
    {
     "name": "stdout",
     "output_type": "stream",
     "text": [
      "Extracting ./data/MNIST/raw/train-images-idx3-ubyte.gz to ./data/MNIST/raw\n",
      "\n",
      "Downloading http://yann.lecun.com/exdb/mnist/train-labels-idx1-ubyte.gz\n",
      "Downloading http://yann.lecun.com/exdb/mnist/train-labels-idx1-ubyte.gz to ./data/MNIST/raw/train-labels-idx1-ubyte.gz\n"
     ]
    },
    {
     "data": {
      "application/vnd.jupyter.widget-view+json": {
       "model_id": "c4bd1f67935349b3b16e63593427bfdb",
       "version_major": 2,
       "version_minor": 0
      },
      "text/plain": [
       "  0%|          | 0/28881 [00:00<?, ?it/s]"
      ]
     },
     "metadata": {},
     "output_type": "display_data"
    },
    {
     "name": "stdout",
     "output_type": "stream",
     "text": [
      "Extracting ./data/MNIST/raw/train-labels-idx1-ubyte.gz to ./data/MNIST/raw\n",
      "\n",
      "Downloading http://yann.lecun.com/exdb/mnist/t10k-images-idx3-ubyte.gz\n",
      "Downloading http://yann.lecun.com/exdb/mnist/t10k-images-idx3-ubyte.gz to ./data/MNIST/raw/t10k-images-idx3-ubyte.gz\n"
     ]
    },
    {
     "data": {
      "application/vnd.jupyter.widget-view+json": {
       "model_id": "2bdc5a1bc58349789b96707e134182ca",
       "version_major": 2,
       "version_minor": 0
      },
      "text/plain": [
       "  0%|          | 0/1648877 [00:00<?, ?it/s]"
      ]
     },
     "metadata": {},
     "output_type": "display_data"
    },
    {
     "name": "stdout",
     "output_type": "stream",
     "text": [
      "Extracting ./data/MNIST/raw/t10k-images-idx3-ubyte.gz to ./data/MNIST/raw\n",
      "\n",
      "Downloading http://yann.lecun.com/exdb/mnist/t10k-labels-idx1-ubyte.gz\n",
      "Downloading http://yann.lecun.com/exdb/mnist/t10k-labels-idx1-ubyte.gz to ./data/MNIST/raw/t10k-labels-idx1-ubyte.gz\n"
     ]
    },
    {
     "data": {
      "application/vnd.jupyter.widget-view+json": {
       "model_id": "945a355ce8df446badd8d44a1ddd6c2c",
       "version_major": 2,
       "version_minor": 0
      },
      "text/plain": [
       "  0%|          | 0/4542 [00:00<?, ?it/s]"
      ]
     },
     "metadata": {},
     "output_type": "display_data"
    },
    {
     "name": "stdout",
     "output_type": "stream",
     "text": [
      "Extracting ./data/MNIST/raw/t10k-labels-idx1-ubyte.gz to ./data/MNIST/raw\n",
      "\n",
      "mnist_train:\n",
      " Dataset MNIST\n",
      "    Number of datapoints: 60000\n",
      "    Root location: ./data/\n",
      "    Split: Train\n",
      "    StandardTransform\n",
      "Transform: ToTensor() \n",
      "\n",
      "mnist_test:\n",
      " Dataset MNIST\n",
      "    Number of datapoints: 10000\n",
      "    Root location: ./data/\n",
      "    Split: Test\n",
      "    StandardTransform\n",
      "Transform: ToTensor() \n",
      "\n",
      "Done.\n"
     ]
    }
   ],
   "source": [
    "from torchvision import datasets,transforms\n",
    "mnist_train = datasets.MNIST(root='./data/',train=True,transform=transforms.ToTensor(),download=True)\n",
    "mnist_test = datasets.MNIST(root='./data/',train=False,transform=transforms.ToTensor(),download=True)\n",
    "print (\"mnist_train:\\n\",mnist_train,\"\\n\")\n",
    "print (\"mnist_test:\\n\",mnist_test,\"\\n\")\n",
    "print (\"Done.\")"
   ]
  },
  {
   "cell_type": "markdown",
   "id": "b89cb9f0",
   "metadata": {},
   "source": [
    "### Data Iterator\n"
   ]
  },
  {
   "cell_type": "code",
   "execution_count": 4,
   "id": "dc33c775",
   "metadata": {},
   "outputs": [
    {
     "name": "stdout",
     "output_type": "stream",
     "text": [
      "Done.\n"
     ]
    }
   ],
   "source": [
    "BATCH_SIZE = 256\n",
    "train_iter = torch.utils.data.DataLoader(mnist_train,batch_size=BATCH_SIZE, shuffle=True, num_workers=1)\n",
    "test_iter = torch.utils.data.DataLoader(mnist_test,batch_size=BATCH_SIZE, shuffle=True, num_workers=1)\n",
    "print (\"Done.\")"
   ]
  },
  {
   "cell_type": "markdown",
   "id": "19300a6f",
   "metadata": {},
   "source": [
    "### Define the MLP model\n"
   ]
  },
  {
   "cell_type": "code",
   "execution_count": 5,
   "id": "26542fb6",
   "metadata": {},
   "outputs": [
    {
     "name": "stdout",
     "output_type": "stream",
     "text": [
      "Done.\n"
     ]
    }
   ],
   "source": [
    "class MultiLayerPerceptronClass(nn.Module):\n",
    "    \"\"\"\n",
    "        Multilayer Perceptron (MLP) Class\n",
    "    \"\"\"\n",
    "    def __init__(self,name='mlp',xdim=784,hdim=256,ydim=10):\n",
    "        super(MultiLayerPerceptronClass,self).__init__()\n",
    "        self.name = name\n",
    "        self.xdim = xdim\n",
    "        self.hdim = hdim # hidden dimension\n",
    "        self.ydim = ydim\n",
    "        self.lin_1 = nn.Linear(self.xdim, self.hdim)\n",
    "        self.lin_2 = nn.Linear(self.hdim, self.ydim)\n",
    "        self.init_param() # initialize parameters\n",
    "        \n",
    "    def init_param(self):\n",
    "        nn.init.kaiming_normal_(self.lin_1.weight)\n",
    "        nn.init.zeros_(self.lin_1.bias)\n",
    "        nn.init.kaiming_normal_(self.lin_2.weight)\n",
    "        nn.init.zeros_(self.lin_2.bias)\n",
    "\n",
    "    def forward(self,x):\n",
    "        net = x\n",
    "        net = self.lin_1(net)\n",
    "        net = F.relu(net)\n",
    "        net = self.lin_2(net)\n",
    "        return net\n",
    "\n",
    "M = MultiLayerPerceptronClass(name='mlp',xdim=784,hdim=256,ydim=10).to(device)\n",
    "loss = nn.CrossEntropyLoss()\n",
    "optm = optim.Adam(M.parameters(),lr=1e-3)\n",
    "print (\"Done.\")\n"
   ]
  },
  {
   "cell_type": "markdown",
   "id": "dea6ff1f",
   "metadata": {},
   "source": [
    "### Simple Forward Path of the MLP Model\n"
   ]
  },
  {
   "cell_type": "code",
   "execution_count": 6,
   "id": "e2c70386",
   "metadata": {},
   "outputs": [
    {
     "name": "stdout",
     "output_type": "stream",
     "text": [
      "x_numpy:\n",
      " [[0.71713699 0.18746351 0.93739089 ... 0.53161379 0.37753133 0.73974527]\n",
      " [0.13140944 0.17112058 0.92123143 ... 0.62250442 0.1780154  0.68930004]]\n",
      "x_torch:\n",
      " tensor([[0.7171, 0.1875, 0.9374,  ..., 0.5316, 0.3775, 0.7397],\n",
      "        [0.1314, 0.1711, 0.9212,  ..., 0.6225, 0.1780, 0.6893]])\n",
      "y_torch:\n",
      " tensor([[-1.5407, -0.3174, -0.6436,  0.2185,  0.5287,  0.8213, -0.4416, -0.6156,\n",
      "          1.1217,  1.5552],\n",
      "        [-1.6695, -0.5488,  0.0149, -0.3436,  0.2038,  0.5430, -0.4464,  0.3345,\n",
      "          1.3384,  0.9811]], grad_fn=<AddmmBackward0>)\n",
      "y_numpy:\n",
      " [[-1.5406756  -0.3174387  -0.6436422   0.21853547  0.52868056  0.8213383\n",
      "  -0.44159955 -0.6155819   1.1216757   1.5552311 ]\n",
      " [-1.6694876  -0.54881936  0.01485583 -0.34364972  0.20382705  0.54299396\n",
      "  -0.44636723  0.33445585  1.3383837   0.9811147 ]]\n"
     ]
    }
   ],
   "source": [
    "x_numpy = np.random.rand(2,784)\n",
    "x_torch = torch.from_numpy(x_numpy).float().to(device)\n",
    "y_torch = M.forward(x_torch) # forward path, forward를 안해도 돌아감\n",
    "y_numpy = y_torch.detach().cpu().numpy() # torch tensor to numpy array\n",
    "print (\"x_numpy:\\n\",x_numpy)\n",
    "print (\"x_torch:\\n\",x_torch)\n",
    "print (\"y_torch:\\n\",y_torch)\n",
    "print (\"y_numpy:\\n\",y_numpy)"
   ]
  },
  {
   "cell_type": "markdown",
   "id": "63ddea1d",
   "metadata": {},
   "source": [
    "### Check Parameters"
   ]
  },
  {
   "cell_type": "code",
   "execution_count": 7,
   "id": "bd11c33e",
   "metadata": {},
   "outputs": [
    {
     "name": "stdout",
     "output_type": "stream",
     "text": [
      "[0] name:[lin_1.weight] shape:[(256, 784)].\n",
      "    val:[-0.057  0.059 -0.072  0.005 -0.026]\n",
      "[1] name:[lin_1.bias] shape:[(256,)].\n",
      "    val:[0. 0. 0. 0. 0.]\n",
      "[2] name:[lin_2.weight] shape:[(10, 256)].\n",
      "    val:[-0.006 -0.155  0.063  0.024 -0.154]\n",
      "[3] name:[lin_2.bias] shape:[(10,)].\n",
      "    val:[0. 0. 0. 0. 0.]\n",
      "Total number of parameters:[203,530].\n"
     ]
    }
   ],
   "source": [
    "np.set_printoptions(precision=3)\n",
    "n_param = 0\n",
    "for p_idx,(param_name,param) in enumerate(M.named_parameters()):\n",
    "    param_numpy = param.detach().cpu().numpy()\n",
    "    n_param += len(param_numpy.reshape(-1))\n",
    "    print (\"[%d] name:[%s] shape:[%s].\"%(p_idx,param_name,param_numpy.shape))\n",
    "    print (\"    val:%s\"%(param_numpy.reshape(-1)[:5]))\n",
    "print (\"Total number of parameters:[%s].\"%(format(n_param,',d')))"
   ]
  },
  {
   "cell_type": "markdown",
   "id": "89e2824e",
   "metadata": {},
   "source": [
    "### Evaluation Function"
   ]
  },
  {
   "cell_type": "code",
   "execution_count": 8,
   "id": "0563f1cb",
   "metadata": {},
   "outputs": [
    {
     "name": "stdout",
     "output_type": "stream",
     "text": [
      "Done\n"
     ]
    }
   ],
   "source": [
    "def func_eval(model,data_iter,device):\n",
    "    with torch.no_grad():\n",
    "        model.eval() # evaluate (affects DropOut and BN)\n",
    "        n_total,n_correct = 0,0\n",
    "        for batch_in,batch_out in data_iter:\n",
    "            y_trgt = batch_out.to(device)\n",
    "            model_pred = model(batch_in.view(-1,28*28).to(device))\n",
    "            _,y_pred = torch.max(model_pred.data,1)\n",
    "            n_correct += (y_pred==y_trgt).sum().item()\n",
    "            n_total += batch_in.size(0)\n",
    "        val_accr = (n_correct/n_total)\n",
    "        model.train() # back to train mode \n",
    "    return val_accr\n",
    "print (\"Done\")"
   ]
  },
  {
   "cell_type": "markdown",
   "id": "59ac3c97",
   "metadata": {},
   "source": [
    "### Initial Evaluation"
   ]
  },
  {
   "cell_type": "code",
   "execution_count": 11,
   "id": "a63c6996",
   "metadata": {},
   "outputs": [
    {
     "name": "stdout",
     "output_type": "stream",
     "text": [
      "train_accr:[0.101] test_accr:[0.099].\n"
     ]
    }
   ],
   "source": [
    "M.init_param() # initialize parameters\n",
    "train_accr = func_eval(M,train_iter,device)\n",
    "test_accr = func_eval(M,test_iter,device)\n",
    "print (\"train_accr:[%.3f] test_accr:[%.3f].\"%(train_accr,test_accr))"
   ]
  },
  {
   "cell_type": "markdown",
   "id": "0fd54018",
   "metadata": {},
   "source": [
    "### Train\n"
   ]
  },
  {
   "cell_type": "code",
   "execution_count": 13,
   "id": "4d33c462",
   "metadata": {},
   "outputs": [
    {
     "name": "stdout",
     "output_type": "stream",
     "text": [
      "Start training.\n",
      "epoch:[0] loss:[0.374] train_accr:[0.947] test_accr:[0.946].\n",
      "epoch:[1] loss:[0.166] train_accr:[0.965] test_accr:[0.960].\n",
      "epoch:[2] loss:[0.118] train_accr:[0.973] test_accr:[0.968].\n",
      "epoch:[3] loss:[0.090] train_accr:[0.981] test_accr:[0.972].\n",
      "epoch:[4] loss:[0.072] train_accr:[0.984] test_accr:[0.975].\n",
      "epoch:[5] loss:[0.057] train_accr:[0.987] test_accr:[0.975].\n",
      "epoch:[6] loss:[0.049] train_accr:[0.991] test_accr:[0.978].\n",
      "epoch:[7] loss:[0.039] train_accr:[0.992] test_accr:[0.979].\n",
      "epoch:[8] loss:[0.034] train_accr:[0.993] test_accr:[0.978].\n",
      "epoch:[9] loss:[0.028] train_accr:[0.996] test_accr:[0.979].\n",
      "Done\n"
     ]
    }
   ],
   "source": [
    "print (\"Start training.\")\n",
    "M.init_param() # initialize parameters\n",
    "M.train()\n",
    "EPOCHS,print_every = 10,1\n",
    "for epoch in range(EPOCHS):\n",
    "    loss_val_sum = 0\n",
    "    for batch_in,batch_out in train_iter:\n",
    "        # Forward path\n",
    "        y_pred = M.forward(batch_in.view(-1, 28*28).to(device))\n",
    "        loss_out = loss(y_pred,batch_out.to(device))\n",
    "        # Update\n",
    "        optm.zero_grad() # reset gradient\n",
    "        loss_out.backward() # backpropagate\n",
    "        optm.step() # optimizer update\n",
    "        loss_val_sum += loss_out\n",
    "    loss_val_avg = loss_val_sum/len(train_iter)\n",
    "    # Print\n",
    "    if ((epoch%print_every)==0) or (epoch==(EPOCHS-1)):\n",
    "        train_accr = func_eval(M,train_iter,device)\n",
    "        test_accr = func_eval(M,test_iter,device)\n",
    "        print (\"epoch:[%d] loss:[%.3f] train_accr:[%.3f] test_accr:[%.3f].\"%\n",
    "               (epoch,loss_val_avg,train_accr,test_accr))\n",
    "print (\"Done\")  "
   ]
  },
  {
   "cell_type": "markdown",
   "id": "333e9f70",
   "metadata": {},
   "source": [
    "### Test"
   ]
  },
  {
   "cell_type": "code",
   "execution_count": 15,
   "id": "4180cd10",
   "metadata": {},
   "outputs": [
    {
     "data": {
      "image/png": "[encoded data removed]",
      "text/plain": [
       "<Figure size 720x720 with 25 Axes>"
      ]
     },
     "metadata": {
      "image/png": {
       "height": 573,
       "width": 569
      },
      "needs_background": "light"
     },
     "output_type": "display_data"
    },
    {
     "name": "stdout",
     "output_type": "stream",
     "text": [
      "Done\n"
     ]
    }
   ],
   "source": [
    "n_sample = 25\n",
    "sample_indices = np.random.choice(len(mnist_test.targets), n_sample, replace=False)\n",
    "test_x = mnist_test.data[sample_indices]\n",
    "test_y = mnist_test.targets[sample_indices]\n",
    "with torch.no_grad():\n",
    "    y_pred = M.forward(test_x.view(-1, 28*28).type(torch.float).to(device)/255.)\n",
    "y_pred = y_pred.argmax(axis=1)\n",
    "plt.figure(figsize=(10,10))\n",
    "for idx in range(n_sample):\n",
    "    plt.subplot(5, 5, idx+1)\n",
    "    plt.imshow(test_x[idx], cmap='gray')\n",
    "    plt.axis('off')\n",
    "    plt.title(\"Pred:%d, Label:%d\"%(y_pred[idx],test_y[idx]))\n",
    "plt.show()    \n",
    "print (\"Done\")"
   ]
  }
 ],
 "metadata": {
  "kernelspec": {
   "display_name": "Python 3 (ipykernel)",
   "language": "python",
   "name": "python3"
  },
  "language_info": {
   "codemirror_mode": {
    "name": "ipython",
    "version": 3
   },
   "file_extension": ".py",
   "mimetype": "text/x-python",
   "name": "python",
   "nbconvert_exporter": "python",
   "pygments_lexer": "ipython3",
   "version": "3.8.11"
  }
 },
 "nbformat": 4,
 "nbformat_minor": 5
}
