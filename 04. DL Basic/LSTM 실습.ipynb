{
 "cells": [
  {
   "cell_type": "markdown",
   "metadata": {
    "id": "Uyq75dn2Mk6x"
   },
   "source": [
    "<table class=\"tfo-notebook-buttons\" align=\"left\">\n",
    "  <td>\n",
    "    <a target=\"_blank\" href=\"https://colab.research.google.com/github/sjchoi86/upstage-basic-deeplearning/blob/main/notebook/lstm.ipynb\"><img src=\"https://www.tensorflow.org/images/colab_logo_32px.png\" />Colab</a>\n",
    "  </td>\n",
    "  <td>\n",
    "    <a target=\"_blank\" href=\"https://github.com/sjchoi86/upstage-basic-deeplearning/blob/main/notebook/lstm.ipynb\"><img src=\"https://www.tensorflow.org/images/GitHub-Mark-32px.png\" />View Source</a>\n",
    "  </td>\n",
    "</table>"
   ]
  },
  {
   "cell_type": "markdown",
   "metadata": {
    "id": "PJwtTg9a11du"
   },
   "source": [
    "# Classification with LSTM"
   ]
  },
  {
   "cell_type": "code",
   "execution_count": 8,
   "metadata": {
    "id": "tepz70nH1wwO"
   },
   "outputs": [
    {
     "name": "stdout",
     "output_type": "stream",
     "text": [
      "PyTorch version:[1.10.1].\n",
      "device:[cpu].\n"
     ]
    }
   ],
   "source": [
    "import numpy as np\n",
    "import matplotlib.pyplot as plt\n",
    "import torch\n",
    "import torch.nn as nn \n",
    "import torch.optim as optim\n",
    "import torch.nn.functional as F\n",
    "%matplotlib inline\n",
    "%config InlineBackend.figure_format='retina'\n",
    "print (\"PyTorch version:[%s].\"%(torch.__version__))\n",
    "device = torch.device('cuda:0' if torch.cuda.is_available() else 'cpu')\n",
    "print (\"device:[%s].\"%(device))"
   ]
  },
  {
   "cell_type": "markdown",
   "metadata": {
    "id": "gjSfbrHz2NbN"
   },
   "source": [
    "### Dataset and Loader"
   ]
  },
  {
   "cell_type": "code",
   "execution_count": 9,
   "metadata": {
    "id": "_apH6GPI2Adq"
   },
   "outputs": [
    {
     "name": "stdout",
     "output_type": "stream",
     "text": [
      "Done.\n"
     ]
    }
   ],
   "source": [
    "from torchvision import datasets,transforms\n",
    "mnist_train = datasets.MNIST(root='./data/',train=True,transform=transforms.ToTensor(),download=True)\n",
    "mnist_test = datasets.MNIST(root='./data/',train=False,transform=transforms.ToTensor(),download=True)\n",
    "BATCH_SIZE = 256\n",
    "train_iter = torch.utils.data.DataLoader(mnist_train,batch_size=BATCH_SIZE,shuffle=True,num_workers=1)\n",
    "test_iter = torch.utils.data.DataLoader(mnist_test,batch_size=BATCH_SIZE,shuffle=True,num_workers=1)\n",
    "print (\"Done.\")"
   ]
  },
  {
   "cell_type": "markdown",
   "metadata": {
    "id": "10evD4Jg2bQ4"
   },
   "source": [
    "### Define Model"
   ]
  },
  {
   "cell_type": "code",
   "execution_count": 14,
   "metadata": {
    "id": "QoISvH_O2OWO"
   },
   "outputs": [
    {
     "name": "stdout",
     "output_type": "stream",
     "text": [
      "Done.\n"
     ]
    }
   ],
   "source": [
    "class RecurrentNeuralNetworkClass(nn.Module):\n",
    "    def __init__(self,name='rnn',xdim=28,hdim=256,ydim=10,n_layer=3):\n",
    "        super(RecurrentNeuralNetworkClass,self).__init__()\n",
    "        self.name = name\n",
    "        self.xdim = xdim\n",
    "        self.hdim = hdim\n",
    "        self.ydim = ydim\n",
    "        self.n_layer = n_layer # K\n",
    "\n",
    "        self.rnn = nn.LSTM(\n",
    "            input_size=self.xdim,hidden_size=self.hdim,num_layers=self.n_layer,batch_first=True)\n",
    "        self.lin = nn.Linear(self.hdim,self.ydim)\n",
    "\n",
    "    def forward(self,x):\n",
    "        # Set initial hidden and cell states \n",
    "        h0 = torch.zeros(self.n_layer,x.size(0),self.hdim).to(device)\n",
    "        c0 = torch.zeros(self.n_layer,x.size(0),self.hdim).to(device)\n",
    "        # RNN\n",
    "        rnn_out,(hn,cn) = self.rnn(x, (h0,c0)) \n",
    "        # x:[N x L x Q] => rnn_out:[N x L x D]\n",
    "        # Linear\n",
    "        out = self.lin(rnn_out[:,-1 :]).view([-1,self.ydim]) \n",
    "        return out \n",
    "\n",
    "R = RecurrentNeuralNetworkClass(\n",
    "    name='rnn',xdim=28,hdim=256,ydim=10,n_layer=2).to(device)\n",
    "loss = nn.CrossEntropyLoss()\n",
    "optm = optim.Adam(R.parameters(),lr=1e-3)\n",
    "print (\"Done.\")"
   ]
  },
  {
   "cell_type": "markdown",
   "metadata": {
    "id": "liD6DC7KANYR"
   },
   "source": [
    "### Check How LSTM Works\n",
    "- `N`: number of batches\n",
    "- `L`: sequence lengh\n",
    "- `Q`: input dim\n",
    "- `K`: number of layers\n",
    "- `D`: LSTM feature dimension\n",
    "\n",
    "` Y,(hn,cn) = LSTM(X) `\n",
    "\n",
    "- `X`: [N x L x Q] - `N` input sequnce of length `L` with `Q` dim. \n",
    "- `Y`: [N x L x D] - `N` output sequnce of length `L` with `D` feature dim.\n",
    "- `hn`: [K x N x D] - `K` (per each layer) of `N` final hidden state with  `D` feature dim. \n",
    "- `cn`: [K x N x D] - `K` (per each layer) of `N` final hidden state with  `D` cell dim. "
   ]
  },
  {
   "cell_type": "code",
   "execution_count": 15,
   "metadata": {
    "id": "byX3ViAwARpt"
   },
   "outputs": [
    {
     "name": "stdout",
     "output_type": "stream",
     "text": [
      "rnn_out: torch.Size([2, 20, 256])\n",
      "Hidden State hn: torch.Size([2, 2, 256])\n",
      "Cell States cn: torch.Size([2, 2, 256])\n"
     ]
    }
   ],
   "source": [
    "np.set_printoptions(precision=3)\n",
    "torch.set_printoptions(precision=3)\n",
    "x_numpy = np.random.rand(2,20,28) # [N x L x Q]\n",
    "x_torch = torch.from_numpy(x_numpy).float().to(device)\n",
    "rnn_out,(hn,cn) = R.rnn(x_torch) # forward path\n",
    "\n",
    "print (\"rnn_out:\",rnn_out.shape) # [N x L x D]\n",
    "print (\"Hidden State hn:\",hn.shape) # [K x N x D]\n",
    "print (\"Cell States cn:\",cn.shape) # [K x N x D]"
   ]
  },
  {
   "cell_type": "markdown",
   "metadata": {
    "id": "XuBUgRKD5vTx"
   },
   "source": [
    "### Check parameters"
   ]
  },
  {
   "cell_type": "code",
   "execution_count": 16,
   "metadata": {
    "id": "raw5y-vn4rWa"
   },
   "outputs": [
    {
     "name": "stdout",
     "output_type": "stream",
     "text": [
      "[0] name:[rnn.weight_ih_l0] shape:[(1024, 28)].\n",
      "    val:[-0.058 -0.054  0.014  0.006 -0.018]\n",
      "[1] name:[rnn.weight_hh_l0] shape:[(1024, 256)].\n",
      "    val:[ 0.041 -0.033 -0.036  0.029 -0.056]\n",
      "[2] name:[rnn.bias_ih_l0] shape:[(1024,)].\n",
      "    val:[ 0.021  0.018 -0.014 -0.031 -0.05 ]\n",
      "[3] name:[rnn.bias_hh_l0] shape:[(1024,)].\n",
      "    val:[-0.039  0.016 -0.054  0.036  0.022]\n",
      "[4] name:[rnn.weight_ih_l1] shape:[(1024, 256)].\n",
      "    val:[-0.026 -0.061 -0.057 -0.058  0.006]\n",
      "[5] name:[rnn.weight_hh_l1] shape:[(1024, 256)].\n",
      "    val:[0.024 0.012 0.026 0.012 0.043]\n",
      "[6] name:[rnn.bias_ih_l1] shape:[(1024,)].\n",
      "    val:[-0.028 -0.031 -0.011  0.008  0.046]\n",
      "[7] name:[rnn.bias_hh_l1] shape:[(1024,)].\n",
      "    val:[ 0.048 -0.049 -0.005 -0.026  0.018]\n",
      "[8] name:[lin.weight] shape:[(10, 256)].\n",
      "    val:[ 0.002 -0.013 -0.05  -0.011  0.035]\n",
      "[9] name:[lin.bias] shape:[(10,)].\n",
      "    val:[ 0.05  -0.037 -0.031 -0.011  0.043]\n",
      "Total number of parameters:[821,770].\n"
     ]
    }
   ],
   "source": [
    "np.set_printoptions(precision=3)\n",
    "n_param = 0\n",
    "for p_idx,(param_name,param) in enumerate(R.named_parameters()):\n",
    "    if param.requires_grad:\n",
    "        param_numpy = param.detach().cpu().numpy() # to numpy array \n",
    "        n_param += len(param_numpy.reshape(-1))\n",
    "        print (\"[%d] name:[%s] shape:[%s].\"%(p_idx,param_name,param_numpy.shape))\n",
    "        print (\"    val:%s\"%(param_numpy.reshape(-1)[:5]))\n",
    "print (\"Total number of parameters:[%s].\"%(format(n_param,',d')))"
   ]
  },
  {
   "cell_type": "markdown",
   "metadata": {
    "id": "J6rRmikB8dxU"
   },
   "source": [
    "### Simple Forward Path "
   ]
  },
  {
   "cell_type": "code",
   "execution_count": 17,
   "metadata": {
    "id": "DBdN6qoO8dah"
   },
   "outputs": [
    {
     "name": "stdout",
     "output_type": "stream",
     "text": [
      "x_numpy (3, 10, 28)\n",
      "y_numpy (3, 10)\n"
     ]
    }
   ],
   "source": [
    "np.set_printoptions(precision=3)\n",
    "torch.set_printoptions(precision=3)\n",
    "x_numpy = np.random.rand(3,10,28) # [N x L x Q]\n",
    "x_torch = torch.from_numpy(x_numpy).float().to(device)\n",
    "y_torch = R.forward(x_torch) # [N x 1 x R] where R is the output dim.\n",
    "y_numpy = y_torch.detach().cpu().numpy() # torch tensor to numpy array\n",
    "# print (\"x_torch:\\n\",x_torch)\n",
    "# print (\"y_torch:\\n\",y_torch)\n",
    "print (\"x_numpy %s\"%(x_numpy.shape,))\n",
    "print (\"y_numpy %s\"%(y_numpy.shape,))"
   ]
  },
  {
   "cell_type": "markdown",
   "metadata": {
    "id": "Zi5cIbKG6X3w"
   },
   "source": [
    "### Evaluation Function"
   ]
  },
  {
   "cell_type": "code",
   "execution_count": 18,
   "metadata": {
    "id": "-STglZMq5xKk"
   },
   "outputs": [
    {
     "name": "stdout",
     "output_type": "stream",
     "text": [
      "Done\n"
     ]
    }
   ],
   "source": [
    "def func_eval(model,data_iter,device):\n",
    "    with torch.no_grad():\n",
    "        n_total,n_correct = 0,0\n",
    "        model.eval() # evaluate (affects DropOut and BN)\n",
    "        for batch_in,batch_out in data_iter:\n",
    "            y_trgt = batch_out.to(device)\n",
    "            model_pred = model.forward(batch_in.view(-1,28,28).to(device))\n",
    "            _,y_pred = torch.max(model_pred,1)\n",
    "            n_correct += (y_pred==y_trgt).sum().item()\n",
    "            n_total += batch_in.size(0)\n",
    "        val_accr = (n_correct/n_total)\n",
    "        model.train() # back to train mode \n",
    "    return val_accr\n",
    "print (\"Done\")"
   ]
  },
  {
   "cell_type": "markdown",
   "metadata": {
    "id": "pA-3-qPZ6h5u"
   },
   "source": [
    "### Initial Evaluation"
   ]
  },
  {
   "cell_type": "code",
   "execution_count": 19,
   "metadata": {
    "id": "qGbdjuhB6Z7U"
   },
   "outputs": [
    {
     "name": "stdout",
     "output_type": "stream",
     "text": [
      "train_accr:[0.099] test_accr:[0.098].\n"
     ]
    }
   ],
   "source": [
    "train_accr = func_eval(R,train_iter,device)\n",
    "test_accr = func_eval(R,test_iter,device)\n",
    "print (\"train_accr:[%.3f] test_accr:[%.3f].\"%(train_accr,test_accr))"
   ]
  },
  {
   "cell_type": "markdown",
   "metadata": {
    "id": "PWywAU1-Lm0G"
   },
   "source": [
    "### Train"
   ]
  },
  {
   "cell_type": "code",
   "execution_count": 20,
   "metadata": {
    "id": "sp11_Glg6k7e"
   },
   "outputs": [
    {
     "name": "stdout",
     "output_type": "stream",
     "text": [
      "Start training.\n",
      "epoch:[0] loss:[0.667] train_accr:[0.941] test_accr:[0.944].\n",
      "epoch:[1] loss:[0.137] train_accr:[0.970] test_accr:[0.969].\n",
      "epoch:[2] loss:[0.087] train_accr:[0.983] test_accr:[0.981].\n",
      "epoch:[3] loss:[0.061] train_accr:[0.985] test_accr:[0.982].\n",
      "epoch:[4] loss:[0.047] train_accr:[0.988] test_accr:[0.982].\n",
      "Done\n"
     ]
    }
   ],
   "source": [
    "print (\"Start training.\")\n",
    "R.train() # to train mode \n",
    "EPOCHS,print_every = 5,1\n",
    "for epoch in range(EPOCHS):\n",
    "    loss_val_sum = 0\n",
    "    for batch_in,batch_out in train_iter:\n",
    "        # Forward path\n",
    "        y_pred = R.forward(batch_in.view(-1,28,28).to(device))\n",
    "        loss_out = loss(y_pred,batch_out.to(device))\n",
    "        # Update\n",
    "        optm.zero_grad() # reset gradient \n",
    "        loss_out.backward() # backpropagate\n",
    "        optm.step() # optimizer update\n",
    "        loss_val_sum += loss_out\n",
    "    loss_val_avg = loss_val_sum/len(train_iter)\n",
    "    # Print\n",
    "    if ((epoch%print_every)==0) or (epoch==(EPOCHS-1)):\n",
    "        train_accr = func_eval(R,train_iter,device)\n",
    "        test_accr = func_eval(R,test_iter,device)\n",
    "        print (\"epoch:[%d] loss:[%.3f] train_accr:[%.3f] test_accr:[%.3f].\"%\n",
    "               (epoch,loss_val_avg,train_accr,test_accr))\n",
    "print (\"Done\")"
   ]
  },
  {
   "cell_type": "markdown",
   "metadata": {
    "id": "4JDDHhJtR1aR"
   },
   "source": [
    "### Test"
   ]
  },
  {
   "cell_type": "code",
   "execution_count": 21,
   "metadata": {
    "id": "HrcOUIBrmNf-"
   },
   "outputs": [
    {
     "data": {
      "image/png": "[encoded data removed]",
      "text/plain": [
       "<Figure size 720x720 with 25 Axes>"
      ]
     },
     "metadata": {
      "image/png": {
       "height": 573,
       "width": 569
      },
      "needs_background": "light"
     },
     "output_type": "display_data"
    },
    {
     "name": "stdout",
     "output_type": "stream",
     "text": [
      "Done\n"
     ]
    }
   ],
   "source": [
    "n_sample = 25\n",
    "sample_indices = np.random.choice(len(mnist_test.targets),n_sample,replace=False)\n",
    "test_x = mnist_test.data[sample_indices]\n",
    "test_y = mnist_test.targets[sample_indices]\n",
    "with torch.no_grad():\n",
    "    R.eval() # to evaluation mode \n",
    "    y_pred = R.forward(test_x.view(-1,28,28).type(torch.float).to(device)/255.)\n",
    "y_pred = y_pred.argmax(axis=1)\n",
    "plt.figure(figsize=(10,10))\n",
    "for idx in range(n_sample):\n",
    "    plt.subplot(5, 5, idx+1)\n",
    "    plt.imshow(test_x[idx], cmap='gray')\n",
    "    plt.axis('off')\n",
    "    plt.title(\"Pred:%d, Label:%d\"%(y_pred[idx],test_y[idx]))\n",
    "plt.show()\n",
    "print (\"Done\")"
   ]
  },
  {
   "cell_type": "code",
   "execution_count": null,
   "metadata": {
    "id": "zkVkpsQymNuC"
   },
   "outputs": [],
   "source": []
  }
 ],
 "metadata": {
  "accelerator": "GPU",
  "colab": {
   "collapsed_sections": [],
   "name": "lstm.ipynb",
   "provenance": []
  },
  "kernelspec": {
   "display_name": "Python 3 (ipykernel)",
   "language": "python",
   "name": "python3"
  },
  "language_info": {
   "codemirror_mode": {
    "name": "ipython",
    "version": 3
   },
   "file_extension": ".py",
   "mimetype": "text/x-python",
   "name": "python",
   "nbconvert_exporter": "python",
   "pygments_lexer": "ipython3",
   "version": "3.8.11"
  }
 },
 "nbformat": 4,
 "nbformat_minor": 1
}
