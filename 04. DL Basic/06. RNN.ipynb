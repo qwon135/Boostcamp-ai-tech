{
 "cells": [
  {
   "cell_type": "markdown",
   "id": "bd5335bf",
   "metadata": {},
   "source": [
    "## Sequential Model"
   ]
  },
  {
   "cell_type": "markdown",
   "id": "be6405d4",
   "metadata": {},
   "source": [
    "- Naive sequence model : 이전 데이터가 왔을 때 다음 데이터를 예측 하는 모델 (앞의 정보들을 모두 고려해야므로 점점 정보가 늘어남)\n",
    "- Autoregressive model : Fix the past time span 과거의 정보를 다 보는 것이 아닌 몇개만 보는 것\n",
    "- Markov model(first-order autoregressive model) : Easy to express the joint distribution, 바로 이 전 과거의 값만 dependent하다는 것. 많은 정보를 잃음"
   ]
  },
  {
   "cell_type": "markdown",
   "id": "6594f856",
   "metadata": {},
   "source": [
    "### Latent autoregressive model\n",
    "중간에 hidden state $h_t$를 넣음으로 서 과거 정보를 요약한다\n",
    "$$\\hat x = p(x_t|h_t)$$\n",
    "\n",
    "\n",
    "$$h_t = g(h_{t-1},x_{t-1})$$"
   ]
  },
  {
   "cell_type": "markdown",
   "id": "36195f7c",
   "metadata": {},
   "source": [
    "### Recurrent Neural Network\n",
    "- MLP와 다르게 자기 자신으로 돌아오는 구조이다\n",
    "- short-term dependencies : 과거의 정보가 살아남기 힘들다\n",
    "- ReLu를 사용하기 힘들다\n"
   ]
  },
  {
   "cell_type": "markdown",
   "id": "f64b136c",
   "metadata": {},
   "source": [
    "### Long Short Term Memory\n",
    "\n",
    "\n",
    "Long-term dependencies를 잡기 위해 나왔다.\n",
    "\n",
    "- Input : $X_t$ 로 표현, 새로운 정보\n",
    "- Output : $h_t$ 로 표현(hidden state) 실제로 밖으로 나가는 정보\n",
    "- Previous cell state : 0~t 개까지의 과거 정보 요약 -> Next cell state\n",
    "- Previous hidden state : 이전 output 정보 -> Next hidden state\n",
    "- Core idea : 중간에 흘러가는 cell state가 컨베이트 벨트 처럼 흘러가면서 유용한지에 대한 판단을 걸침\n",
    "- Forget Gate : 현재입력 $X_t$ 와 이전의 출력 $h_{t-1}$ 이 들어가서 $f_t$ 가 된다. 버릴 정보를 버리는 역할\n",
    "$$f_t = \\sigma(W_f *[h_{t-1},x_t]+b_f)$$\n",
    "- Input Gate : 현재 입력을 바로 cell state로 올리는 것이 아니라 올리기 적당한 정보만 올림.\n",
    "$$i_t=\\sigma(W_i*[h_{t-1},x_t]+b_i)$$\n",
    "\n",
    "\n",
    "$$\\hat C_t=\\text{tanh}(W_C*[h_{t-1},x_t]+b_C)$$\n",
    "- Update cell : forget gate에서 나온 값 Input gate에서 나온 값중 어느 값을 올릴지 update한다.\n",
    "\n",
    "$$C_t=f_t*C_{t-1}+i_t*\\hat C_t$$\n",
    "- Output Gate : 어떤 값을 밖으로 내보낼지 결정\n",
    "$$o_t = \\sigma(W_o[h_{t-1},x_t+b_o])$$\n",
    "\n",
    "\n",
    "$$h_t = o_t*\\text{tanh}(C_t)$$"
   ]
  },
  {
   "cell_type": "code",
   "execution_count": 33,
   "id": "88a8fa00",
   "metadata": {},
   "outputs": [
    {
     "data": {
      "text/plain": [
       "tensor([[1, 1, 1, 1],\n",
       "        [4, 4, 4, 4],\n",
       "        [1, 1, 1, 1]])"
      ]
     },
     "execution_count": 33,
     "metadata": {},
     "output_type": "execute_result"
    }
   ],
   "source": [
    "import torch\n",
    "key = torch.tensor([[1,1,1,1],[2,2,2,2],[1,1,1,1]])\n",
    "query = torch.tensor([[1,1,1,1],[2,2,2,2],[1,1,1,1]])\n",
    "value = torch.tensor([[1,1,1,1],[2,2,2,2],[1,1,1,1]])\n",
    "\n",
    "key*query"
   ]
  },
  {
   "cell_type": "code",
   "execution_count": 36,
   "id": "d476dcc9",
   "metadata": {
    "scrolled": true
   },
   "outputs": [
    {
     "name": "stderr",
     "output_type": "stream",
     "text": [
      "/var/folders/3b/rtm0n0l56yd2mbcz2vh1106r0000gn/T/ipykernel_28543/3608579223.py:1: UserWarning: Implicit dimension choice for softmax has been deprecated. Change the call to include dim=X as an argument.\n",
      "  torch.nn.functional.softmax(torch.tensor([14.,12.]))\n"
     ]
    },
    {
     "data": {
      "text/plain": [
       "tensor([0.8808, 0.1192])"
      ]
     },
     "execution_count": 36,
     "metadata": {},
     "output_type": "execute_result"
    }
   ],
   "source": [
    "torch.nn.functional.softmax(torch.tensor([14.,12.]))"
   ]
  },
  {
   "cell_type": "code",
   "execution_count": 37,
   "id": "96c078c6",
   "metadata": {},
   "outputs": [
    {
     "data": {
      "text/plain": [
       "0.879372738238842"
      ]
     },
     "execution_count": 37,
     "metadata": {},
     "output_type": "execute_result"
    }
   ],
   "source": [
    "2**(2)"
   ]
  }
 ],
 "metadata": {
  "kernelspec": {
   "display_name": "Python 3 (ipykernel)",
   "language": "python",
   "name": "python3"
  },
  "language_info": {
   "codemirror_mode": {
    "name": "ipython",
    "version": 3
   },
   "file_extension": ".py",
   "mimetype": "text/x-python",
   "name": "python",
   "nbconvert_exporter": "python",
   "pygments_lexer": "ipython3",
   "version": "3.8.11"
  }
 },
 "nbformat": 4,
 "nbformat_minor": 5
}
